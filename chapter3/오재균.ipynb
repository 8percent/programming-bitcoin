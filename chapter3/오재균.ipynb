{
  "cells": [
    {
      "cell_type": "code",
      "source": [
        "!git clone https://github.com/jimmysong/programmingbitcoin"
      ],
      "metadata": {
        "colab": {
          "base_uri": "https://localhost:8080/"
        },
        "id": "IqQ7yLen6TUh",
        "outputId": "63ba7591-8203-4294-e5b5-2ee452e75469"
      },
      "execution_count": 1,
      "outputs": [
        {
          "output_type": "stream",
          "name": "stdout",
          "text": [
            "Cloning into 'programmingbitcoin'...\n",
            "remote: Enumerating objects: 6406, done.\u001b[K\n",
            "remote: Total 6406 (delta 0), reused 0 (delta 0), pack-reused 6406\u001b[K\n",
            "Receiving objects: 100% (6406/6406), 39.43 MiB | 27.71 MiB/s, done.\n",
            "Resolving deltas: 100% (4254/4254), done.\n"
          ]
        }
      ]
    },
    {
      "cell_type": "code",
      "source": [
        "!pip install requests"
      ],
      "metadata": {
        "colab": {
          "base_uri": "https://localhost:8080/"
        },
        "id": "ErXXBgH-ErWQ",
        "outputId": "67e6119c-6051-40b3-a245-a8db6db4c7ab"
      },
      "execution_count": 2,
      "outputs": [
        {
          "output_type": "stream",
          "name": "stdout",
          "text": [
            "Looking in indexes: https://pypi.org/simple, https://us-python.pkg.dev/colab-wheels/public/simple/\n",
            "Requirement already satisfied: requests in /usr/local/lib/python3.7/dist-packages (2.23.0)\n",
            "Requirement already satisfied: urllib3!=1.25.0,!=1.25.1,<1.26,>=1.21.1 in /usr/local/lib/python3.7/dist-packages (from requests) (1.24.3)\n",
            "Requirement already satisfied: certifi>=2017.4.17 in /usr/local/lib/python3.7/dist-packages (from requests) (2022.5.18.1)\n",
            "Requirement already satisfied: idna<3,>=2.5 in /usr/local/lib/python3.7/dist-packages (from requests) (2.10)\n",
            "Requirement already satisfied: chardet<4,>=3.0.2 in /usr/local/lib/python3.7/dist-packages (from requests) (3.0.4)\n"
          ]
        }
      ]
    },
    {
      "cell_type": "code",
      "source": [
        "cd programmingbitcoin/code-ch03"
      ],
      "metadata": {
        "colab": {
          "base_uri": "https://localhost:8080/"
        },
        "id": "2L3gUTtSEuJL",
        "outputId": "50a04f66-568a-48d9-a48c-c96adcda5ea3"
      },
      "execution_count": 3,
      "outputs": [
        {
          "output_type": "stream",
          "name": "stdout",
          "text": [
            "/content/programmingbitcoin/code-ch03\n"
          ]
        }
      ]
    },
    {
      "cell_type": "code",
      "execution_count": 4,
      "metadata": {
        "id": "QklLZ-is5a3T"
      },
      "outputs": [],
      "source": [
        "############## PLEASE RUN THIS CELL FIRST! ###################\n",
        "\n",
        "# import everything and define a test runner function\n",
        "from importlib import reload\n",
        "from helper import run\n",
        "import ecc\n",
        "import helper\n",
        "\n",
        "from ecc import FieldElement, Point"
      ]
    },
    {
      "cell_type": "markdown",
      "metadata": {
        "id": "Gqu_j2-Y5a3V"
      },
      "source": [
        "### Exercise 1\n",
        "\n",
        "Evaluate whether these points are on the curve \\\\(y^{2}\\\\)=\\\\(x^{3}\\\\)+7 over \\\\(F_{223}\\\\)\n",
        "\n",
        "(192,105), (17,56), (200,119), (1,193), (42,99)"
      ]
    },
    {
      "cell_type": "code",
      "execution_count": 6,
      "metadata": {
        "colab": {
          "base_uri": "https://localhost:8080/"
        },
        "id": "wRHFOt785a3W",
        "outputId": "fac7bf60-d8b1-420c-acbf-6224d59458ed"
      },
      "outputs": [
        {
          "output_type": "stream",
          "name": "stdout",
          "text": [
            "True\n",
            "True\n",
            "False\n",
            "True\n",
            "False\n"
          ]
        }
      ],
      "source": [
        "# Exercise 1\n",
        "\n",
        "prime = 223\n",
        "a = FieldElement(0, prime)\n",
        "b = FieldElement(7, prime)\n",
        "points = [(192, 105), (17, 56), (200, 119), (1, 193), (42, 99)]\n",
        "\n",
        "for (x, y) in points:\n",
        "    x = FieldElement(x, prime)\n",
        "    y = FieldElement(y, prime)\n",
        "    print(x ** 3 + FieldElement(7, prime) == y ** 2)\n",
        "\n",
        "# (192,105), (17,56), (200,119), (1,193), (42,99)"
      ]
    },
    {
      "cell_type": "code",
      "execution_count": 7,
      "metadata": {
        "colab": {
          "base_uri": "https://localhost:8080/"
        },
        "id": "jv0WCL-H5a3W",
        "outputId": "1243c783-dbf2-4f9f-df9a-0844bcaaea65"
      },
      "outputs": [
        {
          "output_type": "stream",
          "name": "stdout",
          "text": [
            "Point(192,105)_0_7 FieldElement(223)\n"
          ]
        }
      ],
      "source": [
        "from ecc import FieldElement, Point\n",
        "a = FieldElement(num=0, prime=223)\n",
        "b = FieldElement(num=7, prime=223)\n",
        "x = FieldElement(num=192, prime=223)\n",
        "y = FieldElement(num=105, prime=223)\n",
        "p1 = Point(x, y, a, b)\n",
        "print(p1)"
      ]
    },
    {
      "cell_type": "code",
      "execution_count": 8,
      "metadata": {
        "colab": {
          "base_uri": "https://localhost:8080/"
        },
        "id": "mQq5rPcn5a3X",
        "outputId": "bcb98647-a643-4204-a8a3-b57b69e16934"
      },
      "outputs": [
        {
          "output_type": "stream",
          "name": "stdout",
          "text": [
            "Point(170,142)_0_7 FieldElement(223)\n"
          ]
        }
      ],
      "source": [
        "from ecc import FieldElement, Point\n",
        "prime = 223\n",
        "a = FieldElement(num=0, prime=prime)\n",
        "b = FieldElement(num=7, prime=prime)\n",
        "x1 = FieldElement(num=192, prime=prime)\n",
        "y1 = FieldElement(num=105, prime=prime)\n",
        "x2 = FieldElement(num=17, prime=prime)\n",
        "y2 = FieldElement(num=56, prime=prime)\n",
        "p1 = Point(x1, y1, a, b)\n",
        "p2 = Point(x2, y2, a, b)\n",
        "print(p1+p2)"
      ]
    },
    {
      "cell_type": "markdown",
      "metadata": {
        "id": "uBdJ_0Zw5a3X"
      },
      "source": [
        "### Exercise 2\n",
        "\n",
        "For the curve \\\\(y^{2}\\\\)=\\\\(x^{3}\\\\)+7 over \\\\(F_{223}\\\\), find:\n",
        "\n",
        "* (170,142) + (60,139)\n",
        "* (47,71) + (17,56)\n",
        "* (143,98) + (76,66)"
      ]
    },
    {
      "cell_type": "code",
      "execution_count": 9,
      "metadata": {
        "colab": {
          "base_uri": "https://localhost:8080/"
        },
        "id": "gH1UAsWB5a3X",
        "outputId": "07a00202-af9a-4286-e5dc-006d265679be"
      },
      "outputs": [
        {
          "output_type": "stream",
          "name": "stdout",
          "text": [
            "The new point is (FieldElement_223(69), FieldElement_223(137))\n",
            "The new point is (FieldElement_223(215), FieldElement_223(68))\n",
            "The new point is (FieldElement_223(47), FieldElement_223(71))\n"
          ]
        }
      ],
      "source": [
        "# Exercise 2\n",
        "\n",
        "points = [((192, 105), (60, 139)), ((47, 71), (17, 56)), ((143, 98), (76, 66))]\n",
        "prime = 223\n",
        "a = FieldElement(0, prime)\n",
        "b = FieldElement(7, prime)\n",
        "for (x1, y1), (x2, y2) in points:\n",
        "    x1 = FieldElement(x1, prime)\n",
        "    y1 = FieldElement(y1, prime)\n",
        "    x2 = FieldElement(x2, prime)\n",
        "    y2 = FieldElement(y2, prime)\n",
        "    p1 = Point(x1, y1, a, b)\n",
        "    p2 = Point(x2, y2, a, b)\n",
        "    np = (p1 + p2)\n",
        "    print(f\"The new point is ({np.x}, {np.y})\")\n",
        "# (170,142) + (60,139)\n",
        "# (47,71) + (17,56)\n",
        "# (143,98) + (76,66)"
      ]
    },
    {
      "cell_type": "markdown",
      "metadata": {
        "id": "_AJhXSdA5a3X"
      },
      "source": [
        "### Exercise 3\n",
        "\n",
        "Extend `ECCTest` to test for the additions from the previous exercise. Call this `test_add`.\n",
        "\n",
        "#### Make [this test](/edit/code-ch03/ecc.py) pass: `ecc.py:ECCTest:test_add`"
      ]
    },
    {
      "cell_type": "code",
      "execution_count": 10,
      "metadata": {
        "colab": {
          "base_uri": "https://localhost:8080/"
        },
        "id": "R4Pxdd895a3X",
        "outputId": "b5b2a0be-5770-49b8-e471-6fb701b599df"
      },
      "outputs": [
        {
          "output_type": "stream",
          "name": "stderr",
          "text": [
            "E\n",
            "======================================================================\n",
            "ERROR: test_add (ecc.ECCTest)\n",
            "----------------------------------------------------------------------\n",
            "Traceback (most recent call last):\n",
            "  File \"/content/programmingbitcoin/code-ch03/ecc.py\", line 282, in test_add\n",
            "    for (xraw1, yraw1), (xraw2, yraw2), (nx1, ny1) in zip(points, answers):\n",
            "ValueError: not enough values to unpack (expected 3, got 2)\n",
            "\n",
            "----------------------------------------------------------------------\n",
            "Ran 1 test in 0.005s\n",
            "\n",
            "FAILED (errors=1)\n"
          ]
        }
      ],
      "source": [
        "# Exercise 3\n",
        "\n",
        "reload(ecc)\n",
        "run(ecc.ECCTest(\"test_add\"))"
      ]
    },
    {
      "cell_type": "markdown",
      "metadata": {
        "id": "qqXuzvkK5a3Y"
      },
      "source": [
        "### Exercise 4\n",
        "\n",
        "For the curve \\\\(y^{2}\\\\)=\\\\(x^{3}\\\\)+7 over \\\\(F_{223}\\\\), find:\n",
        "\n",
        "* 2⋅(192,105)\n",
        "* 2⋅(143,98)\n",
        "* 2⋅(47,71)\n",
        "* 4⋅(47,71)\n",
        "* 8⋅(47,71)\n",
        "* 21⋅(47,71)"
      ]
    },
    {
      "cell_type": "code",
      "execution_count": 11,
      "metadata": {
        "colab": {
          "base_uri": "https://localhost:8080/"
        },
        "id": "a-VdScKA5a3Y",
        "outputId": "065afddd-99fc-43a1-ee27-797752a8b8d6"
      },
      "outputs": [
        {
          "output_type": "stream",
          "name": "stdout",
          "text": [
            "The new point is (FieldElement_223(49), FieldElement_223(71))\n",
            "The new point is (FieldElement_223(64), FieldElement_223(168))\n",
            "The new point is (FieldElement_223(36), FieldElement_223(111))\n",
            "The new point is (FieldElement_223(194), FieldElement_223(51))\n",
            "The new point is (FieldElement_223(116), FieldElement_223(55))\n",
            "The new point is (None, None)\n"
          ]
        }
      ],
      "source": [
        "# Exercise 4\n",
        "\n",
        "points = [(192, 105), (143, 98), (47, 71), (47, 71), (47, 71), (47, 71)]\n",
        "scalars = (2, 2, 2, 4, 8, 21)\n",
        "prime = 223\n",
        "a = FieldElement(0, prime)\n",
        "b = FieldElement(7, prime)\n",
        "for scalar, (x, y) in zip(scalars, points):\n",
        "    np = scalar * Point(FieldElement(x, prime), FieldElement(y, prime), a, b)\n",
        "    print(f\"The new point is ({np.x}, {np.y})\")\n",
        "# 2*(192, 105)\n",
        "# 2*(143, 98)\n",
        "# 2*(47, 71)\n",
        "# 4*(47, 71)\n",
        "# 8*(47, 71)\n",
        "# 21*(47, 71)\n",
        "\n",
        "# create a product variable\n",
        "# add the point to the product n times\n",
        "# print the product"
      ]
    },
    {
      "cell_type": "code",
      "execution_count": 12,
      "metadata": {
        "colab": {
          "base_uri": "https://localhost:8080/"
        },
        "id": "Fuuxe0Vj5a3Y",
        "outputId": "bd6a48a9-5ca4-4390-f0a6-25eb986af41b"
      },
      "outputs": [
        {
          "output_type": "stream",
          "name": "stdout",
          "text": [
            "1*(47,71)=(47,71)\n",
            "2*(47,71)=(36,111)\n",
            "3*(47,71)=(15,137)\n",
            "4*(47,71)=(194,51)\n",
            "5*(47,71)=(126,96)\n",
            "6*(47,71)=(139,137)\n",
            "7*(47,71)=(92,47)\n",
            "8*(47,71)=(116,55)\n",
            "9*(47,71)=(69,86)\n",
            "10*(47,71)=(154,150)\n",
            "11*(47,71)=(154,73)\n",
            "12*(47,71)=(69,137)\n",
            "13*(47,71)=(116,168)\n",
            "14*(47,71)=(92,176)\n",
            "15*(47,71)=(139,86)\n",
            "16*(47,71)=(126,127)\n",
            "17*(47,71)=(194,172)\n",
            "18*(47,71)=(15,86)\n",
            "19*(47,71)=(36,112)\n",
            "20*(47,71)=(47,152)\n"
          ]
        }
      ],
      "source": [
        "from ecc import FieldElement, Point\n",
        "prime = 223\n",
        "a = FieldElement(0, prime)\n",
        "b = FieldElement(7, prime)\n",
        "x = FieldElement(47, prime)\n",
        "y = FieldElement(71, prime)\n",
        "p = Point(x, y, a, b)\n",
        "for s in range(1,21):\n",
        "    result = s*p\n",
        "    print('{}*(47,71)=({},{})'.format(s,result.x.num,result.y.num))"
      ]
    },
    {
      "cell_type": "markdown",
      "metadata": {
        "id": "RomijuvE5a3Y"
      },
      "source": [
        "### Exercise 5\n",
        "\n",
        "For the curve \\\\(y^{2}\\\\)=\\\\(x^{3}\\\\)+7 over \\\\(F_{223}\\\\), find the order of the group generated by (15,86)"
      ]
    },
    {
      "cell_type": "code",
      "execution_count": 15,
      "metadata": {
        "colab": {
          "base_uri": "https://localhost:8080/"
        },
        "id": "fp22pC6H5a3Y",
        "outputId": "5bcd18ca-1132-4e93-c96b-a872b323f0ac"
      },
      "outputs": [
        {
          "output_type": "stream",
          "name": "stdout",
          "text": [
            "The new point is (FieldElement_223(139), FieldElement_223(86))\n",
            "The new point is (FieldElement_223(69), FieldElement_223(137))\n",
            "The new point is (FieldElement_223(69), FieldElement_223(86))\n",
            "The new point is (FieldElement_223(139), FieldElement_223(137))\n",
            "The new point is (FieldElement_223(15), FieldElement_223(137))\n",
            "The new point is (None, None)\n",
            "The order is 7\n"
          ]
        }
      ],
      "source": [
        "# Exercise 5\n",
        "\n",
        "prime = 223\n",
        "a = FieldElement(0, prime)\n",
        "b = FieldElement(7, prime)\n",
        "x = FieldElement(15, prime)\n",
        "y = FieldElement(86, prime)\n",
        "p = Point(x, y, a, b)\n",
        "inf = Point(None, None, a, b)\n",
        "\n",
        "np = p\n",
        "for i in range(2, 224):\n",
        "    np += p\n",
        "    print(f\"The new point is ({np.x}, {np.y})\")\n",
        "    if np == inf:\n",
        "        print(f\"The order is {i}\")\n",
        "        break\n",
        "# create a product variable\n",
        "# create a counter variable\n",
        "# loop until the product is the point at infinity\n",
        "# add the point to the product and increment counter\n",
        "# print the counter when exited from loop"
      ]
    },
    {
      "cell_type": "code",
      "execution_count": 14,
      "metadata": {
        "colab": {
          "base_uri": "https://localhost:8080/"
        },
        "id": "fa2f6oCO5a3Z",
        "outputId": "7d193e70-cc29-4308-86e9-7a16b5e68efb"
      },
      "outputs": [
        {
          "output_type": "stream",
          "name": "stdout",
          "text": [
            "Point(infinity)\n"
          ]
        }
      ],
      "source": [
        "from ecc import FieldElement, Point\n",
        "prime = 223\n",
        "a = FieldElement(0, prime)\n",
        "b = FieldElement(7, prime)\n",
        "x = FieldElement(15, prime)\n",
        "y = FieldElement(86, prime)\n",
        "p = Point(x, y, a, b)\n",
        "print(7*p)"
      ]
    },
    {
      "cell_type": "code",
      "execution_count": 16,
      "metadata": {
        "colab": {
          "base_uri": "https://localhost:8080/"
        },
        "id": "Cw8oB-op5a3Z",
        "outputId": "c7abedac-d9a7-4e8d-c55f-de956daba91c"
      },
      "outputs": [
        {
          "output_type": "stream",
          "name": "stdout",
          "text": [
            "True\n"
          ]
        }
      ],
      "source": [
        "gx = 0x79be667ef9dcbbac55a06295ce870b07029bfcdb2dce28d959f2815b16f81798\n",
        "gy = 0x483ada7726a3c4655da4fbfc0e1108a8fd17b448a68554199c47d08ffb10d4b8\n",
        "p = 2**256 - 2**32 - 977\n",
        "print(gy**2 % p == (gx**3 + 7) % p)"
      ]
    },
    {
      "cell_type": "code",
      "execution_count": 17,
      "metadata": {
        "colab": {
          "base_uri": "https://localhost:8080/"
        },
        "id": "VQbN6ojz5a3Z",
        "outputId": "222e8002-f278-4c24-9b9e-b64b2ed06678"
      },
      "outputs": [
        {
          "output_type": "stream",
          "name": "stdout",
          "text": [
            "Point(infinity)\n"
          ]
        }
      ],
      "source": [
        "from ecc import FieldElement, Point\n",
        "gx = 0x79be667ef9dcbbac55a06295ce870b07029bfcdb2dce28d959f2815b16f81798\n",
        "gy = 0x483ada7726a3c4655da4fbfc0e1108a8fd17b448a68554199c47d08ffb10d4b8\n",
        "p = 2**256 - 2**32 - 977\n",
        "n = 0xfffffffffffffffffffffffffffffffebaaedce6af48a03bbfd25e8cd0364141\n",
        "x = FieldElement(gx, p)\n",
        "y = FieldElement(gy, p)\n",
        "seven = FieldElement(7, p)\n",
        "zero = FieldElement(0, p)\n",
        "G = Point(x, y, zero, seven)\n",
        "print(n*G)"
      ]
    },
    {
      "cell_type": "code",
      "execution_count": 18,
      "metadata": {
        "colab": {
          "base_uri": "https://localhost:8080/"
        },
        "id": "xoJG_fvg5a3Z",
        "outputId": "d6169473-c971-4db0-d097-f444d47ac4de"
      },
      "outputs": [
        {
          "output_type": "stream",
          "name": "stdout",
          "text": [
            "S256Point(infinity)\n"
          ]
        }
      ],
      "source": [
        "from ecc import G, N\n",
        "print(N*G)"
      ]
    },
    {
      "cell_type": "code",
      "execution_count": 19,
      "metadata": {
        "colab": {
          "base_uri": "https://localhost:8080/"
        },
        "id": "GiFMpu-V5a3Z",
        "outputId": "47eec6f0-f2cf-4ed9-cc79-2ccbb0c2b9d5"
      },
      "outputs": [
        {
          "output_type": "stream",
          "name": "stdout",
          "text": [
            "True\n"
          ]
        }
      ],
      "source": [
        "from ecc import S256Point, G, N\n",
        "z = 0xbc62d4b80d9e36da29c16c5d4d9f11731f36052c72401a76c23c0fb5a9b74423\n",
        "r = 0x37206a0610995c58074999cb9767b87af4c4978db68c06e8e6e81d282047a7c6\n",
        "s = 0x8ca63759c1157ebeaec0d03cecca119fc9a75bf8e6d0fa65c841c8e2738cdaec\n",
        "px = 0x04519fac3d910ca7e7138f7013706f619fa8f033e6ec6e09370ea38cee6a7574\n",
        "py = 0x82b51eab8c27c66e26c858a079bcdf4f1ada34cec420cafc7eac1a42216fb6c4\n",
        "point = S256Point(px, py)\n",
        "s_inv = pow(s, N-2, N)\n",
        "u = z * s_inv % N\n",
        "v = r * s_inv % N\n",
        "print((u*G + v*point).x.num == r)"
      ]
    },
    {
      "cell_type": "markdown",
      "metadata": {
        "id": "KxSxas_x5a3a"
      },
      "source": [
        "### Exercise 6\n",
        "\n",
        "Verify whether these signatures are valid:\n",
        "\n",
        "```\n",
        "P = (0x887387e452b8eacc4acfde10d9aaf7f6d9a0f975aabb10d006e4da568744d06c,\n",
        "0x61de6d95231cd89026e286df3b6ae4a894a3378e393e93a0f45b666329a0ae34)\n",
        "\n",
        "# signature 1\n",
        "z = 0xec208baa0fc1c19f708a9ca96fdeff3ac3f230bb4a7ba4aede4942ad003c0f60\n",
        "r = 0xac8d1c87e51d0d441be8b3dd5b05c8795b48875dffe00b7ffcfac23010d3a395\n",
        "s = 0x68342ceff8935ededd102dd876ffd6ba72d6a427a3edb13d26eb0781cb423c4\n",
        "\n",
        "# signature 2\n",
        "z = 0x7c076ff316692a3d7eb3c3bb0f8b1488cf72e1afcd929e29307032997a838a3d\n",
        "r = 0xeff69ef2b1bd93a66ed5219add4fb51e11a840f404876325a1e8ffe0529a2c\n",
        "s = 0xc7207fee197d27c618aea621406f6bf5ef6fca38681d82b2f06fddbdce6feab6\n",
        "```"
      ]
    },
    {
      "cell_type": "code",
      "execution_count": 20,
      "metadata": {
        "colab": {
          "base_uri": "https://localhost:8080/"
        },
        "id": "xVJNCqJD5a3a",
        "outputId": "cdfb14cb-1e96-4713-b97b-4ab0561f233e"
      },
      "outputs": [
        {
          "output_type": "stream",
          "name": "stdout",
          "text": [
            "True\n",
            "True\n"
          ]
        }
      ],
      "source": [
        "# Exercise 6\n",
        "\n",
        "point = S256Point(\n",
        "    0x887387e452b8eacc4acfde10d9aaf7f6d9a0f975aabb10d006e4da568744d06c, \n",
        "    0x61de6d95231cd89026e286df3b6ae4a894a3378e393e93a0f45b666329a0ae34)\n",
        "# signature 1\n",
        "z = 0xec208baa0fc1c19f708a9ca96fdeff3ac3f230bb4a7ba4aede4942ad003c0f60\n",
        "r = 0xac8d1c87e51d0d441be8b3dd5b05c8795b48875dffe00b7ffcfac23010d3a395\n",
        "s = 0x68342ceff8935ededd102dd876ffd6ba72d6a427a3edb13d26eb0781cb423c4\n",
        "s_inv = pow(s, N - 2, N)\n",
        "u = z * s_inv % N\n",
        "v = r * s_inv % N\n",
        "print((u * G + v * point).x.num == r)\n",
        "# signature 2\n",
        "z = 0x7c076ff316692a3d7eb3c3bb0f8b1488cf72e1afcd929e29307032997a838a3d\n",
        "r = 0xeff69ef2b1bd93a66ed5219add4fb51e11a840f404876325a1e8ffe0529a2c\n",
        "s = 0xc7207fee197d27c618aea621406f6bf5ef6fca38681d82b2f06fddbdce6feab6\n",
        "s_inv = pow(s, N - 2, N)\n",
        "u = z * s_inv % N\n",
        "v = r * s_inv % N\n",
        "print((u * G + v * point).x.num == r)"
      ]
    },
    {
      "cell_type": "code",
      "execution_count": 21,
      "metadata": {
        "colab": {
          "base_uri": "https://localhost:8080/"
        },
        "id": "y8PBDaHX5a3a",
        "outputId": "89e914f6-a4d6-4983-a435-ba8ad54da8de"
      },
      "outputs": [
        {
          "output_type": "stream",
          "name": "stdout",
          "text": [
            "S256Point(028d003eab2e428d11983f3e97c3fa0addf3b42740df0d211795ffb3be2f6c52, 0ae987b9ec6ea159c78cb2a937ed89096fb218d9e7594f02b547526d8cd309e2)\n",
            "0x231c6f3d980a6b0fb7152f85cee7eb52bf92433d9919b9c5218cb08e79cce78\n",
            "0x2b698a0f0a4041b77e63488ad48c23e8e8838dd1fb7520408b121697b782ef22\n",
            "0xbb14e602ef9e3f872e25fad328466b34e6734b7a0fcd58b1eb635447ffae8cb9\n"
          ]
        }
      ],
      "source": [
        "from ecc import S256Point, G, N\n",
        "from helper import hash256\n",
        "e = int.from_bytes(hash256(b'my secret'), 'big')\n",
        "z = int.from_bytes(hash256(b'my message'), 'big')\n",
        "k = 1234567890\n",
        "r = (k*G).x.num\n",
        "k_inv = pow(k, N-2, N)\n",
        "s = (z+r*e) * k_inv % N\n",
        "point = e*G\n",
        "print(point)\n",
        "print(hex(z))\n",
        "print(hex(r))\n",
        "print(hex(s))"
      ]
    },
    {
      "cell_type": "markdown",
      "metadata": {
        "id": "6j-n6P9R5a3a"
      },
      "source": [
        "### Exercise 7\n",
        "\n",
        "Sign the following message with the secret\n",
        "\n",
        "```\n",
        "e = 12345\n",
        "z = int.from_bytes(hash256('Programming Bitcoin!'), 'big')\n",
        "```"
      ]
    },
    {
      "cell_type": "code",
      "execution_count": 22,
      "metadata": {
        "colab": {
          "base_uri": "https://localhost:8080/"
        },
        "id": "rB2SpSQg5a3a",
        "outputId": "0d516cd9-7396-4b03-8c10-d9effe26cc1d"
      },
      "outputs": [
        {
          "output_type": "stream",
          "name": "stdout",
          "text": [
            "S256Point(f01d6b9018ab421dd410404cb869072065522bf85734008f105cf385a023a80f, 0eba29d0f0c5408ed681984dc525982abefccd9f7ff01dd26da4999cf3f6a295)\n",
            "0x969f6056aa26f7d2795fd013fe88868d09c9f6aed96965016e1936ae47060d48\n",
            "0x2b698a0f0a4041b77e63488ad48c23e8e8838dd1fb7520408b121697b782ef22\n",
            "0x1dbc63bfef4416705e602a7b564161167076d8b20990a0f26f316cff2cb0bc1a\n"
          ]
        }
      ],
      "source": [
        "# Exercise 7\n",
        "\n",
        "# Exercise 7\n",
        "\n",
        "e = 12345\n",
        "z = int.from_bytes(hash256(b'Programming Bitcoin!'), 'big')\n",
        "k = 1234567890\n",
        "r = (k * G).x.num\n",
        "k_inv = pow(k, N - 2, N)\n",
        "s = (z + r * e) * k_inv % N\n",
        "point = e * G\n",
        "print(point)\n",
        "print(hex(z))\n",
        "print(hex(r))\n",
        "print(hex(s))\n",
        "# choose a random k\n",
        "# calculate r (kG's x-coordinate)\n",
        "# calculate s ((z+re)/k)\n",
        "# print the point, z, r and s"
      ]
    }
  ],
  "metadata": {
    "colab": {
      "name": "Chapter3.ipynb",
      "provenance": []
    },
    "language_info": {
      "name": "python"
    },
    "kernelspec": {
      "name": "python3",
      "display_name": "Python 3"
    }
  },
  "nbformat": 4,
  "nbformat_minor": 0
}