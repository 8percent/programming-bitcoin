{
  "cells": [
    {
      "cell_type": "markdown",
      "metadata": {
        "id": "view-in-github",
        "colab_type": "text"
      },
      "source": [
        "<a href=\"https://colab.research.google.com/github/8percent/programming-bitcoin/blob/main/chapter3/%EC%B2%9C%EB%AA%85%EC%9A%B1.ipynb\" target=\"_parent\"><img src=\"https://colab.research.google.com/assets/colab-badge.svg\" alt=\"Open In Colab\"/></a>"
      ]
    },
    {
      "cell_type": "code",
      "source": [
        "!git clone https://github.com/jimmysong/programmingbitcoin"
      ],
      "metadata": {
        "colab": {
          "base_uri": "https://localhost:8080/"
        },
        "id": "9Bvdr_U2EGmF",
        "outputId": "ac04e467-dc62-48c9-fefa-57ea71c8636b"
      },
      "execution_count": 1,
      "outputs": [
        {
          "output_type": "stream",
          "name": "stdout",
          "text": [
            "Cloning into 'programmingbitcoin'...\n",
            "remote: Enumerating objects: 6406, done.\u001b[K\n",
            "remote: Total 6406 (delta 0), reused 0 (delta 0), pack-reused 6406\u001b[K\n",
            "Receiving objects: 100% (6406/6406), 39.43 MiB | 22.53 MiB/s, done.\n",
            "Resolving deltas: 100% (4254/4254), done.\n"
          ]
        }
      ]
    },
    {
      "cell_type": "code",
      "source": [
        "cd programmingbitcoin/code-ch03"
      ],
      "metadata": {
        "colab": {
          "base_uri": "https://localhost:8080/"
        },
        "id": "SjWxDm96ESrG",
        "outputId": "b0400cb7-4bbc-49ec-fc9e-97b30d04049f"
      },
      "execution_count": 2,
      "outputs": [
        {
          "output_type": "stream",
          "name": "stdout",
          "text": [
            "/content/programmingbitcoin/code-ch03\n"
          ]
        }
      ]
    },
    {
      "cell_type": "code",
      "execution_count": 3,
      "metadata": {
        "id": "Gy_9juIOEAb5"
      },
      "outputs": [],
      "source": [
        "############## PLEASE RUN THIS CELL FIRST! ###################\n",
        "\n",
        "# import everything and define a test runner function\n",
        "from importlib import reload\n",
        "from helper import run\n",
        "import ecc\n",
        "import helper\n",
        "\n",
        "from ecc import FieldElement, Point"
      ]
    },
    {
      "cell_type": "markdown",
      "metadata": {
        "id": "y6sJFJUyEAb8"
      },
      "source": [
        "### Exercise 1\n",
        "\n",
        "Evaluate whether these points are on the curve \\\\(y^{2}\\\\)=\\\\(x^{3}\\\\)+7 over \\\\(F_{223}\\\\)\n",
        "\n",
        "(192,105), (17,56), (200,119), (1,193), (42,99)"
      ]
    },
    {
      "cell_type": "code",
      "execution_count": 4,
      "metadata": {
        "id": "ypwUh3QLEAb-",
        "colab": {
          "base_uri": "https://localhost:8080/"
        },
        "outputId": "dfa95cb7-6fec-4578-b197-a3878620478a"
      },
      "outputs": [
        {
          "output_type": "stream",
          "name": "stdout",
          "text": [
            "True\n",
            "True\n",
            "False\n",
            "True\n",
            "False\n"
          ]
        }
      ],
      "source": [
        "# Exercise 1\n",
        "\n",
        "prime = 223\n",
        "a = FieldElement(0, prime)\n",
        "b = FieldElement(7, prime)\n",
        "\n",
        "for x, y in [(192,105), (17,56), (200,119), (1,193), (42,99)]:\n",
        "  print(FieldElement(y, prime)**2 == FieldElement(x, prime)**3 + b)\n"
      ]
    },
    {
      "cell_type": "code",
      "execution_count": 5,
      "metadata": {
        "id": "dclspQgAEAb_",
        "colab": {
          "base_uri": "https://localhost:8080/"
        },
        "outputId": "13b3be91-5ecf-45b9-ccef-786777c7ef0a"
      },
      "outputs": [
        {
          "output_type": "stream",
          "name": "stdout",
          "text": [
            "Point(192,105)_0_7 FieldElement(223)\n"
          ]
        }
      ],
      "source": [
        "from ecc import FieldElement, Point\n",
        "a = FieldElement(num=0, prime=223)\n",
        "b = FieldElement(num=7, prime=223)\n",
        "x = FieldElement(num=192, prime=223)\n",
        "y = FieldElement(num=105, prime=223)\n",
        "p1 = Point(x, y, a, b)\n",
        "print(p1)"
      ]
    },
    {
      "cell_type": "code",
      "execution_count": 6,
      "metadata": {
        "id": "iwF3Q9Q9EAb_",
        "colab": {
          "base_uri": "https://localhost:8080/"
        },
        "outputId": "a9a8651c-61c4-409c-9916-d892a19d8085"
      },
      "outputs": [
        {
          "output_type": "stream",
          "name": "stdout",
          "text": [
            "Point(170,142)_0_7 FieldElement(223)\n"
          ]
        }
      ],
      "source": [
        "from ecc import FieldElement, Point\n",
        "prime = 223\n",
        "a = FieldElement(num=0, prime=prime)\n",
        "b = FieldElement(num=7, prime=prime)\n",
        "x1 = FieldElement(num=192, prime=prime)\n",
        "y1 = FieldElement(num=105, prime=prime)\n",
        "x2 = FieldElement(num=17, prime=prime)\n",
        "y2 = FieldElement(num=56, prime=prime)\n",
        "p1 = Point(x1, y1, a, b)\n",
        "p2 = Point(x2, y2, a, b)\n",
        "print(p1+p2)"
      ]
    },
    {
      "cell_type": "markdown",
      "metadata": {
        "id": "ugjZHV0YEAcA"
      },
      "source": [
        "### Exercise 2\n",
        "\n",
        "For the curve \\\\(y^{2}\\\\)=\\\\(x^{3}\\\\)+7 over \\\\(F_{223}\\\\), find:\n",
        "\n",
        "* (170,142) + (60,139)\n",
        "* (47,71) + (17,56)\n",
        "* (143,98) + (76,66)"
      ]
    },
    {
      "cell_type": "code",
      "execution_count": 8,
      "metadata": {
        "id": "F7HJ_R9NEAcB",
        "colab": {
          "base_uri": "https://localhost:8080/"
        },
        "outputId": "be75913c-83d2-4e6c-87cd-0f58e5e1b4a1"
      },
      "outputs": [
        {
          "output_type": "stream",
          "name": "stdout",
          "text": [
            "Point(220,181)_0_7 FieldElement(223)\n",
            "Point(215,68)_0_7 FieldElement(223)\n",
            "Point(47,71)_0_7 FieldElement(223)\n"
          ]
        }
      ],
      "source": [
        "# Exercise 2\n",
        "\n",
        "prime = 223\n",
        "a = FieldElement(0, prime)\n",
        "b = FieldElement(7, prime)\n",
        "\n",
        "print(Point(FieldElement(170, prime), FieldElement(142, prime), a, b) + Point(FieldElement(60, prime), FieldElement(139, prime), a, b))\n",
        "print(Point(FieldElement(47, prime), FieldElement(71, prime), a, b) + Point(FieldElement(17, prime), FieldElement(56, prime), a, b))\n",
        "print(Point(FieldElement(143, prime), FieldElement(98, prime), a, b) + Point(FieldElement(76, prime), FieldElement(66, prime), a, b))"
      ]
    },
    {
      "cell_type": "markdown",
      "metadata": {
        "id": "ByYMmrmTEAcC"
      },
      "source": [
        "### Exercise 3\n",
        "\n",
        "Extend `ECCTest` to test for the additions from the previous exercise. Call this `test_add`.\n",
        "\n",
        "#### Make [this test](/edit/code-ch03/ecc.py) pass: `ecc.py:ECCTest:test_add`"
      ]
    },
    {
      "cell_type": "code",
      "execution_count": 9,
      "metadata": {
        "id": "4wQnIaonEAcC",
        "colab": {
          "base_uri": "https://localhost:8080/"
        },
        "outputId": "51ed37f7-83d2-435c-838d-67a0a84b6de3"
      },
      "outputs": [
        {
          "output_type": "stream",
          "name": "stderr",
          "text": [
            ".\n",
            "----------------------------------------------------------------------\n",
            "Ran 1 test in 0.003s\n",
            "\n",
            "OK\n"
          ]
        }
      ],
      "source": [
        "# Exercise 3\n",
        "\n",
        "reload(ecc)\n",
        "run(ecc.ECCTest(\"test_add\"))"
      ]
    },
    {
      "cell_type": "markdown",
      "metadata": {
        "id": "1ZDzg6G2EAcD"
      },
      "source": [
        "### Exercise 4\n",
        "\n",
        "For the curve \\\\(y^{2}\\\\)=\\\\(x^{3}\\\\)+7 over \\\\(F_{223}\\\\), find:\n",
        "\n",
        "* 2⋅(192,105)\n",
        "* 2⋅(143,98)\n",
        "* 2⋅(47,71)\n",
        "* 4⋅(47,71)\n",
        "* 8⋅(47,71)\n",
        "* 21⋅(47,71)"
      ]
    },
    {
      "cell_type": "code",
      "execution_count": 26,
      "metadata": {
        "id": "zjb5E-g7EAcE",
        "colab": {
          "base_uri": "https://localhost:8080/"
        },
        "outputId": "7d34fc8c-f3c3-4fd3-9cd3-ef054faf3c0b"
      },
      "outputs": [
        {
          "output_type": "stream",
          "name": "stdout",
          "text": [
            "Point(FieldElement_223(49),FieldElement_223(71))_FieldElement_223(0)_FieldElement_223(7)\n",
            "Point(FieldElement_223(64),FieldElement_223(168))_FieldElement_223(0)_FieldElement_223(7)\n",
            "Point(FieldElement_223(36),FieldElement_223(111))_FieldElement_223(0)_FieldElement_223(7)\n",
            "Point(FieldElement_223(194),FieldElement_223(51))_FieldElement_223(0)_FieldElement_223(7)\n",
            "Point(FieldElement_223(116),FieldElement_223(55))_FieldElement_223(0)_FieldElement_223(7)\n",
            "Point(infinity)\n"
          ]
        }
      ],
      "source": [
        "# Exercise 4\n",
        "\n",
        "prime = 223\n",
        "a = FieldElement(0, prime)\n",
        "b = FieldElement(7, prime)\n",
        "\n",
        "# 2*(192, 105)\n",
        "x1 = FieldElement(192, prime)\n",
        "y1 = FieldElement(105, prime)\n",
        "p1 = Point(x1, y1, a, b)\n",
        "print(p1 + p1)\n",
        "# 2*(143, 98)\n",
        "x2 = FieldElement(143, prime)\n",
        "y2 = FieldElement(98, prime)\n",
        "p2 = Point(x2, y2, a, b)\n",
        "print(p2 + p2)\n",
        "# 2*(47, 71)\n",
        "x3 = FieldElement(47, prime)\n",
        "y3 = FieldElement(71, prime)\n",
        "p3 = Point(x3, y3, a, b)\n",
        "print(p3 + p3)\n",
        "# 4*(47, 71)\n",
        "print(p3 + p3 + p3 + p3)\n",
        "# 8*(47, 71)\n",
        "print(8 * p3)\n",
        "# 21*(47, 71)\n",
        "print(21 * p3)\n",
        "\n",
        "# create a product variable\n",
        "# add the point to the product n times\n",
        "# print the product"
      ]
    },
    {
      "cell_type": "code",
      "execution_count": 27,
      "metadata": {
        "id": "kbrzP7ivEAcE",
        "colab": {
          "base_uri": "https://localhost:8080/"
        },
        "outputId": "76ed206e-08f2-451d-df5b-f2ded2d14b24"
      },
      "outputs": [
        {
          "output_type": "stream",
          "name": "stdout",
          "text": [
            "1*(47,71)=(47,71)\n",
            "2*(47,71)=(36,111)\n",
            "3*(47,71)=(15,137)\n",
            "4*(47,71)=(194,51)\n",
            "5*(47,71)=(126,96)\n",
            "6*(47,71)=(139,137)\n",
            "7*(47,71)=(92,47)\n",
            "8*(47,71)=(116,55)\n",
            "9*(47,71)=(69,86)\n",
            "10*(47,71)=(154,150)\n",
            "11*(47,71)=(154,73)\n",
            "12*(47,71)=(69,137)\n",
            "13*(47,71)=(116,168)\n",
            "14*(47,71)=(92,176)\n",
            "15*(47,71)=(139,86)\n",
            "16*(47,71)=(126,127)\n",
            "17*(47,71)=(194,172)\n",
            "18*(47,71)=(15,86)\n",
            "19*(47,71)=(36,112)\n",
            "20*(47,71)=(47,152)\n"
          ]
        }
      ],
      "source": [
        "from ecc import FieldElement, Point\n",
        "prime = 223\n",
        "a = FieldElement(0, prime)\n",
        "b = FieldElement(7, prime)\n",
        "x = FieldElement(47, prime)\n",
        "y = FieldElement(71, prime)\n",
        "p = Point(x, y, a, b)\n",
        "for s in range(1,21):\n",
        "    result = s*p\n",
        "    print('{}*(47,71)=({},{})'.format(s,result.x.num,result.y.num))"
      ]
    },
    {
      "cell_type": "markdown",
      "metadata": {
        "id": "m1DKkNtTEAcF"
      },
      "source": [
        "### Exercise 5\n",
        "\n",
        "For the curve \\\\(y^{2}\\\\)=\\\\(x^{3}\\\\)+7 over \\\\(F_{223}\\\\), find the order of the group generated by (15,86)"
      ]
    },
    {
      "cell_type": "code",
      "execution_count": 28,
      "metadata": {
        "id": "NDQBa146EAcF",
        "colab": {
          "base_uri": "https://localhost:8080/"
        },
        "outputId": "a3fc98d3-bc53-4b4e-b918-f171b1af1499"
      },
      "outputs": [
        {
          "output_type": "stream",
          "name": "stdout",
          "text": [
            "7\n"
          ]
        }
      ],
      "source": [
        "# Exercise 5\n",
        "\n",
        "prime = 223\n",
        "a = FieldElement(0, prime)\n",
        "b = FieldElement(7, prime)\n",
        "x = FieldElement(15, prime)\n",
        "y = FieldElement(86, prime)\n",
        "p = Point(x, y, a, b)\n",
        "inf = Point(None, None, a, b)\n",
        "n = 1\n",
        "\n",
        "# create a product variable\n",
        "# create a counter variable\n",
        "# loop until the product is the point at infinity\n",
        "# add the point to the product and increment counter\n",
        "# print the counter when exited from loop\n",
        "while n * p != inf:\n",
        "  n += 1\n",
        "\n",
        "print(n)\n",
        "  \n"
      ]
    },
    {
      "cell_type": "code",
      "execution_count": 29,
      "metadata": {
        "id": "QAPTo7bpEAcF",
        "colab": {
          "base_uri": "https://localhost:8080/"
        },
        "outputId": "55b94e7e-39dc-4457-f3d8-a7d019688999"
      },
      "outputs": [
        {
          "output_type": "stream",
          "name": "stdout",
          "text": [
            "Point(infinity)\n"
          ]
        }
      ],
      "source": [
        "from ecc import FieldElement, Point\n",
        "prime = 223\n",
        "a = FieldElement(0, prime)\n",
        "b = FieldElement(7, prime)\n",
        "x = FieldElement(15, prime)\n",
        "y = FieldElement(86, prime)\n",
        "p = Point(x, y, a, b)\n",
        "print(7*p)"
      ]
    },
    {
      "cell_type": "code",
      "execution_count": 30,
      "metadata": {
        "id": "xY0Vp8QEEAcG",
        "colab": {
          "base_uri": "https://localhost:8080/"
        },
        "outputId": "4d5b9862-df30-4f82-8245-fea82fe81d3d"
      },
      "outputs": [
        {
          "output_type": "stream",
          "name": "stdout",
          "text": [
            "True\n"
          ]
        }
      ],
      "source": [
        "gx = 0x79be667ef9dcbbac55a06295ce870b07029bfcdb2dce28d959f2815b16f81798\n",
        "gy = 0x483ada7726a3c4655da4fbfc0e1108a8fd17b448a68554199c47d08ffb10d4b8\n",
        "p = 2**256 - 2**32 - 977\n",
        "print(gy**2 % p == (gx**3 + 7) % p)"
      ]
    },
    {
      "cell_type": "code",
      "execution_count": 31,
      "metadata": {
        "id": "DKyM3X-4EAcG",
        "colab": {
          "base_uri": "https://localhost:8080/"
        },
        "outputId": "feaffa3f-2c9c-4446-d1bc-74b7631ca485"
      },
      "outputs": [
        {
          "output_type": "stream",
          "name": "stdout",
          "text": [
            "Point(infinity)\n"
          ]
        }
      ],
      "source": [
        "from ecc import FieldElement, Point\n",
        "gx = 0x79be667ef9dcbbac55a06295ce870b07029bfcdb2dce28d959f2815b16f81798\n",
        "gy = 0x483ada7726a3c4655da4fbfc0e1108a8fd17b448a68554199c47d08ffb10d4b8\n",
        "p = 2**256 - 2**32 - 977\n",
        "n = 0xfffffffffffffffffffffffffffffffebaaedce6af48a03bbfd25e8cd0364141\n",
        "x = FieldElement(gx, p)\n",
        "y = FieldElement(gy, p)\n",
        "seven = FieldElement(7, p)\n",
        "zero = FieldElement(0, p)\n",
        "G = Point(x, y, zero, seven)\n",
        "print(n*G)"
      ]
    },
    {
      "cell_type": "code",
      "execution_count": 32,
      "metadata": {
        "id": "N1c3Q0oeEAcG",
        "colab": {
          "base_uri": "https://localhost:8080/"
        },
        "outputId": "38b0a914-403b-4f9f-a8d8-b40c2c9fbd5e"
      },
      "outputs": [
        {
          "output_type": "stream",
          "name": "stdout",
          "text": [
            "S256Point(infinity)\n"
          ]
        }
      ],
      "source": [
        "from ecc import G, N\n",
        "print(N*G)"
      ]
    },
    {
      "cell_type": "code",
      "execution_count": 33,
      "metadata": {
        "id": "GyFdchbYEAcH",
        "colab": {
          "base_uri": "https://localhost:8080/"
        },
        "outputId": "a52022a0-5e19-4dbf-cead-76e90410747a"
      },
      "outputs": [
        {
          "output_type": "stream",
          "name": "stdout",
          "text": [
            "True\n"
          ]
        }
      ],
      "source": [
        "from ecc import S256Point, G, N\n",
        "z = 0xbc62d4b80d9e36da29c16c5d4d9f11731f36052c72401a76c23c0fb5a9b74423\n",
        "r = 0x37206a0610995c58074999cb9767b87af4c4978db68c06e8e6e81d282047a7c6\n",
        "s = 0x8ca63759c1157ebeaec0d03cecca119fc9a75bf8e6d0fa65c841c8e2738cdaec\n",
        "px = 0x04519fac3d910ca7e7138f7013706f619fa8f033e6ec6e09370ea38cee6a7574\n",
        "py = 0x82b51eab8c27c66e26c858a079bcdf4f1ada34cec420cafc7eac1a42216fb6c4\n",
        "point = S256Point(px, py)\n",
        "s_inv = pow(s, N-2, N)\n",
        "u = z * s_inv % N\n",
        "v = r * s_inv % N\n",
        "print((u*G + v*point).x.num == r)"
      ]
    },
    {
      "cell_type": "markdown",
      "metadata": {
        "id": "vN_FsBb0EAcH"
      },
      "source": [
        "### Exercise 6\n",
        "\n",
        "Verify whether these signatures are valid:\n",
        "\n",
        "```\n",
        "P = (0x887387e452b8eacc4acfde10d9aaf7f6d9a0f975aabb10d006e4da568744d06c,\n",
        "0x61de6d95231cd89026e286df3b6ae4a894a3378e393e93a0f45b666329a0ae34)\n",
        "\n",
        "# signature 1\n",
        "z = 0xec208baa0fc1c19f708a9ca96fdeff3ac3f230bb4a7ba4aede4942ad003c0f60\n",
        "r = 0xac8d1c87e51d0d441be8b3dd5b05c8795b48875dffe00b7ffcfac23010d3a395\n",
        "s = 0x68342ceff8935ededd102dd876ffd6ba72d6a427a3edb13d26eb0781cb423c4\n",
        "\n",
        "# signature 2\n",
        "z = 0x7c076ff316692a3d7eb3c3bb0f8b1488cf72e1afcd929e29307032997a838a3d\n",
        "r = 0xeff69ef2b1bd93a66ed5219add4fb51e11a840f404876325a1e8ffe0529a2c\n",
        "s = 0xc7207fee197d27c618aea621406f6bf5ef6fca38681d82b2f06fddbdce6feab6\n",
        "```"
      ]
    },
    {
      "cell_type": "code",
      "execution_count": 34,
      "metadata": {
        "id": "0V4FirJ5EAcH",
        "colab": {
          "base_uri": "https://localhost:8080/"
        },
        "outputId": "4d33a16f-7aea-41c7-8561-c3c1ca8e9444"
      },
      "outputs": [
        {
          "output_type": "stream",
          "name": "stdout",
          "text": [
            "True\n",
            "True\n"
          ]
        }
      ],
      "source": [
        "# Exercise 6\n",
        "from ecc import N, G\n",
        "point = S256Point(\n",
        "    0x887387e452b8eacc4acfde10d9aaf7f6d9a0f975aabb10d006e4da568744d06c, \n",
        "    0x61de6d95231cd89026e286df3b6ae4a894a3378e393e93a0f45b666329a0ae34)\n",
        "# signature 1\n",
        "z = 0xec208baa0fc1c19f708a9ca96fdeff3ac3f230bb4a7ba4aede4942ad003c0f60\n",
        "r = 0xac8d1c87e51d0d441be8b3dd5b05c8795b48875dffe00b7ffcfac23010d3a395\n",
        "s = 0x68342ceff8935ededd102dd876ffd6ba72d6a427a3edb13d26eb0781cb423c4\n",
        "s_inv = pow(s, N-2, N)\n",
        "u = z * s_inv % N\n",
        "v = r * s_inv % N\n",
        "print((u*G + v*point).x.num == r)\n",
        "\n",
        "# signature 2\n",
        "z = 0x7c076ff316692a3d7eb3c3bb0f8b1488cf72e1afcd929e29307032997a838a3d\n",
        "r = 0xeff69ef2b1bd93a66ed5219add4fb51e11a840f404876325a1e8ffe0529a2c\n",
        "s = 0xc7207fee197d27c618aea621406f6bf5ef6fca38681d82b2f06fddbdce6feab6\n",
        "s_inv = pow(s, N-2, N)\n",
        "u = z * s_inv % N\n",
        "v = r * s_inv % N\n",
        "print((u*G + v*point).x.num == r)"
      ]
    },
    {
      "cell_type": "code",
      "execution_count": 35,
      "metadata": {
        "id": "Zd3dPI7PEAcI",
        "colab": {
          "base_uri": "https://localhost:8080/"
        },
        "outputId": "1ea5b8df-38f8-421d-a78c-1499bf4247f7"
      },
      "outputs": [
        {
          "output_type": "stream",
          "name": "stdout",
          "text": [
            "S256Point(028d003eab2e428d11983f3e97c3fa0addf3b42740df0d211795ffb3be2f6c52, 0ae987b9ec6ea159c78cb2a937ed89096fb218d9e7594f02b547526d8cd309e2)\n",
            "0x231c6f3d980a6b0fb7152f85cee7eb52bf92433d9919b9c5218cb08e79cce78\n",
            "0x2b698a0f0a4041b77e63488ad48c23e8e8838dd1fb7520408b121697b782ef22\n",
            "0xbb14e602ef9e3f872e25fad328466b34e6734b7a0fcd58b1eb635447ffae8cb9\n"
          ]
        }
      ],
      "source": [
        "from ecc import S256Point, G, N\n",
        "from helper import hash256\n",
        "e = int.from_bytes(hash256(b'my secret'), 'big')\n",
        "z = int.from_bytes(hash256(b'my message'), 'big')\n",
        "k = 1234567890\n",
        "r = (k*G).x.num\n",
        "k_inv = pow(k, N-2, N)\n",
        "s = (z+r*e) * k_inv % N\n",
        "point = e*G\n",
        "print(point)\n",
        "print(hex(z))\n",
        "print(hex(r))\n",
        "print(hex(s))"
      ]
    },
    {
      "cell_type": "markdown",
      "metadata": {
        "id": "AzlCn7KMEAcI"
      },
      "source": [
        "### Exercise 7\n",
        "\n",
        "Sign the following message with the secret\n",
        "\n",
        "```\n",
        "e = 12345\n",
        "z = int.from_bytes(hash256('Programming Bitcoin!'), 'big')\n",
        "```"
      ]
    },
    {
      "cell_type": "code",
      "execution_count": 37,
      "metadata": {
        "id": "qK9MJxuyEAcI",
        "colab": {
          "base_uri": "https://localhost:8080/"
        },
        "outputId": "3080fb8c-c3d4-4ff1-9cef-0f3c1688a5e6"
      },
      "outputs": [
        {
          "output_type": "stream",
          "name": "stdout",
          "text": [
            "S256Point(f01d6b9018ab421dd410404cb869072065522bf85734008f105cf385a023a80f, 0eba29d0f0c5408ed681984dc525982abefccd9f7ff01dd26da4999cf3f6a295)\n",
            "0x969f6056aa26f7d2795fd013fe88868d09c9f6aed96965016e1936ae47060d48\n"
          ]
        }
      ],
      "source": [
        "# Exercise 7\n",
        "\n",
        "# Exercise 7\n",
        "\n",
        "e = 12345\n",
        "z = int.from_bytes(hash256(b'Programming Bitcoin!'), 'big')\n",
        "\n",
        "# choose a random k\n",
        "# calculate r (kG's x-coordinate)\n",
        "# calculate s ((z+re)/k)\n",
        "# print the point, z, r and s\n",
        "k = 12345678\n",
        "r = (k*G).x.num\n",
        "k_inv = pow(k, N-2, N)\n",
        "s = (z+r*e) * k_inv % N\n",
        "point = e*G\n",
        "print(point)\n",
        "print(hex(z))\n"
      ]
    },
    {
      "cell_type": "code",
      "source": [
        ""
      ],
      "metadata": {
        "id": "9fuadTncdlna"
      },
      "execution_count": null,
      "outputs": []
    }
  ],
  "metadata": {
    "colab": {
      "name": "Chapter3.ipynb의 사본",
      "provenance": [],
      "collapsed_sections": [],
      "include_colab_link": true
    },
    "language_info": {
      "name": "python"
    },
    "kernelspec": {
      "name": "python3",
      "display_name": "Python 3"
    }
  },
  "nbformat": 4,
  "nbformat_minor": 0
}