{
  "cells": [
    {
      "cell_type": "markdown",
      "metadata": {
        "id": "view-in-github",
        "colab_type": "text"
      },
      "source": [
        "<a href=\"https://colab.research.google.com/github/8percent/programming-bitcoin/blob/main/chapter12/%EC%98%A4%EC%9E%AC%EA%B7%A0.ipynb\" target=\"_parent\"><img src=\"https://colab.research.google.com/assets/colab-badge.svg\" alt=\"Open In Colab\"/></a>"
      ]
    },
    {
      "cell_type": "code",
      "source": [
        "!git clone https://github.com/jimmysong/programmingbitcoin\n",
        "!pip install requests"
      ],
      "metadata": {
        "colab": {
          "base_uri": "https://localhost:8080/"
        },
        "id": "dmWjvmA1EC5u",
        "outputId": "f678630b-6498-4dd9-b1cb-847ec1834ce0"
      },
      "execution_count": 1,
      "outputs": [
        {
          "output_type": "stream",
          "name": "stdout",
          "text": [
            "Cloning into 'programmingbitcoin'...\n",
            "remote: Enumerating objects: 6406, done.\u001b[K\n",
            "remote: Total 6406 (delta 0), reused 0 (delta 0), pack-reused 6406\u001b[K\n",
            "Receiving objects: 100% (6406/6406), 39.43 MiB | 32.35 MiB/s, done.\n",
            "Resolving deltas: 100% (4254/4254), done.\n",
            "Looking in indexes: https://pypi.org/simple, https://us-python.pkg.dev/colab-wheels/public/simple/\n",
            "Requirement already satisfied: requests in /usr/local/lib/python3.7/dist-packages (2.23.0)\n",
            "Requirement already satisfied: certifi>=2017.4.17 in /usr/local/lib/python3.7/dist-packages (from requests) (2022.6.15)\n",
            "Requirement already satisfied: idna<3,>=2.5 in /usr/local/lib/python3.7/dist-packages (from requests) (2.10)\n",
            "Requirement already satisfied: urllib3!=1.25.0,!=1.25.1,<1.26,>=1.21.1 in /usr/local/lib/python3.7/dist-packages (from requests) (1.24.3)\n",
            "Requirement already satisfied: chardet<4,>=3.0.2 in /usr/local/lib/python3.7/dist-packages (from requests) (3.0.4)\n"
          ]
        }
      ]
    },
    {
      "cell_type": "code",
      "source": [
        "ls"
      ],
      "metadata": {
        "colab": {
          "base_uri": "https://localhost:8080/"
        },
        "id": "QAWSHoQztCD9",
        "outputId": "d5a28fb3-3995-4b9c-d453-0d174c02e41e"
      },
      "execution_count": 2,
      "outputs": [
        {
          "output_type": "stream",
          "name": "stdout",
          "text": [
            "\u001b[0m\u001b[01;34mprogrammingbitcoin\u001b[0m/  \u001b[01;34msample_data\u001b[0m/\n"
          ]
        }
      ]
    },
    {
      "cell_type": "code",
      "source": [
        "cd programmingbitcoin/code-ch12"
      ],
      "metadata": {
        "colab": {
          "base_uri": "https://localhost:8080/"
        },
        "id": "IxWlj56tEGyy",
        "outputId": "1ca298d9-38b0-4011-ca14-66a7782399ae"
      },
      "execution_count": 3,
      "outputs": [
        {
          "output_type": "stream",
          "name": "stdout",
          "text": [
            "/content/programmingbitcoin/code-ch12\n"
          ]
        }
      ]
    },
    {
      "cell_type": "code",
      "execution_count": 4,
      "metadata": {
        "id": "E4N5Sxz2D8e_"
      },
      "outputs": [],
      "source": [
        "############## PLEASE RUN THIS CELL FIRST! ###################\n",
        "\n",
        "# import everything and define a test runner function\n",
        "from importlib import reload\n",
        "from helper import run\n",
        "import bloomfilter\n",
        "import block\n",
        "import ecc\n",
        "import helper\n",
        "import merkleblock\n",
        "import network\n",
        "import script\n",
        "import tx"
      ]
    },
    {
      "cell_type": "code",
      "execution_count": 5,
      "metadata": {
        "id": "WhYDZWYjD8fC",
        "colab": {
          "base_uri": "https://localhost:8080/"
        },
        "outputId": "3d87cacc-bbab-41c3-e17d-229eedae1343"
      },
      "outputs": [
        {
          "output_type": "stream",
          "name": "stdout",
          "text": [
            "[0, 0, 0, 0, 0, 0, 0, 0, 0, 1]\n"
          ]
        }
      ],
      "source": [
        "from helper import hash256\n",
        "bit_field_size = 10\n",
        "bit_field = [0] * bit_field_size\n",
        "h = hash256(b'hello world')\n",
        "bit = int.from_bytes(h, 'big') % bit_field_size\n",
        "bit_field[bit] = 1\n",
        "print(bit_field)"
      ]
    },
    {
      "cell_type": "code",
      "execution_count": 6,
      "metadata": {
        "id": "4my7lLiqD8fF",
        "colab": {
          "base_uri": "https://localhost:8080/"
        },
        "outputId": "a2cb8955-4c0f-4f70-9995-89c7abf478c9"
      },
      "outputs": [
        {
          "output_type": "stream",
          "name": "stdout",
          "text": [
            "[0, 0, 1, 0, 0, 0, 0, 0, 0, 1]\n"
          ]
        }
      ],
      "source": [
        "from helper import hash256\n",
        "bit_field_size = 10\n",
        "bit_field = [0] * bit_field_size\n",
        "for item in (b'hello world', b'goodbye'):\n",
        "    h = hash256(item)\n",
        "    bit = int.from_bytes(h, 'big') % bit_field_size\n",
        "    bit_field[bit] = 1\n",
        "print(bit_field)"
      ]
    },
    {
      "cell_type": "markdown",
      "metadata": {
        "id": "1ghykSIQD8fG"
      },
      "source": [
        "### Exercise 1\n",
        "\n",
        "Calculate the Bloom Filter for 'hello world' and 'goodbye' using the `hash160` hash function over a bit field of 10."
      ]
    },
    {
      "cell_type": "code",
      "execution_count": 7,
      "metadata": {
        "id": "P7vQ5pZVD8fH",
        "colab": {
          "base_uri": "https://localhost:8080/"
        },
        "outputId": "65a84ca3-1ade-4877-9a68-867f256036c9"
      },
      "outputs": [
        {
          "output_type": "stream",
          "name": "stdout",
          "text": [
            "[1, 1, 0, 0, 0, 0, 0, 0, 0, 0]\n"
          ]
        }
      ],
      "source": [
        "# Exercise 1\n",
        "\n",
        "from helper import hash160\n",
        "\n",
        "bit_field_size = 10\n",
        "bit_field = [0] * bit_field_size\n",
        "items = (b'hello world', b'goodbye')\n",
        "# loop through each item\n",
        "    # hash160 the item\n",
        "    # interpret hash as a Big-Endian integer and mod by bit_field_size\n",
        "    # set that bit in bit_field to 1\n",
        "# print the bit_field\n",
        "for item in (b'hello world', b'goodbye'):\n",
        "    h = hash160(item)\n",
        "    bit = int.from_bytes(h, 'big') % bit_field_size\n",
        "    bit_field[bit] = 1\n",
        "print(bit_field)"
      ]
    },
    {
      "cell_type": "code",
      "execution_count": 9,
      "metadata": {
        "id": "7D4bSLqzD8fH",
        "colab": {
          "base_uri": "https://localhost:8080/"
        },
        "outputId": "a84f91b6-c639-4bc5-e8af-4bdc11571fd9"
      },
      "outputs": [
        {
          "output_type": "stream",
          "name": "stdout",
          "text": [
            "[1, 1, 1, 0, 0, 0, 0, 0, 0, 1]\n"
          ]
        }
      ],
      "source": [
        "from helper import hash256, hash160\n",
        "bit_field_size = 10\n",
        "bit_field = [0] * bit_field_size\n",
        "for item in (b'hello world', b'goodbye'):\n",
        "    for hash_function in (hash256, hash160):\n",
        "        h = hash_function(item)\n",
        "        bit = int.from_bytes(h, 'big') % bit_field_size\n",
        "        bit_field[bit] = 1\n",
        "print(bit_field)"
      ]
    },
    {
      "cell_type": "code",
      "execution_count": 8,
      "metadata": {
        "id": "MZx5dIG7D8fH",
        "colab": {
          "base_uri": "https://localhost:8080/"
        },
        "outputId": "d3d2af13-09a1-4cba-dab9-4403c4fe63fb"
      },
      "outputs": [
        {
          "output_type": "stream",
          "name": "stdout",
          "text": [
            "[0, 0, 0, 0, 0, 1, 1, 0, 0, 1, 1, 0, 0, 0, 0, 0]\n"
          ]
        }
      ],
      "source": [
        "from helper import murmur3\n",
        "from bloomfilter import BIP37_CONSTANT\n",
        "field_size = 2\n",
        "num_functions = 2\n",
        "tweak = 42\n",
        "bit_field_size = field_size * 8\n",
        "bit_field = [0] * bit_field_size\n",
        "for phrase in (b'hello world', b'goodbye'):\n",
        "    for i in range(num_functions):\n",
        "        seed = i * BIP37_CONSTANT + tweak\n",
        "        h = murmur3(phrase, seed=seed)\n",
        "        bit = h % bit_field_size\n",
        "        bit_field[bit] = 1\n",
        "print(bit_field)"
      ]
    },
    {
      "cell_type": "markdown",
      "metadata": {
        "id": "TI8_GmF2D8fI"
      },
      "source": [
        "### Exercise 2\n",
        "\n",
        "Given a Bloom Filter with size=10, function count=5, tweak=99, what are the bytes that are set after adding these items? (use `bit_field_to_bytes` to convert to bytes)\n",
        "\n",
        "* `b'Hello World'`\n",
        "* `b'Goodbye!'`"
      ]
    },
    {
      "cell_type": "code",
      "execution_count": 10,
      "metadata": {
        "id": "xq8OMKC1D8fI",
        "colab": {
          "base_uri": "https://localhost:8080/"
        },
        "outputId": "30231e49-1fd0-4add-d797-ae7079a8d761"
      },
      "outputs": [
        {
          "output_type": "stream",
          "name": "stdout",
          "text": [
            "4000600a080000010940\n"
          ]
        }
      ],
      "source": [
        "# Exercise 2\n",
        "\n",
        "from bloomfilter import BloomFilter, BIP37_CONSTANT\n",
        "from helper import bit_field_to_bytes, murmur3\n",
        "\n",
        "field_size = 10\n",
        "function_count = 5\n",
        "tweak = 99\n",
        "bloom_filter = BloomFilter(10, 5, 99)\n",
        "bit_field = bloom_filter.bit_field\n",
        "bit_field_size = bloom_filter.size * 8\n",
        "items = (b'Hello World',  b'Goodbye!')\n",
        "# calculate the bitfield size\n",
        "# create an empty bit field\n",
        "# loop through items\n",
        "    # loop through function count\n",
        "        # calculate the seed\n",
        "        # get the murmur3 hash of the item using the seed\n",
        "        # mod by the bitfield size\n",
        "        # set the bit\n",
        "# convert the bit field to bytes\n",
        "# print the bytes in hex\n",
        "for item in items:\n",
        "    for i in range(bloom_filter.function_count):\n",
        "        h = murmur3(item, seed=i * BIP37_CONSTANT + bloom_filter.tweak)\n",
        "        bit = h % bit_field_size\n",
        "        bit_field[bit] = 1\n",
        "print(bit_field_to_bytes(bit_field).hex())"
      ]
    },
    {
      "cell_type": "markdown",
      "metadata": {
        "id": "Dz4XttnGD8fI"
      },
      "source": [
        "### Exercise 3\n",
        "\n",
        "Write the `add` method for `BloomFilter`\n",
        "\n",
        "#### Make [this test](/edit/code-ch12/bloomfilter.py) pass: `bloomfilter.py:BloomFilterTest:test_add`"
      ]
    },
    {
      "cell_type": "code",
      "execution_count": 12,
      "metadata": {
        "id": "c4fUyLovD8fI",
        "colab": {
          "base_uri": "https://localhost:8080/"
        },
        "outputId": "383f4a2a-d210-427e-e59e-bb2e1ccefe5b"
      },
      "outputs": [
        {
          "output_type": "stream",
          "name": "stderr",
          "text": [
            ".\n",
            "----------------------------------------------------------------------\n",
            "Ran 1 test in 0.001s\n",
            "\n",
            "OK\n"
          ]
        }
      ],
      "source": [
        "# Exercise 3\n",
        "\n",
        "reload(bloomfilter)\n",
        "run(bloomfilter.BloomFilterTest(\"test_add\"))"
      ]
    },
    {
      "cell_type": "markdown",
      "metadata": {
        "id": "QefDUlo-D8fI"
      },
      "source": [
        "### Exercise 4\n",
        "\n",
        "Write the  `filterload` payload from the `BloomFilter` class.\n",
        "\n",
        "#### Make [this test](/edit/code-ch12/bloomfilter.py) pass: `bloomfilter.py:BloomFilterTest:test_filterload`"
      ]
    },
    {
      "cell_type": "code",
      "execution_count": 13,
      "metadata": {
        "id": "a0bZzkJoD8fJ",
        "colab": {
          "base_uri": "https://localhost:8080/"
        },
        "outputId": "2159cf78-1db2-4a81-83b2-b43c80f2b6e3"
      },
      "outputs": [
        {
          "output_type": "stream",
          "name": "stderr",
          "text": [
            ".\n",
            "----------------------------------------------------------------------\n",
            "Ran 1 test in 0.004s\n",
            "\n",
            "OK\n"
          ]
        }
      ],
      "source": [
        "# Exercise 4\n",
        "\n",
        "reload(bloomfilter)\n",
        "run(bloomfilter.BloomFilterTest(\"test_filterload\"))"
      ]
    },
    {
      "cell_type": "markdown",
      "metadata": {
        "id": "rnYWYjC3D8fJ"
      },
      "source": [
        "### Exercise 5\n",
        "\n",
        "Write the `serialize` method for the `GetDataMessage` class.\n",
        "\n",
        "#### Make [this test](/edit/code-ch12/network.py) pass: `network.py:GetDataMessageTest:test_serialize`"
      ]
    },
    {
      "cell_type": "code",
      "execution_count": 14,
      "metadata": {
        "id": "JOFp2droD8fK",
        "colab": {
          "base_uri": "https://localhost:8080/"
        },
        "outputId": "7a6b86e8-7cba-4e77-e8c0-37beb550e8b3"
      },
      "outputs": [
        {
          "output_type": "stream",
          "name": "stderr",
          "text": [
            ".\n",
            "----------------------------------------------------------------------\n",
            "Ran 1 test in 0.002s\n",
            "\n",
            "OK\n"
          ]
        }
      ],
      "source": [
        "# Exercise 5\n",
        "\n",
        "reload(network)\n",
        "run(network.GetDataMessageTest(\"test_serialize\"))"
      ]
    },
    {
      "cell_type": "code",
      "execution_count": 15,
      "metadata": {
        "id": "W_8qHXdgD8fO",
        "colab": {
          "base_uri": "https://localhost:8080/"
        },
        "outputId": "fce7ac98-5d53-46ad-f03a-08e37178e0bb"
      },
      "outputs": [
        {
          "output_type": "stream",
          "name": "stdout",
          "text": [
            "found: e3930e1e566ca9b75d53b0eb9acb7607f547e1182d1d22bd4b661cfe18dcddf1:0\n"
          ]
        }
      ],
      "source": [
        "from bloomfilter import BloomFilter\n",
        "from helper import decode_base58\n",
        "from merkleblock import MerkleBlock\n",
        "from network import FILTERED_BLOCK_DATA_TYPE, GetHeadersMessage, GetDataMessage, HeadersMessage, SimpleNode\n",
        "from tx import Tx\n",
        "last_block_hex = '00000000000538d5c2246336644f9a4956551afb44ba47278759ec55ea912e19'\n",
        "address = 'mwJn1YPMq7y5F8J3LkC5Hxg9PHyZ5K4cFv'\n",
        "h160 = decode_base58(address)\n",
        "node = SimpleNode('testnet.programmingbitcoin.com', testnet=True, logging=False)\n",
        "bf = BloomFilter(size=30, function_count=5, tweak=90210)\n",
        "bf.add(h160)\n",
        "node.handshake()\n",
        "node.send(bf.filterload())\n",
        "start_block = bytes.fromhex(last_block_hex)\n",
        "getheaders = GetHeadersMessage(start_block=start_block)\n",
        "node.send(getheaders)\n",
        "headers = node.wait_for(HeadersMessage)\n",
        "getdata = GetDataMessage()\n",
        "for b in headers.blocks:\n",
        "    if not b.check_pow():\n",
        "        raise RuntimeError('proof of work is invalid')\n",
        "    getdata.add_data(FILTERED_BLOCK_DATA_TYPE, b.hash())\n",
        "node.send(getdata)\n",
        "found = False\n",
        "while not found:\n",
        "    message = node.wait_for(MerkleBlock, Tx)\n",
        "    if message.command == b'merkleblock':\n",
        "        if not message.is_valid():\n",
        "            raise RuntimeError('invalid merkle proof')\n",
        "    else:\n",
        "        for i, tx_out in enumerate(message.tx_outs):\n",
        "            if tx_out.script_pubkey.address(testnet=True) == address:\n",
        "                print('found: {}:{}'.format(message.id(), i))\n",
        "                found = True\n",
        "                break"
      ]
    },
    {
      "cell_type": "markdown",
      "metadata": {
        "id": "VC6UBgkND8fP"
      },
      "source": [
        "### Exercise 6\n",
        "\n",
        "Get the current testnet block ID, send yourself some testnet coins, find the UTXO corresponding to the testnet coin _without using a block explorer_, create a transaction using that UTXO as an input and broadcast the `tx` message on the  testnet network."
      ]
    },
    {
      "cell_type": "code",
      "source": [
        "0x000000000000003ace16d433b16dbdca512db7f57e858fca1f1a3ff1ba231c70"
      ],
      "metadata": {
        "colab": {
          "base_uri": "https://localhost:8080/"
        },
        "id": "ApqvKDUAYNJw",
        "outputId": "bfc292c9-41a0-4b52-dac1-a2f4165964a6"
      },
      "execution_count": 22,
      "outputs": [
        {
          "output_type": "execute_result",
          "data": {
            "text/plain": [
              "369125192530656527984173810160041676330691901657644089416816"
            ]
          },
          "metadata": {},
          "execution_count": 22
        }
      ]
    },
    {
      "cell_type": "code",
      "execution_count": null,
      "metadata": {
        "id": "cX0fDBcND8fP"
      },
      "outputs": [],
      "source": [
        "# Exercise 6\n",
        "\n",
        "import time\n",
        "\n",
        "from block import Block\n",
        "from bloomfilter import BloomFilter\n",
        "from ecc import PrivateKey\n",
        "from helper import hash256, little_endian_to_int, encode_varint, read_varint, decode_base58, SIGHASH_ALL\n",
        "from merkleblock import MerkleBlock\n",
        "from network import (\n",
        "    GetDataMessage,\n",
        "    GetHeadersMessage,\n",
        "    HeadersMessage,\n",
        "    NetworkEnvelope,\n",
        "    SimpleNode,\n",
        "    TX_DATA_TYPE,\n",
        "    FILTERED_BLOCK_DATA_TYPE,\n",
        ")\n",
        "from script import p2pkh_script, Script\n",
        "from tx import Tx, TxIn, TxOut\n",
        "\n",
        "last_block_hex = '000000000000003ace16d433b16dbdca512db7f57e858fca1f1a3ff1ba231c70'  # FILL THIS IN\n",
        "\n",
        "secret = little_endian_to_int(hash256(b'jaegyoon.oh@8percent.kr 8percent gogo'))  # FILL THIS IN\n",
        "private_key = PrivateKey(secret=secret)\n",
        "addr = private_key.point.address(testnet=True)\n",
        "h160 = decode_base58(addr)\n",
        "\n",
        "target_address = 'mwJn1YPMq7y5F8J3LkC5Hxg9PHyZ5K4cFv'\n",
        "target_h160 = decode_base58(target_address)\n",
        "target_script = p2pkh_script(target_h160)\n",
        "fee = 5000  # fee in satoshis\n",
        "\n",
        "\n",
        "# connect to testnet.programmingbitcoin.com in testnet mode\n",
        "# create a bloom filter of size 30 and 5 functions. Add a tweak.\n",
        "# add the h160 to the bloom filter\n",
        "# complete the handshake\n",
        "# load the bloom filter with the filterload command\n",
        "\n",
        "# set start block to last_block from above\n",
        "# send a getheaders message with the starting block\n",
        "\n",
        "# wait for the headers message\n",
        "# store the last block as None\n",
        "# initialize the GetDataMessage\n",
        "# loop through the blocks in the headers\n",
        "    # check that the proof of work on the block is valid\n",
        "    # check that this block's prev_block is the last block\n",
        "    # add a new item to the get_data_message\n",
        "    # should be FILTERED_BLOCK_DATA_TYPE and block hash\n",
        "    # set the last block to the current hash\n",
        "# send the getdata message\n",
        "\n",
        "# initialize prev_tx and prev_index to None\n",
        "# loop while prev_tx is None \n",
        "    # wait for the merkleblock or tx commands\n",
        "    # if we have the merkleblock command\n",
        "        # check that the MerkleBlock is valid\n",
        "    # else we have the tx command\n",
        "        # set the tx's testnet to be True\n",
        "        # loop through the tx outs\n",
        "            # if our output has the same address as our address we found it\n",
        "                # we found our utxo. set prev_tx, prev_index, and tx\n",
        "# create the TxIn\n",
        "# calculate the output amount (previous amount minus the fee)\n",
        "# create a new TxOut to the target script with the output amount\n",
        "# create a new transaction with the one input and one output\n",
        "# sign the only input of the transaction\n",
        "# serialize and hex to see what it looks like\n",
        "# send this signed transaction on the network\n",
        "# wait a sec so this message goes through with time.sleep(1) \n",
        "\n",
        "# now ask for this transaction from the other node\n",
        "# create a GetDataMessage\n",
        "# ask for our transaction by adding it to the message\n",
        "# send the message\n",
        "# now wait for a Tx response\n",
        "# if the received tx has the same id as our tx, we are done!\n",
        "node = SimpleNode('testnet.programmingbitcoin.com', testnet=True, logging=False)\n",
        "bf = BloomFilter(size=30, function_count=5, tweak=90210)\n",
        "bf.add(h160)\n",
        "node.handshake()\n",
        "node.send(bf.filterload())\n",
        "start_block = bytes.fromhex(last_block_hex)\n",
        "getheaders = GetHeadersMessage(start_block=start_block)\n",
        "node.send(getheaders)\n",
        "headers = node.wait_for(HeadersMessage)\n",
        "last_block = None\n",
        "getdata = GetDataMessage()\n",
        "for b in headers.blocks:\n",
        "    if not b.check_pow():\n",
        "        raise RuntimeError('proof of work is invalid')\n",
        "    if last_block is not None and b.prev_block != last_block:\n",
        "        raise RuntimeError('chain broken')\n",
        "    getdata.add_data(FILTERED_BLOCK_DATA_TYPE, b.hash())\n",
        "    last_block = b.hash()\n",
        "node.send(getdata)\n",
        "prev_tx = None\n",
        "prev_index = None\n",
        "prev_amount = None\n",
        "while prev_tx is None:\n",
        "    message = node.wait_for(MerkleBlock, Tx)\n",
        "    if message.command == b'merkleblock':\n",
        "        if not message.is_valid():\n",
        "            raise RuntimeError('invalid merkle proof')\n",
        "    else:\n",
        "        message.testnet = True\n",
        "        for i, tx_out in enumerate(message.tx_outs):\n",
        "            if tx_out.script_pubkey.address(testnet=True) == addr:\n",
        "                prev_tx = message.hash()\n",
        "                prev_index = i\n",
        "                prev_amount = tx_out.amount\n",
        "                prev_script_pubkey = tx_out.script_pubkey\n",
        "                print('found: {}:{}'.format(prev_tx.hex(), i))\n",
        "                break\n",
        "tx_in = TxIn(prev_tx, prev_index)\n",
        "output_amount = prev_amount - fee\n",
        "new_tx_out = TxOut(output_amount, target_script)\n",
        "new_tx = Tx(1, [tx_in], [new_tx_out], 0, testnet=True)\n",
        "\n",
        "vi = new_tx.sign_input(0, private_key)\n",
        "print(vi)\n",
        "print(new_tx.serialize().hex())\n",
        "node.send(new_tx)\n",
        "time.sleep(1)\n",
        "\n",
        "getdata1 = GetDataMessage()\n",
        "getdata1.add_data(TX_DATA_TYPE, new_tx.hash())\n",
        "node.send(getdata1)\n",
        "tx_response = node.wait_for(Tx)\n",
        "print(True if tx_response.id() == new_tx.id() else False)"
      ]
    }
  ],
  "metadata": {
    "colab": {
      "provenance": [],
      "name": "Chapter12_jaekyun",
      "collapsed_sections": [],
      "include_colab_link": true
    },
    "language_info": {
      "name": "python"
    },
    "kernelspec": {
      "name": "python3",
      "display_name": "Python 3"
    },
    "gpuClass": "standard"
  },
  "nbformat": 4,
  "nbformat_minor": 0
}