{
  "cells": [
    {
      "cell_type": "markdown",
      "metadata": {
        "id": "view-in-github",
        "colab_type": "text"
      },
      "source": [
        "<a href=\"https://colab.research.google.com/github/8percent/programming-bitcoin/blob/main/chapter9/Seba.ipynb\" target=\"_parent\"><img src=\"https://colab.research.google.com/assets/colab-badge.svg\" alt=\"Open In Colab\"/></a>"
      ]
    },
    {
      "cell_type": "code",
      "source": [
        "!git clone https://github.com/jimmysong/programmingbitcoin"
      ],
      "metadata": {
        "colab": {
          "base_uri": "https://localhost:8080/"
        },
        "id": "SM4CtlHuYVIZ",
        "outputId": "72097acf-99e0-4150-9e4a-ac9519423981"
      },
      "execution_count": 1,
      "outputs": [
        {
          "output_type": "stream",
          "name": "stdout",
          "text": [
            "Cloning into 'programmingbitcoin'...\n",
            "remote: Enumerating objects: 6406, done.\u001b[K\n",
            "remote: Total 6406 (delta 0), reused 0 (delta 0), pack-reused 6406\u001b[K\n",
            "Receiving objects: 100% (6406/6406), 39.43 MiB | 26.44 MiB/s, done.\n",
            "Resolving deltas: 100% (4254/4254), done.\n"
          ]
        }
      ]
    },
    {
      "cell_type": "code",
      "source": [
        "!pip install requests"
      ],
      "metadata": {
        "colab": {
          "base_uri": "https://localhost:8080/"
        },
        "id": "RuqJd7BZYXWV",
        "outputId": "4aa9e3d3-b3cf-4f51-d5b3-4d9d5bd09c53"
      },
      "execution_count": 2,
      "outputs": [
        {
          "output_type": "stream",
          "name": "stdout",
          "text": [
            "Looking in indexes: https://pypi.org/simple, https://us-python.pkg.dev/colab-wheels/public/simple/\n",
            "Requirement already satisfied: requests in /usr/local/lib/python3.7/dist-packages (2.23.0)\n",
            "Requirement already satisfied: urllib3!=1.25.0,!=1.25.1,<1.26,>=1.21.1 in /usr/local/lib/python3.7/dist-packages (from requests) (1.24.3)\n",
            "Requirement already satisfied: chardet<4,>=3.0.2 in /usr/local/lib/python3.7/dist-packages (from requests) (3.0.4)\n",
            "Requirement already satisfied: certifi>=2017.4.17 in /usr/local/lib/python3.7/dist-packages (from requests) (2022.6.15)\n",
            "Requirement already satisfied: idna<3,>=2.5 in /usr/local/lib/python3.7/dist-packages (from requests) (2.10)\n"
          ]
        }
      ]
    },
    {
      "cell_type": "code",
      "source": [
        "cd programmingbitcoin/code-ch09"
      ],
      "metadata": {
        "colab": {
          "base_uri": "https://localhost:8080/"
        },
        "id": "ehHR4YRuYcO0",
        "outputId": "2343735d-f8d4-4106-b054-c28477bbfede"
      },
      "execution_count": 3,
      "outputs": [
        {
          "output_type": "stream",
          "name": "stdout",
          "text": [
            "/content/programmingbitcoin/code-ch09\n"
          ]
        }
      ]
    },
    {
      "cell_type": "code",
      "execution_count": 4,
      "metadata": {
        "id": "QdpTjEjLYOQ7"
      },
      "outputs": [],
      "source": [
        "############## PLEASE RUN THIS CELL FIRST! ###################\n",
        "\n",
        "# import everything and define a test runner function\n",
        "from importlib import reload\n",
        "from helper import run\n",
        "import block\n",
        "import ecc\n",
        "import helper\n",
        "import script\n",
        "import tx"
      ]
    },
    {
      "cell_type": "markdown",
      "metadata": {
        "id": "x5W4IzIBYOQ8"
      },
      "source": [
        "### Exercise 1\n",
        "\n",
        "Write the `is_coinbase` method of the `Tx` class.\n",
        "\n",
        "#### Make [this test](/edit/code-ch09/tx.py) pass: `tx.py:TxTest:test_is_coinbase`"
      ]
    },
    {
      "cell_type": "code",
      "execution_count": 8,
      "metadata": {
        "id": "97JvHzkbYOQ9",
        "colab": {
          "base_uri": "https://localhost:8080/"
        },
        "outputId": "6740cbc5-3c23-46a1-f1a8-7e735dac3656"
      },
      "outputs": [
        {
          "output_type": "stream",
          "name": "stderr",
          "text": [
            ".\n",
            "----------------------------------------------------------------------\n",
            "Ran 1 test in 0.005s\n",
            "\n",
            "OK\n"
          ]
        }
      ],
      "source": [
        "# Exercise 1\n",
        "\n",
        "reload(tx)\n",
        "run(tx.TxTest(\"test_is_coinbase\"))"
      ]
    },
    {
      "cell_type": "code",
      "execution_count": 9,
      "metadata": {
        "id": "mosMNGbVYOQ9",
        "colab": {
          "base_uri": "https://localhost:8080/"
        },
        "outputId": "b90f1bd9-fdc9-475c-c46c-17e17e29968a"
      },
      "outputs": [
        {
          "output_type": "stream",
          "name": "stdout",
          "text": [
            "b'The Times 03/Jan/2009 Chancellor on brink of second bailout for banks'\n"
          ]
        }
      ],
      "source": [
        "from io import BytesIO\n",
        "from script import Script\n",
        "stream = BytesIO(bytes.fromhex('4d04ffff001d0104455468652054696d65732030332f4a616e2f32303039204368616e63656c6c6f72206f6e206272696e6b206f66207365636f6e64206261696c6f757420666f722062616e6b73'))\n",
        "s = Script.parse(stream)\n",
        "print(s.cmds[2])"
      ]
    },
    {
      "cell_type": "code",
      "execution_count": 10,
      "metadata": {
        "id": "AhJi7kPFYOQ9",
        "colab": {
          "base_uri": "https://localhost:8080/"
        },
        "outputId": "9af00f6d-8630-43de-c64e-f0833669c893"
      },
      "outputs": [
        {
          "output_type": "stream",
          "name": "stdout",
          "text": [
            "465879\n"
          ]
        }
      ],
      "source": [
        "from io import BytesIO\n",
        "from script import Script\n",
        "from helper import little_endian_to_int\n",
        "stream = BytesIO(bytes.fromhex('5e03d71b07254d696e656420627920416e74506f6f6c20626a31312f4542312f4144362f43205914293101fabe6d6d678e2c8c34afc36896e7d9402824ed38e856676ee94bfdb0c6c4bcd8b2e5666a0400000000000000c7270000a5e00e00'))\n",
        "script_sig = Script.parse(stream)\n",
        "print(little_endian_to_int(script_sig.cmds[0]))"
      ]
    },
    {
      "cell_type": "markdown",
      "metadata": {
        "id": "8NlnxbtQYOQ-"
      },
      "source": [
        "### Exercise 2\n",
        "\n",
        "Write the `coinbase_height` method for the `Tx` class.\n",
        "\n",
        "#### Make [this test](/edit/code-ch09/tx.py) pass: `tx.py:TxTest:test_coinbase_height`"
      ]
    },
    {
      "cell_type": "code",
      "execution_count": 13,
      "metadata": {
        "id": "0WKT47k_YOQ-",
        "colab": {
          "base_uri": "https://localhost:8080/"
        },
        "outputId": "1e88f63c-d49a-4534-9c31-bded81be7298"
      },
      "outputs": [
        {
          "output_type": "stream",
          "name": "stderr",
          "text": [
            ".\n",
            "----------------------------------------------------------------------\n",
            "Ran 1 test in 0.006s\n",
            "\n",
            "OK\n"
          ]
        }
      ],
      "source": [
        "# Exercise 2\n",
        "\n",
        "reload(tx)\n",
        "run(tx.TxTest(\"test_coinbase_height\"))"
      ]
    },
    {
      "cell_type": "code",
      "execution_count": 14,
      "metadata": {
        "id": "CV28Qin4YOQ-",
        "colab": {
          "base_uri": "https://localhost:8080/"
        },
        "outputId": "df7f7e3e-3f21-4421-e56b-83126635d000"
      },
      "outputs": [
        {
          "output_type": "stream",
          "name": "stdout",
          "text": [
            "0000000000000000007e9e4c586439b0cdbe13b1370bdd9435d76a644d047523\n"
          ]
        }
      ],
      "source": [
        "from helper import hash256\n",
        "block_hash = hash256(bytes.fromhex('020000208ec39428b17323fa0ddec8e887b4a7c53b8c0a0a220cfd0000000000000000005b0750fce0a889502d40508d39576821155e9c9e3f5c3157f961db38fd8b25be1e77a759e93c0118a4ffd71d'))[::-1]\n",
        "block_id = block_hash.hex()\n",
        "print(block_id)"
      ]
    },
    {
      "cell_type": "markdown",
      "metadata": {
        "id": "fb6W87JRYOQ-"
      },
      "source": [
        "### Exercise 3\n",
        "\n",
        "Write the `parse` for `Block`.\n",
        "\n",
        "#### Make [this test](/edit/code-ch09/block.py) pass: `block.py:BlockTest:test_parse`"
      ]
    },
    {
      "cell_type": "code",
      "execution_count": 16,
      "metadata": {
        "id": "jNhM_v_IYOQ-",
        "colab": {
          "base_uri": "https://localhost:8080/"
        },
        "outputId": "7f82ce66-c13f-4e20-f478-60acbb867a6b"
      },
      "outputs": [
        {
          "output_type": "stream",
          "name": "stderr",
          "text": [
            ".\n",
            "----------------------------------------------------------------------\n",
            "Ran 1 test in 0.003s\n",
            "\n",
            "OK\n"
          ]
        }
      ],
      "source": [
        "# Exercise 3\n",
        "\n",
        "reload(block)\n",
        "run(block.BlockTest(\"test_parse\"))"
      ]
    },
    {
      "cell_type": "markdown",
      "metadata": {
        "id": "acE68aIGYOQ-"
      },
      "source": [
        "### Exercise 4\n",
        "\n",
        "Write the `serialize` for `Block`.\n",
        "\n",
        "#### Make [this test](/edit/code-ch09/block.py) pass: `block.py:BlockTest:test_serialize`"
      ]
    },
    {
      "cell_type": "code",
      "execution_count": 23,
      "metadata": {
        "id": "4F8yAlaPYOQ-",
        "colab": {
          "base_uri": "https://localhost:8080/"
        },
        "outputId": "2b059751-53db-4dd0-f1f4-fe0817a9bdc5"
      },
      "outputs": [
        {
          "output_type": "stream",
          "name": "stderr",
          "text": [
            ".\n",
            "----------------------------------------------------------------------\n",
            "Ran 1 test in 0.004s\n",
            "\n",
            "OK\n"
          ]
        }
      ],
      "source": [
        "# Exercise 4\n",
        "\n",
        "reload(block)\n",
        "run(block.BlockTest(\"test_serialize\"))"
      ]
    },
    {
      "cell_type": "markdown",
      "metadata": {
        "id": "8zVxBNNhYOQ_"
      },
      "source": [
        "### Exercise 5\n",
        "\n",
        "Write the `hash` for `Block`.\n",
        "\n",
        "#### Make [this test](/edit/code-ch09/block.py) pass: `block.py:BlockTest:test_hash`"
      ]
    },
    {
      "cell_type": "code",
      "execution_count": 24,
      "metadata": {
        "id": "4u-j0t-SYOQ_",
        "colab": {
          "base_uri": "https://localhost:8080/"
        },
        "outputId": "ad394c78-ba61-4355-fe00-3ce9e7871b8c"
      },
      "outputs": [
        {
          "output_type": "stream",
          "name": "stderr",
          "text": [
            ".\n",
            "----------------------------------------------------------------------\n",
            "Ran 1 test in 0.003s\n",
            "\n",
            "OK\n"
          ]
        }
      ],
      "source": [
        "# Exercise 5\n",
        "\n",
        "reload(block)\n",
        "run(block.BlockTest(\"test_hash\"))"
      ]
    },
    {
      "cell_type": "code",
      "execution_count": 25,
      "metadata": {
        "id": "4LA0pbmBYOQ_",
        "colab": {
          "base_uri": "https://localhost:8080/"
        },
        "outputId": "15bd73af-c260-424f-8051-dc0e574fd501"
      },
      "outputs": [
        {
          "output_type": "stream",
          "name": "stdout",
          "text": [
            "BIP9: True\n",
            "BIP91: False\n",
            "BIP141: True\n"
          ]
        }
      ],
      "source": [
        "from io import BytesIO\n",
        "from block import Block\n",
        "b = Block.parse(BytesIO(bytes.fromhex('020000208ec39428b17323fa0ddec8e887b4a7c53b8c0a0a220cfd0000000000000000005b0750fce0a889502d40508d39576821155e9c9e3f5c3157f961db38fd8b25be1e77a759e93c0118a4ffd71d')))\n",
        "print('BIP9: {}'.format(b.version >> 29 == 0b001))\n",
        "print('BIP91: {}'.format(b.version >> 4 & 1 == 1))\n",
        "print('BIP141: {}'.format(b.version >> 1 & 1 == 1))"
      ]
    },
    {
      "cell_type": "markdown",
      "metadata": {
        "id": "p4iqSBcKYOQ_"
      },
      "source": [
        "### Exercise 6\n",
        "\n",
        "Write the `bip9` method for the `Block` class.\n",
        "\n",
        "#### Make [this test](/edit/code-ch09/block.py) pass: `block.py:BlockTest:test_bip9`"
      ]
    },
    {
      "cell_type": "code",
      "execution_count": 27,
      "metadata": {
        "id": "Es0QdCS4YOQ_",
        "colab": {
          "base_uri": "https://localhost:8080/"
        },
        "outputId": "40c151ed-94be-4874-a5b8-13ff71c4425b"
      },
      "outputs": [
        {
          "output_type": "stream",
          "name": "stderr",
          "text": [
            ".\n",
            "----------------------------------------------------------------------\n",
            "Ran 1 test in 0.002s\n",
            "\n",
            "OK\n"
          ]
        }
      ],
      "source": [
        "# Exercise 6\n",
        "\n",
        "reload(block)\n",
        "run(block.BlockTest(\"test_bip9\"))"
      ]
    },
    {
      "cell_type": "markdown",
      "metadata": {
        "id": "ZEijTcftYOQ_"
      },
      "source": [
        "### Exercise 7\n",
        "\n",
        "Write the `bip91` method for the `Block` class.\n",
        "\n",
        "#### Make [this test](/edit/code-ch09/block.py) pass: `block.py:BlockTest:test_bip91`"
      ]
    },
    {
      "cell_type": "code",
      "execution_count": 28,
      "metadata": {
        "id": "cpOMwM0PYORA",
        "colab": {
          "base_uri": "https://localhost:8080/"
        },
        "outputId": "309a79bf-8c11-4166-d76e-d19515f89228"
      },
      "outputs": [
        {
          "output_type": "stream",
          "name": "stderr",
          "text": [
            ".\n",
            "----------------------------------------------------------------------\n",
            "Ran 1 test in 0.005s\n",
            "\n",
            "OK\n"
          ]
        }
      ],
      "source": [
        "# Exercise 7\n",
        "\n",
        "reload(block)\n",
        "run(block.BlockTest(\"test_bip91\"))"
      ]
    },
    {
      "cell_type": "markdown",
      "metadata": {
        "id": "hb0_sdvEYORA"
      },
      "source": [
        "### Exercise 8\n",
        "\n",
        "Write the `bip141` method for the `Block` class.\n",
        "\n",
        "#### Make [this test](/edit/code-ch09/block.py) pass: `block.py:BlockTest:test_bip141`"
      ]
    },
    {
      "cell_type": "code",
      "execution_count": 29,
      "metadata": {
        "id": "BOfRr1n5YORA",
        "colab": {
          "base_uri": "https://localhost:8080/"
        },
        "outputId": "374ca179-85aa-447e-d9d1-f3bb100e3f22"
      },
      "outputs": [
        {
          "output_type": "stream",
          "name": "stderr",
          "text": [
            ".\n",
            "----------------------------------------------------------------------\n",
            "Ran 1 test in 0.004s\n",
            "\n",
            "OK\n"
          ]
        }
      ],
      "source": [
        "# Exercise 8\n",
        "\n",
        "reload(block)\n",
        "run(block.BlockTest(\"test_bip141\"))"
      ]
    },
    {
      "cell_type": "code",
      "execution_count": 30,
      "metadata": {
        "id": "6cMWJqwRYORA",
        "colab": {
          "base_uri": "https://localhost:8080/"
        },
        "outputId": "143d2f97-2932-4d8c-b3bf-34f09b915cc2"
      },
      "outputs": [
        {
          "output_type": "stream",
          "name": "stdout",
          "text": [
            "0000000000000000007e9e4c586439b0cdbe13b1370bdd9435d76a644d047523\n"
          ]
        }
      ],
      "source": [
        "from helper import hash256\n",
        "block_id = hash256(bytes.fromhex('020000208ec39428b17323fa0ddec8e887b4a7c53b8c0a0a220cfd0000000000000000005b0750fce0a889502d40508d39576821155e9c9e3f5c3157f961db38fd8b25be1e77a759e93c0118a4ffd71d'))[::-1]\n",
        "print('{}'.format(block_id.hex()).zfill(64))"
      ]
    },
    {
      "cell_type": "code",
      "execution_count": 31,
      "metadata": {
        "id": "2HcCHRYtYORA",
        "colab": {
          "base_uri": "https://localhost:8080/"
        },
        "outputId": "ed83a577-6dc3-44ca-ea05-bc60c3e1790c"
      },
      "outputs": [
        {
          "output_type": "stream",
          "name": "stdout",
          "text": [
            "0000000000000000013ce9000000000000000000000000000000000000000000\n"
          ]
        }
      ],
      "source": [
        "from helper import little_endian_to_int\n",
        "bits = bytes.fromhex('e93c0118')\n",
        "exponent = bits[-1]\n",
        "coefficient = little_endian_to_int(bits[:-1])\n",
        "target = coefficient * 256**(exponent - 3)\n",
        "print('{:x}'.format(target).zfill(64))"
      ]
    },
    {
      "cell_type": "code",
      "execution_count": 32,
      "metadata": {
        "id": "KLQdULR2YORA",
        "colab": {
          "base_uri": "https://localhost:8080/"
        },
        "outputId": "2e71d3f5-1f4c-4d03-f703-bbc7b31974b2"
      },
      "outputs": [
        {
          "output_type": "stream",
          "name": "stdout",
          "text": [
            "True\n"
          ]
        }
      ],
      "source": [
        "from helper import little_endian_to_int\n",
        "proof = little_endian_to_int(hash256(bytes.fromhex('020000208ec39428b17323fa0ddec8e887b4a7c53b8c0a0a220cfd0000000000000000005b0750fce0a889502d40508d39576821155e9c9e3f5c3157f961db38fd8b25be1e77a759e93c0118a4ffd71d')))\n",
        "print(proof < target)"
      ]
    },
    {
      "cell_type": "markdown",
      "metadata": {
        "id": "QeizAVXFYORB"
      },
      "source": [
        "### Exercise 9\n",
        "\n",
        "Write the `bits_to_target` function in `helper.py`.\n",
        "\n",
        "#### Make [this test](/edit/code-ch09/block.py) pass: `block.py:BlockTest:test_target`"
      ]
    },
    {
      "cell_type": "code",
      "execution_count": 40,
      "metadata": {
        "id": "SGiRLgGQYORB",
        "colab": {
          "base_uri": "https://localhost:8080/"
        },
        "outputId": "cfc930d9-3e91-4eb6-8061-42b986ade9bd"
      },
      "outputs": [
        {
          "output_type": "stream",
          "name": "stderr",
          "text": [
            ".\n",
            "----------------------------------------------------------------------\n",
            "Ran 1 test in 0.004s\n",
            "\n",
            "OK\n"
          ]
        }
      ],
      "source": [
        "# Exercise 9\n",
        "\n",
        "reload(helper)\n",
        "reload(block)\n",
        "run(block.BlockTest(\"test_target\"))"
      ]
    },
    {
      "cell_type": "code",
      "execution_count": 41,
      "metadata": {
        "id": "ZiHxEPM4YORB",
        "colab": {
          "base_uri": "https://localhost:8080/"
        },
        "outputId": "b8e9f16d-38ef-43cc-bfd6-73e02b8de383"
      },
      "outputs": [
        {
          "output_type": "stream",
          "name": "stdout",
          "text": [
            "888171856257.3206\n"
          ]
        }
      ],
      "source": [
        "from helper import little_endian_to_int\n",
        "bits = bytes.fromhex('e93c0118')\n",
        "exponent = bits[-1]\n",
        "coefficient = little_endian_to_int(bits[:-1])\n",
        "target = coefficient*256**(exponent-3)\n",
        "difficulty = 0xffff * 256**(0x1d-3) / target\n",
        "print(difficulty)"
      ]
    },
    {
      "cell_type": "markdown",
      "metadata": {
        "id": "eU_X8muOYORB"
      },
      "source": [
        "### Exercise 10\n",
        "\n",
        "Write the `difficulty` method for `Block`\n",
        "\n",
        "#### Make [this test](/edit/code-ch09/block.py) pass: `block.py:BlockTest:test_difficulty`"
      ]
    },
    {
      "cell_type": "code",
      "execution_count": 43,
      "metadata": {
        "id": "ETfU4ftOYORB",
        "colab": {
          "base_uri": "https://localhost:8080/"
        },
        "outputId": "7439aa26-af78-4f35-93f1-0861ad67b21e"
      },
      "outputs": [
        {
          "output_type": "stream",
          "name": "stderr",
          "text": [
            ".\n",
            "----------------------------------------------------------------------\n",
            "Ran 1 test in 0.002s\n",
            "\n",
            "OK\n"
          ]
        }
      ],
      "source": [
        "# Exercise 10\n",
        "\n",
        "reload(block)\n",
        "run(block.BlockTest(\"test_difficulty\"))"
      ]
    },
    {
      "cell_type": "markdown",
      "metadata": {
        "id": "-y05cIgaYORB"
      },
      "source": [
        "### Exercise 11\n",
        "\n",
        "Write the `check_pow` method for `Block`.\n",
        "\n",
        "#### Make [this test](/edit/code-ch09/block.py) pass: `block.py:BlockTest:test_check_pow`"
      ]
    },
    {
      "cell_type": "code",
      "execution_count": 46,
      "metadata": {
        "id": "jhrbkcsFYORB",
        "colab": {
          "base_uri": "https://localhost:8080/"
        },
        "outputId": "8a5a8723-06b8-446b-c713-b9c159e7fa7e"
      },
      "outputs": [
        {
          "output_type": "stream",
          "name": "stderr",
          "text": [
            ".\n",
            "----------------------------------------------------------------------\n",
            "Ran 1 test in 0.002s\n",
            "\n",
            "OK\n"
          ]
        }
      ],
      "source": [
        "# Exercise 11\n",
        "\n",
        "reload(block)\n",
        "run(block.BlockTest(\"test_check_pow\"))"
      ]
    },
    {
      "cell_type": "code",
      "execution_count": 44,
      "metadata": {
        "id": "v0D8K9QbYORB",
        "colab": {
          "base_uri": "https://localhost:8080/"
        },
        "outputId": "723db00a-cb66-48ac-a066-2b87671c535f"
      },
      "outputs": [
        {
          "output_type": "stream",
          "name": "stdout",
          "text": [
            "0000000000000000007615000000000000000000000000000000000000000000\n"
          ]
        }
      ],
      "source": [
        "from block import Block\n",
        "from helper import TWO_WEEKS\n",
        "last_block = Block.parse(BytesIO(bytes.fromhex('00000020fdf740b0e49cf75bb3d5168fb3586f7613dcc5cd89675b0100000000000000002e37b144c0baced07eb7e7b64da916cd3121f2427005551aeb0ec6a6402ac7d7f0e4235954d801187f5da9f5')))\n",
        "first_block = Block.parse(BytesIO(bytes.fromhex('000000201ecd89664fd205a37566e694269ed76e425803003628ab010000000000000000bfcade29d080d9aae8fd461254b041805ae442749f2a40100440fc0e3d5868e55019345954d80118a1721b2e')))\n",
        "time_differential = last_block.timestamp - first_block.timestamp\n",
        "if time_differential > TWO_WEEKS * 4:\n",
        "    time_differential = TWO_WEEKS * 4\n",
        "if time_differential < TWO_WEEKS // 4:\n",
        "    time_differential = TWO_WEEKS // 4\n",
        "new_target = last_block.target() * time_differential // TWO_WEEKS\n",
        "print('{:x}'.format(new_target).zfill(64))"
      ]
    },
    {
      "cell_type": "markdown",
      "metadata": {
        "id": "GbuKuNyFYORB"
      },
      "source": [
        "### Exercise 12\n",
        "\n",
        "Calculate the new bits given the first and last blocks of this 2016 block difficulty adjustment period:\n",
        "\n",
        "Block 471744:\n",
        "\n",
        "```\n",
        "000000203471101bbda3fe307664b3283a9ef0e97d9a38a7eacd8800000000000000000010c8ab\n",
        "a8479bbaa5e0848152fd3c2289ca50e1c3e58c9a4faaafbdf5803c5448ddb845597e8b0118e43a\n",
        "81d3\n",
        "```\n",
        "\n",
        "Block 473759:\n",
        "\n",
        "```\n",
        "02000020f1472d9db4b563c35f97c428ac903f23b7fc055d1cfc26000000000000000000b3f449\n",
        "fcbe1bc4cfbcb8283a0d2c037f961a3fdf2b8bedc144973735eea707e1264258597e8b0118e5f0\n",
        "0474\n",
        "```"
      ]
    },
    {
      "cell_type": "code",
      "execution_count": 51,
      "metadata": {
        "id": "NjOiiTywYORB",
        "colab": {
          "base_uri": "https://localhost:8080/"
        },
        "outputId": "27277e16-5386-449f-856e-5ab473bdda5c"
      },
      "outputs": [
        {
          "output_type": "stream",
          "name": "stdout",
          "text": [
            "0000000000000000018d30aa2cdc67600f9a9342cdc67600f9a9342cdc67600f\n"
          ]
        }
      ],
      "source": [
        "# Exercise 12\n",
        "\n",
        "reload(block)\n",
        "from block import Block, TWO_WEEKS\n",
        "from helper import target_to_bits\n",
        "\n",
        "block1_hex = '000000203471101bbda3fe307664b3283a9ef0e97d9a38a7eacd8800000000000000000010c8aba8479bbaa5e0848152fd3c2289ca50e1c3e58c9a4faaafbdf5803c5448ddb845597e8b0118e43a81d3'\n",
        "block2_hex = '02000020f1472d9db4b563c35f97c428ac903f23b7fc055d1cfc26000000000000000000b3f449fcbe1bc4cfbcb8283a0d2c037f961a3fdf2b8bedc144973735eea707e1264258597e8b0118e5f00474'\n",
        "\n",
        "# parse both blocks\n",
        "# get the time differential\n",
        "# if the differential > 8 weeks, set to 8 weeks\n",
        "# if the differential < 1/2 week, set to 1/2 week\n",
        "# new target is last target * differential / 2 weeks\n",
        "# convert new target to bits\n",
        "# print the new bits hex\n",
        "first_block = Block.parse(BytesIO(bytes.fromhex(block1_hex)))\n",
        "last_block = Block.parse(BytesIO(bytes.fromhex(block2_hex)))\n",
        "time_differential = last_block.timestamp - first_block.timestamp\n",
        "if time_differential > TWO_WEEKS * 4:\n",
        "    time_differential = TWO_WEEKS * 4\n",
        "if time_differential < TWO_WEEKS // 4:\n",
        "    time_differential = TWO_WEEKS // 4\n",
        "new_target = last_block.target() * time_differential // TWO_WEEKS\n",
        "print('{:x}'.format(new_target).zfill(64))"
      ]
    },
    {
      "cell_type": "markdown",
      "metadata": {
        "id": "EQB75T1TYORC"
      },
      "source": [
        "### Exercise 13\n",
        "\n",
        "Write the `calculate_new_bits` function in `helper.py`\n",
        "\n",
        "#### Make [this test](/edit/code-ch09/helper.py) pass: `helper.py:HelperTest:test_calculate_new_bits`"
      ]
    },
    {
      "cell_type": "code",
      "execution_count": 54,
      "metadata": {
        "id": "4Mu0fBNPYORC",
        "colab": {
          "base_uri": "https://localhost:8080/"
        },
        "outputId": "5a885643-e522-4688-cac1-985e2a3951b3"
      },
      "outputs": [
        {
          "output_type": "stream",
          "name": "stderr",
          "text": [
            ".\n",
            "----------------------------------------------------------------------\n",
            "Ran 1 test in 0.003s\n",
            "\n",
            "OK\n"
          ]
        }
      ],
      "source": [
        "# Exercise 13\n",
        "\n",
        "reload(helper)\n",
        "run(helper.HelperTest(\"test_calculate_new_bits\"))"
      ]
    }
  ],
  "metadata": {
    "colab": {
      "name": "Copy of Chapter9.ipynb",
      "provenance": [],
      "collapsed_sections": [],
      "include_colab_link": true
    },
    "language_info": {
      "name": "python"
    },
    "kernelspec": {
      "name": "python3",
      "display_name": "Python 3"
    },
    "gpuClass": "standard"
  },
  "nbformat": 4,
  "nbformat_minor": 0
}