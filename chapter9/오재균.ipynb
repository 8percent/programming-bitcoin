{
  "cells": [
    {
      "cell_type": "markdown",
      "metadata": {
        "id": "view-in-github",
        "colab_type": "text"
      },
      "source": [
        "<a href=\"https://colab.research.google.com/github/8percent/programming-bitcoin/blob/main/chapter9/%EC%98%A4%EC%9E%AC%EA%B7%A0.ipynb\" target=\"_parent\"><img src=\"https://colab.research.google.com/assets/colab-badge.svg\" alt=\"Open In Colab\"/></a>"
      ]
    },
    {
      "cell_type": "code",
      "source": [
        "!git clone https://github.com/jimmysong/programmingbitcoin"
      ],
      "metadata": {
        "colab": {
          "base_uri": "https://localhost:8080/"
        },
        "id": "YKYXkjmRYchy",
        "outputId": "2c32f8da-a820-4ed7-ad92-d362c1d454e1"
      },
      "execution_count": 1,
      "outputs": [
        {
          "output_type": "stream",
          "name": "stdout",
          "text": [
            "Cloning into 'programmingbitcoin'...\n",
            "remote: Enumerating objects: 6406, done.\u001b[K\n",
            "remote: Total 6406 (delta 0), reused 0 (delta 0), pack-reused 6406\u001b[K\n",
            "Receiving objects: 100% (6406/6406), 39.43 MiB | 31.23 MiB/s, done.\n",
            "Resolving deltas: 100% (4254/4254), done.\n"
          ]
        }
      ]
    },
    {
      "cell_type": "code",
      "source": [
        "!pip install requests"
      ],
      "metadata": {
        "colab": {
          "base_uri": "https://localhost:8080/"
        },
        "id": "yUQLZJYaYcl_",
        "outputId": "ceccfacc-04f5-4121-f9eb-4e442b4d7a39"
      },
      "execution_count": 2,
      "outputs": [
        {
          "output_type": "stream",
          "name": "stdout",
          "text": [
            "Looking in indexes: https://pypi.org/simple, https://us-python.pkg.dev/colab-wheels/public/simple/\n",
            "Requirement already satisfied: requests in /usr/local/lib/python3.7/dist-packages (2.23.0)\n",
            "Requirement already satisfied: urllib3!=1.25.0,!=1.25.1,<1.26,>=1.21.1 in /usr/local/lib/python3.7/dist-packages (from requests) (1.24.3)\n",
            "Requirement already satisfied: chardet<4,>=3.0.2 in /usr/local/lib/python3.7/dist-packages (from requests) (3.0.4)\n",
            "Requirement already satisfied: certifi>=2017.4.17 in /usr/local/lib/python3.7/dist-packages (from requests) (2022.6.15)\n",
            "Requirement already satisfied: idna<3,>=2.5 in /usr/local/lib/python3.7/dist-packages (from requests) (2.10)\n"
          ]
        }
      ]
    },
    {
      "cell_type": "code",
      "source": [
        "cd programmingbitcoin/code-ch09"
      ],
      "metadata": {
        "colab": {
          "base_uri": "https://localhost:8080/"
        },
        "id": "UCaNVLb7Ycol",
        "outputId": "609229f9-55f8-4026-da59-6919bf4cf597"
      },
      "execution_count": 3,
      "outputs": [
        {
          "output_type": "stream",
          "name": "stdout",
          "text": [
            "/content/programmingbitcoin/code-ch09\n"
          ]
        }
      ]
    },
    {
      "cell_type": "code",
      "execution_count": 4,
      "metadata": {
        "id": "2PO4ISRuYYp6"
      },
      "outputs": [],
      "source": [
        "############## PLEASE RUN THIS CELL FIRST! ###################\n",
        "\n",
        "# import everything and define a test runner function\n",
        "from importlib import reload\n",
        "from helper import run\n",
        "import block\n",
        "import ecc\n",
        "import helper\n",
        "import script\n",
        "import tx"
      ]
    },
    {
      "cell_type": "markdown",
      "metadata": {
        "id": "8djStGdpYYp-"
      },
      "source": [
        "### Exercise 1\n",
        "\n",
        "Write the `is_coinbase` method of the `Tx` class.\n",
        "\n",
        "#### Make [this test](/edit/code-ch09/tx.py) pass: `tx.py:TxTest:test_is_coinbase`"
      ]
    },
    {
      "cell_type": "code",
      "execution_count": 10,
      "metadata": {
        "id": "49ePr7dYYYqC",
        "colab": {
          "base_uri": "https://localhost:8080/"
        },
        "outputId": "3f787db7-58da-4a33-f2ad-6ccde8b97535"
      },
      "outputs": [
        {
          "output_type": "stream",
          "name": "stderr",
          "text": [
            ".\n",
            "----------------------------------------------------------------------\n",
            "Ran 1 test in 0.006s\n",
            "\n",
            "OK\n"
          ]
        }
      ],
      "source": [
        "# Exercise 1\n",
        "\n",
        "reload(tx)\n",
        "run(tx.TxTest(\"test_is_coinbase\"))"
      ]
    },
    {
      "cell_type": "code",
      "execution_count": 11,
      "metadata": {
        "id": "H8qc0VP_YYqD",
        "colab": {
          "base_uri": "https://localhost:8080/"
        },
        "outputId": "76f32434-1061-414d-bbba-1ebdade20d44"
      },
      "outputs": [
        {
          "output_type": "stream",
          "name": "stdout",
          "text": [
            "b'The Times 03/Jan/2009 Chancellor on brink of second bailout for banks'\n"
          ]
        }
      ],
      "source": [
        "from io import BytesIO\n",
        "from script import Script\n",
        "stream = BytesIO(bytes.fromhex('4d04ffff001d0104455468652054696d65732030332f4a616e2f32303039204368616e63656c6c6f72206f6e206272696e6b206f66207365636f6e64206261696c6f757420666f722062616e6b73'))\n",
        "s = Script.parse(stream)\n",
        "print(s.cmds[2])"
      ]
    },
    {
      "cell_type": "code",
      "execution_count": 12,
      "metadata": {
        "id": "0weLO-YJYYqF",
        "colab": {
          "base_uri": "https://localhost:8080/"
        },
        "outputId": "33013fc2-8be9-4f23-ca5c-44abb82a7f03"
      },
      "outputs": [
        {
          "output_type": "stream",
          "name": "stdout",
          "text": [
            "465879\n"
          ]
        }
      ],
      "source": [
        "from io import BytesIO\n",
        "from script import Script\n",
        "from helper import little_endian_to_int\n",
        "stream = BytesIO(bytes.fromhex('5e03d71b07254d696e656420627920416e74506f6f6c20626a31312f4542312f4144362f43205914293101fabe6d6d678e2c8c34afc36896e7d9402824ed38e856676ee94bfdb0c6c4bcd8b2e5666a0400000000000000c7270000a5e00e00'))\n",
        "script_sig = Script.parse(stream)\n",
        "print(little_endian_to_int(script_sig.cmds[0]))"
      ]
    },
    {
      "cell_type": "markdown",
      "metadata": {
        "id": "exjM00p9YYqH"
      },
      "source": [
        "### Exercise 2\n",
        "\n",
        "Write the `coinbase_height` method for the `Tx` class.\n",
        "\n",
        "#### Make [this test](/edit/code-ch09/tx.py) pass: `tx.py:TxTest:test_coinbase_height`"
      ]
    },
    {
      "cell_type": "code",
      "execution_count": 35,
      "metadata": {
        "id": "goR_oWPnYYqH",
        "colab": {
          "base_uri": "https://localhost:8080/"
        },
        "outputId": "cdd86925-adc4-4529-91f0-efecffe7a4a0"
      },
      "outputs": [
        {
          "output_type": "stream",
          "name": "stderr",
          "text": [
            ".\n",
            "----------------------------------------------------------------------\n",
            "Ran 1 test in 0.006s\n",
            "\n",
            "OK\n"
          ]
        }
      ],
      "source": [
        "# Exercise 2\n",
        "\n",
        "reload(tx)\n",
        "run(tx.TxTest(\"test_coinbase_height\"))"
      ]
    },
    {
      "cell_type": "code",
      "execution_count": 36,
      "metadata": {
        "id": "2YLaF_VgYYqJ",
        "colab": {
          "base_uri": "https://localhost:8080/"
        },
        "outputId": "d93f08c4-188d-4916-eab8-a4fac83ae3b9"
      },
      "outputs": [
        {
          "output_type": "stream",
          "name": "stdout",
          "text": [
            "0000000000000000007e9e4c586439b0cdbe13b1370bdd9435d76a644d047523\n"
          ]
        }
      ],
      "source": [
        "from helper import hash256\n",
        "block_hash = hash256(bytes.fromhex('020000208ec39428b17323fa0ddec8e887b4a7c53b8c0a0a220cfd0000000000000000005b0750fce0a889502d40508d39576821155e9c9e3f5c3157f961db38fd8b25be1e77a759e93c0118a4ffd71d'))[::-1]\n",
        "block_id = block_hash.hex()\n",
        "print(block_id)"
      ]
    },
    {
      "cell_type": "markdown",
      "metadata": {
        "id": "BpfEchkoYYqK"
      },
      "source": [
        "### Exercise 3\n",
        "\n",
        "Write the `parse` for `Block`.\n",
        "\n",
        "#### Make [this test](/edit/code-ch09/block.py) pass: `block.py:BlockTest:test_parse`"
      ]
    },
    {
      "cell_type": "code",
      "execution_count": 37,
      "metadata": {
        "id": "7p3aAA3iYYqL",
        "colab": {
          "base_uri": "https://localhost:8080/"
        },
        "outputId": "c0b21526-2220-4c5c-ad50-37f8e0406d87"
      },
      "outputs": [
        {
          "output_type": "stream",
          "name": "stderr",
          "text": [
            ".\n",
            "----------------------------------------------------------------------\n",
            "Ran 1 test in 0.007s\n",
            "\n",
            "OK\n"
          ]
        }
      ],
      "source": [
        "# Exercise 3\n",
        "\n",
        "reload(block)\n",
        "run(block.BlockTest(\"test_parse\"))"
      ]
    },
    {
      "cell_type": "markdown",
      "metadata": {
        "id": "UxDOQ9OpYYqM"
      },
      "source": [
        "### Exercise 4\n",
        "\n",
        "Write the `serialize` for `Block`.\n",
        "\n",
        "#### Make [this test](/edit/code-ch09/block.py) pass: `block.py:BlockTest:test_serialize`"
      ]
    },
    {
      "cell_type": "code",
      "execution_count": 38,
      "metadata": {
        "id": "TUVvinpVYYqM",
        "colab": {
          "base_uri": "https://localhost:8080/"
        },
        "outputId": "80406642-9b4c-42c7-e07b-136dc864f88e"
      },
      "outputs": [
        {
          "output_type": "stream",
          "name": "stderr",
          "text": [
            ".\n",
            "----------------------------------------------------------------------\n",
            "Ran 1 test in 0.002s\n",
            "\n",
            "OK\n"
          ]
        }
      ],
      "source": [
        "# Exercise 4\n",
        "\n",
        "reload(block)\n",
        "run(block.BlockTest(\"test_serialize\"))"
      ]
    },
    {
      "cell_type": "markdown",
      "metadata": {
        "id": "bE9VM92jYYqM"
      },
      "source": [
        "### Exercise 5\n",
        "\n",
        "Write the `hash` for `Block`.\n",
        "\n",
        "#### Make [this test](/edit/code-ch09/block.py) pass: `block.py:BlockTest:test_hash`"
      ]
    },
    {
      "cell_type": "code",
      "execution_count": 19,
      "metadata": {
        "id": "oiA_nnKHYYqM",
        "colab": {
          "base_uri": "https://localhost:8080/"
        },
        "outputId": "b16a799b-523f-4171-d43e-65ce12c407c6"
      },
      "outputs": [
        {
          "output_type": "stream",
          "name": "stderr",
          "text": [
            ".\n",
            "----------------------------------------------------------------------\n",
            "Ran 1 test in 0.002s\n",
            "\n",
            "OK\n"
          ]
        }
      ],
      "source": [
        "# Exercise 5\n",
        "\n",
        "reload(block)\n",
        "run(block.BlockTest(\"test_hash\"))"
      ]
    },
    {
      "cell_type": "code",
      "execution_count": 39,
      "metadata": {
        "id": "5u1Gj0VyYYqN",
        "colab": {
          "base_uri": "https://localhost:8080/"
        },
        "outputId": "e8c579e3-3d8b-41c2-d658-48777317b434"
      },
      "outputs": [
        {
          "output_type": "stream",
          "name": "stdout",
          "text": [
            "BIP9: True\n",
            "BIP91: False\n",
            "BIP141: True\n"
          ]
        }
      ],
      "source": [
        "from io import BytesIO\n",
        "from block import Block\n",
        "b = Block.parse(BytesIO(bytes.fromhex('020000208ec39428b17323fa0ddec8e887b4a7c53b8c0a0a220cfd0000000000000000005b0750fce0a889502d40508d39576821155e9c9e3f5c3157f961db38fd8b25be1e77a759e93c0118a4ffd71d')))\n",
        "print('BIP9: {}'.format(b.version >> 29 == 0b001))\n",
        "print('BIP91: {}'.format(b.version >> 4 & 1 == 1))\n",
        "print('BIP141: {}'.format(b.version >> 1 & 1 == 1))"
      ]
    },
    {
      "cell_type": "markdown",
      "metadata": {
        "id": "fI8moM1UYYqN"
      },
      "source": [
        "### Exercise 6\n",
        "\n",
        "Write the `bip9` method for the `Block` class.\n",
        "\n",
        "#### Make [this test](/edit/code-ch09/block.py) pass: `block.py:BlockTest:test_bip9`"
      ]
    },
    {
      "cell_type": "code",
      "execution_count": 40,
      "metadata": {
        "id": "_ITCdd8_YYqN",
        "colab": {
          "base_uri": "https://localhost:8080/"
        },
        "outputId": "671ec3fe-8cb4-4338-9ff1-04671ecee1d4"
      },
      "outputs": [
        {
          "output_type": "stream",
          "name": "stderr",
          "text": [
            ".\n",
            "----------------------------------------------------------------------\n",
            "Ran 1 test in 0.002s\n",
            "\n",
            "OK\n"
          ]
        }
      ],
      "source": [
        "# Exercise 6\n",
        "\n",
        "reload(block)\n",
        "run(block.BlockTest(\"test_bip9\"))"
      ]
    },
    {
      "cell_type": "markdown",
      "metadata": {
        "id": "Yb6hHFqjYYqN"
      },
      "source": [
        "### Exercise 7\n",
        "\n",
        "Write the `bip91` method for the `Block` class.\n",
        "\n",
        "#### Make [this test](/edit/code-ch09/block.py) pass: `block.py:BlockTest:test_bip91`"
      ]
    },
    {
      "cell_type": "code",
      "execution_count": 41,
      "metadata": {
        "id": "HsSeW_TcYYqN",
        "colab": {
          "base_uri": "https://localhost:8080/"
        },
        "outputId": "08fca453-746e-484b-aed6-a8c095c001c0"
      },
      "outputs": [
        {
          "output_type": "stream",
          "name": "stderr",
          "text": [
            ".\n",
            "----------------------------------------------------------------------\n",
            "Ran 1 test in 0.001s\n",
            "\n",
            "OK\n"
          ]
        }
      ],
      "source": [
        "# Exercise 7\n",
        "\n",
        "reload(block)\n",
        "run(block.BlockTest(\"test_bip91\"))"
      ]
    },
    {
      "cell_type": "markdown",
      "metadata": {
        "id": "DHTps_asYYqN"
      },
      "source": [
        "### Exercise 8\n",
        "\n",
        "Write the `bip141` method for the `Block` class.\n",
        "\n",
        "#### Make [this test](/edit/code-ch09/block.py) pass: `block.py:BlockTest:test_bip141`"
      ]
    },
    {
      "cell_type": "code",
      "execution_count": 23,
      "metadata": {
        "id": "XZnvkHBKYYqN",
        "colab": {
          "base_uri": "https://localhost:8080/"
        },
        "outputId": "3b86deaf-7178-444a-93d9-7fec9e296e36"
      },
      "outputs": [
        {
          "output_type": "stream",
          "name": "stderr",
          "text": [
            ".\n",
            "----------------------------------------------------------------------\n",
            "Ran 1 test in 0.002s\n",
            "\n",
            "OK\n"
          ]
        }
      ],
      "source": [
        "# Exercise 8\n",
        "\n",
        "reload(block)\n",
        "run(block.BlockTest(\"test_bip141\"))"
      ]
    },
    {
      "cell_type": "code",
      "execution_count": 42,
      "metadata": {
        "id": "7kYs1tB6YYqN",
        "colab": {
          "base_uri": "https://localhost:8080/"
        },
        "outputId": "9b4c0ba4-815c-4c7e-c572-d63d6b7d0ee1"
      },
      "outputs": [
        {
          "output_type": "stream",
          "name": "stdout",
          "text": [
            "0000000000000000007e9e4c586439b0cdbe13b1370bdd9435d76a644d047523\n"
          ]
        }
      ],
      "source": [
        "from helper import hash256\n",
        "block_id = hash256(bytes.fromhex('020000208ec39428b17323fa0ddec8e887b4a7c53b8c0a0a220cfd0000000000000000005b0750fce0a889502d40508d39576821155e9c9e3f5c3157f961db38fd8b25be1e77a759e93c0118a4ffd71d'))[::-1]\n",
        "print('{}'.format(block_id.hex()).zfill(64))"
      ]
    },
    {
      "cell_type": "code",
      "execution_count": 43,
      "metadata": {
        "id": "KLAPgjaTYYqP",
        "colab": {
          "base_uri": "https://localhost:8080/"
        },
        "outputId": "76b9075c-ecdb-4c44-c17d-ed08c8fa8699"
      },
      "outputs": [
        {
          "output_type": "stream",
          "name": "stdout",
          "text": [
            "0000000000000000013ce9000000000000000000000000000000000000000000\n"
          ]
        }
      ],
      "source": [
        "from helper import little_endian_to_int\n",
        "bits = bytes.fromhex('e93c0118')\n",
        "exponent = bits[-1]\n",
        "coefficient = little_endian_to_int(bits[:-1])\n",
        "target = coefficient * 256**(exponent - 3)\n",
        "print('{:x}'.format(target).zfill(64))"
      ]
    },
    {
      "cell_type": "code",
      "execution_count": 44,
      "metadata": {
        "id": "fyDHJ0mvYYqP",
        "colab": {
          "base_uri": "https://localhost:8080/"
        },
        "outputId": "05180706-765c-4f18-f745-24832e06e218"
      },
      "outputs": [
        {
          "output_type": "stream",
          "name": "stdout",
          "text": [
            "True\n"
          ]
        }
      ],
      "source": [
        "from helper import little_endian_to_int\n",
        "proof = little_endian_to_int(hash256(bytes.fromhex('020000208ec39428b17323fa0ddec8e887b4a7c53b8c0a0a220cfd0000000000000000005b0750fce0a889502d40508d39576821155e9c9e3f5c3157f961db38fd8b25be1e77a759e93c0118a4ffd71d')))\n",
        "print(proof < target)"
      ]
    },
    {
      "cell_type": "markdown",
      "metadata": {
        "id": "4w4cq7-ZYYqP"
      },
      "source": [
        "### Exercise 9\n",
        "\n",
        "Write the `bits_to_target` function in `helper.py`.\n",
        "\n",
        "#### Make [this test](/edit/code-ch09/block.py) pass: `block.py:BlockTest:test_target`"
      ]
    },
    {
      "cell_type": "code",
      "execution_count": 48,
      "metadata": {
        "id": "wazIZemQYYqP",
        "colab": {
          "base_uri": "https://localhost:8080/"
        },
        "outputId": "8872e370-f4b0-425b-e6b7-86a7f7ff7f98"
      },
      "outputs": [
        {
          "output_type": "stream",
          "name": "stderr",
          "text": [
            ".\n",
            "----------------------------------------------------------------------\n",
            "Ran 1 test in 0.005s\n",
            "\n",
            "OK\n"
          ]
        }
      ],
      "source": [
        "# Exercise 9\n",
        "reload(helper)\n",
        "reload(block)\n",
        "run(block.BlockTest(\"test_target\"))"
      ]
    },
    {
      "cell_type": "code",
      "execution_count": 46,
      "metadata": {
        "id": "Eg7vRa_KYYqP",
        "colab": {
          "base_uri": "https://localhost:8080/"
        },
        "outputId": "931eb339-8993-4b60-e18e-b3f53085dfa3"
      },
      "outputs": [
        {
          "output_type": "stream",
          "name": "stdout",
          "text": [
            "888171856257.3206\n"
          ]
        }
      ],
      "source": [
        "from helper import little_endian_to_int\n",
        "bits = bytes.fromhex('e93c0118')\n",
        "exponent = bits[-1]\n",
        "coefficient = little_endian_to_int(bits[:-1])\n",
        "target = coefficient*256**(exponent-3)\n",
        "difficulty = 0xffff * 256**(0x1d-3) / target\n",
        "print(difficulty)"
      ]
    },
    {
      "cell_type": "markdown",
      "metadata": {
        "id": "AcNNzHOhYYqP"
      },
      "source": [
        "### Exercise 10\n",
        "\n",
        "Write the `difficulty` method for `Block`\n",
        "\n",
        "#### Make [this test](/edit/code-ch09/block.py) pass: `block.py:BlockTest:test_difficulty`"
      ]
    },
    {
      "cell_type": "code",
      "execution_count": 49,
      "metadata": {
        "id": "0nY5za0fYYqQ",
        "colab": {
          "base_uri": "https://localhost:8080/"
        },
        "outputId": "38a3c124-1712-49cd-843e-1690f95abc3d"
      },
      "outputs": [
        {
          "output_type": "stream",
          "name": "stderr",
          "text": [
            ".\n",
            "----------------------------------------------------------------------\n",
            "Ran 1 test in 0.003s\n",
            "\n",
            "OK\n"
          ]
        }
      ],
      "source": [
        "# Exercise 10\n",
        "\n",
        "reload(block)\n",
        "run(block.BlockTest(\"test_difficulty\"))"
      ]
    },
    {
      "cell_type": "markdown",
      "metadata": {
        "id": "JCED4Ni6YYqQ"
      },
      "source": [
        "### Exercise 11\n",
        "\n",
        "Write the `check_pow` method for `Block`.\n",
        "\n",
        "#### Make [this test](/edit/code-ch09/block.py) pass: `block.py:BlockTest:test_check_pow`"
      ]
    },
    {
      "cell_type": "code",
      "execution_count": 50,
      "metadata": {
        "id": "o08awfKyYYqQ",
        "colab": {
          "base_uri": "https://localhost:8080/"
        },
        "outputId": "ff41821a-fd75-4586-f7e8-a0129c541a5e"
      },
      "outputs": [
        {
          "output_type": "stream",
          "name": "stderr",
          "text": [
            ".\n",
            "----------------------------------------------------------------------\n",
            "Ran 1 test in 0.002s\n",
            "\n",
            "OK\n"
          ]
        }
      ],
      "source": [
        "# Exercise 11\n",
        "\n",
        "reload(block)\n",
        "run(block.BlockTest(\"test_check_pow\"))"
      ]
    },
    {
      "cell_type": "code",
      "execution_count": 51,
      "metadata": {
        "id": "mbG3xJXvYYqR",
        "colab": {
          "base_uri": "https://localhost:8080/"
        },
        "outputId": "17b2701a-10ed-46b2-e541-0eb0da0ad218"
      },
      "outputs": [
        {
          "output_type": "stream",
          "name": "stdout",
          "text": [
            "0000000000000000007615000000000000000000000000000000000000000000\n"
          ]
        }
      ],
      "source": [
        "from block import Block\n",
        "from helper import TWO_WEEKS\n",
        "last_block = Block.parse(BytesIO(bytes.fromhex('00000020fdf740b0e49cf75bb3d5168fb3586f7613dcc5cd89675b0100000000000000002e37b144c0baced07eb7e7b64da916cd3121f2427005551aeb0ec6a6402ac7d7f0e4235954d801187f5da9f5')))\n",
        "first_block = Block.parse(BytesIO(bytes.fromhex('000000201ecd89664fd205a37566e694269ed76e425803003628ab010000000000000000bfcade29d080d9aae8fd461254b041805ae442749f2a40100440fc0e3d5868e55019345954d80118a1721b2e')))\n",
        "time_differential = last_block.timestamp - first_block.timestamp\n",
        "if time_differential > TWO_WEEKS * 4:\n",
        "    time_differential = TWO_WEEKS * 4\n",
        "if time_differential < TWO_WEEKS // 4:\n",
        "    time_differential = TWO_WEEKS // 4\n",
        "new_target = last_block.target() * time_differential // TWO_WEEKS\n",
        "print('{:x}'.format(new_target).zfill(64))"
      ]
    },
    {
      "cell_type": "markdown",
      "metadata": {
        "id": "Dg5dg2i4YYqR"
      },
      "source": [
        "### Exercise 12\n",
        "\n",
        "Calculate the new bits given the first and last blocks of this 2016 block difficulty adjustment period:\n",
        "\n",
        "Block 471744:\n",
        "\n",
        "```\n",
        "000000203471101bbda3fe307664b3283a9ef0e97d9a38a7eacd8800000000000000000010c8ab\n",
        "a8479bbaa5e0848152fd3c2289ca50e1c3e58c9a4faaafbdf5803c5448ddb845597e8b0118e43a\n",
        "81d3\n",
        "```\n",
        "\n",
        "Block 473759:\n",
        "\n",
        "```\n",
        "02000020f1472d9db4b563c35f97c428ac903f23b7fc055d1cfc26000000000000000000b3f449\n",
        "fcbe1bc4cfbcb8283a0d2c037f961a3fdf2b8bedc144973735eea707e1264258597e8b0118e5f0\n",
        "0474\n",
        "```"
      ]
    },
    {
      "cell_type": "code",
      "execution_count": 54,
      "metadata": {
        "id": "wknXMXH4YYqS",
        "colab": {
          "base_uri": "https://localhost:8080/"
        },
        "outputId": "ef0ae056-a631-4f84-ec95-61d4f8316744"
      },
      "outputs": [
        {
          "output_type": "stream",
          "name": "stdout",
          "text": [
            "0000000000000000018d30aa2cdc67600f9a9342cdc67600f9a9342cdc67600f\n",
            "b'0\\x8d\\x01\\x18'\n"
          ]
        }
      ],
      "source": [
        "# Exercise 12\n",
        "\n",
        "from block import Block\n",
        "from helper import target_to_bits, TWO_WEEKS\n",
        "\n",
        "block1_hex = '000000203471101bbda3fe307664b3283a9ef0e97d9a38a7eacd8800000000000000000010c8aba8479bbaa5e0848152fd3c2289ca50e1c3e58c9a4faaafbdf5803c5448ddb845597e8b0118e43a81d3'\n",
        "block2_hex = '02000020f1472d9db4b563c35f97c428ac903f23b7fc055d1cfc26000000000000000000b3f449fcbe1bc4cfbcb8283a0d2c037f961a3fdf2b8bedc144973735eea707e1264258597e8b0118e5f00474'\n",
        "\n",
        "#9.12\n",
        "\n",
        "first_block = Block.parse(BytesIO(bytes.fromhex(block1_hex)))\n",
        "last_block = Block.parse(BytesIO(bytes.fromhex(block2_hex)))\n",
        "time_diff = last_block.timestamp - first_block.timestamp\n",
        "time_diff = min(time_diff, TWO_WEEKS * 4)\n",
        "time_diff = max(time_diff, TWO_WEEKS // 4)\n",
        "new_target = last_block.target() * time_diff // TWO_WEEKS\n",
        "new_bits = target_to_bits(new_target)\n",
        "print('{:x}'.format(new_target).zfill(64))\n",
        "print(new_bits)"
      ]
    },
    {
      "cell_type": "markdown",
      "metadata": {
        "id": "Bx52WDWKYYqS"
      },
      "source": [
        "### Exercise 13\n",
        "\n",
        "Write the `calculate_new_bits` function in `helper.py`\n",
        "\n",
        "#### Make [this test](/edit/code-ch09/helper.py) pass: `helper.py:HelperTest:test_calculate_new_bits`"
      ]
    },
    {
      "cell_type": "code",
      "execution_count": 55,
      "metadata": {
        "id": "jCDeqHHbYYqT",
        "colab": {
          "base_uri": "https://localhost:8080/"
        },
        "outputId": "6859f965-5f57-4127-f8c3-b7869ed0f453"
      },
      "outputs": [
        {
          "output_type": "stream",
          "name": "stderr",
          "text": [
            ".\n",
            "----------------------------------------------------------------------\n",
            "Ran 1 test in 0.008s\n",
            "\n",
            "OK\n"
          ]
        }
      ],
      "source": [
        "# Exercise 13\n",
        "\n",
        "reload(helper)\n",
        "run(helper.HelperTest(\"test_calculate_new_bits\"))"
      ]
    },
    {
      "cell_type": "code",
      "source": [
        ""
      ],
      "metadata": {
        "id": "QerIK3FWdBxc"
      },
      "execution_count": null,
      "outputs": []
    }
  ],
  "metadata": {
    "colab": {
      "name": "Chapter9.ipynb의 사본",
      "provenance": [],
      "collapsed_sections": [],
      "include_colab_link": true
    },
    "language_info": {
      "name": "python"
    },
    "kernelspec": {
      "name": "python3",
      "display_name": "Python 3"
    },
    "gpuClass": "standard"
  },
  "nbformat": 4,
  "nbformat_minor": 0
}