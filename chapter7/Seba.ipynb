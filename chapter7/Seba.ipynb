{
  "cells": [
    {
      "cell_type": "markdown",
      "metadata": {
        "id": "view-in-github",
        "colab_type": "text"
      },
      "source": [
        "<a href=\"https://colab.research.google.com/github/8percent/programming-bitcoin/blob/main/chapter7/Seba.ipynb\" target=\"_parent\"><img src=\"https://colab.research.google.com/assets/colab-badge.svg\" alt=\"Open In Colab\"/></a>"
      ]
    },
    {
      "cell_type": "code",
      "source": [
        "!git clone https://github.com/jimmysong/programmingbitcoin"
      ],
      "metadata": {
        "colab": {
          "base_uri": "https://localhost:8080/"
        },
        "id": "xmBKVnnaPbpH",
        "outputId": "c3c4c6d7-1762-42c5-9ab8-031dea7d885a"
      },
      "execution_count": 1,
      "outputs": [
        {
          "output_type": "stream",
          "name": "stdout",
          "text": [
            "Cloning into 'programmingbitcoin'...\n",
            "remote: Enumerating objects: 6406, done.\u001b[K\n",
            "remote: Total 6406 (delta 0), reused 0 (delta 0), pack-reused 6406\u001b[K\n",
            "Receiving objects: 100% (6406/6406), 39.43 MiB | 14.46 MiB/s, done.\n",
            "Resolving deltas: 100% (4254/4254), done.\n"
          ]
        }
      ]
    },
    {
      "cell_type": "code",
      "source": [
        "!pip install requests"
      ],
      "metadata": {
        "colab": {
          "base_uri": "https://localhost:8080/"
        },
        "id": "LW-uKPfaPeTa",
        "outputId": "93c3fd2e-50a4-4af0-f476-80caf8f71178"
      },
      "execution_count": 2,
      "outputs": [
        {
          "output_type": "stream",
          "name": "stdout",
          "text": [
            "Looking in indexes: https://pypi.org/simple, https://us-python.pkg.dev/colab-wheels/public/simple/\n",
            "Requirement already satisfied: requests in /usr/local/lib/python3.7/dist-packages (2.23.0)\n",
            "Requirement already satisfied: chardet<4,>=3.0.2 in /usr/local/lib/python3.7/dist-packages (from requests) (3.0.4)\n",
            "Requirement already satisfied: idna<3,>=2.5 in /usr/local/lib/python3.7/dist-packages (from requests) (2.10)\n",
            "Requirement already satisfied: urllib3!=1.25.0,!=1.25.1,<1.26,>=1.21.1 in /usr/local/lib/python3.7/dist-packages (from requests) (1.24.3)\n",
            "Requirement already satisfied: certifi>=2017.4.17 in /usr/local/lib/python3.7/dist-packages (from requests) (2022.6.15)\n"
          ]
        }
      ]
    },
    {
      "cell_type": "code",
      "source": [
        "cd programmingbitcoin/code-ch07"
      ],
      "metadata": {
        "colab": {
          "base_uri": "https://localhost:8080/"
        },
        "id": "jor1PdQVPgQL",
        "outputId": "c4aa1a20-009a-43fc-c514-7e04ce6fec50"
      },
      "execution_count": 3,
      "outputs": [
        {
          "output_type": "stream",
          "name": "stdout",
          "text": [
            "/content/programmingbitcoin/code-ch07\n"
          ]
        }
      ]
    },
    {
      "cell_type": "code",
      "execution_count": 4,
      "metadata": {
        "id": "R-TRgBYpOqTv"
      },
      "outputs": [],
      "source": [
        "############## PLEASE RUN THIS CELL FIRST! ###################\n",
        "\n",
        "# import everything and define a test runner function\n",
        "from importlib import reload\n",
        "from helper import run\n",
        "import ecc\n",
        "import helper\n",
        "import tx\n",
        "import script"
      ]
    },
    {
      "cell_type": "code",
      "execution_count": 20,
      "metadata": {
        "id": "gaiUAr3OOqTw",
        "colab": {
          "base_uri": "https://localhost:8080/"
        },
        "outputId": "4fc1376a-b339-4949-da67-ff0f6317a106"
      },
      "outputs": [
        {
          "output_type": "stream",
          "name": "stdout",
          "text": [
            "True\n"
          ]
        }
      ],
      "source": [
        "from tx import Tx\n",
        "from io import BytesIO\n",
        "raw_tx = ('0100000001813f79011acb80925dfe69b3def355fe914bd1d96a3f5f71bf8303c6a989c7d1000000006b483045022100ed81ff192e75a3fd2304004dcadb746fa5e24c5031ccfcf21320b0277457c98f02207a986d955c6e0cb35d446a89d3f56100f4d7f67801c31967743a9c8e10615bed01210349fc4e631e3624a545de3f89f5d8684c7b8138bd94bdd531d2e213bf016b278afeffffff02a135ef01000000001976a914bc3b654dca7e56b04dca18f2566cdaf02e8d9ada88ac99c39800000000001976a9141c4bc762dd5423e332166702cb75f40df79fea1288ac19430600')\n",
        "stream = BytesIO(bytes.fromhex(raw_tx))\n",
        "transaction = Tx.parse(stream)\n",
        "print(transaction.fee() >= 0)"
      ]
    },
    {
      "cell_type": "code",
      "execution_count": 6,
      "metadata": {
        "id": "IpBcDDICOqTw",
        "colab": {
          "base_uri": "https://localhost:8080/"
        },
        "outputId": "e8a727be-b268-4bb4-8f5d-7bdcbe0de8fa"
      },
      "outputs": [
        {
          "output_type": "stream",
          "name": "stdout",
          "text": [
            "True\n"
          ]
        }
      ],
      "source": [
        "from ecc import S256Point, Signature\n",
        "sec = bytes.fromhex('0349fc4e631e3624a545de3f89f5d8684c7b8138bd94bdd531d2e213bf016b278a')\n",
        "der = bytes.fromhex('3045022100ed81ff192e75a3fd2304004dcadb746fa5e24c5031ccfcf21320b0277457c98f02207a986d955c6e0cb35d446a89d3f56100f4d7f67801c31967743a9c8e10615bed')\n",
        "z = 0x27e0c5994dec7824e56dec6b2fcb342eb7cdb0d0957c2fce9882f715e85d81a6\n",
        "point = S256Point.parse(sec)\n",
        "signature = Signature.parse(der)\n",
        "print(point.verify(z, signature))"
      ]
    },
    {
      "cell_type": "code",
      "execution_count": 7,
      "metadata": {
        "id": "PVpkMPjHOqTw",
        "colab": {
          "base_uri": "https://localhost:8080/"
        },
        "outputId": "d1c7d0fa-253f-4b93-f6d5-c8622620c2be"
      },
      "outputs": [
        {
          "output_type": "stream",
          "name": "stdout",
          "text": [
            "0x27e0c5994dec7824e56dec6b2fcb342eb7cdb0d0957c2fce9882f715e85d81a6\n"
          ]
        }
      ],
      "source": [
        "from helper import hash256\n",
        "modified_tx = bytes.fromhex('0100000001813f79011acb80925dfe69b3def355fe914bd1d96a3f5f71bf8303c6a989c7d1000000001976a914a802fc56c704ce87c42d7c92eb75e7896bdc41ae88acfeffffff02a135ef01000000001976a914bc3b654dca7e56b04dca18f2566cdaf02e8d9ada88ac99c39800000000001976a9141c4bc762dd5423e332166702cb75f40df79fea1288ac1943060001000000')\n",
        "h256 = hash256(modified_tx)\n",
        "z = int.from_bytes(h256, 'big')\n",
        "print(hex(z))"
      ]
    },
    {
      "cell_type": "code",
      "execution_count": 8,
      "metadata": {
        "id": "KYq1eS5BOqTx",
        "colab": {
          "base_uri": "https://localhost:8080/"
        },
        "outputId": "911cc822-8df3-4f5d-d0a0-dc839ad37332"
      },
      "outputs": [
        {
          "output_type": "execute_result",
          "data": {
            "text/plain": [
              "True"
            ]
          },
          "metadata": {},
          "execution_count": 8
        }
      ],
      "source": [
        "from ecc import S256Point, Signature\n",
        "sec = bytes.fromhex('0349fc4e631e3624a545de3f89f5d8684c7b8138bd94bdd531d2e213bf016b278a')\n",
        "der = bytes.fromhex('3045022100ed81ff192e75a3fd2304004dcadb746fa5e24c5031ccfcf21320b0277457c98f02207a986d955c6e0cb35d446a89d3f56100f4d7f67801c31967743a9c8e10615bed')\n",
        "z = 0x27e0c5994dec7824e56dec6b2fcb342eb7cdb0d0957c2fce9882f715e85d81a6\n",
        "point = S256Point.parse(sec)\n",
        "signature = Signature.parse(der)\n",
        "point.verify(z, signature)"
      ]
    },
    {
      "cell_type": "markdown",
      "metadata": {
        "id": "yqBOtIaDOqTx"
      },
      "source": [
        "### Exercise 1\n",
        "\n",
        "Write the `sig_hash` method for the `Tx` class.\n",
        "\n",
        "#### Make [this test](/edit/code-ch07/tx.py) pass: `tx.py:TxTest:test_sig_hash`"
      ]
    },
    {
      "cell_type": "code",
      "execution_count": 14,
      "metadata": {
        "id": "ABGLEiAnOqTx",
        "colab": {
          "base_uri": "https://localhost:8080/"
        },
        "outputId": "b896941c-797f-4858-c1cf-708900592492"
      },
      "outputs": [
        {
          "output_type": "stream",
          "name": "stderr",
          "text": [
            ".\n",
            "----------------------------------------------------------------------\n",
            "Ran 1 test in 0.004s\n",
            "\n",
            "OK\n"
          ]
        }
      ],
      "source": [
        "# Exercise 1\n",
        "\n",
        "reload(tx)\n",
        "run(tx.TxTest(\"test_sig_hash\"))"
      ]
    },
    {
      "cell_type": "markdown",
      "metadata": {
        "id": "y3Hxey2YOqTy"
      },
      "source": [
        "### Exercise 2\n",
        "\n",
        "Write the `verify_input` method for the `Tx` class. You will want to use the `TxIn.script_pubkey()`, `Tx.sig_hash()` and `Script.evaluate()` methods.\n",
        "\n",
        "#### Make [this test](/edit/code-ch07/tx.py) pass: `tx.py:TxTest:test_verify_p2pkh`"
      ]
    },
    {
      "cell_type": "code",
      "execution_count": 17,
      "metadata": {
        "id": "Y5LNLO3ROqTy",
        "colab": {
          "base_uri": "https://localhost:8080/"
        },
        "outputId": "8c3ef8b4-15ff-4874-ce07-f945aa5c9398"
      },
      "outputs": [
        {
          "output_type": "stream",
          "name": "stderr",
          "text": [
            ".\n",
            "----------------------------------------------------------------------\n",
            "Ran 1 test in 0.371s\n",
            "\n",
            "OK\n"
          ]
        }
      ],
      "source": [
        "# Exercise 2\n",
        "\n",
        "reload(tx)\n",
        "run(tx.TxTest(\"test_verify_p2pkh\"))"
      ]
    },
    {
      "cell_type": "code",
      "execution_count": 18,
      "metadata": {
        "id": "cbwM1QlKOqTy",
        "colab": {
          "base_uri": "https://localhost:8080/"
        },
        "outputId": "61407773-2724-4a34-9daf-1d0de7fc4bc5"
      },
      "outputs": [
        {
          "output_type": "stream",
          "name": "stdout",
          "text": [
            "tx: cd30a8da777d28ef0e61efe68a9f7c559c1d3e5bcd7b265c850ccb4068598d11\n",
            "version: 1\n",
            "tx_ins:\n",
            "0d6fe5213c0b3291f208cba8bfb59b7476dffacc4e5cb66f6eb20a080843a299:13\n",
            "tx_outs:\n",
            "33000000:OP_DUP OP_HASH160 d52ad7ca9b3d096a38e752c2018e6fbc40cdf26f OP_EQUALVERIFY OP_CHECKSIG\n",
            "10000000:OP_DUP OP_HASH160 507b27411ccf7f16f10297de6cef3f291623eddf OP_EQUALVERIFY OP_CHECKSIG\n",
            "locktime: 0\n"
          ]
        }
      ],
      "source": [
        "from helper import decode_base58, SIGHASH_ALL\n",
        "from script import p2pkh_script, Script\n",
        "from tx import TxIn, TxOut, Tx\n",
        "prev_tx = bytes.fromhex('0d6fe5213c0b3291f208cba8bfb59b7476dffacc4e5cb66f6eb20a080843a299')\n",
        "prev_index = 13\n",
        "tx_in = TxIn(prev_tx, prev_index)\n",
        "tx_outs = []\n",
        "change_amount = int(0.33*100000000)\n",
        "change_h160 = decode_base58('mzx5YhAH9kNHtcN481u6WkjeHjYtVeKVh2')\n",
        "change_script = p2pkh_script(change_h160)\n",
        "change_output = TxOut(amount=change_amount, script_pubkey=change_script)\n",
        "target_amount = int(0.1*100000000)\n",
        "target_h160 = decode_base58('mnrVtF8DWjMu839VW3rBfgYaAfKk8983Xf')\n",
        "target_script = p2pkh_script(target_h160)\n",
        "target_output = TxOut(amount=target_amount, script_pubkey=target_script)\n",
        "tx_obj = Tx(1, [tx_in], [change_output, target_output], 0, True)\n",
        "print(tx_obj)"
      ]
    },
    {
      "cell_type": "code",
      "execution_count": 21,
      "metadata": {
        "id": "pu-lg0VJOqTz",
        "colab": {
          "base_uri": "https://localhost:8080/"
        },
        "outputId": "ccb8fb90-e685-4f07-8a80-2cd2b8da93e3"
      },
      "outputs": [
        {
          "output_type": "stream",
          "name": "stdout",
          "text": [
            "0100000001813f79011acb80925dfe69b3def355fe914bd1d96a3f5f71bf8303c6a989c7d1000000006a47304402207db2402a3311a3b845b038885e3dd889c08126a8570f26a844e3e4049c482a11022010178cdca4129eacbeab7c44648bf5ac1f9cac217cd609d216ec2ebc8d242c0a012103935581e52c354cd2f484fe8ed83af7a3097005b2f9c60bff71d35bd795f54b67feffffff02a135ef01000000001976a914bc3b654dca7e56b04dca18f2566cdaf02e8d9ada88ac99c39800000000001976a9141c4bc762dd5423e332166702cb75f40df79fea1288ac19430600\n"
          ]
        }
      ],
      "source": [
        "from ecc import PrivateKey\n",
        "from helper import SIGHASH_ALL\n",
        "z = transaction.sig_hash(0)\n",
        "private_key = PrivateKey(secret=8675309)\n",
        "der = private_key.sign(z).der()\n",
        "sig = der + SIGHASH_ALL.to_bytes(1, 'big')\n",
        "sec = private_key.point.sec()\n",
        "script_sig = Script([sig, sec])\n",
        "transaction.tx_ins[0].script_sig = script_sig \n",
        "print(transaction.serialize().hex())"
      ]
    },
    {
      "cell_type": "code",
      "execution_count": 37,
      "metadata": {
        "id": "_MkkjUBKOqTz",
        "colab": {
          "base_uri": "https://localhost:8080/"
        },
        "outputId": "e6463c6e-169b-4def-eb0f-504330d4997d"
      },
      "outputs": [
        {
          "output_type": "stream",
          "name": "stdout",
          "text": [
            "72786690823892005739576327457715296386909944405568549419916378730626827757479\n",
            "mn81594PzKZa9K3Jyy1ushpuEzrnTnxhVg\n"
          ]
        }
      ],
      "source": [
        "from ecc import PrivateKey\n",
        "from helper import hash256, little_endian_to_int\n",
        "secret = little_endian_to_int(hash256(b'Jimmy Song secret'))\n",
        "print(secret)\n",
        "private_key = PrivateKey(secret)\n",
        "print(private_key.point.address(testnet=True))"
      ]
    },
    {
      "cell_type": "markdown",
      "metadata": {
        "id": "TeWKXfW1OqTz"
      },
      "source": [
        "### Exercise 3\n",
        "\n",
        "Write the `sign_input` method for the `Tx` class.\n",
        "\n",
        "#### Make [this test](/edit/code-ch07/tx.py) pass: `tx.py:TxTest:test_sign_input`"
      ]
    },
    {
      "cell_type": "code",
      "execution_count": 25,
      "metadata": {
        "id": "QsSADjeBOqTz",
        "colab": {
          "base_uri": "https://localhost:8080/"
        },
        "outputId": "267715c1-d0f3-44b5-f391-1f62b1785e29"
      },
      "outputs": [
        {
          "output_type": "stream",
          "name": "stderr",
          "text": [
            ".\n",
            "----------------------------------------------------------------------\n",
            "Ran 1 test in 0.275s\n",
            "\n",
            "OK\n"
          ]
        }
      ],
      "source": [
        "# Exercise 3\n",
        "\n",
        "reload(tx)\n",
        "run(tx.TxTest(\"test_sign_input\"))"
      ]
    },
    {
      "cell_type": "markdown",
      "metadata": {
        "id": "QubLbehrOqTz"
      },
      "source": [
        "### Exercise 4\n",
        "\n",
        "Create a testnet transaction that sends 60% of a single UTXO to `mwJn1YPMq7y5F8J3LkC5Hxg9PHyZ5K4cFv`. The remaining amount minus fees should go back to your own change address. This should be a 1 input, 2 output transaction.\n",
        "\n",
        "You can broadcast the transaction at https://testnet.blockchain.info/pushtx"
      ]
    },
    {
      "cell_type": "code",
      "source": [
        "passphrase = b'sebatyler@gmail.com some secret only you know'\n",
        "secret = little_endian_to_int(hash256(passphrase))\n",
        "print(secret)\n",
        "private_key = PrivateKey(secret)\n",
        "print(private_key.point.address(testnet=True))\n"
      ],
      "metadata": {
        "colab": {
          "base_uri": "https://localhost:8080/"
        },
        "id": "7HtjfGHAhCiI",
        "outputId": "f8aa2e4a-b11c-49f4-f1d5-f664e41c40f7"
      },
      "execution_count": 52,
      "outputs": [
        {
          "output_type": "stream",
          "name": "stdout",
          "text": [
            "106594913310516381290669921712563269943586661936476345094759913742885187576322\n",
            "mz1h8UrqQFExaP1yHEYzccieXMuBnE3KuX\n"
          ]
        }
      ]
    },
    {
      "cell_type": "code",
      "execution_count": 61,
      "metadata": {
        "id": "2QcswjAmOqT0",
        "colab": {
          "base_uri": "https://localhost:8080/"
        },
        "outputId": "c4662ffe-d327-416a-9342-f2afd8a39010"
      },
      "outputs": [
        {
          "output_type": "stream",
          "name": "stdout",
          "text": [
            "0.00041999999999999996 0.00024500000000000005 0.000665\n",
            "True\n",
            "01000000010ad325f8bf390487341d0573eb4ff94b41cd353bdd2f9afe453a9ad8e45e5641000000006b483045022100e888207d2fbf2fa0bd8c675a686164a8e0045c80163452de8a6cfd3cf8aa8288022049ed46a2974b30396af447b61dc9924ae1b704156dcac48266bbd9aed35451b1012103c1cbc8096901769de0a9677db6cd5dac905bbe1546abd5f399641d5c92f6ffb1ffffffff020fa40000000000001976a914ad346f8eb57dee9a37981716e498120ae80e44f788acb45f0000000000001976a914cae1aaf87b8c336ad7ae09b2a4b955203798554f88ac00000000\n"
          ]
        }
      ],
      "source": [
        "# Exercise 4\n",
        "\n",
        "from ecc import PrivateKey\n",
        "from helper import decode_base58, SIGHASH_ALL\n",
        "from script import p2pkh_script, Script\n",
        "from tx import TxIn, TxOut, Tx\n",
        "reload(helper)\n",
        "\n",
        "# create 1 TxIn and 2 TxOuts\n",
        "# 1 of the TxOuts should be back to your address\n",
        "# the other TxOut should be to this address\n",
        "target_address = 'mwJn1YPMq7y5F8J3LkC5Hxg9PHyZ5K4cFv'\n",
        "\n",
        "# get the private key from the exercise in Chapter 4\n",
        "# change address should be the address generated from Chapter 4\n",
        "change_address = 'mz1h8UrqQFExaP1yHEYzccieXMuBnE3KuX'\n",
        "secret = 106594913310516381290669921712563269943586661936476345094759913742885187576322\n",
        "'''\n",
        "faucet transaction\n",
        "https://www.blockchain.com/btc-testnet/tx/41565ee4d89a3a45fe9a2fdd3b35cd414bf94feb73051d34870439bff825d30a\n",
        "'''\n",
        "\n",
        "# get the prev_tx and prev_index from the transaction where you got\n",
        "# some testnet coins\n",
        "# create a transaction input for the previous transaction with\n",
        "# the default ScriptSig and sequence\n",
        "prev_tx = bytes.fromhex('41565ee4d89a3a45fe9a2fdd3b35cd414bf94feb73051d34870439bff825d30a')\n",
        "prev_index = 0\n",
        "\n",
        "tx_in = TxIn(prev_tx, prev_index)\n",
        "amount = 0.0007\n",
        "\n",
        "# target amount should be 60% of the output amount\n",
        "# set the fee to some reasonable amount\n",
        "# change amount = amount from the prev tx - target amount - fee\n",
        "target_amount = amount * 0.6\n",
        "change_amount = amount - target_amount - amount * 0.05\n",
        "print(target_amount, change_amount, target_amount + change_amount)\n",
        "\n",
        "# create a transaction output for the target amount and address\n",
        "# create a transaction output for the change amount and address\n",
        "# create the transaction object\n",
        "h160 = decode_base58(target_address)\n",
        "script_pubkey = p2pkh_script(h160)\n",
        "tx_out = TxOut(int(target_amount * 100_000_000), script_pubkey)\n",
        "\n",
        "tx_outs = [tx_out]\n",
        "\n",
        "h160 = decode_base58(change_address)\n",
        "script_pubkey = p2pkh_script(h160)\n",
        "tx_out = TxOut(int(change_amount * 100_000_000), script_pubkey)\n",
        "tx_outs.append(tx_out)\n",
        "\n",
        "# sign the one input in the transaction object using the private key\n",
        "# print the transaction's serialization in hex\n",
        "# broadcast at http://testnet.blockchain.info/pushtx\n",
        "\n",
        "tx_obj = Tx(1, [tx_in], tx_outs, 0, testnet=True)\n",
        "private_key = PrivateKey(secret=secret)\n",
        "print(tx_obj.sign_input(0, private_key))\n",
        "print(tx_obj.serialize().hex())\n",
        "\n",
        "\n",
        "'''\n",
        "https://blockstream.info/testnet/tx/push\n",
        "ff1901c296534bf51966ca196bee259bb6169c53f651d1b5f6969d042f433a53\n",
        "https://www.blockchain.com/btc-testnet/tx/ff1901c296534bf51966ca196bee259bb6169c53f651d1b5f6969d042f433a53\n",
        "'''\n",
        "\n"
      ]
    },
    {
      "cell_type": "markdown",
      "metadata": {
        "id": "95HXyuvNOqT0"
      },
      "source": [
        "### Exercise 5\n",
        "\n",
        "Advanced: get some more testnet coins from a testnet faucet and create a 2 input, 1 output transaction. 1 input should be from the faucet, the other should be from the previous exercise, the output can be your own address.\n",
        "\n",
        "You can broadcast the transaction at https://testnet.blockchain.info/pushtx"
      ]
    },
    {
      "cell_type": "code",
      "execution_count": null,
      "metadata": {
        "id": "RMgq4oi0OqT0"
      },
      "outputs": [],
      "source": [
        "# Exercise 5\n",
        "\n",
        "from ecc import PrivateKey\n",
        "from helper import decode_base58, SIGHASH_ALL\n",
        "from script import p2pkh_script, Script\n",
        "from tx import TxIn, TxOut, Tx\n",
        "\n",
        "# Create 2 TxIns, 1 from the Exercise 4 and 1 from a testnet faucet\n",
        "# Creat 1 TxOut to the address above\n",
        "target_address = 'mwJn1YPMq7y5F8J3LkC5Hxg9PHyZ5K4cFv'\n",
        "\n",
        "# get the private key from the exercise in Chapter 4\n",
        "\n",
        "# get the prev_tx and prev_index from the transaction where you got\n",
        "# some testnet coins\n",
        "# create the first transaction input with the default ScriptSig and\n",
        "# sequence\n",
        "# get the prev_tx and prev_index from the transaction in Exercise 4\n",
        "# create the second transaction input with the default ScriptSig and\n",
        "# sequence\n",
        "\n",
        "# set the fee to some reasonable amount\n",
        "# target amount should be the sum of the inputs - fee\n",
        "\n",
        "# create a transaction output for the amount and address\n",
        "\n",
        "# sign the first input using the private key\n",
        "# sign the second input using the private key \n",
        "# print the transaction's serialization in hex\n",
        "# broadcast at http://testnet.blockchain.info/pushtx"
      ]
    }
  ],
  "metadata": {
    "colab": {
      "name": "Copy of Chapter7.ipynb",
      "provenance": [],
      "collapsed_sections": [],
      "include_colab_link": true
    },
    "language_info": {
      "name": "python"
    },
    "kernelspec": {
      "name": "python3",
      "display_name": "Python 3"
    },
    "gpuClass": "standard"
  },
  "nbformat": 4,
  "nbformat_minor": 0
}