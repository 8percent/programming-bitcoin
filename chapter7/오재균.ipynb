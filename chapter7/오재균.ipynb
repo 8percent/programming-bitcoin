{
  "cells": [
    {
      "cell_type": "markdown",
      "metadata": {
        "id": "view-in-github",
        "colab_type": "text"
      },
      "source": [
        "<a href=\"https://colab.research.google.com/github/8percent/programming-bitcoin/blob/main/chapter7/%EC%98%A4%EC%9E%AC%EA%B7%A0.ipynb\" target=\"_parent\"><img src=\"https://colab.research.google.com/assets/colab-badge.svg\" alt=\"Open In Colab\"/></a>"
      ]
    },
    {
      "cell_type": "code",
      "source": [
        "!git clone https://github.com/jimmysong/programmingbitcoin"
      ],
      "metadata": {
        "colab": {
          "base_uri": "https://localhost:8080/"
        },
        "id": "MxtuyfUNeLYO",
        "outputId": "59909bec-f690-4023-ae03-423940dcaeed"
      },
      "execution_count": 1,
      "outputs": [
        {
          "output_type": "stream",
          "name": "stdout",
          "text": [
            "Cloning into 'programmingbitcoin'...\n",
            "remote: Enumerating objects: 6406, done.\u001b[K\n",
            "remote: Total 6406 (delta 0), reused 0 (delta 0), pack-reused 6406\u001b[K\n",
            "Receiving objects: 100% (6406/6406), 39.43 MiB | 13.58 MiB/s, done.\n",
            "Resolving deltas: 100% (4254/4254), done.\n"
          ]
        }
      ]
    },
    {
      "cell_type": "code",
      "source": [
        "!pip install requests"
      ],
      "metadata": {
        "colab": {
          "base_uri": "https://localhost:8080/"
        },
        "id": "uqi7qqBieLgx",
        "outputId": "45ebe0fa-d460-4313-e237-d9cab51822aa"
      },
      "execution_count": 2,
      "outputs": [
        {
          "output_type": "stream",
          "name": "stdout",
          "text": [
            "Looking in indexes: https://pypi.org/simple, https://us-python.pkg.dev/colab-wheels/public/simple/\n",
            "Requirement already satisfied: requests in /usr/local/lib/python3.7/dist-packages (2.23.0)\n",
            "Requirement already satisfied: chardet<4,>=3.0.2 in /usr/local/lib/python3.7/dist-packages (from requests) (3.0.4)\n",
            "Requirement already satisfied: certifi>=2017.4.17 in /usr/local/lib/python3.7/dist-packages (from requests) (2022.6.15)\n",
            "Requirement already satisfied: idna<3,>=2.5 in /usr/local/lib/python3.7/dist-packages (from requests) (2.10)\n",
            "Requirement already satisfied: urllib3!=1.25.0,!=1.25.1,<1.26,>=1.21.1 in /usr/local/lib/python3.7/dist-packages (from requests) (1.24.3)\n"
          ]
        }
      ]
    },
    {
      "cell_type": "code",
      "source": [
        "cd programmingbitcoin/code-ch07"
      ],
      "metadata": {
        "colab": {
          "base_uri": "https://localhost:8080/"
        },
        "id": "7sIBffFIeOdb",
        "outputId": "09c5d3ca-1d3a-4e68-b43a-2b276ce48ef1"
      },
      "execution_count": 3,
      "outputs": [
        {
          "output_type": "stream",
          "name": "stdout",
          "text": [
            "/content/programmingbitcoin/code-ch07\n"
          ]
        }
      ]
    },
    {
      "cell_type": "code",
      "execution_count": 4,
      "metadata": {
        "id": "4HyYd7AOeFRk"
      },
      "outputs": [],
      "source": [
        "############## PLEASE RUN THIS CELL FIRST! ###################\n",
        "\n",
        "# import everything and define a test runner function\n",
        "from importlib import reload\n",
        "from helper import run\n",
        "import ecc\n",
        "import helper\n",
        "import tx\n",
        "import script"
      ]
    },
    {
      "cell_type": "code",
      "execution_count": 5,
      "metadata": {
        "id": "gPl_Sr-HeFRl",
        "colab": {
          "base_uri": "https://localhost:8080/"
        },
        "outputId": "26e5e17a-6be1-47de-f28a-7cf12390bc39"
      },
      "outputs": [
        {
          "output_type": "stream",
          "name": "stdout",
          "text": [
            "True\n"
          ]
        }
      ],
      "source": [
        "from tx import Tx\n",
        "from io import BytesIO\n",
        "raw_tx = ('0100000001813f79011acb80925dfe69b3def355fe914bd1d96a3f5f71bf8303c6a989c7d1000000006b483045022100ed81ff192e75a3fd2304004dcadb746fa5e24c5031ccfcf21320b0277457c98f02207a986d955c6e0cb35d446a89d3f56100f4d7f67801c31967743a9c8e10615bed01210349fc4e631e3624a545de3f89f5d8684c7b8138bd94bdd531d2e213bf016b278afeffffff02a135ef01000000001976a914bc3b654dca7e56b04dca18f2566cdaf02e8d9ada88ac99c39800000000001976a9141c4bc762dd5423e332166702cb75f40df79fea1288ac19430600')\n",
        "stream = BytesIO(bytes.fromhex(raw_tx))\n",
        "transaction = Tx.parse(stream)\n",
        "print(transaction.fee() >= 0)"
      ]
    },
    {
      "cell_type": "code",
      "execution_count": 6,
      "metadata": {
        "id": "YI4CsQDkeFRm",
        "colab": {
          "base_uri": "https://localhost:8080/"
        },
        "outputId": "be8404ca-f080-4be1-9020-dbd3c76aa787"
      },
      "outputs": [
        {
          "output_type": "stream",
          "name": "stdout",
          "text": [
            "True\n"
          ]
        }
      ],
      "source": [
        "from ecc import S256Point, Signature\n",
        "sec = bytes.fromhex('0349fc4e631e3624a545de3f89f5d8684c7b8138bd94bdd531d2e213bf016b278a')\n",
        "der = bytes.fromhex('3045022100ed81ff192e75a3fd2304004dcadb746fa5e24c5031ccfcf21320b0277457c98f02207a986d955c6e0cb35d446a89d3f56100f4d7f67801c31967743a9c8e10615bed')\n",
        "z = 0x27e0c5994dec7824e56dec6b2fcb342eb7cdb0d0957c2fce9882f715e85d81a6\n",
        "point = S256Point.parse(sec)\n",
        "signature = Signature.parse(der)\n",
        "print(point.verify(z, signature))"
      ]
    },
    {
      "cell_type": "code",
      "execution_count": 9,
      "metadata": {
        "id": "8kBOOT8JeFRm",
        "colab": {
          "base_uri": "https://localhost:8080/"
        },
        "outputId": "3ccc538b-375f-42c4-f8e0-275ecaead719"
      },
      "outputs": [
        {
          "output_type": "stream",
          "name": "stdout",
          "text": [
            "0x27e0c5994dec7824e56dec6b2fcb342eb7cdb0d0957c2fce9882f715e85d81a6\n"
          ]
        }
      ],
      "source": [
        "from helper import hash256\n",
        "modified_tx = bytes.fromhex('0100000001813f79011acb80925dfe69b3def355fe914bd1d96a3f5f71bf8303c6a989c7d1000000001976a914a802fc56c704ce87c42d7c92eb75e7896bdc41ae88acfeffffff02a135ef01000000001976a914bc3b654dca7e56b04dca18f2566cdaf02e8d9ada88ac99c39800000000001976a9141c4bc762dd5423e332166702cb75f40df79fea1288ac1943060001000000')\n",
        "h256 = hash256(modified_tx)\n",
        "z = int.from_bytes(h256, 'big')\n",
        "print(hex(z))"
      ]
    },
    {
      "cell_type": "code",
      "execution_count": 8,
      "metadata": {
        "id": "tn_CckTzeFRn",
        "colab": {
          "base_uri": "https://localhost:8080/"
        },
        "outputId": "3123415d-381b-4e7d-efcf-4e524982acef"
      },
      "outputs": [
        {
          "output_type": "execute_result",
          "data": {
            "text/plain": [
              "True"
            ]
          },
          "metadata": {},
          "execution_count": 8
        }
      ],
      "source": [
        "from ecc import S256Point, Signature\n",
        "sec = bytes.fromhex('0349fc4e631e3624a545de3f89f5d8684c7b8138bd94bdd531d2e213bf016b278a')\n",
        "der = bytes.fromhex('3045022100ed81ff192e75a3fd2304004dcadb746fa5e24c5031ccfcf21320b0277457c98f02207a986d955c6e0cb35d446a89d3f56100f4d7f67801c31967743a9c8e10615bed')\n",
        "z = 0x27e0c5994dec7824e56dec6b2fcb342eb7cdb0d0957c2fce9882f715e85d81a6\n",
        "point = S256Point.parse(sec)\n",
        "signature = Signature.parse(der)\n",
        "point.verify(z, signature)"
      ]
    },
    {
      "cell_type": "markdown",
      "metadata": {
        "id": "wm56cF9ReFRn"
      },
      "source": [
        "### Exercise 1\n",
        "\n",
        "Write the `sig_hash` method for the `Tx` class.\n",
        "\n",
        "#### Make [this test](/edit/code-ch07/tx.py) pass: `tx.py:TxTest:test_sig_hash`"
      ]
    },
    {
      "cell_type": "code",
      "execution_count": 12,
      "metadata": {
        "id": "b4vUYiNxeFRo",
        "colab": {
          "base_uri": "https://localhost:8080/"
        },
        "outputId": "49c0ae8c-1347-46fa-cc96-52051f23bcf0"
      },
      "outputs": [
        {
          "output_type": "stream",
          "name": "stderr",
          "text": [
            ".\n",
            "----------------------------------------------------------------------\n",
            "Ran 1 test in 0.007s\n",
            "\n",
            "OK\n"
          ]
        }
      ],
      "source": [
        "# Exercise 1\n",
        "\n",
        "reload(tx)\n",
        "run(tx.TxTest(\"test_sig_hash\"))"
      ]
    },
    {
      "cell_type": "markdown",
      "metadata": {
        "id": "slXBvql8eFRo"
      },
      "source": [
        "### Exercise 2\n",
        "\n",
        "Write the `verify_input` method for the `Tx` class. You will want to use the `TxIn.script_pubkey()`, `Tx.sig_hash()` and `Script.evaluate()` methods.\n",
        "\n",
        "#### Make [this test](/edit/code-ch07/tx.py) pass: `tx.py:TxTest:test_verify_p2pkh`"
      ]
    },
    {
      "cell_type": "code",
      "execution_count": 13,
      "metadata": {
        "id": "0EzDmvlHeFRo",
        "colab": {
          "base_uri": "https://localhost:8080/"
        },
        "outputId": "cc7b3e6e-5ab5-49bc-f729-6d01f46c47d2"
      },
      "outputs": [
        {
          "output_type": "stream",
          "name": "stderr",
          "text": [
            ".\n",
            "----------------------------------------------------------------------\n",
            "Ran 1 test in 0.351s\n",
            "\n",
            "OK\n"
          ]
        }
      ],
      "source": [
        "# Exercise 2\n",
        "\n",
        "reload(tx)\n",
        "run(tx.TxTest(\"test_verify_p2pkh\"))"
      ]
    },
    {
      "cell_type": "code",
      "execution_count": 14,
      "metadata": {
        "id": "uqvQF1WzeFRo",
        "colab": {
          "base_uri": "https://localhost:8080/"
        },
        "outputId": "4f80478d-2969-49df-a8af-ce765b507e92"
      },
      "outputs": [
        {
          "output_type": "stream",
          "name": "stdout",
          "text": [
            "tx: cd30a8da777d28ef0e61efe68a9f7c559c1d3e5bcd7b265c850ccb4068598d11\n",
            "version: 1\n",
            "tx_ins:\n",
            "0d6fe5213c0b3291f208cba8bfb59b7476dffacc4e5cb66f6eb20a080843a299:13\n",
            "tx_outs:\n",
            "33000000:OP_DUP OP_HASH160 d52ad7ca9b3d096a38e752c2018e6fbc40cdf26f OP_EQUALVERIFY OP_CHECKSIG\n",
            "10000000:OP_DUP OP_HASH160 507b27411ccf7f16f10297de6cef3f291623eddf OP_EQUALVERIFY OP_CHECKSIG\n",
            "locktime: 0\n"
          ]
        }
      ],
      "source": [
        "from helper import decode_base58, SIGHASH_ALL\n",
        "from script import p2pkh_script, Script\n",
        "from tx import TxIn, TxOut, Tx\n",
        "prev_tx = bytes.fromhex('0d6fe5213c0b3291f208cba8bfb59b7476dffacc4e5cb66f6eb20a080843a299')\n",
        "prev_index = 13\n",
        "tx_in = TxIn(prev_tx, prev_index)\n",
        "tx_outs = []\n",
        "change_amount = int(0.33*100000000)\n",
        "change_h160 = decode_base58('mzx5YhAH9kNHtcN481u6WkjeHjYtVeKVh2')\n",
        "change_script = p2pkh_script(change_h160)\n",
        "change_output = TxOut(amount=change_amount, script_pubkey=change_script)\n",
        "target_amount = int(0.1*100000000)\n",
        "target_h160 = decode_base58('mnrVtF8DWjMu839VW3rBfgYaAfKk8983Xf')\n",
        "target_script = p2pkh_script(target_h160)\n",
        "target_output = TxOut(amount=target_amount, script_pubkey=target_script)\n",
        "tx_obj = Tx(1, [tx_in], [change_output, target_output], 0, True)\n",
        "print(tx_obj)"
      ]
    },
    {
      "cell_type": "code",
      "execution_count": 19,
      "metadata": {
        "id": "oe0ROi0leFRp",
        "colab": {
          "base_uri": "https://localhost:8080/"
        },
        "outputId": "16883d03-67bd-4e3d-932a-d2e6f8831d65"
      },
      "outputs": [
        {
          "output_type": "stream",
          "name": "stdout",
          "text": [
            "010000000199a24308080ab26e6fb65c4eccfadf76749bb5bfa8cb08f291320b3c21e56f0d0d0000006b4830450221008ed46aa2cf12d6d81065bfabe903670165b538f65ee9a3385e6327d80c66d3b502203124f804410527497329ec4715e18558082d489b218677bd029e7fa306a72236012103935581e52c354cd2f484fe8ed83af7a3097005b2f9c60bff71d35bd795f54b67ffffffff02408af701000000001976a914d52ad7ca9b3d096a38e752c2018e6fbc40cdf26f88ac80969800000000001976a914507b27411ccf7f16f10297de6cef3f291623eddf88ac00000000\n"
          ]
        }
      ],
      "source": [
        "from ecc import PrivateKey\n",
        "from helper import SIGHASH_ALL\n",
        "transaction = tx_obj\n",
        "z = transaction.sig_hash(0)\n",
        "private_key = PrivateKey(secret=8675309)\n",
        "der = private_key.sign(z).der()\n",
        "sig = der + SIGHASH_ALL.to_bytes(1, 'big')\n",
        "sec = private_key.point.sec()\n",
        "script_sig = Script([sig, sec])\n",
        "transaction.tx_ins[0].script_sig = script_sig \n",
        "print(transaction.serialize().hex())"
      ]
    },
    {
      "cell_type": "code",
      "execution_count": 18,
      "metadata": {
        "id": "_1FrTi2xeFRp",
        "colab": {
          "base_uri": "https://localhost:8080/"
        },
        "outputId": "93b7705a-5bf3-41a7-87e5-98c0067336f4"
      },
      "outputs": [
        {
          "output_type": "stream",
          "name": "stdout",
          "text": [
            "mn81594PzKZa9K3Jyy1ushpuEzrnTnxhVg\n"
          ]
        }
      ],
      "source": [
        "from ecc import PrivateKey\n",
        "from helper import hash256, little_endian_to_int\n",
        "secret = little_endian_to_int(hash256(b'Jimmy Song secret'))\n",
        "private_key = PrivateKey(secret)\n",
        "print(private_key.point.address(testnet=True))"
      ]
    },
    {
      "cell_type": "markdown",
      "metadata": {
        "id": "eNKbc3ipeFRq"
      },
      "source": [
        "### Exercise 3\n",
        "\n",
        "Write the `sign_input` method for the `Tx` class.\n",
        "\n",
        "#### Make [this test](/edit/code-ch07/tx.py) pass: `tx.py:TxTest:test_sign_input`"
      ]
    },
    {
      "cell_type": "code",
      "execution_count": 23,
      "metadata": {
        "id": "dJJQnYNWeFRq",
        "colab": {
          "base_uri": "https://localhost:8080/"
        },
        "outputId": "f556de55-6fe8-4d0c-b01e-83e5bbb5b2a0"
      },
      "outputs": [
        {
          "output_type": "stream",
          "name": "stderr",
          "text": [
            ".\n",
            "----------------------------------------------------------------------\n",
            "Ran 1 test in 0.258s\n",
            "\n",
            "OK\n"
          ]
        }
      ],
      "source": [
        "# Exercise 3\n",
        "\n",
        "reload(tx)\n",
        "run(tx.TxTest(\"test_sign_input\"))"
      ]
    },
    {
      "cell_type": "code",
      "source": [
        "\n",
        "phasekey = b'jaegyoon.oh@8percent.kr jkjacb12896782349013678'\n",
        "phasenum = little_endian_to_int(hash256(phasekey))\n",
        "print(phasenum)\n",
        "pkey = PrivateKey(phasenum)\n",
        "ppoint = pkey.point\n",
        "print(ppoint.address(testnet = True))\n"
      ],
      "metadata": {
        "colab": {
          "base_uri": "https://localhost:8080/"
        },
        "id": "QY9y-zKyiLPN",
        "outputId": "60201445-1354-4b64-c7c8-aebf4eb3cd4f"
      },
      "execution_count": 25,
      "outputs": [
        {
          "output_type": "stream",
          "name": "stdout",
          "text": [
            "33737802847435399979011524323257422982427757150152127280827273667914986388143\n",
            "moF19FZzo7ewy53yeX1o6SLYnzNKCV5mcA\n"
          ]
        }
      ]
    },
    {
      "cell_type": "markdown",
      "metadata": {
        "id": "0MLRQTR7eFRq"
      },
      "source": [
        "### Exercise 4\n",
        "\n",
        "Create a testnet transaction that sends 60% of a single UTXO to `mwJn1YPMq7y5F8J3LkC5Hxg9PHyZ5K4cFv`. The remaining amount minus fees should go back to your own change address. This should be a 1 input, 2 output transaction.\n",
        "\n",
        "You can broadcast the transaction at https://testnet.blockchain.info/pushtx"
      ]
    },
    {
      "cell_type": "code",
      "execution_count": 34,
      "metadata": {
        "id": "O4TwhQRzeFRq",
        "colab": {
          "base_uri": "https://localhost:8080/"
        },
        "outputId": "481ca921-21e5-449d-874f-fda90705bf0e"
      },
      "outputs": [
        {
          "output_type": "stream",
          "name": "stdout",
          "text": [
            "tx: 19cea754224d05edd8d57ccf715dc09050653b9cba73b3203715f972925d5abe\n",
            "version: 1\n",
            "tx_ins:\n",
            "22c82279b87da4610da0339db6a8f71c31b366888902dcdbab29460c12d9134f:1\n",
            "tx_outs:\n",
            "39000:OP_DUP OP_HASH160 54bcba7d3db1faf5438473c5659d00f40ef8d6e7 OP_EQUALVERIFY OP_CHECKSIG\n",
            "59999:OP_DUP OP_HASH160 ad346f8eb57dee9a37981716e498120ae80e44f7 OP_EQUALVERIFY OP_CHECKSIG\n",
            "locktime: 0\n",
            "True\n",
            "01000000014f13d9120c4629abdbdc02898866b3311cf7a8b69d33a00d61a47db87922c822010000006a47304402204166f6ed500b2e936cd123fdd803f9e2fb61c476818bc7557575fe8a4ee800b302207103ab784a3307d4f46d695a8e11d3ae38c26c7aba9cfbb944e03b171b66c7f0012102d7a07f6793cc9f5fc14c9b5b8e5d12e649decc25c629a087c50a58e832ba9c9dffffffff0258980000000000001976a91454bcba7d3db1faf5438473c5659d00f40ef8d6e788ac5fea0000000000001976a914ad346f8eb57dee9a37981716e498120ae80e44f788ac00000000\n"
          ]
        }
      ],
      "source": [
        "# Exercise 4\n",
        "\n",
        "from ecc import PrivateKey\n",
        "from helper import decode_base58, SIGHASH_ALL\n",
        "from script import p2pkh_script, Script\n",
        "from tx import TxIn, TxOut, Tx\n",
        "\n",
        "# create 1 TxIn and 2 TxOuts\n",
        "# 1 of the TxOuts should be back to your address\n",
        "# the other TxOut should be to this address\n",
        "target_address = 'mwJn1YPMq7y5F8J3LkC5Hxg9PHyZ5K4cFv'\n",
        "\n",
        "# get the private key from the exercise in Chapter 4\n",
        "# change address should be the address generated from Chapter 4\n",
        "source_address = \"moF19FZzo7ewy53yeX1o6SLYnzNKCV5mcA\"\n",
        "# get the prev_tx and prev_index from the transaction where you got\n",
        "# some testnet coins\n",
        "# create a transaction input for the previous transaction with\n",
        "# the default ScriptSig and sequence\n",
        "prev_tx = bytes.fromhex('22c82279b87da4610da0339db6a8f71c31b366888902dcdbab29460c12d9134f')\n",
        "prev_index = 1\n",
        "tx_in = TxIn(prev_tx, prev_index)\n",
        "tx_outs = []\n",
        "fee = 0.00001\n",
        "remain = 0.001 * 0.4 - fee\n",
        "change_amount = int(remain * 100000000)\n",
        "change_h160 = decode_base58(source_address)\n",
        "change_script = p2pkh_script(change_h160)\n",
        "change_output = TxOut(amount = change_amount, script_pubkey = change_script)\n",
        "\n",
        "target_amount = int(0.001 * 0.6 * 100000000)\n",
        "target_h160 = decode_base58(target_address)\n",
        "target_script = p2pkh_script(target_h160)\n",
        "target_output = TxOut(amount = target_amount, script_pubkey = target_script)\n",
        "tx_obj = Tx(1, [tx_in], [change_output, target_output], 0, True)\n",
        "print(tx_obj)\n",
        "# target amount should be 60% of the output amount\n",
        "# set the fee to some reasonable amount\n",
        "# change amount = amount from the prev tx - target amount - fee\n",
        "\n",
        "# create a transaction output for the target amount and address\n",
        "# create a transaction output for the change amount and address\n",
        "# create the transaction object\n",
        "\n",
        "# sign the one input in the transaction object using the private key\n",
        "# print the transaction's serialization in hex\n",
        "# broadcast at http://testnet.blockchain.info/pushtx\n",
        "secret = 33737802847435399979011524323257422982427757150152127280827273667914986388143\n",
        "vi = tx_obj.sign_input(0, PrivateKey(secret = secret))\n",
        "print(vi)\n",
        "print(tx_obj.serialize().hex())"
      ]
    },
    {
      "cell_type": "code",
      "source": [
        "phasekey = b'jaegyoon.oh@8percent.kr 8percent gogo'\n",
        "phasenum = little_endian_to_int(hash256(phasekey))\n",
        "print(phasenum)\n",
        "pkey = PrivateKey(phasenum)\n",
        "ppoint = pkey.point\n",
        "print(ppoint.address(testnet = True))\n"
      ],
      "metadata": {
        "colab": {
          "base_uri": "https://localhost:8080/"
        },
        "id": "CPKFBfNztwO1",
        "outputId": "21a045e8-bb1c-4cb5-e927-e62faba3f14e"
      },
      "execution_count": 35,
      "outputs": [
        {
          "output_type": "stream",
          "name": "stdout",
          "text": [
            "66834303925315701622282441819608227503985828091546685348203351819900300373210\n",
            "n4cAkD3SnJ4pWUvguH252wD9ntqE68a9Wi\n"
          ]
        }
      ]
    },
    {
      "cell_type": "markdown",
      "metadata": {
        "id": "l9eb1H3zeFRr"
      },
      "source": [
        "### Exercise 5\n",
        "\n",
        "Advanced: get some more testnet coins from a testnet faucet and create a 2 input, 1 output transaction. 1 input should be from the faucet, the other should be from the previous exercise, the output can be your own address.\n",
        "\n",
        "You can broadcast the transaction at https://testnet.blockchain.info/pushtx"
      ]
    },
    {
      "cell_type": "code",
      "execution_count": 38,
      "metadata": {
        "id": "ChNzoMo2eFRr",
        "colab": {
          "base_uri": "https://localhost:8080/"
        },
        "outputId": "ceff6fb2-1ddb-4269-f86f-d7fce506bf1d"
      },
      "outputs": [
        {
          "output_type": "stream",
          "name": "stdout",
          "text": [
            "tx: 3d0c159a889bb7550d9063795926ae5a527accb6e1b91b215175de2cd31bf76f\n",
            "version: 1\n",
            "tx_ins:\n",
            "fb23433a1a4de35b9875e06957814db7dd921a2826b874f51d00fd9429cc3d68:1\n",
            "fb23433a1a4de35b9875e06957814db7dd921a2826b874f51d00fd9429cc3d68:1\n",
            "tx_outs:\n",
            "199000:OP_DUP OP_HASH160 ad346f8eb57dee9a37981716e498120ae80e44f7 OP_EQUALVERIFY OP_CHECKSIG\n",
            "locktime: 0\n",
            "True\n",
            "True\n",
            "0100000002683dcc2994fd001df574b826281a92ddb74d815769e075985be34d1a3a4323fb010000006b4830450221009d9df74c4fd1e7e1aa0de5d8ac452b44a7971339773db9a1db64d7ce6c2e7b50022002670495b0248eb388bdfd9195483afa529f81dbd618d5324288e2a288318b2c0121039f732fa24495a47ef36c105c159c3eb1f0657d97ecc452f1494389f8d183e991ffffffff683dcc2994fd001df574b826281a92ddb74d815769e075985be34d1a3a4323fb010000006b483045022100d2025b00a65697c39458b531966a343b8f3e6d0f34e54582de1e276fd09a1339022029058bb585cafa1eed13cffc58c60e6e36eb0fa329c96baa7baa5410f59dc209012102d7a07f6793cc9f5fc14c9b5b8e5d12e649decc25c629a087c50a58e832ba9c9dffffffff0158090300000000001976a914ad346f8eb57dee9a37981716e498120ae80e44f788ac00000000\n"
          ]
        }
      ],
      "source": [
        "# Exercise 5\n",
        "\n",
        "from ecc import PrivateKey\n",
        "from helper import decode_base58, SIGHASH_ALL\n",
        "from script import p2pkh_script, Script\n",
        "from tx import TxIn, TxOut, Tx\n",
        "\n",
        "# Create 2 TxIns, 1 from the Exercise 4 and 1 from a testnet faucet\n",
        "# Creat 1 TxOut to the address above\n",
        "target_address = 'mwJn1YPMq7y5F8J3LkC5Hxg9PHyZ5K4cFv'\n",
        "source_address1 = \"n4cAkD3SnJ4pWUvguH252wD9ntqE68a9Wi\"\n",
        "source_address2 = \"moF19FZzo7ewy53yeX1o6SLYnzNKCV5mcA\"\n",
        "# get the private key from the exercise in Chapter 4\n",
        "\n",
        "# get the prev_tx and prev_index from the transaction where you got\n",
        "# some testnet coins\n",
        "# create the first transaction input with the default ScriptSig and\n",
        "# sequence\n",
        "# get the prev_tx and prev_index from the transaction in Exercise 4\n",
        "# create the second transaction input with the default ScriptSig and\n",
        "# sequence\n",
        "\n",
        "# set the fee to some reasonable amount\n",
        "# target amount should be the sum of the inputs - fee\n",
        "prev_tx1 = bytes.fromhex('fb23433a1a4de35b9875e06957814db7dd921a2826b874f51d00fd9429cc3d68')\n",
        "prev_tx2 = bytes.fromhex('22c82279b87da4610da0339db6a8f71c31b366888902dcdbab29460c12d9134f')\n",
        "prev_index = 1\n",
        "tx_in1 = TxIn(prev_tx1, prev_index)\n",
        "tx_in2 = TxIn(prev_tx1, prev_index)\n",
        "tx_ins = [tx_in1, tx_in2]\n",
        "\n",
        "fee = 0.00001\n",
        "\n",
        "target_amount = int((0.001 + 0.001 - fee) * 100000000)\n",
        "target_h160 = decode_base58(target_address)\n",
        "target_script = p2pkh_script(target_h160)\n",
        "target_output = TxOut(amount = target_amount, script_pubkey = target_script)\n",
        "tx_outs = [target_output]\n",
        "tx_obj = Tx(1, tx_ins, tx_outs, 0, True)\n",
        "print(tx_obj)\n",
        "# create a transaction output for the amount and address\n",
        "\n",
        "# sign the first input using the private key\n",
        "# sign the second input using the private key \n",
        "# print the transaction's serialization in hex\n",
        "# broadcast at http://testnet.blockchain.info/pushtx\n",
        "secret1 = 66834303925315701622282441819608227503985828091546685348203351819900300373210\n",
        "secret2 = 33737802847435399979011524323257422982427757150152127280827273667914986388143\n",
        "vi1 = tx_obj.sign_input(0, PrivateKey(secret = secret1))\n",
        "print(vi1)\n",
        "vi2 = tx_obj.sign_input(1, PrivateKey(secret = secret2))\n",
        "print(vi2)\n",
        "print(tx_obj.serialize().hex())"
      ]
    }
  ],
  "metadata": {
    "colab": {
      "name": "Chapter7.ipynb의 사본",
      "provenance": [],
      "collapsed_sections": [],
      "include_colab_link": true
    },
    "language_info": {
      "name": "python"
    },
    "kernelspec": {
      "name": "python3",
      "display_name": "Python 3"
    },
    "gpuClass": "standard"
  },
  "nbformat": 4,
  "nbformat_minor": 0
}