{
  "cells": [
    {
      "cell_type": "markdown",
      "metadata": {
        "id": "view-in-github",
        "colab_type": "text"
      },
      "source": [
        "<a href=\"https://colab.research.google.com/github/8percent/programming-bitcoin/blob/main/chapter2/Seba.ipynb\" target=\"_parent\"><img src=\"https://colab.research.google.com/assets/colab-badge.svg\" alt=\"Open In Colab\"/></a>"
      ]
    },
    {
      "cell_type": "code",
      "source": [
        "!git clone https://github.com/jimmysong/programmingbitcoin"
      ],
      "metadata": {
        "colab": {
          "base_uri": "https://localhost:8080/"
        },
        "id": "XszEb_BnmqSj",
        "outputId": "aa435a28-9849-4c74-f4ac-1de4bf51e13c"
      },
      "execution_count": 7,
      "outputs": [
        {
          "output_type": "stream",
          "name": "stdout",
          "text": [
            "Cloning into 'programmingbitcoin'...\n",
            "remote: Enumerating objects: 6406, done.\u001b[K\n",
            "remote: Total 6406 (delta 0), reused 0 (delta 0), pack-reused 6406\u001b[K\n",
            "Receiving objects: 100% (6406/6406), 39.43 MiB | 25.65 MiB/s, done.\n",
            "Resolving deltas: 100% (4254/4254), done.\n"
          ]
        }
      ]
    },
    {
      "cell_type": "code",
      "source": [
        "!pip install requests"
      ],
      "metadata": {
        "colab": {
          "base_uri": "https://localhost:8080/"
        },
        "id": "wQivyLlimum5",
        "outputId": "a4189f06-7b00-484a-d0f8-2ff683c663c8"
      },
      "execution_count": 2,
      "outputs": [
        {
          "output_type": "stream",
          "name": "stdout",
          "text": [
            "Looking in indexes: https://pypi.org/simple, https://us-python.pkg.dev/colab-wheels/public/simple/\n",
            "Requirement already satisfied: requests in /usr/local/lib/python3.7/dist-packages (2.23.0)\n",
            "Requirement already satisfied: idna<3,>=2.5 in /usr/local/lib/python3.7/dist-packages (from requests) (2.10)\n",
            "Requirement already satisfied: certifi>=2017.4.17 in /usr/local/lib/python3.7/dist-packages (from requests) (2022.5.18.1)\n",
            "Requirement already satisfied: chardet<4,>=3.0.2 in /usr/local/lib/python3.7/dist-packages (from requests) (3.0.4)\n",
            "Requirement already satisfied: urllib3!=1.25.0,!=1.25.1,<1.26,>=1.21.1 in /usr/local/lib/python3.7/dist-packages (from requests) (1.24.3)\n"
          ]
        }
      ]
    },
    {
      "cell_type": "code",
      "source": [
        "cd programmingbitcoin/code-ch02"
      ],
      "metadata": {
        "colab": {
          "base_uri": "https://localhost:8080/"
        },
        "id": "Swe0kVdZm0iw",
        "outputId": "17e93525-f607-4c5b-9dc4-ce6345564e36"
      },
      "execution_count": 9,
      "outputs": [
        {
          "output_type": "stream",
          "name": "stdout",
          "text": [
            "/content/programmingbitcoin/code-ch02\n"
          ]
        }
      ]
    },
    {
      "cell_type": "code",
      "execution_count": 10,
      "metadata": {
        "id": "WlwcBvg1mjBj"
      },
      "outputs": [],
      "source": [
        "############## PLEASE RUN THIS CELL FIRST! ###################\n",
        "\n",
        "# import everything and define a test runner function\n",
        "from importlib import reload\n",
        "from helper import run\n",
        "import ecc\n",
        "import helper\n",
        "\n",
        "from ecc import Point"
      ]
    },
    {
      "cell_type": "code",
      "execution_count": 41,
      "metadata": {
        "id": "qRZlnumumjBk",
        "colab": {
          "base_uri": "https://localhost:8080/",
          "height": 329
        },
        "outputId": "2e291575-1c5d-4922-9698-16981c30492e"
      },
      "outputs": [
        {
          "output_type": "error",
          "ename": "ValueError",
          "evalue": "ignored",
          "traceback": [
            "\u001b[0;31m---------------------------------------------------------------------------\u001b[0m",
            "\u001b[0;31mValueError\u001b[0m                                Traceback (most recent call last)",
            "\u001b[0;32m<ipython-input-41-7d6a66168b49>\u001b[0m in \u001b[0;36m<module>\u001b[0;34m()\u001b[0m\n\u001b[1;32m      1\u001b[0m \u001b[0;32mfrom\u001b[0m \u001b[0mecc\u001b[0m \u001b[0;32mimport\u001b[0m \u001b[0mPoint\u001b[0m\u001b[0;34m\u001b[0m\u001b[0;34m\u001b[0m\u001b[0m\n\u001b[1;32m      2\u001b[0m \u001b[0mp1\u001b[0m \u001b[0;34m=\u001b[0m \u001b[0mPoint\u001b[0m\u001b[0;34m(\u001b[0m\u001b[0;34m-\u001b[0m\u001b[0;36m1\u001b[0m\u001b[0;34m,\u001b[0m \u001b[0;34m-\u001b[0m\u001b[0;36m1\u001b[0m\u001b[0;34m,\u001b[0m \u001b[0;36m5\u001b[0m\u001b[0;34m,\u001b[0m \u001b[0;36m7\u001b[0m\u001b[0;34m)\u001b[0m\u001b[0;34m\u001b[0m\u001b[0;34m\u001b[0m\u001b[0m\n\u001b[0;32m----> 3\u001b[0;31m \u001b[0mp2\u001b[0m \u001b[0;34m=\u001b[0m \u001b[0mPoint\u001b[0m\u001b[0;34m(\u001b[0m\u001b[0;34m-\u001b[0m\u001b[0;36m1\u001b[0m\u001b[0;34m,\u001b[0m \u001b[0;34m-\u001b[0m\u001b[0;36m2\u001b[0m\u001b[0;34m,\u001b[0m \u001b[0;36m5\u001b[0m\u001b[0;34m,\u001b[0m \u001b[0;36m7\u001b[0m\u001b[0;34m)\u001b[0m\u001b[0;34m\u001b[0m\u001b[0;34m\u001b[0m\u001b[0m\n\u001b[0m",
            "\u001b[0;32m/content/programmingbitcoin/code-ch02/ecc.py\u001b[0m in \u001b[0;36m__init__\u001b[0;34m(self, x, y, a, b)\u001b[0m\n\u001b[1;32m    134\u001b[0m         \u001b[0;31m# tag::source1[]\u001b[0m\u001b[0;34m\u001b[0m\u001b[0;34m\u001b[0m\u001b[0;34m\u001b[0m\u001b[0m\n\u001b[1;32m    135\u001b[0m         \u001b[0;32mif\u001b[0m \u001b[0mself\u001b[0m\u001b[0;34m.\u001b[0m\u001b[0my\u001b[0m\u001b[0;34m**\u001b[0m\u001b[0;36m2\u001b[0m \u001b[0;34m!=\u001b[0m \u001b[0mself\u001b[0m\u001b[0;34m.\u001b[0m\u001b[0mx\u001b[0m\u001b[0;34m**\u001b[0m\u001b[0;36m3\u001b[0m \u001b[0;34m+\u001b[0m \u001b[0ma\u001b[0m \u001b[0;34m*\u001b[0m \u001b[0mx\u001b[0m \u001b[0;34m+\u001b[0m \u001b[0mb\u001b[0m\u001b[0;34m:\u001b[0m  \u001b[0;31m# <1>\u001b[0m\u001b[0;34m\u001b[0m\u001b[0;34m\u001b[0m\u001b[0m\n\u001b[0;32m--> 136\u001b[0;31m             \u001b[0;32mraise\u001b[0m \u001b[0mValueError\u001b[0m\u001b[0;34m(\u001b[0m\u001b[0;34m'({}, {}) is not on the curve'\u001b[0m\u001b[0;34m.\u001b[0m\u001b[0mformat\u001b[0m\u001b[0;34m(\u001b[0m\u001b[0mx\u001b[0m\u001b[0;34m,\u001b[0m \u001b[0my\u001b[0m\u001b[0;34m)\u001b[0m\u001b[0;34m)\u001b[0m\u001b[0;34m\u001b[0m\u001b[0;34m\u001b[0m\u001b[0m\n\u001b[0m\u001b[1;32m    137\u001b[0m \u001b[0;34m\u001b[0m\u001b[0m\n\u001b[1;32m    138\u001b[0m     \u001b[0;32mdef\u001b[0m \u001b[0m__eq__\u001b[0m\u001b[0;34m(\u001b[0m\u001b[0mself\u001b[0m\u001b[0;34m,\u001b[0m \u001b[0mother\u001b[0m\u001b[0;34m)\u001b[0m\u001b[0;34m:\u001b[0m  \u001b[0;31m# <2>\u001b[0m\u001b[0;34m\u001b[0m\u001b[0;34m\u001b[0m\u001b[0m\n",
            "\u001b[0;31mValueError\u001b[0m: (-1, -2) is not on the curve"
          ]
        }
      ],
      "source": [
        "from ecc import Point\n",
        "p1 = Point(-1, -1, 5, 7)\n",
        "p2 = Point(-1, -2, 5, 7)"
      ]
    },
    {
      "cell_type": "markdown",
      "metadata": {
        "id": "d63T3DkymjBk"
      },
      "source": [
        "### Exercise 1\n",
        "\n",
        "Determine which of these points are on the curve \\\\(y^{2}\\\\)=\\\\(x^{3}\\\\)+5x+7:\n",
        "\n",
        "(2,4), (-1,-1), (18,77), (5,7)"
      ]
    },
    {
      "cell_type": "code",
      "execution_count": 16,
      "metadata": {
        "id": "EO-7OHZTmjBl",
        "colab": {
          "base_uri": "https://localhost:8080/"
        },
        "outputId": "3e74c70b-8c06-4007-f107-c76cc1181c63"
      },
      "outputs": [
        {
          "output_type": "stream",
          "name": "stdout",
          "text": [
            "(-1, -1) is on the curve!\n",
            "(18, 77) is on the curve!\n"
          ]
        }
      ],
      "source": [
        "# Exercise 1\n",
        "\n",
        "# (2,4), (-1,-1), (18,77), (5,7)\n",
        "# equation in python is: y**2 == x**3 + 5*x + 7\n",
        "a = 5\n",
        "b = 7\n",
        "\n",
        "for x, y in ((2, 4), (-1, -1), (18, 77), (5, 7)):\n",
        "  try:\n",
        "    Point(x, y, a, b)\n",
        "  except ValueError:\n",
        "    pass\n",
        "  else:\n",
        "    print(f\"({x}, {y}) is on the curve!\")\n"
      ]
    },
    {
      "cell_type": "markdown",
      "metadata": {
        "id": "zKnKXkPQmjBl"
      },
      "source": [
        "### Exercise 2\n",
        "\n",
        "Write the `__ne__` method for `Point`.\n",
        "\n",
        "#### Make [this test](/edit/code-ch02/ecc.py) pass: `ecc.py:PointTest:test_ne`"
      ]
    },
    {
      "cell_type": "code",
      "execution_count": 18,
      "metadata": {
        "id": "m225nlPpmjBl",
        "colab": {
          "base_uri": "https://localhost:8080/"
        },
        "outputId": "fe90d70f-7f6b-40ac-99b8-9c15df2e925c"
      },
      "outputs": [
        {
          "output_type": "stream",
          "name": "stderr",
          "text": [
            ".\n",
            "----------------------------------------------------------------------\n",
            "Ran 1 test in 0.002s\n",
            "\n",
            "OK\n"
          ]
        }
      ],
      "source": [
        "# Exercise 2\n",
        "\n",
        "reload(ecc)\n",
        "run(ecc.PointTest(\"test_ne\"))"
      ]
    },
    {
      "cell_type": "code",
      "execution_count": 22,
      "metadata": {
        "id": "kzai9RotmjBl",
        "colab": {
          "base_uri": "https://localhost:8080/"
        },
        "outputId": "4385313d-0cdd-4700-90f4-90a224079df9"
      },
      "outputs": [
        {
          "output_type": "stream",
          "name": "stdout",
          "text": [
            "Point(-1,-1)_5_7\n",
            "Point(-1,1)_5_7\n",
            "Point(infinity)\n"
          ]
        }
      ],
      "source": [
        "from ecc import Point\n",
        "p1 = Point(-1, -1, 5, 7)\n",
        "p2 = Point(-1, 1, 5, 7)\n",
        "inf = Point(None, None, 5, 7)\n",
        "print(p1 + inf)\n",
        "print(inf + p2)\n",
        "print(p1 + p2)"
      ]
    },
    {
      "cell_type": "markdown",
      "metadata": {
        "id": "d8JLBBcEmjBm"
      },
      "source": [
        "### Exercise 3\n",
        "\n",
        "Handle the case where the two points are additive inverses. That is, they have the same `x`, but a different `y`, causing a vertical line. This should return the point at infinity.\n",
        "\n",
        "#### Make [this test](/edit/code-ch02/ecc.py) pass: `ecc.py:PointTest:test_add0`"
      ]
    },
    {
      "cell_type": "code",
      "execution_count": 30,
      "metadata": {
        "id": "KL-xF_-ymjBn",
        "colab": {
          "base_uri": "https://localhost:8080/"
        },
        "outputId": "8b10aa53-1502-436f-a8fc-a3fc6a00b450"
      },
      "outputs": [
        {
          "output_type": "stream",
          "name": "stderr",
          "text": [
            ".\n",
            "----------------------------------------------------------------------\n",
            "Ran 1 test in 0.005s\n",
            "\n",
            "OK\n"
          ]
        }
      ],
      "source": [
        "# Exercise 3\n",
        "\n",
        "reload(ecc)\n",
        "run(ecc.PointTest(\"test_add0\"))"
      ]
    },
    {
      "cell_type": "markdown",
      "metadata": {
        "id": "l1YVWSzsmjBn"
      },
      "source": [
        "### Exercise 4\n",
        "\n",
        "For the curve \\\\(y^{2}\\\\)=\\\\(x^{3}\\\\)+5x+7, what is (2,5) + (-1,-1)?"
      ]
    },
    {
      "cell_type": "code",
      "execution_count": 32,
      "metadata": {
        "id": "doHlXXoWmjBn",
        "colab": {
          "base_uri": "https://localhost:8080/"
        },
        "outputId": "c4f87268-d48a-4ecd-8a84-891b509d4f6f"
      },
      "outputs": [
        {
          "output_type": "execute_result",
          "data": {
            "text/plain": [
              "Point(3.0,-7.0)_5_7"
            ]
          },
          "metadata": {},
          "execution_count": 32
        }
      ],
      "source": [
        "# Exercise 4\n",
        "\n",
        "from ecc import Point\n",
        "\n",
        "a = 5\n",
        "b = 7\n",
        "x1, y1 = 2, 5\n",
        "x2, y2 = -1, -1\n",
        "\n",
        "# (x1,y1) + (x2,y2)\n",
        "Point(x1, y1, a, b) + Point(x2, y2, a, b)\n"
      ]
    },
    {
      "cell_type": "markdown",
      "metadata": {
        "id": "UhLDMIrHmjBn"
      },
      "source": [
        "### Exercise 5\n",
        "\n",
        "Write the `__add__` method where \\\\(x_{1}\\\\)≠\\\\(x_{2}\\\\)\n",
        "\n",
        "#### Make [this test](/edit/code-ch02/ecc.py) pass: `ecc.py:PointTest:test_add1`"
      ]
    },
    {
      "cell_type": "code",
      "execution_count": 36,
      "metadata": {
        "id": "U_4WGE-9mjBo",
        "colab": {
          "base_uri": "https://localhost:8080/"
        },
        "outputId": "c34d858a-0625-461f-c6a1-c66e3fdbfe33"
      },
      "outputs": [
        {
          "output_type": "stream",
          "name": "stderr",
          "text": [
            ".\n",
            "----------------------------------------------------------------------\n",
            "Ran 1 test in 0.003s\n",
            "\n",
            "OK\n"
          ]
        }
      ],
      "source": [
        "# Exercise 5\n",
        "\n",
        "reload(ecc)\n",
        "run(ecc.PointTest(\"test_add1\"))"
      ]
    },
    {
      "cell_type": "markdown",
      "metadata": {
        "id": "32eDZ4_amjBo"
      },
      "source": [
        "### Exercise 6\n",
        "\n",
        "For the curve \\\\(y^{2}\\\\)=\\\\(x^{3}\\\\)+5x+7, what is (-1,-1) + (-1,-1)?"
      ]
    },
    {
      "cell_type": "code",
      "execution_count": 40,
      "metadata": {
        "id": "xPlFxVsVmjBo",
        "colab": {
          "base_uri": "https://localhost:8080/"
        },
        "outputId": "50b76110-1321-4e8f-fedd-b70b2bf674bf"
      },
      "outputs": [
        {
          "output_type": "execute_result",
          "data": {
            "text/plain": [
              "Point(18.0,77.0)_5_7"
            ]
          },
          "metadata": {},
          "execution_count": 40
        }
      ],
      "source": [
        "# Exercise 6\n",
        "\n",
        "from ecc import Point\n",
        "\n",
        "a = 5\n",
        "b = 7\n",
        "x1, y1 = -1, -1\n",
        "Point(x1, y1, a, b) + Point(x1, y1, a, b)\n",
        "# (-1,-1) + (-1,-1)"
      ]
    },
    {
      "cell_type": "markdown",
      "metadata": {
        "id": "pI6WA2YvmjBo"
      },
      "source": [
        "### Exercise 7\n",
        "\n",
        "Write the `__add__` method when \\\\(P_{1}\\\\)=\\\\(P_{2}\\\\).\n",
        "\n",
        "#### Make [this test](/edit/code-ch02/ecc.py) pass: `ecc.py:PointTest:test_add2`"
      ]
    },
    {
      "cell_type": "code",
      "execution_count": 42,
      "metadata": {
        "id": "NjQzxOO9mjBo",
        "colab": {
          "base_uri": "https://localhost:8080/"
        },
        "outputId": "e65f3bcc-591c-4830-a94c-f0ad4758a78e"
      },
      "outputs": [
        {
          "output_type": "stream",
          "name": "stderr",
          "text": [
            ".\n",
            "----------------------------------------------------------------------\n",
            "Ran 1 test in 0.004s\n",
            "\n",
            "OK\n"
          ]
        }
      ],
      "source": [
        "# Exercise 7\n",
        "\n",
        "reload(ecc)\n",
        "run(ecc.PointTest(\"test_add2\"))"
      ]
    }
  ],
  "metadata": {
    "colab": {
      "name": "Copy of Chapter2.ipynb",
      "provenance": [],
      "collapsed_sections": [],
      "include_colab_link": true
    },
    "language_info": {
      "name": "python"
    },
    "kernelspec": {
      "name": "python3",
      "display_name": "Python 3"
    }
  },
  "nbformat": 4,
  "nbformat_minor": 0
}