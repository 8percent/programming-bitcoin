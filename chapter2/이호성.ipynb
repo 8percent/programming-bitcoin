{
  "cells": [
    {
      "cell_type": "code",
      "execution_count": null,
      "metadata": {
        "id": "XUrvs328grC-"
      },
      "outputs": [],
      "source": [
        "############## PLEASE RUN THIS CELL FIRST! ###################\n",
        "\n",
        "# import everything and define a test runner function\n",
        "from importlib import reload\n",
        "from helper import run\n",
        "import ecc\n",
        "import helper\n",
        "\n",
        "from ecc import Point"
      ]
    },
    {
      "cell_type": "code",
      "execution_count": null,
      "metadata": {
        "id": "QTUqLwyzgrDC"
      },
      "outputs": [],
      "source": [
        "from ecc import Point\n",
        "p1 = Point(-1, -1, 5, 7)\n",
        "p2 = Point(-1, -2, 5, 7)"
      ]
    },
    {
      "cell_type": "markdown",
      "metadata": {
        "id": "UuOK5ao3grDD"
      },
      "source": [
        "### Exercise 1\n",
        "\n",
        "Determine which of these points are on the curve \\\\(y^{2}\\\\)=\\\\(x^{3}\\\\)+5x+7:\n",
        "\n",
        "(2,4), (-1,-1), (18,77), (5,7)"
      ]
    },
    {
      "cell_type": "code",
      "execution_count": null,
      "metadata": {
        "id": "nYaX20BkgrDF"
      },
      "outputs": [],
      "source": [
        "# Exercise 1\n",
        "\n",
        "# (2,4), (-1,-1), (18,77), (5,7)\n",
        "# equation in python is: y**2 == x**3 + 5*x + 7"
      ]
    },
    {
      "cell_type": "markdown",
      "metadata": {
        "id": "pBTP62rGgrDG"
      },
      "source": [
        "### Exercise 2\n",
        "\n",
        "Write the `__ne__` method for `Point`.\n",
        "\n",
        "#### Make [this test](/edit/code-ch02/ecc.py) pass: `ecc.py:PointTest:test_ne`"
      ]
    },
    {
      "cell_type": "code",
      "execution_count": null,
      "metadata": {
        "id": "nNK2tiMxgrDG"
      },
      "outputs": [],
      "source": [
        "# Exercise 2\n",
        "\n",
        "reload(ecc)\n",
        "run(ecc.PointTest(\"test_ne\"))"
      ]
    },
    {
      "cell_type": "code",
      "execution_count": null,
      "metadata": {
        "id": "hLEsfU_GgrDH"
      },
      "outputs": [],
      "source": [
        "from ecc import Point\n",
        "p1 = Point(-1, -1, 5, 7)\n",
        "p2 = Point(-1, 1, 5, 7)\n",
        "inf = Point(None, None, 5, 7)\n",
        "print(p1 + inf)\n",
        "print(inf + p2)\n",
        "print(p1 + p2)"
      ]
    },
    {
      "cell_type": "markdown",
      "metadata": {
        "id": "PEBY_AjcgrDI"
      },
      "source": [
        "### Exercise 3\n",
        "\n",
        "Handle the case where the two points are additive inverses. That is, they have the same `x`, but a different `y`, causing a vertical line. This should return the point at infinity.\n",
        "\n",
        "#### Make [this test](/edit/code-ch02/ecc.py) pass: `ecc.py:PointTest:test_add0`"
      ]
    },
    {
      "cell_type": "code",
      "execution_count": null,
      "metadata": {
        "id": "WLts9YAPgrDJ"
      },
      "outputs": [],
      "source": [
        "# Exercise 3\n",
        "\n",
        "reload(ecc)\n",
        "run(ecc.PointTest(\"test_add0\"))"
      ]
    },
    {
      "cell_type": "markdown",
      "metadata": {
        "id": "1QdIfuYMgrDK"
      },
      "source": [
        "### Exercise 4\n",
        "\n",
        "For the curve \\\\(y^{2}\\\\)=\\\\(x^{3}\\\\)+5x+7, what is (2,5) + (-1,-1)?"
      ]
    },
    {
      "cell_type": "code",
      "execution_count": null,
      "metadata": {
        "id": "cnr-JcAjgrDK"
      },
      "outputs": [],
      "source": [
        "# Exercise 4\n",
        "\n",
        "from ecc import Point\n",
        "\n",
        "a = 5\n",
        "b = 7\n",
        "x1, y1 = 2, 5\n",
        "x2, y2 = -1, -1\n",
        "\n",
        "# (x1,y1) + (x2,y2)"
      ]
    },
    {
      "cell_type": "markdown",
      "metadata": {
        "id": "Bn9g3JcrgrDL"
      },
      "source": [
        "### Exercise 5\n",
        "\n",
        "Write the `__add__` method where \\\\(x_{1}\\\\)≠\\\\(x_{2}\\\\)\n",
        "\n",
        "#### Make [this test](/edit/code-ch02/ecc.py) pass: `ecc.py:PointTest:test_add1`"
      ]
    },
    {
      "cell_type": "code",
      "execution_count": null,
      "metadata": {
        "id": "9iYxY2FSgrDM"
      },
      "outputs": [],
      "source": [
        "# Exercise 5\n",
        "\n",
        "reload(ecc)\n",
        "run(ecc.PointTest(\"test_add1\"))"
      ]
    },
    {
      "cell_type": "markdown",
      "metadata": {
        "id": "znokyrrdgrDM"
      },
      "source": [
        "### Exercise 6\n",
        "\n",
        "For the curve \\\\(y^{2}\\\\)=\\\\(x^{3}\\\\)+5x+7, what is (-1,-1) + (-1,-1)?"
      ]
    },
    {
      "cell_type": "code",
      "execution_count": null,
      "metadata": {
        "id": "5cd46PGigrDN"
      },
      "outputs": [],
      "source": [
        "# Exercise 6\n",
        "\n",
        "from ecc import Point\n",
        "\n",
        "a = 5\n",
        "b = 7\n",
        "x1, y1 = -1, -1\n",
        "# (-1,-1) + (-1,-1)"
      ]
    },
    {
      "cell_type": "markdown",
      "metadata": {
        "id": "3tbZvvAHgrDN"
      },
      "source": [
        "### Exercise 7\n",
        "\n",
        "Write the `__add__` method when \\\\(P_{1}\\\\)=\\\\(P_{2}\\\\).\n",
        "\n",
        "#### Make [this test](/edit/code-ch02/ecc.py) pass: `ecc.py:PointTest:test_add2`"
      ]
    },
    {
      "cell_type": "code",
      "execution_count": null,
      "metadata": {
        "id": "9QsQ_WjBgrDN"
      },
      "outputs": [],
      "source": [
        "# Exercise 7\n",
        "\n",
        "reload(ecc)\n",
        "run(ecc.PointTest(\"test_add2\"))"
      ]
    }
  ],
  "metadata": {
    "colab": {
      "name": "Chapter2.ipynb",
      "provenance": []
    }
  },
  "nbformat": 4,
  "nbformat_minor": 0
}