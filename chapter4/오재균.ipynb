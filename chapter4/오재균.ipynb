{
  "cells": [
    {
      "cell_type": "markdown",
      "metadata": {
        "id": "view-in-github",
        "colab_type": "text"
      },
      "source": [
        "<a href=\"https://colab.research.google.com/github/8percent/programming-bitcoin/blob/main/chapter4/%EC%98%A4%EC%9E%AC%EA%B7%A0.ipynb\" target=\"_parent\"><img src=\"https://colab.research.google.com/assets/colab-badge.svg\" alt=\"Open In Colab\"/></a>"
      ]
    },
    {
      "cell_type": "code",
      "source": [
        "!git clone https://github.com/jimmysong/programmingbitcoin"
      ],
      "metadata": {
        "colab": {
          "base_uri": "https://localhost:8080/"
        },
        "id": "q_UNlr4RGMG8",
        "outputId": "32e9b137-0459-41ad-b843-dd6056815fb9"
      },
      "execution_count": 1,
      "outputs": [
        {
          "output_type": "stream",
          "name": "stdout",
          "text": [
            "Cloning into 'programmingbitcoin'...\n",
            "remote: Enumerating objects: 6406, done.\u001b[K\n",
            "remote: Total 6406 (delta 0), reused 0 (delta 0), pack-reused 6406\u001b[K\n",
            "Receiving objects: 100% (6406/6406), 39.43 MiB | 25.77 MiB/s, done.\n",
            "Resolving deltas: 100% (4254/4254), done.\n"
          ]
        }
      ]
    },
    {
      "cell_type": "code",
      "source": [
        "!pip install requests"
      ],
      "metadata": {
        "colab": {
          "base_uri": "https://localhost:8080/"
        },
        "id": "vL3pXyA-GMYX",
        "outputId": "f50a8a81-fa17-4a1e-e965-84618fab4527"
      },
      "execution_count": 2,
      "outputs": [
        {
          "output_type": "stream",
          "name": "stdout",
          "text": [
            "Looking in indexes: https://pypi.org/simple, https://us-python.pkg.dev/colab-wheels/public/simple/\n",
            "Requirement already satisfied: requests in /usr/local/lib/python3.7/dist-packages (2.23.0)\n",
            "Requirement already satisfied: certifi>=2017.4.17 in /usr/local/lib/python3.7/dist-packages (from requests) (2022.5.18.1)\n",
            "Requirement already satisfied: urllib3!=1.25.0,!=1.25.1,<1.26,>=1.21.1 in /usr/local/lib/python3.7/dist-packages (from requests) (1.24.3)\n",
            "Requirement already satisfied: chardet<4,>=3.0.2 in /usr/local/lib/python3.7/dist-packages (from requests) (3.0.4)\n",
            "Requirement already satisfied: idna<3,>=2.5 in /usr/local/lib/python3.7/dist-packages (from requests) (2.10)\n"
          ]
        }
      ]
    },
    {
      "cell_type": "code",
      "source": [
        "cd programmingbitcoin/code-ch04"
      ],
      "metadata": {
        "colab": {
          "base_uri": "https://localhost:8080/"
        },
        "id": "ktithARWGQ-i",
        "outputId": "464f63f3-6e80-47cd-9ef4-32f9a6d9d76f"
      },
      "execution_count": 3,
      "outputs": [
        {
          "output_type": "stream",
          "name": "stdout",
          "text": [
            "/content/programmingbitcoin/code-ch04\n"
          ]
        }
      ]
    },
    {
      "cell_type": "code",
      "execution_count": 4,
      "metadata": {
        "id": "fOEzwhalGC3O"
      },
      "outputs": [],
      "source": [
        "############## PLEASE RUN THIS CELL FIRST! ###################\n",
        "\n",
        "# import everything and define a test runner function\n",
        "from importlib import reload\n",
        "from helper import run\n",
        "import ecc\n",
        "import helper"
      ]
    },
    {
      "cell_type": "markdown",
      "metadata": {
        "id": "_3Ut90h5GC3Q"
      },
      "source": [
        "### Exercise 1\n",
        "\n",
        "Find the uncompressed SEC format for the Public Key where the Private Key secrets are:\n",
        "\n",
        "* 5000\n",
        "* \\\\(2018^{5}\\\\)\n",
        "* 0xdeadbeef12345"
      ]
    },
    {
      "cell_type": "code",
      "execution_count": 7,
      "metadata": {
        "id": "eUWCeR7qGC3Q",
        "colab": {
          "base_uri": "https://localhost:8080/"
        },
        "outputId": "42e74bd3-5b83-47ea-d042-2157552f7752"
      },
      "outputs": [
        {
          "output_type": "stream",
          "name": "stdout",
          "text": [
            "04ffe558e388852f0120e46af2d1b370f85854a8eb0841811ece0e3e03d282d57c315dc72890a4f10a1481c031b03b351b0dc79901ca18a00cf009dbdb157a1d10\n",
            "04027f3da1918455e03c46f659266a1bb5204e959db7364d2f473bdf8f0a13cc9dff87647fd023c13b4a4994f17691895806e1b40b57f4fd22581a4f46851f3b06\n",
            "04d90cd625ee87dd38656dd95cf79f65f60f7273b67d3096e68bd81e4f5342691f842efa762fd59961d0e99803c61edba8b3e3f7dc3a341836f97733aebf987121\n"
          ]
        }
      ],
      "source": [
        "# Exercise 1\n",
        "\n",
        "from ecc import PrivateKey\n",
        "\n",
        "for e in [5000, 2018**5, 0xdeadbeef12345]:\n",
        "  pk = PrivateKey(e).point\n",
        "  print(pk.sec(compressed = False).hex())\n",
        "# privatekey.point is the public key for a private key"
      ]
    },
    {
      "cell_type": "markdown",
      "metadata": {
        "id": "WOKFkqLCGC3R"
      },
      "source": [
        "### Exercise 2\n",
        "\n",
        "Find the Compressed SEC format for the Public Key where the Private Key secrets are:\n",
        "\n",
        "* 5001\n",
        "* \\\\(2019^{5}\\\\)\n",
        "* 0xdeadbeef54321"
      ]
    },
    {
      "cell_type": "code",
      "execution_count": 8,
      "metadata": {
        "id": "w4kJuRDSGC3R",
        "colab": {
          "base_uri": "https://localhost:8080/"
        },
        "outputId": "daf225b3-4262-423e-fd8a-1ba2569cd837"
      },
      "outputs": [
        {
          "output_type": "stream",
          "name": "stdout",
          "text": [
            "0357a4f368868a8a6d572991e484e664810ff14c05c0fa023275251151fe0e53d1\n",
            "02933ec2d2b111b92737ec12f1c5d20f3233a0ad21cd8b36d0bca7a0cfa5cb8701\n",
            "0296be5b1292f6c856b3c5654e886fc13511462059089cdf9c479623bfcbe77690\n"
          ]
        }
      ],
      "source": [
        "# Exercise 2\n",
        "\n",
        "from ecc import PrivateKey\n",
        "for e in [5001, 2019**5, 0xdeadbeef54321]:\n",
        "  pk = PrivateKey(e).point\n",
        "  print(pk.sec(compressed = True).hex())\n",
        "# 5001\n",
        "# 2019**5\n",
        "# 0xdeadbeef54321"
      ]
    },
    {
      "cell_type": "markdown",
      "metadata": {
        "id": "sl8eEHfvGC3S"
      },
      "source": [
        "### Exercise 3\n",
        "\n",
        "Find the DER format for a signature whose `r` and `s` values are:\n",
        "\n",
        "* r =\n",
        "\n",
        "`0x37206a0610995c58074999cb9767b87af4c4978db68c06e8e6e81d282047a7c6`\n",
        "\n",
        "* s =\n",
        "\n",
        "`0x8ca63759c1157ebeaec0d03cecca119fc9a75bf8e6d0fa65c841c8e2738cdaec`"
      ]
    },
    {
      "cell_type": "code",
      "execution_count": 10,
      "metadata": {
        "id": "OpsL8HDhGC3S",
        "colab": {
          "base_uri": "https://localhost:8080/"
        },
        "outputId": "938da3c6-99f9-41e1-cda7-95efd91a0e69"
      },
      "outputs": [
        {
          "output_type": "stream",
          "name": "stdout",
          "text": [
            "3045022037206a0610995c58074999cb9767b87af4c4978db68c06e8e6e81d282047a7c60221008ca63759c1157ebeaec0d03cecca119fc9a75bf8e6d0fa65c841c8e2738cdaec\n"
          ]
        }
      ],
      "source": [
        "# Exercise 3\n",
        "\n",
        "from ecc import Signature\n",
        "\n",
        "r = 0x37206a0610995c58074999cb9767b87af4c4978db68c06e8e6e81d282047a7c6\n",
        "s = 0x8ca63759c1157ebeaec0d03cecca119fc9a75bf8e6d0fa65c841c8e2738cdaec\n",
        "sgn = Signature(r, s)\n",
        "print(sgn.der().hex())"
      ]
    },
    {
      "cell_type": "markdown",
      "metadata": {
        "id": "m_j2iWMcGC3S"
      },
      "source": [
        "### Exercise 4\n",
        "\n",
        "Convert the following hex to binary and then to Base58:\n",
        "\n",
        "* `7c076ff316692a3d7eb3c3bb0f8b1488cf72e1afcd929e29307032997a838a3d`\n",
        "* `eff69ef2b1bd93a66ed5219add4fb51e11a840f404876325a1e8ffe0529a2c`\n",
        "* `c7207fee197d27c618aea621406f6bf5ef6fca38681d82b2f06fddbdce6feab6`"
      ]
    },
    {
      "cell_type": "code",
      "execution_count": 11,
      "metadata": {
        "id": "BZi2KCeWGC3S",
        "colab": {
          "base_uri": "https://localhost:8080/"
        },
        "outputId": "da72c4ef-ae7a-401f-dc0e-62ec091a6db0"
      },
      "outputs": [
        {
          "output_type": "stream",
          "name": "stdout",
          "text": [
            "9MA8fRQrT4u8Zj8ZRd6MAiiyaxb2Y1CMpvVkHQu5hVM6\n",
            "4fE3H2E6XMp4SsxtwinF7w9a34ooUrwWe4WsW1458Pd\n",
            "EQJsjkd6JaGwxrjEhfeqPenqHwrBmPQZjJGNSCHBkcF7\n"
          ]
        }
      ],
      "source": [
        "# Exercise 4\n",
        "\n",
        "from helper import encode_base58\n",
        "\n",
        "for st in ('7c076ff316692a3d7eb3c3bb0f8b1488cf72e1afcd929e29307032997a838a3d', 'eff69ef2b1bd93a66ed5219add4fb51e11a840f404876325a1e8ffe0529a2c', 'c7207fee197d27c618aea621406f6bf5ef6fca38681d82b2f06fddbdce6feab6'):\n",
        "  print(encode_base58(bytes.fromhex(st)))"
      ]
    },
    {
      "cell_type": "markdown",
      "metadata": {
        "id": "KacrLywTGC3T"
      },
      "source": [
        "### Exercise 5\n",
        "\n",
        "Find the address corresponding to Public Keys whose Private Key secrets are:\n",
        "\n",
        "* 5002 (use uncompressed SEC, on testnet)\n",
        "* \\\\(2020^{5}\\\\) (use compressed SEC, on testnet)\n",
        "* 0x12345deadbeef (use compressed SEC on mainnet)"
      ]
    },
    {
      "cell_type": "code",
      "execution_count": 17,
      "metadata": {
        "id": "GyOjtHkLGC3T",
        "colab": {
          "base_uri": "https://localhost:8080/"
        },
        "outputId": "b7f30fe3-9b04-402c-f9b4-1e242e36ff8b"
      },
      "outputs": [
        {
          "output_type": "stream",
          "name": "stdout",
          "text": [
            "mmTPbXQFxboEtNRkwfh6K51jvdtHLxGeMA\n",
            "mopVkxp8UhXqRYbCYJsbeE1h1fiF64jcoH\n",
            "1F1Pn2y6pDb68E5nYJJeba4TLg2U7B6KF1\n"
          ]
        }
      ],
      "source": [
        "# Exercise 5\n",
        "\n",
        "from ecc import PrivateKey\n",
        "\n",
        "# 5002 (use uncompressed SEC, on testnet)\n",
        "# 2020**5 (use compressed SEC, on testnet)\n",
        "# 0x12345deadbeef (use compressed SEC on mainnet)\n",
        "point1 = PrivateKey(5002).point\n",
        "c1 = False\n",
        "test1 = True\n",
        "point2 = PrivateKey((2020 ** 5)).point\n",
        "c2 = True\n",
        "test2 = True\n",
        "point3 = PrivateKey(0x12345deadbeef).point\n",
        "c3 = True\n",
        "test3 = False\n",
        "for p, k, c in zip((point1, point2, point3), (test1, test2, test3), (c1, c2, c3)):\n",
        "    adrs = p.address(compressed = c, testnet = k)\n",
        "    print(adrs)"
      ]
    },
    {
      "cell_type": "markdown",
      "metadata": {
        "id": "RK3qfBAhGC3T"
      },
      "source": [
        "### Exercise 6\n",
        "\n",
        "Find the WIF for Private Key whose secrets are:\n",
        "\n",
        "* 5003 (compressed, testnet)\n",
        "* \\\\(2021^{5}\\\\) (uncompressed, testnet)\n",
        "* 0x54321deadbeef (compressed, mainnet)"
      ]
    },
    {
      "cell_type": "code",
      "execution_count": 18,
      "metadata": {
        "id": "SGRfl_62GC3T",
        "colab": {
          "base_uri": "https://localhost:8080/"
        },
        "outputId": "f0d7fd55-a1d0-4541-8287-230bb74d72ca"
      },
      "outputs": [
        {
          "output_type": "stream",
          "name": "stdout",
          "text": [
            "cMahea7zqjxrtgAbB7LSGbcQUr1uX1ojuat9jZodMN8rFTv2sfUK\n",
            "91avARGdfge8E4tZfYLoxeJ5sGBdNJQH4kvjpWAxgzczjbCwxic\n",
            "KwDiBf89QgGbjEhKnhXJuH7LrciVrZi3qYjgiuQJv1h8Ytr2S53a\n"
          ]
        }
      ],
      "source": [
        "# Exercise 6\n",
        "\n",
        "from ecc import PrivateKey\n",
        "\n",
        "# 5003\n",
        "# 2021**5\n",
        "# 0x54321deadbeef\n",
        "point1 = PrivateKey(5003)\n",
        "#key1 = point1.sec(compressd = True)\n",
        "c1 = True\n",
        "test1 = True\n",
        "point2 = PrivateKey((2021 ** 5))\n",
        "#key2 = point2.sec(compressd = False)\n",
        "c2 = False\n",
        "test2 = True\n",
        "point3 = PrivateKey(0x54321deadbeef)\n",
        "#key3 = point3.sec(compressd = True)\n",
        "c3 = True\n",
        "test3 = False\n",
        "for p, k, c in zip((point1, point2, point3), (test1, test2, test3), (c1, c2, c3)):\n",
        "    adrs = p.wif(compressed = c, testnet = k)\n",
        "    print(adrs)"
      ]
    },
    {
      "cell_type": "markdown",
      "metadata": {
        "id": "g-0uhB4zGC3U"
      },
      "source": [
        "### Exercise 7\n",
        "\n",
        "Write a function `little_endian_to_int` which takes Python bytes, interprets those bytes in Little-Endian and returns the number.\n",
        "\n",
        "#### Make [this test](/edit/code-ch04/helper.py) pass: `helper.py:HelperTest:test_little_endian_to_int`"
      ]
    },
    {
      "cell_type": "code",
      "execution_count": 19,
      "metadata": {
        "id": "_3sjD5NiGC3U",
        "colab": {
          "base_uri": "https://localhost:8080/"
        },
        "outputId": "80037286-87fa-41af-a2cd-9a30c21b462e"
      },
      "outputs": [
        {
          "output_type": "stream",
          "name": "stderr",
          "text": [
            ".\n",
            "----------------------------------------------------------------------\n",
            "Ran 1 test in 0.003s\n",
            "\n",
            "OK\n"
          ]
        }
      ],
      "source": [
        "# Exercise 7\n",
        "\n",
        "reload(helper)\n",
        "run(helper.HelperTest(\"test_little_endian_to_int\"))"
      ]
    },
    {
      "cell_type": "markdown",
      "metadata": {
        "id": "RLNBRP7pGC3U"
      },
      "source": [
        "### Exercise 8\n",
        "\n",
        "Write a function `int_to_little_endian` which does the reverse of the last exercise.\n",
        "\n",
        "#### Make [this test](/edit/code-ch04/helper.py) pass: `helper.py:HelperTest:test_int_to_little_endian`"
      ]
    },
    {
      "cell_type": "code",
      "execution_count": 20,
      "metadata": {
        "id": "n0l0MC0yGC3V",
        "colab": {
          "base_uri": "https://localhost:8080/"
        },
        "outputId": "eeaa327e-ba3b-4cd6-c068-dbff37e34a70"
      },
      "outputs": [
        {
          "output_type": "stream",
          "name": "stderr",
          "text": [
            ".\n",
            "----------------------------------------------------------------------\n",
            "Ran 1 test in 0.002s\n",
            "\n",
            "OK\n"
          ]
        }
      ],
      "source": [
        "# Exercise 8\n",
        "\n",
        "reload(helper)\n",
        "run(helper.HelperTest(\"test_int_to_little_endian\"))"
      ]
    },
    {
      "cell_type": "markdown",
      "metadata": {
        "id": "coWqQyhdGC3W"
      },
      "source": [
        "### Exercise 9\n",
        "\n",
        "Create a testnet address for yourself using a long secret that only you know. This is important as there are bots on testnet trying to steal testnet coins. Make sure you write this secret down somewhere! You will be using the secret later to sign Transactions."
      ]
    },
    {
      "cell_type": "code",
      "execution_count": 22,
      "metadata": {
        "id": "c0arMJVuGC3W",
        "colab": {
          "base_uri": "https://localhost:8080/"
        },
        "outputId": "d5f079e9-db9b-4e77-d96c-1329ffeec54c"
      },
      "outputs": [
        {
          "output_type": "stream",
          "name": "stdout",
          "text": [
            "moF19FZzo7ewy53yeX1o6SLYnzNKCV5mcA\n"
          ]
        }
      ],
      "source": [
        "# Exercise 9\n",
        "\n",
        "from ecc import PrivateKey\n",
        "from helper import hash256, little_endian_to_int\n",
        "\n",
        "# select a passphrase here, add your email address into the passphrase for security\n",
        "# passphrase = b'your@email.address some secret only you know'\n",
        "# secret = little_endian_to_int(hash256(passphrase))\n",
        "# create a private key using your secret\n",
        "# print an address from the public point of the private key with testnet=True\n",
        "phasekey = b'jaegyoon.oh@8percent.kr jkjacb12896782349013678'\n",
        "phasenum = little_endian_to_int(hash256(phasekey))\n",
        "pkey = PrivateKey(phasenum)\n",
        "ppoint = pkey.point\n",
        "print(ppoint.address(testnet = True))"
      ]
    }
  ],
  "metadata": {
    "colab": {
      "name": "오재균",
      "provenance": [],
      "collapsed_sections": [],
      "include_colab_link": true
    },
    "language_info": {
      "name": "python"
    },
    "kernelspec": {
      "name": "python3",
      "display_name": "Python 3"
    },
    "gpuClass": "standard"
  },
  "nbformat": 4,
  "nbformat_minor": 0
}