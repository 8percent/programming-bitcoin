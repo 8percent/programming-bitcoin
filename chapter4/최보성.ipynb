{
 "cells": [
  {
   "cell_type": "code",
   "execution_count": 17,
   "metadata": {
    "pycharm": {
     "name": "#%%\n"
    }
   },
   "outputs": [],
   "source": [
    "############## PLEASE RUN THIS CELL FIRST! ###################\n",
    "\n",
    "# import everything and define a test runner function\n",
    "from prgbitcoin.helper import run"
   ]
  },
  {
   "cell_type": "markdown",
   "metadata": {
    "pycharm": {
     "name": "#%% md\n"
    }
   },
   "source": [
    "### Exercise 1\n",
    "\n",
    "Find the uncompressed SEC format for the Public Key where the Private Key secrets are:\n",
    "\n",
    "* 5000\n",
    "* \\\\(2018^{5}\\\\)\n",
    "* 0xdeadbeef12345"
   ]
  },
  {
   "cell_type": "code",
   "execution_count": 18,
   "metadata": {
    "pycharm": {
     "name": "#%%\n"
    }
   },
   "outputs": [
    {
     "name": "stdout",
     "output_type": "stream",
     "text": [
      "b'\\x04\\xff\\xe5X\\xe3\\x88\\x85/\\x01 \\xe4j\\xf2\\xd1\\xb3p\\xf8XT\\xa8\\xeb\\x08A\\x81\\x1e\\xce\\x0e>\\x03\\xd2\\x82\\xd5|1]\\xc7(\\x90\\xa4\\xf1\\n\\x14\\x81\\xc01\\xb0;5\\x1b\\r\\xc7\\x99\\x01\\xca\\x18\\xa0\\x0c\\xf0\\t\\xdb\\xdb\\x15z\\x1d\\x10'\n",
      "b'\\x04\\x02\\x7f=\\xa1\\x91\\x84U\\xe0<F\\xf6Y&j\\x1b\\xb5 N\\x95\\x9d\\xb76M/G;\\xdf\\x8f\\n\\x13\\xcc\\x9d\\xff\\x87d\\x7f\\xd0#\\xc1;JI\\x94\\xf1v\\x91\\x89X\\x06\\xe1\\xb4\\x0bW\\xf4\\xfd\"X\\x1aOF\\x85\\x1f;\\x06'\n",
      "b'\\x04\\xd9\\x0c\\xd6%\\xee\\x87\\xdd8em\\xd9\\\\\\xf7\\x9fe\\xf6\\x0frs\\xb6}0\\x96\\xe6\\x8b\\xd8\\x1eOSBi\\x1f\\x84.\\xfav/\\xd5\\x99a\\xd0\\xe9\\x98\\x03\\xc6\\x1e\\xdb\\xa8\\xb3\\xe3\\xf7\\xdc:4\\x186\\xf9w3\\xae\\xbf\\x98q!'\n"
     ]
    }
   ],
   "source": [
    "# Exercise 1\n",
    "\n",
    "from prgbitcoin.ecc import PrivateKey\n",
    "\n",
    "for key in [5000, 2018**5, 0xdeadbeef12345]:\n",
    "    print(repr(PrivateKey(key).point.sec(False)))\n",
    "\n",
    "# 5000\n",
    "# 2018**5\n",
    "# 0xdeadbeef12345\n",
    "# privatekey.point is the public key for a private key"
   ]
  },
  {
   "cell_type": "markdown",
   "metadata": {
    "pycharm": {
     "name": "#%% md\n"
    }
   },
   "source": [
    "### Exercise 2\n",
    "\n",
    "Find the Compressed SEC format for the Public Key where the Private Key secrets are:\n",
    "\n",
    "* 5001\n",
    "* \\\\(2019^{5}\\\\)\n",
    "* 0xdeadbeef54321"
   ]
  },
  {
   "cell_type": "code",
   "execution_count": 19,
   "metadata": {
    "pycharm": {
     "name": "#%%\n"
    }
   },
   "outputs": [
    {
     "name": "stdout",
     "output_type": "stream",
     "text": [
      "b'\\x03W\\xa4\\xf3h\\x86\\x8a\\x8amW)\\x91\\xe4\\x84\\xe6d\\x81\\x0f\\xf1L\\x05\\xc0\\xfa\\x022u%\\x11Q\\xfe\\x0eS\\xd1'\n",
      "b\"\\x02\\x93>\\xc2\\xd2\\xb1\\x11\\xb9'7\\xec\\x12\\xf1\\xc5\\xd2\\x0f23\\xa0\\xad!\\xcd\\x8b6\\xd0\\xbc\\xa7\\xa0\\xcf\\xa5\\xcb\\x87\\x01\"\n",
      "b'\\x02\\x96\\xbe[\\x12\\x92\\xf6\\xc8V\\xb3\\xc5eN\\x88o\\xc15\\x11F Y\\x08\\x9c\\xdf\\x9cG\\x96#\\xbf\\xcb\\xe7v\\x90'\n"
     ]
    }
   ],
   "source": [
    "# Exercise 2\n",
    "\n",
    "for key in [5001, 2019**5, 0xdeadbeef54321]:\n",
    "    print(repr(PrivateKey(key).point.sec(True)))\n",
    "# 5001\n",
    "# 2019**5\n",
    "# 0xdeadbeef54321"
   ]
  },
  {
   "cell_type": "markdown",
   "metadata": {
    "pycharm": {
     "name": "#%% md\n"
    }
   },
   "source": [
    "### Exercise 3\n",
    "\n",
    "Find the DER format for a signature whose `r` and `s` values are:\n",
    "\n",
    "* r =\n",
    "\n",
    "`0x37206a0610995c58074999cb9767b87af4c4978db68c06e8e6e81d282047a7c6`\n",
    "\n",
    "* s =\n",
    "\n",
    "`0x8ca63759c1157ebeaec0d03cecca119fc9a75bf8e6d0fa65c841c8e2738cdaec`"
   ]
  },
  {
   "cell_type": "code",
   "execution_count": 20,
   "metadata": {
    "pycharm": {
     "name": "#%%\n"
    }
   },
   "outputs": [
    {
     "name": "stdout",
     "output_type": "stream",
     "text": [
      "b'0E\\x02 7 j\\x06\\x10\\x99\\\\X\\x07I\\x99\\xcb\\x97g\\xb8z\\xf4\\xc4\\x97\\x8d\\xb6\\x8c\\x06\\xe8\\xe6\\xe8\\x1d( G\\xa7\\xc6\\x02!\\x00\\x8c\\xa67Y\\xc1\\x15~\\xbe\\xae\\xc0\\xd0<\\xec\\xca\\x11\\x9f\\xc9\\xa7[\\xf8\\xe6\\xd0\\xfae\\xc8A\\xc8\\xe2s\\x8c\\xda\\xec'\n"
     ]
    }
   ],
   "source": [
    "# Exercise 3\n",
    "\n",
    "from prgbitcoin.ecc import Signature\n",
    "\n",
    "r = 0x37206a0610995c58074999cb9767b87af4c4978db68c06e8e6e81d282047a7c6\n",
    "s = 0x8ca63759c1157ebeaec0d03cecca119fc9a75bf8e6d0fa65c841c8e2738cdaec\n",
    "print(Signature(r, s).der())"
   ]
  },
  {
   "cell_type": "markdown",
   "metadata": {
    "pycharm": {
     "name": "#%% md\n"
    }
   },
   "source": [
    "### Exercise 4\n",
    "\n",
    "Convert the following hex to binary and then to Base58:\n",
    "\n",
    "* `7c076ff316692a3d7eb3c3bb0f8b1488cf72e1afcd929e29307032997a838a3d`\n",
    "* `eff69ef2b1bd93a66ed5219add4fb51e11a840f404876325a1e8ffe0529a2c`\n",
    "* `c7207fee197d27c618aea621406f6bf5ef6fca38681d82b2f06fddbdce6feab6`"
   ]
  },
  {
   "cell_type": "code",
   "execution_count": 21,
   "metadata": {
    "pycharm": {
     "name": "#%%\n"
    }
   },
   "outputs": [
    {
     "name": "stdout",
     "output_type": "stream",
     "text": [
      "9MA8fRQrT4u8Zj8ZRd6MAiiyaxb2Y1CMpvVkHQu5hVM6\n",
      "4fE3H2E6XMp4SsxtwinF7w9a34ooUrwWe4WsW1458Pd\n",
      "EQJsjkd6JaGwxrjEhfeqPenqHwrBmPQZjJGNSCHBkcF7\n"
     ]
    }
   ],
   "source": [
    "# Exercise 4\n",
    "\n",
    "from prgbitcoin.helper import encode_base58\n",
    "\n",
    "hex_list = [\n",
    "    '7c076ff316692a3d7eb3c3bb0f8b1488cf72e1afcd929e29307032997a838a3d',\n",
    "    'eff69ef2b1bd93a66ed5219add4fb51e11a840f404876325a1e8ffe0529a2c',\n",
    "    'c7207fee197d27c618aea621406f6bf5ef6fca38681d82b2f06fddbdce6feab6',\n",
    "]\n",
    "for hex in hex_list:\n",
    "    print(encode_base58(bytes.fromhex(hex)))"
   ]
  },
  {
   "cell_type": "markdown",
   "metadata": {
    "pycharm": {
     "name": "#%% md\n"
    }
   },
   "source": [
    "### Exercise 5\n",
    "\n",
    "Find the address corresponding to Public Keys whose Private Key secrets are:\n",
    "\n",
    "* 5002 (use uncompressed SEC, on testnet)\n",
    "* \\\\(2020^{5}\\\\) (use compressed SEC, on testnet)\n",
    "* 0x12345deadbeef (use compressed SEC on mainnet)"
   ]
  },
  {
   "cell_type": "code",
   "execution_count": 22,
   "metadata": {
    "pycharm": {
     "name": "#%%\n"
    }
   },
   "outputs": [
    {
     "name": "stdout",
     "output_type": "stream",
     "text": [
      "mmTPbXQFxboEtNRkwfh6K51jvdtHLxGeMA\n",
      "mopVkxp8UhXqRYbCYJsbeE1h1fiF64jcoH\n",
      "1F1Pn2y6pDb68E5nYJJeba4TLg2U7B6KF1\n"
     ]
    }
   ],
   "source": [
    "# Exercise 5\n",
    "\n",
    "# 5002 (use uncompressed SEC, on testnet)\n",
    "# 2020**5 (use compressed SEC, on testnet)\n",
    "# 0x12345deadbeef (use compressed SEC on mainnet)\n",
    "data = [\n",
    "    (5002, False, True),\n",
    "    (2020**5, True, True),\n",
    "    (0x12345deadbeef, True, False),\n",
    "]\n",
    "for secret, compressed, testnet in data:\n",
    "    private_key = PrivateKey(secret)\n",
    "    print(private_key.point.address(compressed, testnet))\n"
   ]
  },
  {
   "cell_type": "markdown",
   "metadata": {
    "pycharm": {
     "name": "#%% md\n"
    }
   },
   "source": [
    "### Exercise 6\n",
    "\n",
    "Find the WIF for Private Key whose secrets are:\n",
    "\n",
    "* 5003 (compressed, testnet)\n",
    "* \\\\(2021^{5}\\\\) (uncompressed, testnet)\n",
    "* 0x54321deadbeef (compressed, mainnet)"
   ]
  },
  {
   "cell_type": "code",
   "execution_count": 23,
   "metadata": {
    "pycharm": {
     "name": "#%%\n"
    }
   },
   "outputs": [
    {
     "name": "stdout",
     "output_type": "stream",
     "text": [
      "cMahea7zqjxrtgAbB7LSGbcQUr1uX1ojuat9jZodMN8rFTv2sfUK\n",
      "91avARGdfge8E4tZfYLoxeJ5sGBdNJQH4kvjpWAxgzczjbCwxic\n",
      "KwDiBf89QgGbjEhKnhXJuH7LrciVrZi3qYjgiuQJv1h8Ytr2S53a\n"
     ]
    }
   ],
   "source": [
    "# Exercise 6\n",
    "\n",
    "# 5003\n",
    "# 2021**5\n",
    "# 0x54321deadbeef\n",
    "data = [\n",
    "    (5003, True, True),\n",
    "    (2021**5, False, True),\n",
    "    (0x54321deadbeef, True, False),\n",
    "]\n",
    "\n",
    "for secret, compressed, testnet in data:\n",
    "    print(PrivateKey(secret).wif(compressed, testnet))"
   ]
  },
  {
   "cell_type": "markdown",
   "metadata": {
    "pycharm": {
     "name": "#%% md\n"
    }
   },
   "source": [
    "### Exercise 7\n",
    "\n",
    "Write a function `little_endian_to_int` which takes Python bytes, interprets those bytes in Little-Endian and returns the number.\n",
    "\n",
    "#### Make [this test](/edit/code-ch04/helper.py) pass: `helper.py:HelperTest:test_little_endian_to_int`"
   ]
  },
  {
   "cell_type": "code",
   "execution_count": 24,
   "metadata": {
    "pycharm": {
     "name": "#%%\n"
    }
   },
   "outputs": [
    {
     "name": "stderr",
     "output_type": "stream",
     "text": [
      ".\n",
      "----------------------------------------------------------------------\n",
      "Ran 1 test in 0.001s\n",
      "\n",
      "OK\n"
     ]
    }
   ],
   "source": [
    "# Exercise 7\n",
    "\n",
    "from prgbitcoin.helper import HelperTest\n",
    "\n",
    "run(HelperTest(\"test_little_endian_to_int\"))"
   ]
  },
  {
   "cell_type": "markdown",
   "metadata": {
    "pycharm": {
     "name": "#%% md\n"
    }
   },
   "source": [
    "### Exercise 8\n",
    "\n",
    "Write a function `int_to_little_endian` which does the reverse of the last exercise.\n",
    "\n",
    "#### Make [this test](/edit/code-ch04/helper.py) pass: `helper.py:HelperTest:test_int_to_little_endian`"
   ]
  },
  {
   "cell_type": "code",
   "execution_count": 25,
   "metadata": {
    "pycharm": {
     "name": "#%%\n"
    }
   },
   "outputs": [
    {
     "name": "stderr",
     "output_type": "stream",
     "text": [
      ".\n",
      "----------------------------------------------------------------------\n",
      "Ran 1 test in 0.001s\n",
      "\n",
      "OK\n"
     ]
    }
   ],
   "source": [
    "# Exercise 8\n",
    "\n",
    "run(HelperTest(\"test_int_to_little_endian\"))"
   ]
  },
  {
   "cell_type": "markdown",
   "metadata": {
    "pycharm": {
     "name": "#%% md\n"
    }
   },
   "source": [
    "### Exercise 9\n",
    "\n",
    "Create a testnet address for yourself using a long secret that only you know. This is important as there are bots on testnet trying to steal testnet coins. Make sure you write this secret down somewhere! You will be using the secret later to sign Transactions."
   ]
  },
  {
   "cell_type": "code",
   "execution_count": 26,
   "outputs": [
    {
     "name": "stdout",
     "output_type": "stream",
     "text": [
      "n2UHGW2ZkL3sNgkFavjmcrZQm8hG5VuKVQ\n"
     ]
    }
   ],
   "source": [
    "# Exercise 9\n",
    "\n",
    "from prgbitcoin.helper import little_endian_to_int, hash256\n",
    "\n",
    "# select a passphrase here, add your email address into the passphrase for security\n",
    "# passphrase = b'your@email.address some secret only you know'\n",
    "# secret = little_endian_to_int(hash256(passphrase))\n",
    "# create a private key using your secret\n",
    "# print an address from the public point of the private key with testnet=True\n",
    "passphrase = b'bobby@8percent.kr programming bitcoin chapter 4'\n",
    "secret = little_endian_to_int(hash256(passphrase))\n",
    "print(PrivateKey(secret).point.address(True, True))"
   ],
   "metadata": {
    "collapsed": false,
    "pycharm": {
     "name": "#%%\n"
    }
   }
  }
 ],
 "metadata": {},
 "nbformat": 4,
 "nbformat_minor": 2
}