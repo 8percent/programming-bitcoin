{
  "cells": [
    {
      "cell_type": "markdown",
      "metadata": {
        "id": "view-in-github",
        "colab_type": "text"
      },
      "source": [
        "<a href=\"https://colab.research.google.com/github/8percent/programming-bitcoin/blob/main/chapter4/%ED%99%8D%EC%A4%80%EC%8B%9D.ipynb\" target=\"_parent\"><img src=\"https://colab.research.google.com/assets/colab-badge.svg\" alt=\"Open In Colab\"/></a>"
      ]
    },
    {
      "cell_type": "code",
      "source": [
        "!git clone https://github.com/jimmysong/programmingbitcoin"
      ],
      "metadata": {
        "colab": {
          "base_uri": "https://localhost:8080/"
        },
        "id": "XXGc9sxUzB7E",
        "outputId": "2dc1c85f-eb30-4ab3-ed58-bf7808dfa78c"
      },
      "execution_count": 1,
      "outputs": [
        {
          "output_type": "stream",
          "name": "stdout",
          "text": [
            "Cloning into 'programmingbitcoin'...\n",
            "remote: Enumerating objects: 6406, done.\u001b[K\n",
            "remote: Total 6406 (delta 0), reused 0 (delta 0), pack-reused 6406\u001b[K\n",
            "Receiving objects: 100% (6406/6406), 39.43 MiB | 14.35 MiB/s, done.\n",
            "Resolving deltas: 100% (4254/4254), done.\n"
          ]
        }
      ]
    },
    {
      "cell_type": "code",
      "source": [
        "!pip install requests"
      ],
      "metadata": {
        "colab": {
          "base_uri": "https://localhost:8080/"
        },
        "id": "_aLuy9PWzEIG",
        "outputId": "574605aa-1912-4284-8a5a-733964095caa"
      },
      "execution_count": 2,
      "outputs": [
        {
          "output_type": "stream",
          "name": "stdout",
          "text": [
            "Looking in indexes: https://pypi.org/simple, https://us-python.pkg.dev/colab-wheels/public/simple/\n",
            "Requirement already satisfied: requests in /usr/local/lib/python3.7/dist-packages (2.23.0)\n",
            "Requirement already satisfied: idna<3,>=2.5 in /usr/local/lib/python3.7/dist-packages (from requests) (2.10)\n",
            "Requirement already satisfied: chardet<4,>=3.0.2 in /usr/local/lib/python3.7/dist-packages (from requests) (3.0.4)\n",
            "Requirement already satisfied: certifi>=2017.4.17 in /usr/local/lib/python3.7/dist-packages (from requests) (2022.5.18.1)\n",
            "Requirement already satisfied: urllib3!=1.25.0,!=1.25.1,<1.26,>=1.21.1 in /usr/local/lib/python3.7/dist-packages (from requests) (1.24.3)\n"
          ]
        }
      ]
    },
    {
      "cell_type": "code",
      "source": [
        "cd programmingbitcoin/code-ch04"
      ],
      "metadata": {
        "colab": {
          "base_uri": "https://localhost:8080/"
        },
        "id": "46hfrrnjzGUC",
        "outputId": "f67c8145-9cac-4cb3-988f-f05f2395f307"
      },
      "execution_count": 3,
      "outputs": [
        {
          "output_type": "stream",
          "name": "stdout",
          "text": [
            "/content/programmingbitcoin/code-ch04\n"
          ]
        }
      ]
    },
    {
      "cell_type": "code",
      "execution_count": 4,
      "metadata": {
        "id": "oP1Vni4Vy7i0"
      },
      "outputs": [],
      "source": [
        "############## PLEASE RUN THIS CELL FIRST! ###################\n",
        "\n",
        "# import everything and define a test runner function\n",
        "from importlib import reload\n",
        "from helper import run\n",
        "import ecc\n",
        "import helper"
      ]
    },
    {
      "cell_type": "markdown",
      "metadata": {
        "id": "fFtlpgPFy7i2"
      },
      "source": [
        "### Exercise 1\n",
        "\n",
        "Find the uncompressed SEC format for the Public Key where the Private Key secrets are:\n",
        "\n",
        "* 5000\n",
        "* \\\\(2018^{5}\\\\)\n",
        "* 0xdeadbeef12345"
      ]
    },
    {
      "cell_type": "code",
      "execution_count": 5,
      "metadata": {
        "id": "7xVNXhJJy7i3"
      },
      "outputs": [],
      "source": [
        "# Exercise 1\n",
        "\n",
        "from ecc import PrivateKey\n",
        "\n",
        "# 5000\n",
        "# 2018**5\n",
        "# 0xdeadbeef12345\n",
        "# privatekey.point is the public key for a private key"
      ]
    },
    {
      "cell_type": "code",
      "source": [
        "key_list = [5000, 2018**5, 0xdeadbeef12345]\n",
        "for key in key_list:\n",
        "  print(f'Key: {key}, Public Key SEC: {PrivateKey(key).point.sec(compressed=False)}')"
      ],
      "metadata": {
        "colab": {
          "base_uri": "https://localhost:8080/"
        },
        "id": "Vke4AZbAz4YJ",
        "outputId": "5976dd44-912d-42ba-d2ec-c97741d7c81f"
      },
      "execution_count": 7,
      "outputs": [
        {
          "output_type": "stream",
          "name": "stdout",
          "text": [
            "Key: 5000, Public Key SEC: b'\\x04\\xff\\xe5X\\xe3\\x88\\x85/\\x01 \\xe4j\\xf2\\xd1\\xb3p\\xf8XT\\xa8\\xeb\\x08A\\x81\\x1e\\xce\\x0e>\\x03\\xd2\\x82\\xd5|1]\\xc7(\\x90\\xa4\\xf1\\n\\x14\\x81\\xc01\\xb0;5\\x1b\\r\\xc7\\x99\\x01\\xca\\x18\\xa0\\x0c\\xf0\\t\\xdb\\xdb\\x15z\\x1d\\x10'\n",
            "Key: 33466154331649568, Public Key SEC: b'\\x04\\x02\\x7f=\\xa1\\x91\\x84U\\xe0<F\\xf6Y&j\\x1b\\xb5 N\\x95\\x9d\\xb76M/G;\\xdf\\x8f\\n\\x13\\xcc\\x9d\\xff\\x87d\\x7f\\xd0#\\xc1;JI\\x94\\xf1v\\x91\\x89X\\x06\\xe1\\xb4\\x0bW\\xf4\\xfd\"X\\x1aOF\\x85\\x1f;\\x06'\n",
            "Key: 3917405024756549, Public Key SEC: b'\\x04\\xd9\\x0c\\xd6%\\xee\\x87\\xdd8em\\xd9\\\\\\xf7\\x9fe\\xf6\\x0frs\\xb6}0\\x96\\xe6\\x8b\\xd8\\x1eOSBi\\x1f\\x84.\\xfav/\\xd5\\x99a\\xd0\\xe9\\x98\\x03\\xc6\\x1e\\xdb\\xa8\\xb3\\xe3\\xf7\\xdc:4\\x186\\xf9w3\\xae\\xbf\\x98q!'\n"
          ]
        }
      ]
    },
    {
      "cell_type": "markdown",
      "metadata": {
        "id": "atVvcsRgy7i4"
      },
      "source": [
        "### Exercise 2\n",
        "\n",
        "Find the Compressed SEC format for the Public Key where the Private Key secrets are:\n",
        "\n",
        "* 5001\n",
        "* \\\\(2019^{5}\\\\)\n",
        "* 0xdeadbeef54321"
      ]
    },
    {
      "cell_type": "code",
      "execution_count": 9,
      "metadata": {
        "id": "W9dZL9x7y7i4"
      },
      "outputs": [],
      "source": [
        "# Exercise 2\n",
        "\n",
        "from ecc import PrivateKey\n",
        "\n",
        "# 5001\n",
        "# 2019**5\n",
        "# 0xdeadbeef54321"
      ]
    },
    {
      "cell_type": "code",
      "source": [
        "key_list = [5001, 2019**5, 0xdeadbeef54321]\n",
        "for key in key_list:\n",
        "  print(f'Key: {key}, Public Key SEC: {PrivateKey(key).point.sec(compressed=True)}')"
      ],
      "metadata": {
        "colab": {
          "base_uri": "https://localhost:8080/"
        },
        "id": "PQZRRBOu2Xu4",
        "outputId": "b0f2d33e-1fd1-4415-d306-914c4703c5ed"
      },
      "execution_count": 8,
      "outputs": [
        {
          "output_type": "stream",
          "name": "stdout",
          "text": [
            "Key: 5001, Public Key SEC: b'\\x03W\\xa4\\xf3h\\x86\\x8a\\x8amW)\\x91\\xe4\\x84\\xe6d\\x81\\x0f\\xf1L\\x05\\xc0\\xfa\\x022u%\\x11Q\\xfe\\x0eS\\xd1'\n",
            "Key: 33549155665686099, Public Key SEC: b\"\\x02\\x93>\\xc2\\xd2\\xb1\\x11\\xb9'7\\xec\\x12\\xf1\\xc5\\xd2\\x0f23\\xa0\\xad!\\xcd\\x8b6\\xd0\\xbc\\xa7\\xa0\\xcf\\xa5\\xcb\\x87\\x01\"\n",
            "Key: 3917405025026849, Public Key SEC: b'\\x02\\x96\\xbe[\\x12\\x92\\xf6\\xc8V\\xb3\\xc5eN\\x88o\\xc15\\x11F Y\\x08\\x9c\\xdf\\x9cG\\x96#\\xbf\\xcb\\xe7v\\x90'\n"
          ]
        }
      ]
    },
    {
      "cell_type": "markdown",
      "metadata": {
        "id": "rFVAEBwXy7i5"
      },
      "source": [
        "### Exercise 3\n",
        "\n",
        "Find the DER format for a signature whose `r` and `s` values are:\n",
        "\n",
        "* r =\n",
        "\n",
        "`0x37206a0610995c58074999cb9767b87af4c4978db68c06e8e6e81d282047a7c6`\n",
        "\n",
        "* s =\n",
        "\n",
        "`0x8ca63759c1157ebeaec0d03cecca119fc9a75bf8e6d0fa65c841c8e2738cdaec`"
      ]
    },
    {
      "cell_type": "code",
      "execution_count": 10,
      "metadata": {
        "id": "0XbhFpKvy7i5"
      },
      "outputs": [],
      "source": [
        "# Exercise 3\n",
        "\n",
        "from ecc import Signature\n",
        "\n",
        "r = 0x37206a0610995c58074999cb9767b87af4c4978db68c06e8e6e81d282047a7c6\n",
        "s = 0x8ca63759c1157ebeaec0d03cecca119fc9a75bf8e6d0fa65c841c8e2738cdaec"
      ]
    },
    {
      "cell_type": "code",
      "source": [
        "Signature(r, s).der()"
      ],
      "metadata": {
        "colab": {
          "base_uri": "https://localhost:8080/"
        },
        "id": "STwMeOSX3RiT",
        "outputId": "541d89a0-67a1-47e8-832a-fc48759ec47a"
      },
      "execution_count": 11,
      "outputs": [
        {
          "output_type": "execute_result",
          "data": {
            "text/plain": [
              "b'0E\\x02 7 j\\x06\\x10\\x99\\\\X\\x07I\\x99\\xcb\\x97g\\xb8z\\xf4\\xc4\\x97\\x8d\\xb6\\x8c\\x06\\xe8\\xe6\\xe8\\x1d( G\\xa7\\xc6\\x02!\\x00\\x8c\\xa67Y\\xc1\\x15~\\xbe\\xae\\xc0\\xd0<\\xec\\xca\\x11\\x9f\\xc9\\xa7[\\xf8\\xe6\\xd0\\xfae\\xc8A\\xc8\\xe2s\\x8c\\xda\\xec'"
            ]
          },
          "metadata": {},
          "execution_count": 11
        }
      ]
    },
    {
      "cell_type": "markdown",
      "metadata": {
        "id": "OcIz_g7uy7i6"
      },
      "source": [
        "### Exercise 4\n",
        "\n",
        "Convert the following hex to binary and then to Base58:\n",
        "\n",
        "* `7c076ff316692a3d7eb3c3bb0f8b1488cf72e1afcd929e29307032997a838a3d`\n",
        "* `eff69ef2b1bd93a66ed5219add4fb51e11a840f404876325a1e8ffe0529a2c`\n",
        "* `c7207fee197d27c618aea621406f6bf5ef6fca38681d82b2f06fddbdce6feab6`"
      ]
    },
    {
      "cell_type": "code",
      "execution_count": 12,
      "metadata": {
        "id": "pXeNp_cqy7i6"
      },
      "outputs": [],
      "source": [
        "# Exercise 4\n",
        "\n",
        "from helper import encode_base58\n",
        "\n",
        "# 7c076ff316692a3d7eb3c3bb0f8b1488cf72e1afcd929e29307032997a838a3d\n",
        "# eff69ef2b1bd93a66ed5219add4fb51e11a840f404876325a1e8ffe0529a2c\n",
        "# c7207fee197d27c618aea621406f6bf5ef6fca38681d82b2f06fddbdce6feab6"
      ]
    },
    {
      "cell_type": "code",
      "source": [
        "print(encode_base58(bytes.fromhex('7c076ff316692a3d7eb3c3bb0f8b1488cf72e1afcd929e29307032997a838a3d')))\n",
        "print(encode_base58(bytes.fromhex('eff69ef2b1bd93a66ed5219add4fb51e11a840f404876325a1e8ffe0529a2c')))\n",
        "print(encode_base58(bytes.fromhex('c7207fee197d27c618aea621406f6bf5ef6fca38681d82b2f06fddbdce6feab6')))"
      ],
      "metadata": {
        "colab": {
          "base_uri": "https://localhost:8080/"
        },
        "id": "1mftiGgK4LZH",
        "outputId": "d4d02fbe-556e-428b-f5bd-e91d3c3dc3c5"
      },
      "execution_count": 14,
      "outputs": [
        {
          "output_type": "stream",
          "name": "stdout",
          "text": [
            "9MA8fRQrT4u8Zj8ZRd6MAiiyaxb2Y1CMpvVkHQu5hVM6\n",
            "4fE3H2E6XMp4SsxtwinF7w9a34ooUrwWe4WsW1458Pd\n",
            "EQJsjkd6JaGwxrjEhfeqPenqHwrBmPQZjJGNSCHBkcF7\n"
          ]
        }
      ]
    },
    {
      "cell_type": "markdown",
      "metadata": {
        "id": "nDFPqLqJy7i7"
      },
      "source": [
        "### Exercise 5\n",
        "\n",
        "Find the address corresponding to Public Keys whose Private Key secrets are:\n",
        "\n",
        "* 5002 (use uncompressed SEC, on testnet)\n",
        "* \\\\(2020^{5}\\\\) (use compressed SEC, on testnet)\n",
        "* 0x12345deadbeef (use compressed SEC on mainnet)"
      ]
    },
    {
      "cell_type": "code",
      "execution_count": 15,
      "metadata": {
        "id": "iWBiRQbRy7i7"
      },
      "outputs": [],
      "source": [
        "# Exercise 5\n",
        "\n",
        "from ecc import PrivateKey\n",
        "\n",
        "# 5002 (use uncompressed SEC, on testnet)\n",
        "# 2020**5 (use compressed SEC, on testnet)\n",
        "# 0x12345deadbeef (use compressed SEC on mainnet)"
      ]
    },
    {
      "cell_type": "code",
      "source": [
        "print(PrivateKey(5002).point.address(compressed=False, testnet=True))\n",
        "print(PrivateKey(2020**5).point.address(compressed=True, testnet=True))\n",
        "print(PrivateKey(0x12345deadbeef).point.address(compressed=True, testnet=False))"
      ],
      "metadata": {
        "colab": {
          "base_uri": "https://localhost:8080/"
        },
        "id": "U5R5Rcjk597h",
        "outputId": "2b1af410-d199-41cd-a2c7-2175fb7a7fda"
      },
      "execution_count": 17,
      "outputs": [
        {
          "output_type": "stream",
          "name": "stdout",
          "text": [
            "mmTPbXQFxboEtNRkwfh6K51jvdtHLxGeMA\n",
            "mopVkxp8UhXqRYbCYJsbeE1h1fiF64jcoH\n",
            "1F1Pn2y6pDb68E5nYJJeba4TLg2U7B6KF1\n"
          ]
        }
      ]
    },
    {
      "cell_type": "markdown",
      "metadata": {
        "id": "nDK0gH6Iy7i8"
      },
      "source": [
        "### Exercise 6\n",
        "\n",
        "Find the WIF for Private Key whose secrets are:\n",
        "\n",
        "* 5003 (compressed, testnet)\n",
        "* \\\\(2021^{5}\\\\) (uncompressed, testnet)\n",
        "* 0x54321deadbeef (compressed, mainnet)"
      ]
    },
    {
      "cell_type": "code",
      "execution_count": 18,
      "metadata": {
        "id": "ax1sYC9Ey7i8"
      },
      "outputs": [],
      "source": [
        "# Exercise 6\n",
        "\n",
        "from ecc import PrivateKey\n",
        "\n",
        "# 5003\n",
        "# 2021**5\n",
        "# 0x54321deadbeef"
      ]
    },
    {
      "cell_type": "code",
      "source": [
        "print(PrivateKey(5003).wif(compressed=True, testnet=True))\n",
        "print(PrivateKey(2021**5).wif(compressed=False, testnet=True))\n",
        "print(PrivateKey(0x54321deadbeef).wif(compressed=True, testnet=False))"
      ],
      "metadata": {
        "colab": {
          "base_uri": "https://localhost:8080/"
        },
        "id": "2Yx2YYOL6oAA",
        "outputId": "c0008a21-0831-4d83-f312-9a43712462cd"
      },
      "execution_count": 20,
      "outputs": [
        {
          "output_type": "stream",
          "name": "stdout",
          "text": [
            "cMahea7zqjxrtgAbB7LSGbcQUr1uX1ojuat9jZodMN8rFTv2sfUK\n",
            "91avARGdfge8E4tZfYLoxeJ5sGBdNJQH4kvjpWAxgzczjbCwxic\n",
            "KwDiBf89QgGbjEhKnhXJuH7LrciVrZi3qYjgiuQJv1h8Ytr2S53a\n"
          ]
        }
      ]
    },
    {
      "cell_type": "markdown",
      "metadata": {
        "id": "BunvEraJy7i9"
      },
      "source": [
        "### Exercise 7\n",
        "\n",
        "Write a function `little_endian_to_int` which takes Python bytes, interprets those bytes in Little-Endian and returns the number.\n",
        "\n",
        "#### Make [this test](/edit/code-ch04/helper.py) pass: `helper.py:HelperTest:test_little_endian_to_int`"
      ]
    },
    {
      "cell_type": "code",
      "execution_count": 23,
      "metadata": {
        "id": "VPZo8CKOy7i9",
        "colab": {
          "base_uri": "https://localhost:8080/"
        },
        "outputId": "bed1e3df-5b8e-4061-b963-05fcba1a4186"
      },
      "outputs": [
        {
          "output_type": "stream",
          "name": "stderr",
          "text": [
            ".\n",
            "----------------------------------------------------------------------\n",
            "Ran 1 test in 0.007s\n",
            "\n",
            "OK\n"
          ]
        }
      ],
      "source": [
        "# Exercise 7\n",
        "\n",
        "reload(helper)\n",
        "run(helper.HelperTest(\"test_little_endian_to_int\"))"
      ]
    },
    {
      "cell_type": "markdown",
      "metadata": {
        "id": "M1EnLovUy7i-"
      },
      "source": [
        "### Exercise 8\n",
        "\n",
        "Write a function `int_to_little_endian` which does the reverse of the last exercise.\n",
        "\n",
        "#### Make [this test](/edit/code-ch04/helper.py) pass: `helper.py:HelperTest:test_int_to_little_endian`"
      ]
    },
    {
      "cell_type": "code",
      "execution_count": 24,
      "metadata": {
        "id": "WbyYKqPfy7i_",
        "colab": {
          "base_uri": "https://localhost:8080/"
        },
        "outputId": "78b063a4-4657-4c40-e6a9-364c0899377c"
      },
      "outputs": [
        {
          "output_type": "stream",
          "name": "stderr",
          "text": [
            ".\n",
            "----------------------------------------------------------------------\n",
            "Ran 1 test in 0.002s\n",
            "\n",
            "OK\n"
          ]
        }
      ],
      "source": [
        "# Exercise 8\n",
        "\n",
        "reload(helper)\n",
        "run(helper.HelperTest(\"test_int_to_little_endian\"))"
      ]
    },
    {
      "cell_type": "markdown",
      "metadata": {
        "id": "TgcfvqsJy7i_"
      },
      "source": [
        "### Exercise 9\n",
        "\n",
        "Create a testnet address for yourself using a long secret that only you know. This is important as there are bots on testnet trying to steal testnet coins. Make sure you write this secret down somewhere! You will be using the secret later to sign Transactions."
      ]
    },
    {
      "cell_type": "code",
      "execution_count": 25,
      "metadata": {
        "id": "6vxCtubcy7jA"
      },
      "outputs": [],
      "source": [
        "# Exercise 9\n",
        "\n",
        "from ecc import PrivateKey\n",
        "from helper import hash256, little_endian_to_int\n",
        "\n",
        "# select a passphrase here, add your email address into the passphrase for security\n",
        "# passphrase = b'your@email.address some secret only you know'\n",
        "# secret = little_endian_to_int(hash256(passphrase))\n",
        "# create a private key using your secret\n",
        "# print an address from the public point of the private key with testnet=True"
      ]
    },
    {
      "cell_type": "code",
      "source": [
        "passphrase = b'jshong0907@8percent.kr some secret only you know'\n",
        "secret = little_endian_to_int(hash256(passphrase))\n",
        "PrivateKey(secret).point.address(compressed=True, testnet=True)"
      ],
      "metadata": {
        "colab": {
          "base_uri": "https://localhost:8080/",
          "height": 37
        },
        "id": "kmj2LWp18pTt",
        "outputId": "d944efdc-359c-47eb-f204-d85eebb9ba30"
      },
      "execution_count": 26,
      "outputs": [
        {
          "output_type": "execute_result",
          "data": {
            "text/plain": [
              "'mtm8rty1i2CYZJaw5VwRJkMLXSPizQ5snG'"
            ],
            "application/vnd.google.colaboratory.intrinsic+json": {
              "type": "string"
            }
          },
          "metadata": {},
          "execution_count": 26
        }
      ]
    }
  ],
  "metadata": {
    "colab": {
      "name": "Chapter4.ipynb의 사본",
      "provenance": [],
      "collapsed_sections": [],
      "include_colab_link": true
    },
    "language_info": {
      "name": "python"
    },
    "kernelspec": {
      "name": "python3",
      "display_name": "Python 3"
    },
    "gpuClass": "standard"
  },
  "nbformat": 4,
  "nbformat_minor": 0
}