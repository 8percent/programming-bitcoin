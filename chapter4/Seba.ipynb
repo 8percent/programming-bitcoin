{
  "cells": [
    {
      "cell_type": "markdown",
      "metadata": {
        "id": "view-in-github",
        "colab_type": "text"
      },
      "source": [
        "<a href=\"https://colab.research.google.com/github/8percent/programming-bitcoin/blob/main/chapter4/Seba.ipynb\" target=\"_parent\"><img src=\"https://colab.research.google.com/assets/colab-badge.svg\" alt=\"Open In Colab\"/></a>"
      ]
    },
    {
      "cell_type": "code",
      "source": [
        "!git clone https://github.com/jimmysong/programmingbitcoin"
      ],
      "metadata": {
        "colab": {
          "base_uri": "https://localhost:8080/"
        },
        "id": "PsVR5jcLSj4_",
        "outputId": "50f9c9a4-2aac-4d69-d5a3-d97b6a8f1376"
      },
      "execution_count": 1,
      "outputs": [
        {
          "output_type": "stream",
          "name": "stdout",
          "text": [
            "Cloning into 'programmingbitcoin'...\n",
            "remote: Enumerating objects: 6406, done.\u001b[K\n",
            "remote: Total 6406 (delta 0), reused 0 (delta 0), pack-reused 6406\u001b[K\n",
            "Receiving objects: 100% (6406/6406), 39.43 MiB | 26.24 MiB/s, done.\n",
            "Resolving deltas: 100% (4254/4254), done.\n"
          ]
        }
      ]
    },
    {
      "cell_type": "code",
      "source": [
        "!pip install requests"
      ],
      "metadata": {
        "colab": {
          "base_uri": "https://localhost:8080/"
        },
        "id": "aj65ZA-tSnG0",
        "outputId": "e91bdddd-c298-4466-e86f-fc93658016fa"
      },
      "execution_count": 2,
      "outputs": [
        {
          "output_type": "stream",
          "name": "stdout",
          "text": [
            "Looking in indexes: https://pypi.org/simple, https://us-python.pkg.dev/colab-wheels/public/simple/\n",
            "Requirement already satisfied: requests in /usr/local/lib/python3.7/dist-packages (2.23.0)\n",
            "Requirement already satisfied: urllib3!=1.25.0,!=1.25.1,<1.26,>=1.21.1 in /usr/local/lib/python3.7/dist-packages (from requests) (1.24.3)\n",
            "Requirement already satisfied: certifi>=2017.4.17 in /usr/local/lib/python3.7/dist-packages (from requests) (2022.5.18.1)\n",
            "Requirement already satisfied: idna<3,>=2.5 in /usr/local/lib/python3.7/dist-packages (from requests) (2.10)\n",
            "Requirement already satisfied: chardet<4,>=3.0.2 in /usr/local/lib/python3.7/dist-packages (from requests) (3.0.4)\n"
          ]
        }
      ]
    },
    {
      "cell_type": "code",
      "source": [
        "cd programmingbitcoin/code-ch04"
      ],
      "metadata": {
        "colab": {
          "base_uri": "https://localhost:8080/"
        },
        "id": "aHSOU6ljSqHU",
        "outputId": "25a19080-e7d4-41fd-80b3-7d9e9e319edf"
      },
      "execution_count": 3,
      "outputs": [
        {
          "output_type": "stream",
          "name": "stdout",
          "text": [
            "/content/programmingbitcoin/code-ch04\n"
          ]
        }
      ]
    },
    {
      "cell_type": "code",
      "execution_count": 4,
      "metadata": {
        "id": "yj_zjwfmSctO"
      },
      "outputs": [],
      "source": [
        "############## PLEASE RUN THIS CELL FIRST! ###################\n",
        "\n",
        "# import everything and define a test runner function\n",
        "from importlib import reload\n",
        "from helper import run\n",
        "import ecc\n",
        "import helper"
      ]
    },
    {
      "cell_type": "markdown",
      "metadata": {
        "id": "i53Fri7HSctQ"
      },
      "source": [
        "### Exercise 1\n",
        "\n",
        "Find the uncompressed SEC format for the Public Key where the Private Key secrets are:\n",
        "\n",
        "* 5000\n",
        "* \\\\(2018^{5}\\\\)\n",
        "* 0xdeadbeef12345"
      ]
    },
    {
      "cell_type": "code",
      "execution_count": 11,
      "metadata": {
        "id": "kiEP_A7lSctR",
        "colab": {
          "base_uri": "https://localhost:8080/"
        },
        "outputId": "7db9bb13-2449-49b9-db5e-b09317660a22"
      },
      "outputs": [
        {
          "output_type": "stream",
          "name": "stdout",
          "text": [
            "public key for 5000\n",
            "\tb'\\x04\\xff\\xe5X\\xe3\\x88\\x85/\\x01 \\xe4j\\xf2\\xd1\\xb3p\\xf8XT\\xa8\\xeb\\x08A\\x81\\x1e\\xce\\x0e>\\x03\\xd2\\x82\\xd5|1]\\xc7(\\x90\\xa4\\xf1\\n\\x14\\x81\\xc01\\xb0;5\\x1b\\r\\xc7\\x99\\x01\\xca\\x18\\xa0\\x0c\\xf0\\t\\xdb\\xdb\\x15z\\x1d\\x10'\n",
            "public key for 33466154331649568\n",
            "\tb'\\x04\\x02\\x7f=\\xa1\\x91\\x84U\\xe0<F\\xf6Y&j\\x1b\\xb5 N\\x95\\x9d\\xb76M/G;\\xdf\\x8f\\n\\x13\\xcc\\x9d\\xff\\x87d\\x7f\\xd0#\\xc1;JI\\x94\\xf1v\\x91\\x89X\\x06\\xe1\\xb4\\x0bW\\xf4\\xfd\"X\\x1aOF\\x85\\x1f;\\x06'\n",
            "public key for 3917405024756549\n",
            "\tb'\\x04\\xd9\\x0c\\xd6%\\xee\\x87\\xdd8em\\xd9\\\\\\xf7\\x9fe\\xf6\\x0frs\\xb6}0\\x96\\xe6\\x8b\\xd8\\x1eOSBi\\x1f\\x84.\\xfav/\\xd5\\x99a\\xd0\\xe9\\x98\\x03\\xc6\\x1e\\xdb\\xa8\\xb3\\xe3\\xf7\\xdc:4\\x186\\xf9w3\\xae\\xbf\\x98q!'\n"
          ]
        }
      ],
      "source": [
        "# Exercise 1\n",
        "\n",
        "from ecc import PrivateKey\n",
        "\n",
        "# 5000\n",
        "# 2018**5\n",
        "# 0xdeadbeef12345\n",
        "# privatekey.point is the public key for a private key\n",
        "for key in (5000, 2018 ** 5, 0xdeadbeef12345):\n",
        "  sec = PrivateKey(key).point.sec(compressed=False)\n",
        "  print(f\"public key for {key}\\n\\t{sec}\")"
      ]
    },
    {
      "cell_type": "markdown",
      "metadata": {
        "id": "zDZs6PLHSctR"
      },
      "source": [
        "### Exercise 2\n",
        "\n",
        "Find the Compressed SEC format for the Public Key where the Private Key secrets are:\n",
        "\n",
        "* 5001\n",
        "* \\\\(2019^{5}\\\\)\n",
        "* 0xdeadbeef54321"
      ]
    },
    {
      "cell_type": "code",
      "execution_count": 12,
      "metadata": {
        "id": "HBq2maM5SctS",
        "colab": {
          "base_uri": "https://localhost:8080/"
        },
        "outputId": "78a64cc8-58b5-4718-edb8-729eff4e4f05"
      },
      "outputs": [
        {
          "output_type": "stream",
          "name": "stdout",
          "text": [
            "public key for 5001\n",
            "\tb'\\x03W\\xa4\\xf3h\\x86\\x8a\\x8amW)\\x91\\xe4\\x84\\xe6d\\x81\\x0f\\xf1L\\x05\\xc0\\xfa\\x022u%\\x11Q\\xfe\\x0eS\\xd1'\n",
            "public key for 33549155665686099\n",
            "\tb\"\\x02\\x93>\\xc2\\xd2\\xb1\\x11\\xb9'7\\xec\\x12\\xf1\\xc5\\xd2\\x0f23\\xa0\\xad!\\xcd\\x8b6\\xd0\\xbc\\xa7\\xa0\\xcf\\xa5\\xcb\\x87\\x01\"\n",
            "public key for 3917405025026849\n",
            "\tb'\\x02\\x96\\xbe[\\x12\\x92\\xf6\\xc8V\\xb3\\xc5eN\\x88o\\xc15\\x11F Y\\x08\\x9c\\xdf\\x9cG\\x96#\\xbf\\xcb\\xe7v\\x90'\n"
          ]
        }
      ],
      "source": [
        "# Exercise 2\n",
        "\n",
        "from ecc import PrivateKey\n",
        "\n",
        "# 5001\n",
        "# 2019**5\n",
        "# 0xdeadbeef54321\n",
        "for key in (5001, 2019 ** 5, 0xdeadbeef54321):\n",
        "  sec = PrivateKey(key).point.sec(compressed=True)\n",
        "  print(f\"public key for {key}\\n\\t{sec}\")"
      ]
    },
    {
      "cell_type": "markdown",
      "metadata": {
        "id": "9SaOEa3OSctS"
      },
      "source": [
        "### Exercise 3\n",
        "\n",
        "Find the DER format for a signature whose `r` and `s` values are:\n",
        "\n",
        "* r =\n",
        "\n",
        "`0x37206a0610995c58074999cb9767b87af4c4978db68c06e8e6e81d282047a7c6`\n",
        "\n",
        "* s =\n",
        "\n",
        "`0x8ca63759c1157ebeaec0d03cecca119fc9a75bf8e6d0fa65c841c8e2738cdaec`"
      ]
    },
    {
      "cell_type": "code",
      "execution_count": 19,
      "metadata": {
        "id": "PykZNiBHSctS",
        "colab": {
          "base_uri": "https://localhost:8080/"
        },
        "outputId": "65430d28-8ae2-470a-d586-5fe56a532c57"
      },
      "outputs": [
        {
          "output_type": "stream",
          "name": "stdout",
          "text": [
            "3045022037206a0610995c58074999cb9767b87af4c4978db68c06e8e6e81d282047a7c60221008ca63759c1157ebeaec0d03cecca119fc9a75bf8e6d0fa65c841c8e2738cdaec\n"
          ]
        }
      ],
      "source": [
        "# Exercise 3\n",
        "\n",
        "from ecc import Signature\n",
        "\n",
        "r = 0x37206a0610995c58074999cb9767b87af4c4978db68c06e8e6e81d282047a7c6\n",
        "s = 0x8ca63759c1157ebeaec0d03cecca119fc9a75bf8e6d0fa65c841c8e2738cdaec\n",
        "der = Signature(r, s).der()\n",
        "print(der.hex())"
      ]
    },
    {
      "cell_type": "markdown",
      "metadata": {
        "id": "fYiH_i8PSctT"
      },
      "source": [
        "### Exercise 4\n",
        "\n",
        "Convert the following hex to binary and then to Base58:\n",
        "\n",
        "* `7c076ff316692a3d7eb3c3bb0f8b1488cf72e1afcd929e29307032997a838a3d`\n",
        "* `eff69ef2b1bd93a66ed5219add4fb51e11a840f404876325a1e8ffe0529a2c`\n",
        "* `c7207fee197d27c618aea621406f6bf5ef6fca38681d82b2f06fddbdce6feab6`"
      ]
    },
    {
      "cell_type": "code",
      "execution_count": 23,
      "metadata": {
        "id": "6XLANN1bSctT",
        "colab": {
          "base_uri": "https://localhost:8080/"
        },
        "outputId": "7d715c39-2af2-46aa-dbb7-979a93a7733f"
      },
      "outputs": [
        {
          "output_type": "stream",
          "name": "stdout",
          "text": [
            "7c076ff316692a3d7eb3c3bb0f8b1488cf72e1afcd929e29307032997a838a3d -> 9MA8fRQrT4u8Zj8ZRd6MAiiyaxb2Y1CMpvVkHQu5hVM6\n",
            "eff69ef2b1bd93a66ed5219add4fb51e11a840f404876325a1e8ffe0529a2c -> 4fE3H2E6XMp4SsxtwinF7w9a34ooUrwWe4WsW1458Pd\n",
            "c7207fee197d27c618aea621406f6bf5ef6fca38681d82b2f06fddbdce6feab6 -> EQJsjkd6JaGwxrjEhfeqPenqHwrBmPQZjJGNSCHBkcF7\n"
          ]
        }
      ],
      "source": [
        "# Exercise 4\n",
        "\n",
        "from helper import encode_base58\n",
        "\n",
        "for hex in (\"7c076ff316692a3d7eb3c3bb0f8b1488cf72e1afcd929e29307032997a838a3d\",\n",
        "            \"eff69ef2b1bd93a66ed5219add4fb51e11a840f404876325a1e8ffe0529a2c\",\n",
        "            \"c7207fee197d27c618aea621406f6bf5ef6fca38681d82b2f06fddbdce6feab6\"):\n",
        "  b = bytes.fromhex(hex)\n",
        "  print(f\"{b.hex()} -> {encode_base58(b)}\")\n",
        "  \n"
      ]
    },
    {
      "cell_type": "markdown",
      "metadata": {
        "id": "osphHr8fSctT"
      },
      "source": [
        "### Exercise 5\n",
        "\n",
        "Find the address corresponding to Public Keys whose Private Key secrets are:\n",
        "\n",
        "* 5002 (use uncompressed SEC, on testnet)\n",
        "* \\\\(2020^{5}\\\\) (use compressed SEC, on testnet)\n",
        "* 0x12345deadbeef (use compressed SEC on mainnet)"
      ]
    },
    {
      "cell_type": "code",
      "execution_count": 24,
      "metadata": {
        "id": "x4usjQ2wSctU",
        "colab": {
          "base_uri": "https://localhost:8080/"
        },
        "outputId": "eec0409b-8d25-4f69-b74e-3087983978d8"
      },
      "outputs": [
        {
          "output_type": "stream",
          "name": "stdout",
          "text": [
            "5002 address: mmTPbXQFxboEtNRkwfh6K51jvdtHLxGeMA\n",
            "33632321603200000 address: mopVkxp8UhXqRYbCYJsbeE1h1fiF64jcoH\n",
            "320257972354799 address: 1F1Pn2y6pDb68E5nYJJeba4TLg2U7B6KF1\n"
          ]
        }
      ],
      "source": [
        "# Exercise 5\n",
        "\n",
        "from ecc import PrivateKey\n",
        "\n",
        "# 5002 (use uncompressed SEC, on testnet)\n",
        "# 2020**5 (use compressed SEC, on testnet)\n",
        "# 0x12345deadbeef (use compressed SEC on mainnet)\n",
        "for key, compressed, testnet in (\n",
        "    (5002, False, True),\n",
        "    (2020 ** 5, True, True),\n",
        "    (0x12345deadbeef, True, False)\n",
        "):\n",
        "  p = PrivateKey(key)\n",
        "  pub_key = p.point\n",
        "  addr = pub_key.address(compressed, testnet)\n",
        "  print(f\"{key} address: {addr}\")"
      ]
    },
    {
      "cell_type": "markdown",
      "metadata": {
        "id": "PNNM1hG8SctU"
      },
      "source": [
        "### Exercise 6\n",
        "\n",
        "Find the WIF for Private Key whose secrets are:\n",
        "\n",
        "* 5003 (compressed, testnet)\n",
        "* \\\\(2021^{5}\\\\) (uncompressed, testnet)\n",
        "* 0x54321deadbeef (compressed, mainnet)"
      ]
    },
    {
      "cell_type": "code",
      "execution_count": 25,
      "metadata": {
        "id": "Lba-yC4pSctU",
        "colab": {
          "base_uri": "https://localhost:8080/"
        },
        "outputId": "466ca5b4-1b6c-47e6-bc65-4a9f1646e477"
      },
      "outputs": [
        {
          "output_type": "stream",
          "name": "stdout",
          "text": [
            "5003 WIF: cMahea7zqjxrtgAbB7LSGbcQUr1uX1ojuat9jZodMN8rFTv2sfUK\n",
            "33715652388894101 WIF: 91avARGdfge8E4tZfYLoxeJ5sGBdNJQH4kvjpWAxgzczjbCwxic\n",
            "1481187632463599 WIF: KwDiBf89QgGbjEhKnhXJuH7LrciVrZi3qYjgiuQJv1h8Ytr2S53a\n"
          ]
        }
      ],
      "source": [
        "# Exercise 6\n",
        "\n",
        "from ecc import PrivateKey\n",
        "\n",
        "# 5003\n",
        "# 2021**5\n",
        "# 0x54321deadbeef\n",
        "for key, compressed, testnet in (\n",
        "    (5003, True, True),\n",
        "    (2021 ** 5, False, True),\n",
        "    (0x54321deadbeef, True, False)\n",
        "):\n",
        "  p = PrivateKey(key)\n",
        "  wif = p.wif(compressed, testnet)\n",
        "  print(f\"{key} WIF: {wif}\")"
      ]
    },
    {
      "cell_type": "markdown",
      "metadata": {
        "id": "LkQClc8BSctU"
      },
      "source": [
        "### Exercise 7\n",
        "\n",
        "Write a function `little_endian_to_int` which takes Python bytes, interprets those bytes in Little-Endian and returns the number.\n",
        "\n",
        "#### Make [this test](/edit/code-ch04/helper.py) pass: `helper.py:HelperTest:test_little_endian_to_int`"
      ]
    },
    {
      "cell_type": "code",
      "execution_count": 29,
      "metadata": {
        "id": "dPUPwLspSctV",
        "colab": {
          "base_uri": "https://localhost:8080/"
        },
        "outputId": "20785f75-83d1-4895-f5d7-29e7ab08e9fb"
      },
      "outputs": [
        {
          "output_type": "stream",
          "name": "stderr",
          "text": [
            ".\n",
            "----------------------------------------------------------------------\n",
            "Ran 1 test in 0.007s\n",
            "\n",
            "OK\n"
          ]
        }
      ],
      "source": [
        "# Exercise 7\n",
        "\n",
        "reload(helper)\n",
        "run(helper.HelperTest(\"test_little_endian_to_int\"))"
      ]
    },
    {
      "cell_type": "markdown",
      "metadata": {
        "id": "005FOVUBSctV"
      },
      "source": [
        "### Exercise 8\n",
        "\n",
        "Write a function `int_to_little_endian` which does the reverse of the last exercise.\n",
        "\n",
        "#### Make [this test](/edit/code-ch04/helper.py) pass: `helper.py:HelperTest:test_int_to_little_endian`"
      ]
    },
    {
      "cell_type": "code",
      "execution_count": 30,
      "metadata": {
        "id": "N1IU8Cy1SctV",
        "colab": {
          "base_uri": "https://localhost:8080/"
        },
        "outputId": "630c6bcc-a9d8-4cc6-f66d-e27ac659c78f"
      },
      "outputs": [
        {
          "output_type": "stream",
          "name": "stderr",
          "text": [
            ".\n",
            "----------------------------------------------------------------------\n",
            "Ran 1 test in 0.007s\n",
            "\n",
            "OK\n"
          ]
        }
      ],
      "source": [
        "# Exercise 8\n",
        "\n",
        "reload(helper)\n",
        "run(helper.HelperTest(\"test_int_to_little_endian\"))"
      ]
    },
    {
      "cell_type": "markdown",
      "metadata": {
        "id": "1YWiuaD1SctV"
      },
      "source": [
        "### Exercise 9\n",
        "\n",
        "Create a testnet address for yourself using a long secret that only you know. This is important as there are bots on testnet trying to steal testnet coins. Make sure you write this secret down somewhere! You will be using the secret later to sign Transactions."
      ]
    },
    {
      "cell_type": "code",
      "execution_count": 31,
      "metadata": {
        "id": "EVs7JqYnSctV",
        "colab": {
          "base_uri": "https://localhost:8080/"
        },
        "outputId": "7f9b2c76-2691-402c-defe-7ed5f59a525c"
      },
      "outputs": [
        {
          "output_type": "stream",
          "name": "stdout",
          "text": [
            "mz1h8UrqQFExaP1yHEYzccieXMuBnE3KuX\n"
          ]
        }
      ],
      "source": [
        "# Exercise 9\n",
        "\n",
        "from ecc import PrivateKey\n",
        "from helper import hash256, little_endian_to_int\n",
        "\n",
        "# select a passphrase here, add your email address into the passphrase for security\n",
        "# passphrase = b'sebatyler@gmail.com some secret only you know'\n",
        "# secret = little_endian_to_int(hash256(passphrase))\n",
        "# create a private key using your secret\n",
        "# print an address from the public point of the private key with testnet=True\n",
        "passphrase = b'sebatyler@gmail.com some secret only you know'\n",
        "secret = little_endian_to_int(hash256(passphrase))\n",
        "p = PrivateKey(secret)\n",
        "print(p.point.address(compressed=True, testnet=True))\n"
      ]
    }
  ],
  "metadata": {
    "colab": {
      "name": "Chapter4.ipynb의 사본",
      "provenance": [],
      "collapsed_sections": [],
      "include_colab_link": true
    },
    "language_info": {
      "name": "python"
    },
    "kernelspec": {
      "name": "python3",
      "display_name": "Python 3"
    }
  },
  "nbformat": 4,
  "nbformat_minor": 0
}