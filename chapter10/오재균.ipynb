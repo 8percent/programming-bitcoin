{
  "cells": [
    {
      "cell_type": "markdown",
      "metadata": {
        "id": "view-in-github",
        "colab_type": "text"
      },
      "source": [
        "<a href=\"https://colab.research.google.com/github/8percent/programming-bitcoin/blob/main/chapter10/%EC%98%A4%EC%9E%AC%EA%B7%A0.ipynb\" target=\"_parent\"><img src=\"https://colab.research.google.com/assets/colab-badge.svg\" alt=\"Open In Colab\"/></a>"
      ]
    },
    {
      "cell_type": "code",
      "source": [
        "!git clone https://github.com/jimmysong/programmingbitcoin"
      ],
      "metadata": {
        "id": "pTld5fHClBFg",
        "colab": {
          "base_uri": "https://localhost:8080/"
        },
        "outputId": "7806a408-c71a-4a3f-d8e4-f0aff5743797"
      },
      "execution_count": 1,
      "outputs": [
        {
          "output_type": "stream",
          "name": "stdout",
          "text": [
            "Cloning into 'programmingbitcoin'...\n",
            "remote: Enumerating objects: 6406, done.\u001b[K\n",
            "remote: Total 6406 (delta 0), reused 0 (delta 0), pack-reused 6406\u001b[K\n",
            "Receiving objects: 100% (6406/6406), 39.43 MiB | 25.14 MiB/s, done.\n",
            "Resolving deltas: 100% (4254/4254), done.\n"
          ]
        }
      ]
    },
    {
      "cell_type": "code",
      "source": [
        "!pip install requests"
      ],
      "metadata": {
        "id": "otzLRKs7lB0x",
        "colab": {
          "base_uri": "https://localhost:8080/"
        },
        "outputId": "87d8cca5-aa3e-4189-a2be-a44b132d5aa4"
      },
      "execution_count": 2,
      "outputs": [
        {
          "output_type": "stream",
          "name": "stdout",
          "text": [
            "Looking in indexes: https://pypi.org/simple, https://us-python.pkg.dev/colab-wheels/public/simple/\n",
            "Requirement already satisfied: requests in /usr/local/lib/python3.7/dist-packages (2.23.0)\n",
            "Requirement already satisfied: chardet<4,>=3.0.2 in /usr/local/lib/python3.7/dist-packages (from requests) (3.0.4)\n",
            "Requirement already satisfied: certifi>=2017.4.17 in /usr/local/lib/python3.7/dist-packages (from requests) (2022.6.15)\n",
            "Requirement already satisfied: idna<3,>=2.5 in /usr/local/lib/python3.7/dist-packages (from requests) (2.10)\n",
            "Requirement already satisfied: urllib3!=1.25.0,!=1.25.1,<1.26,>=1.21.1 in /usr/local/lib/python3.7/dist-packages (from requests) (1.24.3)\n"
          ]
        }
      ]
    },
    {
      "cell_type": "code",
      "source": [
        "cd programmingbitcoin/code-ch10"
      ],
      "metadata": {
        "id": "zbqxPuG8lB27",
        "colab": {
          "base_uri": "https://localhost:8080/"
        },
        "outputId": "204d5897-a156-431e-d1d1-1f6238b1539a"
      },
      "execution_count": 3,
      "outputs": [
        {
          "output_type": "stream",
          "name": "stdout",
          "text": [
            "/content/programmingbitcoin/code-ch10\n"
          ]
        }
      ]
    },
    {
      "cell_type": "code",
      "source": [
        "ls"
      ],
      "metadata": {
        "colab": {
          "base_uri": "https://localhost:8080/"
        },
        "id": "DTudVSS7lf9r",
        "outputId": "d5dbf808-bbda-4ac4-e671-ac4e427ce9bd"
      },
      "execution_count": 5,
      "outputs": [
        {
          "output_type": "stream",
          "name": "stdout",
          "text": [
            "answers.py  Chapter10.ipynb  examples.py  jupyter.txt  op.py         script.py\n",
            "block.py    ecc.py           helper.py    network.py   \u001b[0m\u001b[01;34m__pycache__\u001b[0m/  tx.py\n"
          ]
        }
      ]
    },
    {
      "cell_type": "code",
      "execution_count": 6,
      "metadata": {
        "id": "4O3DpsaHk-PF"
      },
      "outputs": [],
      "source": [
        "############## PLEASE RUN THIS CELL FIRST! ###################\n",
        "\n",
        "# import everything and define a test runner function\n",
        "from importlib import reload\n",
        "from helper import run\n",
        "import network\n",
        "\n",
        "from block import GENESIS_BLOCK\n",
        "from helper import calculate_new_bits\n",
        "from network import (\n",
        "    NetworkEnvelope,\n",
        "    VersionMessage,\n",
        ")"
      ]
    },
    {
      "cell_type": "markdown",
      "metadata": {
        "id": "5YiDV3rRk-PG"
      },
      "source": [
        "### Exercise 1\n",
        "\n",
        "Determine what this network message is:\n",
        "\n",
        "`f9beb4d976657261636b000000000000000000005df6e0e2`"
      ]
    },
    {
      "cell_type": "code",
      "execution_count": 20,
      "metadata": {
        "id": "CNz0HliLk-PK",
        "colab": {
          "base_uri": "https://localhost:8080/"
        },
        "outputId": "a930f782-99aa-4a5c-a0d2-e6db1e19ad1d"
      },
      "outputs": [
        {
          "output_type": "stream",
          "name": "stdout",
          "text": [
            "b'verack'\n",
            "b''\n"
          ]
        }
      ],
      "source": [
        "# Exercise 1\n",
        "reload(network)\n",
        "from network import NetworkEnvelope\n",
        "from io import BytesIO\n",
        "message_hex = 'f9beb4d976657261636b000000000000000000005df6e0e2'\n",
        "stream = BytesIO(bytes.fromhex(message_hex))\n",
        "env = NetworkEnvelope.parse(stream)\n",
        "print(env.command)\n",
        "print(env.payload)\n",
        "# convert to binary\n",
        "# see what the bytes 4 through 16 aregi"
      ]
    },
    {
      "cell_type": "markdown",
      "metadata": {
        "id": "mR8EKHK2k-PN"
      },
      "source": [
        "### Exercise 2\n",
        "\n",
        "Write the `parse` method for `NetworkEnvelope`.\n",
        "\n",
        "#### Make [this test](/edit/code-ch10/network.py) pass: `network.py:NetworkEnvelopeTest:test_parse`"
      ]
    },
    {
      "cell_type": "code",
      "execution_count": 11,
      "metadata": {
        "id": "jgc76Ebtk-PN",
        "colab": {
          "base_uri": "https://localhost:8080/"
        },
        "outputId": "1ddba60e-a27c-4a6a-b64f-dc2f282908e5"
      },
      "outputs": [
        {
          "output_type": "stream",
          "name": "stderr",
          "text": [
            ".\n",
            "----------------------------------------------------------------------\n",
            "Ran 1 test in 0.004s\n",
            "\n",
            "OK\n"
          ]
        }
      ],
      "source": [
        "# Exercise 2\n",
        "\n",
        "reload(network)\n",
        "run(network.NetworkEnvelopeTest(\"test_parse\"))"
      ]
    },
    {
      "cell_type": "markdown",
      "metadata": {
        "id": "2LEnYhvck-PO"
      },
      "source": [
        "### Exercise 3\n",
        "\n",
        "Write the `serialize` method for `NetworkEnvelope`.\n",
        "\n",
        "#### Make [this test](/edit/code-ch10/network.py) pass: `network.py:NetworkEnvelopeTest:test_serialize`"
      ]
    },
    {
      "cell_type": "code",
      "execution_count": 12,
      "metadata": {
        "id": "uD4NcjPok-PO",
        "colab": {
          "base_uri": "https://localhost:8080/"
        },
        "outputId": "5c6260a2-7a3d-4bbd-be00-717230e7d40b"
      },
      "outputs": [
        {
          "output_type": "stream",
          "name": "stderr",
          "text": [
            ".\n",
            "----------------------------------------------------------------------\n",
            "Ran 1 test in 0.002s\n",
            "\n",
            "OK\n"
          ]
        }
      ],
      "source": [
        "# Exercise 3\n",
        "\n",
        "reload(network)\n",
        "run(network.NetworkEnvelopeTest(\"test_serialize\"))"
      ]
    },
    {
      "cell_type": "markdown",
      "metadata": {
        "id": "T9F1NtsFk-PP"
      },
      "source": [
        "### Exercise 4\n",
        "\n",
        "Write the `serialize` method for `VersionMessage`.\n",
        "\n",
        "#### Make [this test](/edit/code-ch10/network.py) pass: `network.py:VersionMessageTest:test_serialize`"
      ]
    },
    {
      "cell_type": "code",
      "execution_count": 22,
      "metadata": {
        "id": "Bjz5DBnIk-PQ",
        "colab": {
          "base_uri": "https://localhost:8080/"
        },
        "outputId": "70b7928f-33cc-4c98-d64f-ec9596d2ea31"
      },
      "outputs": [
        {
          "output_type": "stream",
          "name": "stderr",
          "text": [
            ".\n",
            "----------------------------------------------------------------------\n",
            "Ran 1 test in 0.003s\n",
            "\n",
            "OK\n"
          ]
        }
      ],
      "source": [
        "# Exercise 4\n",
        "\n",
        "reload(network)\n",
        "run(network.VersionMessageTest(\"test_serialize\"))"
      ]
    },
    {
      "cell_type": "markdown",
      "metadata": {
        "id": "90DZKQ98k-PR"
      },
      "source": [
        "### Exercise 5\n",
        "\n",
        "Write the `handshake` method for `SimpleNode`\n",
        "\n",
        "#### Make [this test](/edit/code-ch10/network.py) pass: `network.py:SimpleNodeTest:test_handshake`"
      ]
    },
    {
      "cell_type": "code",
      "execution_count": 27,
      "metadata": {
        "id": "8iT9sXkTk-PR",
        "colab": {
          "base_uri": "https://localhost:8080/"
        },
        "outputId": "0e684da7-f315-415f-e315-40e4381311d5"
      },
      "outputs": [
        {
          "output_type": "stream",
          "name": "stderr",
          "text": [
            ".\n",
            "----------------------------------------------------------------------\n",
            "Ran 1 test in 0.114s\n",
            "\n",
            "OK\n"
          ]
        }
      ],
      "source": [
        "# Exercise 5\n",
        "\n",
        "reload(network)\n",
        "run(network.SimpleNodeTest(\"test_handshake\"))"
      ]
    },
    {
      "cell_type": "markdown",
      "metadata": {
        "id": "AAIpZWWzk-PU"
      },
      "source": [
        "### Exercise 6\n",
        "\n",
        "Write the `serialize` method for `GetHeadersMessage`.\n",
        "\n",
        "#### Make [this test](/edit/code-ch10/network.py) pass: `network.py:GetHeadersMessageTest:test_serialize`"
      ]
    },
    {
      "cell_type": "code",
      "execution_count": 25,
      "metadata": {
        "id": "PHmt5ky4k-PU",
        "colab": {
          "base_uri": "https://localhost:8080/"
        },
        "outputId": "d9d1b337-c3ec-44f2-a96f-f2dc8993d26e"
      },
      "outputs": [
        {
          "output_type": "stream",
          "name": "stderr",
          "text": [
            ".\n",
            "----------------------------------------------------------------------\n",
            "Ran 1 test in 0.003s\n",
            "\n",
            "OK\n"
          ]
        }
      ],
      "source": [
        "# Exercise 6\n",
        "\n",
        "reload(network)\n",
        "run(network.GetHeadersMessageTest(\"test_serialize\"))"
      ]
    },
    {
      "cell_type": "code",
      "execution_count": 28,
      "metadata": {
        "id": "bNZLaMPxk-PW",
        "colab": {
          "base_uri": "https://localhost:8080/"
        },
        "outputId": "800f0507-2c1b-45a5-e80d-a9b5a9455df2"
      },
      "outputs": [
        {
          "output_type": "stream",
          "name": "stdout",
          "text": [
            "ffff001d\n",
            "ffff001d\n",
            "ffff001d\n",
            "ffff001d\n",
            "ffff001d\n",
            "ffff001d\n",
            "ffff001d\n",
            "ffff001d\n",
            "ffff001d\n",
            "ffff001d\n",
            "ffff001d\n",
            "ffff001d\n",
            "ffff001d\n",
            "ffff001d\n",
            "ffff001d\n",
            "6ad8001d\n",
            "28c4001d\n",
            "71be001d\n"
          ]
        }
      ],
      "source": [
        "from io import BytesIO\n",
        "from network import SimpleNode, GetHeadersMessage, HeadersMessage\n",
        "from block import Block, GENESIS_BLOCK, LOWEST_BITS\n",
        "from helper import calculate_new_bits\n",
        "previous = Block.parse(BytesIO(GENESIS_BLOCK))\n",
        "first_epoch_timestamp = previous.timestamp\n",
        "expected_bits = LOWEST_BITS\n",
        "count = 1\n",
        "node = SimpleNode('mainnet.programmingbitcoin.com', testnet=False)\n",
        "node.handshake()\n",
        "for _ in range(19):\n",
        "    getheaders = GetHeadersMessage(start_block=previous.hash())\n",
        "    node.send(getheaders)\n",
        "    headers = node.wait_for(HeadersMessage)\n",
        "    for header in headers.blocks:\n",
        "        if not header.check_pow():\n",
        "            raise RuntimeError('bad PoW at block {}'.format(count))\n",
        "        if header.prev_block != previous.hash():\n",
        "            raise RuntimeError('discontinuous block at {}'.format(count))\n",
        "        if count % 2016 == 0:\n",
        "            time_diff = previous.timestamp - first_epoch_timestamp\n",
        "            expected_bits = calculate_new_bits(previous.bits, time_diff)\n",
        "            print(expected_bits.hex())\n",
        "            first_epoch_timestamp = header.timestamp\n",
        "        if header.bits != expected_bits:\n",
        "            raise RuntimeError('bad bits at block {}'.format(count))\n",
        "        previous = header\n",
        "        count += 1"
      ]
    }
  ],
  "metadata": {
    "colab": {
      "name": "Chapter10.ipynb의 사본",
      "provenance": [],
      "collapsed_sections": [],
      "include_colab_link": true
    },
    "language_info": {
      "name": "python"
    },
    "kernelspec": {
      "name": "python3",
      "display_name": "Python 3"
    },
    "gpuClass": "standard"
  },
  "nbformat": 4,
  "nbformat_minor": 0
}