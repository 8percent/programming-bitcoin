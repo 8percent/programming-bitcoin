{
  "cells": [
    {
      "cell_type": "markdown",
      "metadata": {
        "id": "view-in-github",
        "colab_type": "text"
      },
      "source": [
        "<a href=\"https://colab.research.google.com/github/8percent/programming-bitcoin/blob/main/chapter1/%EC%98%A4%EC%9E%AC%EA%B7%A0.ipynb\" target=\"_parent\"><img src=\"https://colab.research.google.com/assets/colab-badge.svg\" alt=\"Open In Colab\"/></a>"
      ]
    },
    {
      "cell_type": "code",
      "source": [
        "!git clone https://github.com/jimmysong/programmingbitcoin"
      ],
      "metadata": {
        "colab": {
          "base_uri": "https://localhost:8080/"
        },
        "id": "nxvl-WmkjGq4",
        "outputId": "b9653576-1042-4d94-8b33-7a873d1a8a71"
      },
      "execution_count": 1,
      "outputs": [
        {
          "output_type": "stream",
          "name": "stdout",
          "text": [
            "Cloning into 'programmingbitcoin'...\n",
            "remote: Enumerating objects: 6406, done.\u001b[K\n",
            "remote: Total 6406 (delta 0), reused 0 (delta 0), pack-reused 6406\u001b[K\n",
            "Receiving objects: 100% (6406/6406), 39.43 MiB | 30.18 MiB/s, done.\n",
            "Resolving deltas: 100% (4254/4254), done.\n"
          ]
        }
      ]
    },
    {
      "cell_type": "code",
      "source": [
        "!pip install requests"
      ],
      "metadata": {
        "colab": {
          "base_uri": "https://localhost:8080/"
        },
        "id": "zvxlsob0jJRu",
        "outputId": "f5e82512-1740-496c-e53a-608c792275a4"
      },
      "execution_count": 2,
      "outputs": [
        {
          "output_type": "stream",
          "name": "stdout",
          "text": [
            "Requirement already satisfied: requests in /usr/local/lib/python3.7/dist-packages (2.23.0)\n",
            "Requirement already satisfied: certifi>=2017.4.17 in /usr/local/lib/python3.7/dist-packages (from requests) (2021.10.8)\n",
            "Requirement already satisfied: urllib3!=1.25.0,!=1.25.1,<1.26,>=1.21.1 in /usr/local/lib/python3.7/dist-packages (from requests) (1.24.3)\n",
            "Requirement already satisfied: idna<3,>=2.5 in /usr/local/lib/python3.7/dist-packages (from requests) (2.10)\n",
            "Requirement already satisfied: chardet<4,>=3.0.2 in /usr/local/lib/python3.7/dist-packages (from requests) (3.0.4)\n"
          ]
        }
      ]
    },
    {
      "cell_type": "code",
      "source": [
        "cd programmingbitcoin/code-ch01"
      ],
      "metadata": {
        "colab": {
          "base_uri": "https://localhost:8080/"
        },
        "id": "SCVttarwjJXI",
        "outputId": "c2638657-878b-4750-ab1f-b97f9cc05a14"
      },
      "execution_count": 3,
      "outputs": [
        {
          "output_type": "stream",
          "name": "stdout",
          "text": [
            "/content/programmingbitcoin/code-ch01\n"
          ]
        }
      ]
    },
    {
      "cell_type": "code",
      "execution_count": 4,
      "metadata": {
        "id": "jiibxQSOi2Uc"
      },
      "outputs": [],
      "source": [
        "############## PLEASE RUN THIS CELL FIRST! ###################\n",
        "\n",
        "# import everything and define a test runner function\n",
        "from importlib import reload\n",
        "from helper import run\n",
        "import ecc\n",
        "import helper\n",
        "\n",
        "from ecc import FieldElement"
      ]
    },
    {
      "cell_type": "code",
      "execution_count": 5,
      "metadata": {
        "id": "u7tFDTmqi2Ud",
        "colab": {
          "base_uri": "https://localhost:8080/"
        },
        "outputId": "727b8214-ba1d-469b-b145-a0aede444288"
      },
      "outputs": [
        {
          "output_type": "stream",
          "name": "stdout",
          "text": [
            "False\n",
            "True\n"
          ]
        }
      ],
      "source": [
        "from ecc import FieldElement\n",
        "a = FieldElement(7, 13)\n",
        "b = FieldElement(6, 13)\n",
        "print(a == b)\n",
        "print(a == a)"
      ]
    },
    {
      "cell_type": "markdown",
      "metadata": {
        "id": "Oy4nakTXi2Ue"
      },
      "source": [
        "### Exercise 1\n",
        "\n",
        "Write the corresponding method `__ne__` which checks if two `FieldElement` objects are _not equal_ to each other.\n",
        "\n",
        "#### Make [this test](/edit/code-ch01/ecc.py) pass: `ecc.py:FieldElementTest:test_ne`"
      ]
    },
    {
      "cell_type": "code",
      "execution_count": 6,
      "metadata": {
        "id": "F7ZFhKt0i2Uf",
        "colab": {
          "base_uri": "https://localhost:8080/"
        },
        "outputId": "4ab75e34-8adc-402c-8b57-0d88b2eaa030"
      },
      "outputs": [
        {
          "output_type": "stream",
          "name": "stderr",
          "text": [
            ".\n",
            "----------------------------------------------------------------------\n",
            "Ran 1 test in 0.003s\n",
            "\n",
            "OK\n"
          ]
        }
      ],
      "source": [
        "# Exercise 1\n",
        "\n",
        "reload(ecc)\n",
        "run(ecc.FieldElementTest(\"test_ne\"))"
      ]
    },
    {
      "cell_type": "code",
      "execution_count": 7,
      "metadata": {
        "id": "G4zXz8l3i2Uf",
        "colab": {
          "base_uri": "https://localhost:8080/"
        },
        "outputId": "0f695eb1-f531-4934-de0d-882821dfcbed"
      },
      "outputs": [
        {
          "output_type": "stream",
          "name": "stdout",
          "text": [
            "1\n"
          ]
        }
      ],
      "source": [
        "print(7 % 3)"
      ]
    },
    {
      "cell_type": "code",
      "execution_count": 8,
      "metadata": {
        "id": "Dryy-PMOi2Uf",
        "colab": {
          "base_uri": "https://localhost:8080/"
        },
        "outputId": "c0d0fefc-457f-4d51-cfb1-faa86a30388d"
      },
      "outputs": [
        {
          "output_type": "stream",
          "name": "stdout",
          "text": [
            "12\n"
          ]
        }
      ],
      "source": [
        "print(-27 % 13)"
      ]
    },
    {
      "cell_type": "markdown",
      "metadata": {
        "id": "KjsTE08ii2Uf"
      },
      "source": [
        "### Exercise 2\n",
        "\n",
        "Solve these problems in \\\\(F_{57}\\\\) (assume all +'s here are \\\\(+_{f}\\\\) and -`s here \\\\(-_{f}\\\\))\n",
        "\n",
        "* 44+33\n",
        "* 9-29\n",
        "* 17+42+49\n",
        "* 52-30-38"
      ]
    },
    {
      "cell_type": "code",
      "execution_count": 11,
      "metadata": {
        "id": "VHCZlesJi2Ug",
        "colab": {
          "base_uri": "https://localhost:8080/"
        },
        "outputId": "497e7bde-823d-41fb-dd45-4fc8d5f668be"
      },
      "outputs": [
        {
          "output_type": "stream",
          "name": "stdout",
          "text": [
            "20\n",
            "37\n",
            "51\n",
            "41\n"
          ]
        }
      ],
      "source": [
        "reload(ecc)\n",
        "# Exercise 2\n",
        "from ecc import FieldElement\n",
        "# remember that % is the modulo operator\n",
        "prime = 57\n",
        "print((FieldElement(44, prime) + FieldElement(33, prime)).num)\n",
        "print((FieldElement(9, prime) - FieldElement(29, prime)).num)\n",
        "print((FieldElement(17, prime) + FieldElement(42, prime) + FieldElement(49, prime)).num)\n",
        "print((FieldElement(52, prime) - FieldElement(30, prime) - FieldElement(38, prime)).num)\n",
        "# 44+33\n",
        "# 9-29\n",
        "# 17+42+49\n",
        "# 52-30-38"
      ]
    },
    {
      "cell_type": "code",
      "execution_count": 12,
      "metadata": {
        "id": "aMAqTZ-Ai2Ug",
        "colab": {
          "base_uri": "https://localhost:8080/"
        },
        "outputId": "66234fe5-9292-4ae9-cb18-40f595e46327"
      },
      "outputs": [
        {
          "output_type": "stream",
          "name": "stdout",
          "text": [
            "True\n"
          ]
        }
      ],
      "source": [
        "from ecc import FieldElement\n",
        "a = FieldElement(7, 13)\n",
        "b = FieldElement(12, 13)\n",
        "c = FieldElement(6, 13)\n",
        "print(a+b==c)"
      ]
    },
    {
      "cell_type": "markdown",
      "metadata": {
        "id": "QtUHmSLFi2Ug"
      },
      "source": [
        "### Exercise 3\n",
        "\n",
        "Write the corresponding `__sub__` method which defines the subtraction of two `FieldElement` objects.\n",
        "\n",
        "#### Make [this test](/edit/code-ch01/ecc.py) pass: `ecc.py:FieldElementTest:test_sub`"
      ]
    },
    {
      "cell_type": "code",
      "execution_count": 13,
      "metadata": {
        "id": "6MlL3jKri2Ug",
        "colab": {
          "base_uri": "https://localhost:8080/"
        },
        "outputId": "6bea1dfa-a657-4cbb-c4ae-c7d68b42522b"
      },
      "outputs": [
        {
          "output_type": "stream",
          "name": "stderr",
          "text": [
            ".\n",
            "----------------------------------------------------------------------\n",
            "Ran 1 test in 0.002s\n",
            "\n",
            "OK\n"
          ]
        }
      ],
      "source": [
        "# Exercise 3\n",
        "\n",
        "reload(ecc)\n",
        "run(ecc.FieldElementTest(\"test_sub\"))"
      ]
    },
    {
      "cell_type": "markdown",
      "metadata": {
        "id": "hPkjsKr1i2Uh"
      },
      "source": [
        "### Exercise 4\n",
        "\n",
        "Solve the following equations in \\\\(F_{97}\\\\) (again, assume ⋅ and exponentiation are field versions):\n",
        "\n",
        "* 95⋅45⋅31\n",
        "* 17⋅13⋅19⋅44\n",
        "* \\\\(12^{7}\\\\)⋅\\\\(77^{49}\\\\)"
      ]
    },
    {
      "cell_type": "code",
      "execution_count": 14,
      "metadata": {
        "id": "PiARx_COi2Uh",
        "colab": {
          "base_uri": "https://localhost:8080/"
        },
        "outputId": "0e3ecddc-808d-45cf-e2b8-2806759e85ae"
      },
      "outputs": [
        {
          "output_type": "stream",
          "name": "stdout",
          "text": [
            "23\n",
            "68\n",
            "28\n"
          ]
        }
      ],
      "source": [
        "# Exercise 4\n",
        "\n",
        "prime = 97\n",
        "print((FieldElement(95, prime) * FieldElement(45, prime) * FieldElement(31, prime)).num)\n",
        "print((FieldElement(17, prime) * FieldElement(13, prime) * FieldElement(19, prime) * FieldElement(44, prime)).num)\n",
        "print((FieldElement(12, prime) ** 7 * FieldElement(45, prime) ** 49).num)\n",
        "\n",
        "# 95*45*31\n",
        "# 17*13*19*44\n",
        "# 12**7*77**49"
      ]
    },
    {
      "cell_type": "markdown",
      "metadata": {
        "id": "UlMXvyZpi2Ui"
      },
      "source": [
        "### Exercise 5\n",
        "\n",
        "For k = 1, 3, 7, 13, 18, what is this set in \\\\(F_{19}\\\\)?\n",
        "\n",
        "{k⋅0, k⋅1, k⋅2, k⋅3, ... k⋅18}\n",
        "\n",
        "Do you notice anything about these sets?"
      ]
    },
    {
      "cell_type": "code",
      "execution_count": 16,
      "metadata": {
        "id": "9aA9_V9pi2Ui",
        "colab": {
          "base_uri": "https://localhost:8080/"
        },
        "outputId": "89447107-308e-4262-9322-fa4ae757d172"
      },
      "outputs": [
        {
          "output_type": "stream",
          "name": "stdout",
          "text": [
            "[0, 1, 2, 3, 4, 5, 6, 7, 8, 9, 10, 11, 12, 13, 14, 15, 16, 17, 18]\n",
            "[0, 1, 2, 3, 4, 5, 6, 7, 8, 9, 10, 11, 12, 13, 14, 15, 16, 17, 18]\n",
            "[0, 1, 2, 3, 4, 5, 6, 7, 8, 9, 10, 11, 12, 13, 14, 15, 16, 17, 18]\n",
            "[0, 1, 2, 3, 4, 5, 6, 7, 8, 9, 10, 11, 12, 13, 14, 15, 16, 17, 18]\n",
            "[0, 1, 2, 3, 4, 5, 6, 7, 8, 9, 10, 11, 12, 13, 14, 15, 16, 17, 18]\n"
          ]
        }
      ],
      "source": [
        "# Exercise 5\n",
        "\n",
        "prime = 19\n",
        "k = 1  # 3, 7, 13 and 18 are the other possibilities\n",
        "# loop through all possible k's 0 up to prime-1\n",
        "# calculate k*iterator % prime\n",
        "for k in [1, 3, 7, 13, 18]:\n",
        "  results = [(k * i) % prime for i in range(prime)]\n",
        "  print(sorted(results))\n",
        "# Hint - sort!"
      ]
    },
    {
      "cell_type": "code",
      "execution_count": null,
      "metadata": {
        "id": "3lBFTifFi2Ui"
      },
      "outputs": [],
      "source": [
        "from ecc import FieldElement\n",
        "a = FieldElement(3, 13)\n",
        "b = FieldElement(12, 13)\n",
        "c = FieldElement(10, 13)\n",
        "print(a*b==c)"
      ]
    },
    {
      "cell_type": "markdown",
      "metadata": {
        "id": "0ckbmQ-fi2Uj"
      },
      "source": [
        "### Exercise 6\n",
        "\n",
        "Write the corresponding `__mul__` method which defines the multiplication of two Finite Field elements.\n",
        "\n",
        "#### Make [this test](/edit/code-ch01/ecc.py) pass: `ecc.py:FieldElementTest:test_mul`"
      ]
    },
    {
      "cell_type": "code",
      "execution_count": 17,
      "metadata": {
        "id": "eO1FDuimi2Uj",
        "colab": {
          "base_uri": "https://localhost:8080/"
        },
        "outputId": "d7cbe09a-aa2d-4e10-e002-32238884077b"
      },
      "outputs": [
        {
          "output_type": "stream",
          "name": "stderr",
          "text": [
            ".\n",
            "----------------------------------------------------------------------\n",
            "Ran 1 test in 0.004s\n",
            "\n",
            "OK\n"
          ]
        }
      ],
      "source": [
        "# Exercise 6\n",
        "\n",
        "reload(ecc)\n",
        "run(ecc.FieldElementTest(\"test_mul\"))"
      ]
    },
    {
      "cell_type": "code",
      "execution_count": 18,
      "metadata": {
        "id": "G5n_vrEAi2Uj",
        "colab": {
          "base_uri": "https://localhost:8080/"
        },
        "outputId": "8854133c-93b5-436d-cb8d-44c0be840a93"
      },
      "outputs": [
        {
          "output_type": "stream",
          "name": "stdout",
          "text": [
            "True\n"
          ]
        }
      ],
      "source": [
        "from ecc import FieldElement\n",
        "a = FieldElement(3, 13)\n",
        "b = FieldElement(1, 13)\n",
        "print(a**3==b)"
      ]
    },
    {
      "cell_type": "markdown",
      "metadata": {
        "id": "FZrpO5cPi2Uk"
      },
      "source": [
        "### Exercise 7\n",
        "\n",
        "For p = 7, 11, 17, 31, what is this set in \\\\(F_{p}\\\\)?\n",
        "\n",
        "{\\\\(1^{(p-1)}\\\\), \\\\(2^{(p-1)}\\\\), \\\\(3^{(p-1)}\\\\), \\\\(4^{(p-1)}\\\\), ... \\\\((p-1)^{(p-1)}\\\\)}"
      ]
    },
    {
      "cell_type": "code",
      "execution_count": 20,
      "metadata": {
        "id": "x1VolM_Wi2Uk",
        "colab": {
          "base_uri": "https://localhost:8080/"
        },
        "outputId": "f11c145f-1a0a-427f-c8f8-a9b01208c37e"
      },
      "outputs": [
        {
          "output_type": "stream",
          "name": "stdout",
          "text": [
            "{1}\n",
            "{1}\n",
            "{1}\n",
            "{1}\n",
            "{1}\n"
          ]
        }
      ],
      "source": [
        "# Exercise 7\n",
        "\n",
        "primes = [7, 11, 17, 31, 43]\n",
        "for p in primes:\n",
        "  results = {pow(i, p - 1, p) for i in range(1, p)}\n",
        "  print(results)"
      ]
    },
    {
      "cell_type": "markdown",
      "metadata": {
        "id": "eN62uD_4i2Uk"
      },
      "source": [
        "### Exercise 8\n",
        "\n",
        "Solve the following equations in \\\\(F_{31}\\\\):\n",
        "\n",
        "* 3 / 24\n",
        "* \\\\(17^{-3}\\\\)\n",
        "* \\\\(4^{-4}\\\\)⋅11"
      ]
    },
    {
      "cell_type": "code",
      "execution_count": 24,
      "metadata": {
        "id": "toiA9rbfi2Ul",
        "colab": {
          "base_uri": "https://localhost:8080/"
        },
        "outputId": "712fc6b9-966b-42be-ddd7-e645da9e1b98"
      },
      "outputs": [
        {
          "output_type": "stream",
          "name": "stdout",
          "text": [
            "4\n",
            "29\n",
            "13\n"
          ]
        }
      ],
      "source": [
        "# Exercise 8\n",
        "prime = 31\n",
        "# 3/24\n",
        "# 17**-3\n",
        "# 4**-4*11\n",
        "print((FieldElement(3, prime) * FieldElement(24, prime) ** (prime - 2)).num)\n",
        "print((FieldElement(17, prime) ** ((prime - 4))).num)\n",
        "print((FieldElement(4, prime) ** ((prime - 5)) *  FieldElement(11, prime)).num)"
      ]
    },
    {
      "cell_type": "markdown",
      "metadata": {
        "id": "lGIr1cDAi2Ul"
      },
      "source": [
        "### Exercise 9\n",
        "\n",
        "Write the corresponding `__truediv__` method which defines the division of two field elements.\n",
        "\n",
        "Note that in Python3, division is separated into `__truediv__` and `__floordiv__`. The first does normal division, the second does integer division.\n",
        "\n",
        "#### Make [this test](/edit/code-ch01/ecc.py) pass: `ecc.py:FieldElementTest:test_div`"
      ]
    },
    {
      "cell_type": "code",
      "execution_count": 22,
      "metadata": {
        "id": "YfqxGwmdi2Ul",
        "colab": {
          "base_uri": "https://localhost:8080/"
        },
        "outputId": "ae53e2b1-5b5b-4ebb-a124-14411e276462"
      },
      "outputs": [
        {
          "output_type": "stream",
          "name": "stderr",
          "text": [
            ".\n",
            "----------------------------------------------------------------------\n",
            "Ran 1 test in 0.003s\n",
            "\n",
            "OK\n"
          ]
        }
      ],
      "source": [
        "# Exercise 9\n",
        "\n",
        "reload(ecc)\n",
        "run(ecc.FieldElementTest(\"test_div\"))"
      ]
    },
    {
      "cell_type": "code",
      "execution_count": 23,
      "metadata": {
        "id": "5XEEXbeqi2Um",
        "colab": {
          "base_uri": "https://localhost:8080/"
        },
        "outputId": "271e3326-b502-4885-daea-daee72c717d7"
      },
      "outputs": [
        {
          "output_type": "stream",
          "name": "stdout",
          "text": [
            "True\n"
          ]
        }
      ],
      "source": [
        "from ecc import FieldElement\n",
        "a = FieldElement(7, 13)\n",
        "b = FieldElement(8, 13)\n",
        "print(a**-3==b)"
      ]
    },
    {
      "cell_type": "code",
      "source": [
        ""
      ],
      "metadata": {
        "id": "366xJ_02z-jI"
      },
      "execution_count": null,
      "outputs": []
    }
  ],
  "metadata": {
    "colab": {
      "name": "chapter1/오재균",
      "provenance": [],
      "collapsed_sections": [],
      "toc_visible": true,
      "include_colab_link": true
    },
    "language_info": {
      "name": "python"
    },
    "kernelspec": {
      "name": "python3",
      "display_name": "Python 3"
    }
  },
  "nbformat": 4,
  "nbformat_minor": 0
}