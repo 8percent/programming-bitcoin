{
 "cells": [
  {
   "cell_type": "code",
   "execution_count": 1,
   "metadata": {},
   "outputs": [],
   "source": [
    "############## PLEASE RUN THIS CELL FIRST! ###################\n",
    "\n",
    "# import everything and define a test runner function\n",
    "from importlib import reload\n",
    "from helper import run\n",
    "import ecc\n",
    "import helper\n",
    "\n",
    "from ecc import FieldElement"
   ]
  },
  {
   "cell_type": "code",
   "execution_count": 2,
   "metadata": {},
   "outputs": [
    {
     "name": "stdout",
     "output_type": "stream",
     "text": [
      "False\n",
      "True\n"
     ]
    }
   ],
   "source": [
    "from ecc import FieldElement\n",
    "a = FieldElement(7, 13)\n",
    "b = FieldElement(6, 13)\n",
    "print(a == b)\n",
    "print(a == a)"
   ]
  },
  {
   "cell_type": "markdown",
   "metadata": {},
   "source": [
    "### Exercise 1\n",
    "\n",
    "Write the corresponding method `__ne__` which checks if two `FieldElement` objects are _not equal_ to each other.\n",
    "\n",
    "#### Make [this test](/edit/code-ch01/ecc.py) pass: `ecc.py:FieldElementTest:test_ne`"
   ]
  },
  {
   "cell_type": "code",
   "execution_count": 4,
   "metadata": {},
   "outputs": [
    {
     "name": "stderr",
     "output_type": "stream",
     "text": [
      ".\n",
      "----------------------------------------------------------------------\n",
      "Ran 1 test in 0.000s\n",
      "\n",
      "OK\n"
     ]
    }
   ],
   "source": [
    "# Exercise 1\n",
    "\n",
    "reload(ecc)\n",
    "run(ecc.FieldElementTest(\"test_ne\"))"
   ]
  },
  {
   "cell_type": "code",
   "execution_count": 5,
   "metadata": {},
   "outputs": [
    {
     "name": "stdout",
     "output_type": "stream",
     "text": [
      "1\n"
     ]
    }
   ],
   "source": [
    "print(7 % 3)"
   ]
  },
  {
   "cell_type": "code",
   "execution_count": 6,
   "metadata": {},
   "outputs": [
    {
     "name": "stdout",
     "output_type": "stream",
     "text": [
      "12\n"
     ]
    }
   ],
   "source": [
    "print(-27 % 13)"
   ]
  },
  {
   "cell_type": "markdown",
   "metadata": {},
   "source": [
    "### Exercise 2\n",
    "\n",
    "Solve these problems in \\\\(F_{57}\\\\) (assume all +'s here are \\\\(+_{f}\\\\) and -`s here \\\\(-_{f}\\\\))\n",
    "\n",
    "* 44+33\n",
    "* 9-29\n",
    "* 17+42+49\n",
    "* 52-30-38"
   ]
  },
  {
   "cell_type": "code",
   "execution_count": 24,
   "metadata": {},
   "outputs": [
    {
     "name": "stdout",
     "output_type": "stream",
     "text": [
      "20\n",
      "37\n",
      "51\n",
      "41\n"
     ]
    }
   ],
   "source": [
    "# Exercise 2\n",
    "\n",
    "# remember that % is the modulo operator\n",
    "prime = 57\n",
    "print((44+33) % prime)\n",
    "print((9-29) % prime)\n",
    "print((17+42+49) % prime)\n",
    "print((52-30-38) % prime)"
   ]
  },
  {
   "cell_type": "code",
   "execution_count": 9,
   "metadata": {},
   "outputs": [
    {
     "name": "stdout",
     "output_type": "stream",
     "text": [
      "True\n"
     ]
    }
   ],
   "source": [
    "from ecc import FieldElement\n",
    "a = FieldElement(7, 13)\n",
    "b = FieldElement(12, 13)\n",
    "c = FieldElement(6, 13)\n",
    "print(a+b==c)"
   ]
  },
  {
   "cell_type": "markdown",
   "metadata": {},
   "source": [
    "### Exercise 3\n",
    "\n",
    "Write the corresponding `__sub__` method which defines the subtraction of two `FieldElement` objects.\n",
    "\n",
    "#### Make [this test](/edit/code-ch01/ecc.py) pass: `ecc.py:FieldElementTest:test_sub`"
   ]
  },
  {
   "cell_type": "code",
   "execution_count": 40,
   "metadata": {},
   "outputs": [
    {
     "name": "stderr",
     "output_type": "stream",
     "text": [
      ".\n",
      "----------------------------------------------------------------------\n",
      "Ran 1 test in 0.000s\n",
      "\n",
      "OK\n"
     ]
    }
   ],
   "source": [
    "# Exercise 3\n",
    "\n",
    "reload(ecc)\n",
    "run(ecc.FieldElementTest(\"test_sub\"))"
   ]
  },
  {
   "cell_type": "markdown",
   "metadata": {},
   "source": [
    "### Exercise 4\n",
    "\n",
    "Solve the following equations in \\\\(F_{97}\\\\) (again, assume ⋅ and exponentiation are field versions):\n",
    "\n",
    "* 95⋅45⋅31\n",
    "* 17⋅13⋅19⋅44\n",
    "* \\\\(12^{7}\\\\)⋅\\\\(77^{49}\\\\)"
   ]
  },
  {
   "cell_type": "code",
   "execution_count": 14,
   "metadata": {},
   "outputs": [
    {
     "name": "stdout",
     "output_type": "stream",
     "text": [
      "23\n",
      "68\n",
      "63\n"
     ]
    }
   ],
   "source": [
    "# Exercise 4\n",
    "\n",
    "prime = 97\n",
    "\n",
    "# 95*45*31\n",
    "print(((95 % prime) * (45 % prime) * (31 % prime)) % prime)\n",
    "# 17*13*19*44\n",
    "print(((17 % prime) * (13 % prime) * (19 % prime) * (44 % prime)) % prime)\n",
    "# 12**7*77**49\n",
    "print(((12 % prime) ** (7 % prime) * (77 % prime) ** (49 % prime)) % prime)"
   ]
  },
  {
   "cell_type": "markdown",
   "metadata": {},
   "source": [
    "### Exercise 5\n",
    "\n",
    "For k = 1, 3, 7, 13, 18, what is this set in \\\\(F_{19}\\\\)?\n",
    "\n",
    "{k⋅0, k⋅1, k⋅2, k⋅3, ... k⋅18}\n",
    "\n",
    "Do you notice anything about these sets?"
   ]
  },
  {
   "cell_type": "code",
   "execution_count": 17,
   "metadata": {},
   "outputs": [
    {
     "name": "stdout",
     "output_type": "stream",
     "text": [
      "k is 1\n",
      "[0, 1, 2, 3, 4, 5, 6, 7, 8, 9, 10, 11, 12, 13, 14, 15, 16, 17, 18]\n",
      "k is 3\n",
      "[0, 1, 2, 3, 4, 5, 6, 7, 8, 9, 10, 11, 12, 13, 14, 15, 16, 17, 18]\n",
      "k is 7\n",
      "[0, 1, 2, 3, 4, 5, 6, 7, 8, 9, 10, 11, 12, 13, 14, 15, 16, 17, 18]\n",
      "k is 13\n",
      "[0, 1, 2, 3, 4, 5, 6, 7, 8, 9, 10, 11, 12, 13, 14, 15, 16, 17, 18]\n"
     ]
    }
   ],
   "source": [
    "# Exercise 5\n",
    "\n",
    "prime = 19\n",
    "k = 1  # 3, 7, 13 and 18 are the other possibilities\n",
    "# loop through all possible k's 0 up to prime-1\n",
    "# calculate k*iterator % prime\n",
    "for k in (1, 3, 7, 13):\n",
    "    print(f'k is {k}')\n",
    "    elements = set((k * i) % prime for i in range(prime))\n",
    "    print(sorted(list(elements)))\n",
    "\n",
    "# Hint - sort!"
   ]
  },
  {
   "cell_type": "code",
   "execution_count": null,
   "metadata": {},
   "outputs": [],
   "source": [
    "from ecc import FieldElement\n",
    "a = FieldElement(3, 13)\n",
    "b = FieldElement(12, 13)\n",
    "c = FieldElement(10, 13)\n",
    "print(a*b==c)"
   ]
  },
  {
   "cell_type": "markdown",
   "metadata": {},
   "source": [
    "### Exercise 6\n",
    "\n",
    "Write the corresponding `__mul__` method which defines the multiplication of two Finite Field elements.\n",
    "\n",
    "#### Make [this test](/edit/code-ch01/ecc.py) pass: `ecc.py:FieldElementTest:test_mul`"
   ]
  },
  {
   "cell_type": "code",
   "execution_count": 19,
   "metadata": {},
   "outputs": [
    {
     "name": "stderr",
     "output_type": "stream",
     "text": [
      ".\n",
      "----------------------------------------------------------------------\n",
      "Ran 1 test in 0.000s\n",
      "\n",
      "OK\n"
     ]
    }
   ],
   "source": [
    "# Exercise 6\n",
    "\n",
    "reload(ecc)\n",
    "run(ecc.FieldElementTest(\"test_mul\"))"
   ]
  },
  {
   "cell_type": "code",
   "execution_count": null,
   "metadata": {},
   "outputs": [],
   "source": [
    "from ecc import FieldElement\n",
    "a = FieldElement(3, 13)\n",
    "b = FieldElement(1, 13)\n",
    "print(a**3==b)"
   ]
  },
  {
   "cell_type": "markdown",
   "metadata": {},
   "source": [
    "### Exercise 7\n",
    "\n",
    "For p = 7, 11, 17, 31, what is this set in \\\\(F_{p}\\\\)?\n",
    "\n",
    "{\\\\(1^{(p-1)}\\\\), \\\\(2^{(p-1)}\\\\), \\\\(3^{(p-1)}\\\\), \\\\(4^{(p-1)}\\\\), ... \\\\((p-1)^{(p-1)}\\\\)}"
   ]
  },
  {
   "cell_type": "code",
   "execution_count": 21,
   "metadata": {},
   "outputs": [
    {
     "name": "stdout",
     "output_type": "stream",
     "text": [
      "prime is 7.\n",
      "[1]\n",
      "prime is 11.\n",
      "[1]\n",
      "prime is 17.\n",
      "[1]\n",
      "prime is 31.\n",
      "[1]\n",
      "prime is 43.\n",
      "[1]\n"
     ]
    }
   ],
   "source": [
    "# Exercise 7\n",
    "\n",
    "primes = [7, 11, 17, 31, 43]\n",
    "\n",
    "for prime in primes:\n",
    "    print(f'prime is {prime}.')\n",
    "    elements = set(pow(i, prime - 1, prime) for i in range(1, prime))\n",
    "    print(sorted(list(elements)))"
   ]
  },
  {
   "cell_type": "markdown",
   "metadata": {},
   "source": [
    "### Exercise 8\n",
    "\n",
    "Solve the following equations in \\\\(F_{31}\\\\):\n",
    "\n",
    "* 3 / 24\n",
    "* \\\\(17^{-3}\\\\)\n",
    "* \\\\(4^{-4}\\\\)⋅11"
   ]
  },
  {
   "cell_type": "code",
   "execution_count": 26,
   "metadata": {},
   "outputs": [
    {
     "name": "stdout",
     "output_type": "stream",
     "text": [
      "4\n",
      "29\n",
      "13\n"
     ]
    }
   ],
   "source": [
    "# Exercise 8\n",
    "\n",
    "prime = 31\n",
    "\n",
    "# 3/24\n",
    "print(3 * pow(24, prime - 1 - 1, prime) % prime)\n",
    "# 17**-3\n",
    "print(pow(17, prime - 1 - 3, prime))\n",
    "# 4**-4*11\n",
    "print((pow(4, prime - 1 - 4, prime) * 11) % prime)"
   ]
  },
  {
   "cell_type": "markdown",
   "metadata": {},
   "source": [
    "### Exercise 9\n",
    "\n",
    "Write the corresponding `__truediv__` method which defines the division of two field elements.\n",
    "\n",
    "Note that in Python3, division is separated into `__truediv__` and `__floordiv__`. The first does normal division, the second does integer division.\n",
    "\n",
    "#### Make [this test](/edit/code-ch01/ecc.py) pass: `ecc.py:FieldElementTest:test_div`"
   ]
  },
  {
   "cell_type": "code",
   "execution_count": 37,
   "metadata": {},
   "outputs": [
    {
     "name": "stderr",
     "output_type": "stream",
     "text": [
      ".\n",
      "----------------------------------------------------------------------\n",
      "Ran 1 test in 0.001s\n",
      "\n",
      "OK\n"
     ]
    }
   ],
   "source": [
    "# Exercise 9\n",
    "\n",
    "reload(ecc)\n",
    "run(ecc.FieldElementTest(\"test_div\"))"
   ]
  },
  {
   "cell_type": "code",
   "execution_count": 35,
   "metadata": {},
   "outputs": [
    {
     "name": "stdout",
     "output_type": "stream",
     "text": [
      "True\n"
     ]
    }
   ],
   "source": [
    "from ecc import FieldElement\n",
    "a = FieldElement(7, 13)\n",
    "b = FieldElement(8, 13)\n",
    "print(a**-3==b)"
   ]
  }
 ],
 "metadata": {
  "interpreter": {
   "hash": "58aa21bf9e79cafca23fdcfe9b53de2bae492e3b98346c864170b5f3f0debc5b"
  },
  "kernelspec": {
   "display_name": "Python 3.9.13 ('ProgrammingBitcoin')",
   "language": "python",
   "name": "python3"
  },
  "language_info": {
   "codemirror_mode": {
    "name": "ipython",
    "version": 3
   },
   "file_extension": ".py",
   "mimetype": "text/x-python",
   "name": "python",
   "nbconvert_exporter": "python",
   "pygments_lexer": "ipython3",
   "version": "3.9.13"
  }
 },
 "nbformat": 4,
 "nbformat_minor": 2
}
