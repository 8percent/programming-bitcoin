{
  "cells": [
    {
      "cell_type": "markdown",
      "metadata": {
        "id": "view-in-github",
        "colab_type": "text"
      },
      "source": [
        "<a href=\"https://colab.research.google.com/github/8percent/programming-bitcoin/blob/main/chapter1/%EC%9D%B4%ED%98%B8%EC%84%B1.ipynb\" target=\"_parent\"><img src=\"https://colab.research.google.com/assets/colab-badge.svg\" alt=\"Open In Colab\"/></a>"
      ]
    },
    {
      "cell_type": "code",
      "source": [
        "!git clone https://github.com/jimmysong/programmingbitcoin"
      ],
      "metadata": {
        "colab": {
          "base_uri": "https://localhost:8080/"
        },
        "id": "n8oWC0Fyz8Bx",
        "outputId": "9f4d0984-1f50-4bd4-fcf0-77281b2d42fd"
      },
      "execution_count": 1,
      "outputs": [
        {
          "output_type": "stream",
          "name": "stdout",
          "text": [
            "Cloning into 'programmingbitcoin'...\n",
            "remote: Enumerating objects: 6406, done.\u001b[K\n",
            "remote: Total 6406 (delta 0), reused 0 (delta 0), pack-reused 6406\u001b[K\n",
            "Receiving objects: 100% (6406/6406), 39.43 MiB | 25.46 MiB/s, done.\n",
            "Resolving deltas: 100% (4254/4254), done.\n"
          ]
        }
      ]
    },
    {
      "cell_type": "code",
      "source": [
        "!pip install requests"
      ],
      "metadata": {
        "colab": {
          "base_uri": "https://localhost:8080/"
        },
        "id": "L3kAaIsmz9v7",
        "outputId": "e45c8b54-304b-439d-bb76-94c5acd4e4ef"
      },
      "execution_count": 2,
      "outputs": [
        {
          "output_type": "stream",
          "name": "stdout",
          "text": [
            "Requirement already satisfied: requests in /usr/local/lib/python3.7/dist-packages (2.23.0)\n",
            "Requirement already satisfied: chardet<4,>=3.0.2 in /usr/local/lib/python3.7/dist-packages (from requests) (3.0.4)\n",
            "Requirement already satisfied: urllib3!=1.25.0,!=1.25.1,<1.26,>=1.21.1 in /usr/local/lib/python3.7/dist-packages (from requests) (1.24.3)\n",
            "Requirement already satisfied: idna<3,>=2.5 in /usr/local/lib/python3.7/dist-packages (from requests) (2.10)\n",
            "Requirement already satisfied: certifi>=2017.4.17 in /usr/local/lib/python3.7/dist-packages (from requests) (2021.10.8)\n"
          ]
        }
      ]
    },
    {
      "cell_type": "code",
      "source": [
        "cd cd programmingbitcoin/code-ch01 "
      ],
      "metadata": {
        "colab": {
          "base_uri": "https://localhost:8080/"
        },
        "id": "VALFe-Okz9Z6",
        "outputId": "95b44072-f1e9-431f-be03-cd50c5dc172b"
      },
      "execution_count": 3,
      "outputs": [
        {
          "output_type": "stream",
          "name": "stdout",
          "text": [
            "[Errno 2] No such file or directory: 'cd programmingbitcoin/code-ch01'\n",
            "/content\n"
          ]
        }
      ]
    },
    {
      "cell_type": "code",
      "execution_count": null,
      "metadata": {
        "id": "DQn3WFDRz2RB"
      },
      "outputs": [],
      "source": [
        "############## PLEASE RUN THIS CELL FIRST! ###################\n",
        "\n",
        "# import everything and define a test runner function\n",
        "from importlib import reload\n",
        "from helper import run\n",
        "import ecc\n",
        "import helper\n",
        "\n",
        "from ecc import FieldElement"
      ]
    },
    {
      "cell_type": "code",
      "execution_count": null,
      "metadata": {
        "id": "07FlFwDhz2RF"
      },
      "outputs": [],
      "source": [
        "from ecc import FieldElement\n",
        "a = FieldElement(7, 13)\n",
        "b = FieldElement(6, 13)\n",
        "print(a == b)\n",
        "print(a == a)"
      ]
    },
    {
      "cell_type": "markdown",
      "metadata": {
        "id": "HEAqI_6xz2RG"
      },
      "source": [
        "### Exercise 1\n",
        "\n",
        "Write the corresponding method `__ne__` which checks if two `FieldElement` objects are _not equal_ to each other.\n",
        "\n",
        "#### Make [this test](/edit/code-ch01/ecc.py) pass: `ecc.py:FieldElementTest:test_ne`"
      ]
    },
    {
      "cell_type": "code",
      "execution_count": null,
      "metadata": {
        "id": "RJGrYS-Lz2RI"
      },
      "outputs": [],
      "source": [
        "# Exercise 1\n",
        "\n",
        "reload(ecc)\n",
        "run(ecc.FieldElementTest(\"test_ne\"))"
      ]
    },
    {
      "cell_type": "code",
      "execution_count": null,
      "metadata": {
        "id": "rLyv041Xz2RI"
      },
      "outputs": [],
      "source": [
        "print(7 % 3)"
      ]
    },
    {
      "cell_type": "code",
      "execution_count": null,
      "metadata": {
        "id": "9_rJO1T6z2RJ"
      },
      "outputs": [],
      "source": [
        "print(-27 % 13)"
      ]
    },
    {
      "cell_type": "markdown",
      "metadata": {
        "id": "dRETv9LFz2RJ"
      },
      "source": [
        "### Exercise 2\n",
        "\n",
        "Solve these problems in \\\\(F_{57}\\\\) (assume all +'s here are \\\\(+_{f}\\\\) and -`s here \\\\(-_{f}\\\\))\n",
        "\n",
        "* 44+33\n",
        "* 9-29\n",
        "* 17+42+49\n",
        "* 52-30-38"
      ]
    },
    {
      "cell_type": "code",
      "execution_count": null,
      "metadata": {
        "id": "RWMnnfM8z2RK"
      },
      "outputs": [],
      "source": [
        "# Exercise 2\n",
        "\n",
        "# remember that % is the modulo operator\n",
        "prime = 57\n",
        "# 44+33\n",
        "# 9-29\n",
        "# 17+42+49\n",
        "# 52-30-38"
      ]
    },
    {
      "cell_type": "code",
      "execution_count": null,
      "metadata": {
        "id": "0DGmkpzpz2RL"
      },
      "outputs": [],
      "source": [
        "from ecc import FieldElement\n",
        "a = FieldElement(7, 13)\n",
        "b = FieldElement(12, 13)\n",
        "c = FieldElement(6, 13)\n",
        "print(a+b==c)"
      ]
    },
    {
      "cell_type": "markdown",
      "metadata": {
        "id": "lPqq438oz2RL"
      },
      "source": [
        "### Exercise 3\n",
        "\n",
        "Write the corresponding `__sub__` method which defines the subtraction of two `FieldElement` objects.\n",
        "\n",
        "#### Make [this test](/edit/code-ch01/ecc.py) pass: `ecc.py:FieldElementTest:test_sub`"
      ]
    },
    {
      "cell_type": "code",
      "execution_count": null,
      "metadata": {
        "id": "auybM5-Wz2RM"
      },
      "outputs": [],
      "source": [
        "# Exercise 3\n",
        "\n",
        "reload(ecc)\n",
        "run(ecc.FieldElementTest(\"test_sub\"))"
      ]
    },
    {
      "cell_type": "markdown",
      "metadata": {
        "id": "Ksfkhqrhz2RM"
      },
      "source": [
        "### Exercise 4\n",
        "\n",
        "Solve the following equations in \\\\(F_{97}\\\\) (again, assume ⋅ and exponentiation are field versions):\n",
        "\n",
        "* 95⋅45⋅31\n",
        "* 17⋅13⋅19⋅44\n",
        "* \\\\(12^{7}\\\\)⋅\\\\(77^{49}\\\\)"
      ]
    },
    {
      "cell_type": "code",
      "execution_count": null,
      "metadata": {
        "id": "CrKKsd0Mz2RN"
      },
      "outputs": [],
      "source": [
        "# Exercise 4\n",
        "\n",
        "prime = 97\n",
        "\n",
        "# 95*45*31\n",
        "# 17*13*19*44\n",
        "# 12**7*77**49"
      ]
    },
    {
      "cell_type": "markdown",
      "metadata": {
        "id": "ayeJ1rDGz2RN"
      },
      "source": [
        "### Exercise 5\n",
        "\n",
        "For k = 1, 3, 7, 13, 18, what is this set in \\\\(F_{19}\\\\)?\n",
        "\n",
        "{k⋅0, k⋅1, k⋅2, k⋅3, ... k⋅18}\n",
        "\n",
        "Do you notice anything about these sets?"
      ]
    },
    {
      "cell_type": "code",
      "execution_count": null,
      "metadata": {
        "id": "Q0p8HePsz2RO"
      },
      "outputs": [],
      "source": [
        "# Exercise 5\n",
        "\n",
        "prime = 19\n",
        "k = 1  # 3, 7, 13 and 18 are the other possibilities\n",
        "# loop through all possible k's 0 up to prime-1\n",
        "# calculate k*iterator % prime\n",
        "\n",
        "# Hint - sort!"
      ]
    },
    {
      "cell_type": "code",
      "execution_count": null,
      "metadata": {
        "id": "01lcJzvDz2RO"
      },
      "outputs": [],
      "source": [
        "from ecc import FieldElement\n",
        "a = FieldElement(3, 13)\n",
        "b = FieldElement(12, 13)\n",
        "c = FieldElement(10, 13)\n",
        "print(a*b==c)"
      ]
    },
    {
      "cell_type": "markdown",
      "metadata": {
        "id": "9usyWhRfz2RP"
      },
      "source": [
        "### Exercise 6\n",
        "\n",
        "Write the corresponding `__mul__` method which defines the multiplication of two Finite Field elements.\n",
        "\n",
        "#### Make [this test](/edit/code-ch01/ecc.py) pass: `ecc.py:FieldElementTest:test_mul`"
      ]
    },
    {
      "cell_type": "code",
      "execution_count": null,
      "metadata": {
        "id": "DSklIwAZz2RP"
      },
      "outputs": [],
      "source": [
        "# Exercise 6\n",
        "\n",
        "reload(ecc)\n",
        "run(ecc.FieldElementTest(\"test_mul\"))"
      ]
    },
    {
      "cell_type": "code",
      "execution_count": null,
      "metadata": {
        "id": "7YRU1Sqtz2RP"
      },
      "outputs": [],
      "source": [
        "from ecc import FieldElement\n",
        "a = FieldElement(3, 13)\n",
        "b = FieldElement(1, 13)\n",
        "print(a**3==b)"
      ]
    },
    {
      "cell_type": "markdown",
      "metadata": {
        "id": "K6oLXXnJz2RP"
      },
      "source": [
        "### Exercise 7\n",
        "\n",
        "For p = 7, 11, 17, 31, what is this set in \\\\(F_{p}\\\\)?\n",
        "\n",
        "{\\\\(1^{(p-1)}\\\\), \\\\(2^{(p-1)}\\\\), \\\\(3^{(p-1)}\\\\), \\\\(4^{(p-1)}\\\\), ... \\\\((p-1)^{(p-1)}\\\\)}"
      ]
    },
    {
      "cell_type": "code",
      "execution_count": null,
      "metadata": {
        "id": "8TqQIyHdz2RQ"
      },
      "outputs": [],
      "source": [
        "# Exercise 7\n",
        "\n",
        "primes = [7, 11, 17, 31, 43]"
      ]
    },
    {
      "cell_type": "markdown",
      "metadata": {
        "id": "Kvk7agoCz2RQ"
      },
      "source": [
        "### Exercise 8\n",
        "\n",
        "Solve the following equations in \\\\(F_{31}\\\\):\n",
        "\n",
        "* 3 / 24\n",
        "* \\\\(17^{-3}\\\\)\n",
        "* \\\\(4^{-4}\\\\)⋅11"
      ]
    },
    {
      "cell_type": "code",
      "execution_count": null,
      "metadata": {
        "id": "qi84RzVLz2RQ"
      },
      "outputs": [],
      "source": [
        "# Exercise 8\n",
        "\n",
        "# 3/24\n",
        "# 17**-3\n",
        "# 4**-4*11"
      ]
    },
    {
      "cell_type": "markdown",
      "metadata": {
        "id": "p79pt0wpz2RQ"
      },
      "source": [
        "### Exercise 9\n",
        "\n",
        "Write the corresponding `__truediv__` method which defines the division of two field elements.\n",
        "\n",
        "Note that in Python3, division is separated into `__truediv__` and `__floordiv__`. The first does normal division, the second does integer division.\n",
        "\n",
        "#### Make [this test](/edit/code-ch01/ecc.py) pass: `ecc.py:FieldElementTest:test_div`"
      ]
    },
    {
      "cell_type": "code",
      "execution_count": null,
      "metadata": {
        "id": "b0gyWSBDz2RR"
      },
      "outputs": [],
      "source": [
        "# Exercise 9\n",
        "\n",
        "reload(ecc)\n",
        "run(ecc.FieldElementTest(\"test_div\"))"
      ]
    },
    {
      "cell_type": "code",
      "execution_count": null,
      "metadata": {
        "id": "hgd8XBvlz2RR"
      },
      "outputs": [],
      "source": [
        "from ecc import FieldElement\n",
        "a = FieldElement(7, 13)\n",
        "b = FieldElement(8, 13)\n",
        "print(a**-3==b)"
      ]
    }
  ],
  "metadata": {
    "colab": {
      "name": "이호성.ipynb",
      "provenance": [],
      "include_colab_link": true
    },
    "language_info": {
      "name": "python"
    },
    "kernelspec": {
      "name": "python3",
      "display_name": "Python 3"
    }
  },
  "nbformat": 4,
  "nbformat_minor": 0
}