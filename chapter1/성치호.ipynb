{
  "cells": [
    {
      "cell_type": "markdown",
      "metadata": {
        "id": "view-in-github",
        "colab_type": "text"
      },
      "source": [
        "<a href=\"https://colab.research.google.com/github/8percent/programming-bitcoin/blob/main/chapter1/%EC%84%B1%EC%B9%98%ED%98%B8.ipynb\" target=\"_parent\"><img src=\"https://colab.research.google.com/assets/colab-badge.svg\" alt=\"Open In Colab\"/></a>"
      ]
    },
    {
      "cell_type": "code",
      "source": [
        "!git clone https://github.com/jimmysong/programmingbitcoin"
      ],
      "metadata": {
        "colab": {
          "base_uri": "https://localhost:8080/"
        },
        "id": "F9LyQgZxj3hD",
        "outputId": "60fa4dd5-b475-4d32-a62d-e59dd3266dc1"
      },
      "execution_count": null,
      "outputs": [
        {
          "output_type": "stream",
          "name": "stdout",
          "text": [
            "Cloning into 'programmingbitcoin'...\n",
            "remote: Enumerating objects: 6406, done.\u001b[K\n",
            "remote: Total 6406 (delta 0), reused 0 (delta 0), pack-reused 6406\u001b[K\n",
            "Receiving objects: 100% (6406/6406), 39.43 MiB | 25.85 MiB/s, done.\n",
            "Resolving deltas: 100% (4254/4254), done.\n"
          ]
        }
      ]
    },
    {
      "cell_type": "code",
      "source": [
        "!pip install requests"
      ],
      "metadata": {
        "colab": {
          "base_uri": "https://localhost:8080/"
        },
        "id": "0IfaFxIwkD2C",
        "outputId": "39422216-ae8a-4765-db7f-7bfb39e9225f"
      },
      "execution_count": null,
      "outputs": [
        {
          "output_type": "stream",
          "name": "stdout",
          "text": [
            "Looking in indexes: https://pypi.org/simple, https://us-python.pkg.dev/colab-wheels/public/simple/\n",
            "Requirement already satisfied: requests in /usr/local/lib/python3.7/dist-packages (2.23.0)\n",
            "Requirement already satisfied: chardet<4,>=3.0.2 in /usr/local/lib/python3.7/dist-packages (from requests) (3.0.4)\n",
            "Requirement already satisfied: idna<3,>=2.5 in /usr/local/lib/python3.7/dist-packages (from requests) (2.10)\n",
            "Requirement already satisfied: urllib3!=1.25.0,!=1.25.1,<1.26,>=1.21.1 in /usr/local/lib/python3.7/dist-packages (from requests) (1.24.3)\n",
            "Requirement already satisfied: certifi>=2017.4.17 in /usr/local/lib/python3.7/dist-packages (from requests) (2022.5.18.1)\n"
          ]
        }
      ]
    },
    {
      "cell_type": "code",
      "source": [
        "cd programmingbitcoin/code-ch01"
      ],
      "metadata": {
        "colab": {
          "base_uri": "https://localhost:8080/"
        },
        "id": "dFl58kU5kHYm",
        "outputId": "93ded770-f294-4df1-8496-67f2a46f3af5"
      },
      "execution_count": null,
      "outputs": [
        {
          "output_type": "stream",
          "name": "stdout",
          "text": [
            "/content/programmingbitcoin/code-ch01\n"
          ]
        }
      ]
    },
    {
      "cell_type": "code",
      "execution_count": null,
      "metadata": {
        "id": "VeJK0nY-jr2-"
      },
      "outputs": [],
      "source": [
        "############## PLEASE RUN THIS CELL FIRST! ###################\n",
        "\n",
        "# import everything and define a test runner function\n",
        "from importlib import reload\n",
        "from helper import run\n",
        "import ecc\n",
        "import helper\n",
        "\n",
        "from ecc import FieldElement"
      ]
    },
    {
      "cell_type": "code",
      "execution_count": null,
      "metadata": {
        "id": "MLdYkb3Ijr2_",
        "colab": {
          "base_uri": "https://localhost:8080/"
        },
        "outputId": "bd522d74-13ea-4c01-bd40-e94b96072759"
      },
      "outputs": [
        {
          "output_type": "stream",
          "name": "stdout",
          "text": [
            "False\n",
            "True\n"
          ]
        }
      ],
      "source": [
        "from ecc import FieldElement\n",
        "a = FieldElement(7, 13)\n",
        "b = FieldElement(6, 13)\n",
        "print(a == b)\n",
        "print(a == a)"
      ]
    },
    {
      "cell_type": "markdown",
      "metadata": {
        "id": "X16Lc8ntjr3A"
      },
      "source": [
        "### Exercise 1\n",
        "\n",
        "Write the corresponding method `__ne__` which checks if two `FieldElement` objects are _not equal_ to each other.\n",
        "\n",
        "#### Make [this test](/edit/code-ch01/ecc.py) pass: `ecc.py:FieldElementTest:test_ne`"
      ]
    },
    {
      "cell_type": "code",
      "execution_count": null,
      "metadata": {
        "id": "7Hv1dov0jr3A",
        "colab": {
          "base_uri": "https://localhost:8080/"
        },
        "outputId": "8ab76c42-13a2-4c54-e6ad-1211a6a0f65a"
      },
      "outputs": [
        {
          "output_type": "stream",
          "name": "stderr",
          "text": [
            ".\n",
            "----------------------------------------------------------------------\n",
            "Ran 1 test in 0.006s\n",
            "\n",
            "OK\n"
          ]
        }
      ],
      "source": [
        "# Exercise 1\n",
        "\n",
        "reload(ecc)\n",
        "run(ecc.FieldElementTest(\"test_ne\"))"
      ]
    },
    {
      "cell_type": "code",
      "execution_count": null,
      "metadata": {
        "id": "F9YdNvrMjr3B",
        "colab": {
          "base_uri": "https://localhost:8080/"
        },
        "outputId": "67170481-964f-491e-f7cd-ad987aaff6f2"
      },
      "outputs": [
        {
          "output_type": "stream",
          "name": "stdout",
          "text": [
            "1\n"
          ]
        }
      ],
      "source": [
        "print(7 % 3)"
      ]
    },
    {
      "cell_type": "code",
      "execution_count": null,
      "metadata": {
        "id": "cpQ3lWc_jr3B",
        "colab": {
          "base_uri": "https://localhost:8080/"
        },
        "outputId": "553a83fc-a615-48f8-f216-26974221081b"
      },
      "outputs": [
        {
          "output_type": "stream",
          "name": "stdout",
          "text": [
            "12\n"
          ]
        }
      ],
      "source": [
        "print(-27 % 13)"
      ]
    },
    {
      "cell_type": "markdown",
      "metadata": {
        "id": "IMtDnEIqjr3B"
      },
      "source": [
        "### Exercise 2\n",
        "\n",
        "Solve these problems in \\\\(F_{57}\\\\) (assume all +'s here are \\\\(+_{f}\\\\) and -`s here \\\\(-_{f}\\\\))\n",
        "\n",
        "* 44+33\n",
        "* 9-29\n",
        "* 17+42+49\n",
        "* 52-30-38"
      ]
    },
    {
      "cell_type": "code",
      "execution_count": null,
      "metadata": {
        "id": "rqZTlbOrjr3B",
        "colab": {
          "base_uri": "https://localhost:8080/"
        },
        "outputId": "49377bc1-5abf-4bdd-d2f8-ab1a054095e5"
      },
      "outputs": [
        {
          "output_type": "stream",
          "name": "stdout",
          "text": [
            "44 +f 33 = 20\n",
            "9 -f 29 = 37\n",
            "17 +f 42 +f + 49 = 51\n",
            "52 -f 30 -f 38 = 41\n"
          ]
        }
      ],
      "source": [
        "# Exercise 2\n",
        "\n",
        "# remember that % is the modulo operator\n",
        "prime = 57\n",
        "# 44+33 = 20\n",
        "print(\"44 +f 33 = %d\" % ((44 + 33) % prime));\n",
        "\n",
        "# 9-29 = 37\n",
        "print(\"9 -f 29 = %d\" % ((9 - 29) % prime));\n",
        "\n",
        "# 17+42+49 = 51\n",
        "print(\"17 +f 42 +f + 49 = %d\" % ((17 + 42 + 49) % prime));\n",
        "\n",
        "# 52-30-38 = 41\n",
        "print(\"52 -f 30 -f 38 = %d\" % ((52 - 30 - 38) % prime));"
      ]
    },
    {
      "cell_type": "code",
      "execution_count": null,
      "metadata": {
        "id": "1BD-xY2Bjr3C",
        "colab": {
          "base_uri": "https://localhost:8080/"
        },
        "outputId": "44d70534-6a35-418d-a604-26b228133ca4"
      },
      "outputs": [
        {
          "output_type": "stream",
          "name": "stdout",
          "text": [
            "True\n"
          ]
        }
      ],
      "source": [
        "from ecc import FieldElement\n",
        "a = FieldElement(7, 13)\n",
        "b = FieldElement(12, 13)\n",
        "c = FieldElement(6, 13)\n",
        "print(a+b==c)"
      ]
    },
    {
      "cell_type": "markdown",
      "metadata": {
        "id": "Q5FUvccMjr3D"
      },
      "source": [
        "### Exercise 3\n",
        "\n",
        "Write the corresponding `__sub__` method which defines the subtraction of two `FieldElement` objects.\n",
        "\n",
        "#### Make [this test](/edit/code-ch01/ecc.py) pass: `ecc.py:FieldElementTest:test_sub`"
      ]
    },
    {
      "cell_type": "code",
      "execution_count": null,
      "metadata": {
        "id": "bPB22MBejr3E",
        "colab": {
          "base_uri": "https://localhost:8080/"
        },
        "outputId": "e4055510-36e8-48da-c62d-46445de6232d"
      },
      "outputs": [
        {
          "output_type": "stream",
          "name": "stderr",
          "text": [
            ".\n",
            "----------------------------------------------------------------------\n",
            "Ran 1 test in 0.002s\n",
            "\n",
            "OK\n"
          ]
        }
      ],
      "source": [
        "# Exercise 3\n",
        "\n",
        "reload(ecc)\n",
        "run(ecc.FieldElementTest(\"test_sub\"))"
      ]
    },
    {
      "cell_type": "markdown",
      "metadata": {
        "id": "8nJjm6HZjr3E"
      },
      "source": [
        "### Exercise 4\n",
        "\n",
        "Solve the following equations in \\\\(F_{97}\\\\) (again, assume ⋅ and exponentiation are field versions):\n",
        "\n",
        "* 95⋅45⋅31\n",
        "* 17⋅13⋅19⋅44\n",
        "* \\\\(12^{7}\\\\)⋅\\\\(77^{49}\\\\)"
      ]
    },
    {
      "cell_type": "code",
      "execution_count": null,
      "metadata": {
        "id": "O8BYdIrEjr3E",
        "colab": {
          "base_uri": "https://localhost:8080/"
        },
        "outputId": "fd229305-828c-4f49-962a-f608e2303cb2"
      },
      "outputs": [
        {
          "output_type": "stream",
          "name": "stdout",
          "text": [
            "95 *f 45 *f 31 = 23\n",
            "17 *f 13 *f 19 *f 44 = 68\n",
            "12 **f 7 *f 77 *f 49 = 63\n"
          ]
        }
      ],
      "source": [
        "# Exercise 4\n",
        "\n",
        "prime = 97\n",
        "\n",
        "# 95*45*31 = 23\n",
        "print(\"95 *f 45 *f 31 = %d\" % ((95 * 45 * 31) % prime))\n",
        "\n",
        "# 17*13*19*44 = 68\n",
        "print(\"17 *f 13 *f 19 *f 44 = %d\" % ((17 * 13 * 19 * 44) % prime))\n",
        "\n",
        "# 12**7*77**49 = 63\n",
        "print(\"12 **f 7 *f 77 *f 49 = %d\" % ((12 ** 7 * 77 ** 49) % prime))"
      ]
    },
    {
      "cell_type": "markdown",
      "metadata": {
        "id": "HmOsn9KOjr3F"
      },
      "source": [
        "### Exercise 5\n",
        "\n",
        "For k = 1, 3, 7, 13, 18, what is this set in \\\\(F_{19}\\\\)?\n",
        "\n",
        "{k⋅0, k⋅1, k⋅2, k⋅3, ... k⋅18}\n",
        "\n",
        "Do you notice anything about these sets?"
      ]
    },
    {
      "cell_type": "code",
      "execution_count": null,
      "metadata": {
        "id": "Ro0vPffkjr3F",
        "colab": {
          "base_uri": "https://localhost:8080/"
        },
        "outputId": "b4367375-a616-49a7-80cd-53815dec91d0"
      },
      "outputs": [
        {
          "output_type": "stream",
          "name": "stdout",
          "text": [
            "When k = 1: {0, 1, 2, 3, 4, 5, 6, 7, 8, 9, 10, 11, 12, 13, 14, 15, 16, 17, 18}\n",
            "When k = 2: {0, 1, 2, 3, 4, 5, 6, 7, 8, 9, 10, 11, 12, 13, 14, 15, 16, 17, 18}\n",
            "When k = 3: {0, 1, 2, 3, 4, 5, 6, 7, 8, 9, 10, 11, 12, 13, 14, 15, 16, 17, 18}\n",
            "When k = 4: {0, 1, 2, 3, 4, 5, 6, 7, 8, 9, 10, 11, 12, 13, 14, 15, 16, 17, 18}\n",
            "When k = 5: {0, 1, 2, 3, 4, 5, 6, 7, 8, 9, 10, 11, 12, 13, 14, 15, 16, 17, 18}\n",
            "When k = 6: {0, 1, 2, 3, 4, 5, 6, 7, 8, 9, 10, 11, 12, 13, 14, 15, 16, 17, 18}\n",
            "When k = 7: {0, 1, 2, 3, 4, 5, 6, 7, 8, 9, 10, 11, 12, 13, 14, 15, 16, 17, 18}\n",
            "When k = 8: {0, 1, 2, 3, 4, 5, 6, 7, 8, 9, 10, 11, 12, 13, 14, 15, 16, 17, 18}\n",
            "When k = 9: {0, 1, 2, 3, 4, 5, 6, 7, 8, 9, 10, 11, 12, 13, 14, 15, 16, 17, 18}\n",
            "When k = 10: {0, 1, 2, 3, 4, 5, 6, 7, 8, 9, 10, 11, 12, 13, 14, 15, 16, 17, 18}\n",
            "When k = 11: {0, 1, 2, 3, 4, 5, 6, 7, 8, 9, 10, 11, 12, 13, 14, 15, 16, 17, 18}\n",
            "When k = 12: {0, 1, 2, 3, 4, 5, 6, 7, 8, 9, 10, 11, 12, 13, 14, 15, 16, 17, 18}\n",
            "When k = 13: {0, 1, 2, 3, 4, 5, 6, 7, 8, 9, 10, 11, 12, 13, 14, 15, 16, 17, 18}\n",
            "When k = 14: {0, 1, 2, 3, 4, 5, 6, 7, 8, 9, 10, 11, 12, 13, 14, 15, 16, 17, 18}\n",
            "When k = 15: {0, 1, 2, 3, 4, 5, 6, 7, 8, 9, 10, 11, 12, 13, 14, 15, 16, 17, 18}\n",
            "When k = 16: {0, 1, 2, 3, 4, 5, 6, 7, 8, 9, 10, 11, 12, 13, 14, 15, 16, 17, 18}\n",
            "When k = 17: {0, 1, 2, 3, 4, 5, 6, 7, 8, 9, 10, 11, 12, 13, 14, 15, 16, 17, 18}\n",
            "When k = 18: {0, 1, 2, 3, 4, 5, 6, 7, 8, 9, 10, 11, 12, 13, 14, 15, 16, 17, 18}\n"
          ]
        }
      ],
      "source": [
        "# Exercise 5\n",
        "\n",
        "prime = 19\n",
        "k = 1  # 3, 7, 13 and 18 are the other possibilities\n",
        "# loop through all possible k's 0 up to prime-1\n",
        "# calculate k*iterator % prime\n",
        "for k in range(1,19):\n",
        "  _set = set()\n",
        "  for item in range(0,19):\n",
        "    _set.add(item * k % prime)\n",
        "  print(\"When k = %d: \" % k,end=\"\")\n",
        "  print(_set)\n",
        "\n",
        "# Hint - sort!"
      ]
    },
    {
      "cell_type": "markdown",
      "source": [
        "{k⋅0, k⋅1, k⋅2, k⋅3, ... k⋅(p-1)} 집합에서 임의로 두 원소 고름.<br>\n",
        "서로 뺌 -> k * n 꼴 -> k는 p와 n보다 작음. -> 절대로 p로 나누어 떨어지지 않음.\n",
        "<br>\n",
        "-> % 연산 취한 집합에 들어갈 값은 서로 같을 수 없음. -> 즉 집합에 들어갈 모든 수는 다른 수이다.\n",
        "<br>\n",
        "총 개수는 p개, 모두 다른 수, 차이므로 0보다 작을 수 없음. <br>\n",
        "-> 집합은 항상 0, 1, ... p-1."
      ],
      "metadata": {
        "id": "Ykmu8EcRpb1X"
      }
    },
    {
      "cell_type": "code",
      "execution_count": null,
      "metadata": {
        "id": "VMlQc5LUjr3F",
        "colab": {
          "base_uri": "https://localhost:8080/"
        },
        "outputId": "ebbdf455-309f-4194-b0d5-2ab35b1110d0"
      },
      "outputs": [
        {
          "output_type": "stream",
          "name": "stdout",
          "text": [
            "True\n"
          ]
        }
      ],
      "source": [
        "from ecc import FieldElement\n",
        "a = FieldElement(3, 13)\n",
        "b = FieldElement(12, 13)\n",
        "c = FieldElement(10, 13)\n",
        "print(a*b==c)"
      ]
    },
    {
      "cell_type": "markdown",
      "metadata": {
        "id": "T_0uvMOwjr3G"
      },
      "source": [
        "### Exercise 6\n",
        "\n",
        "Write the corresponding `__mul__` method which defines the multiplication of two Finite Field elements.\n",
        "\n",
        "#### Make [this test](/edit/code-ch01/ecc.py) pass: `ecc.py:FieldElementTest:test_mul`"
      ]
    },
    {
      "cell_type": "code",
      "execution_count": null,
      "metadata": {
        "id": "uQ4gW31Rjr3G",
        "colab": {
          "base_uri": "https://localhost:8080/"
        },
        "outputId": "f6c1905f-6fcf-40be-fcf1-edc87d0fdc69"
      },
      "outputs": [
        {
          "output_type": "stream",
          "name": "stderr",
          "text": [
            ".\n",
            "----------------------------------------------------------------------\n",
            "Ran 1 test in 0.006s\n",
            "\n",
            "OK\n"
          ]
        }
      ],
      "source": [
        "# Exercise 6\n",
        "\n",
        "reload(ecc)\n",
        "run(ecc.FieldElementTest(\"test_mul\"))"
      ]
    },
    {
      "cell_type": "code",
      "execution_count": null,
      "metadata": {
        "id": "2bQieErQjr3G",
        "colab": {
          "base_uri": "https://localhost:8080/"
        },
        "outputId": "8344c739-77e3-433d-a257-0fe8bc47fb84"
      },
      "outputs": [
        {
          "output_type": "stream",
          "name": "stdout",
          "text": [
            "True\n"
          ]
        }
      ],
      "source": [
        "from ecc import FieldElement\n",
        "a = FieldElement(3, 13)\n",
        "b = FieldElement(1, 13)\n",
        "print(a**3==b)"
      ]
    },
    {
      "cell_type": "markdown",
      "metadata": {
        "id": "S8aB4BOpjr3H"
      },
      "source": [
        "### Exercise 7\n",
        "\n",
        "For p = 7, 11, 17, 31, what is this set in \\\\(F_{p}\\\\)?\n",
        "\n",
        "{\\\\(1^{(p-1)}\\\\), \\\\(2^{(p-1)}\\\\), \\\\(3^{(p-1)}\\\\), \\\\(4^{(p-1)}\\\\), ... \\\\((p-1)^{(p-1)}\\\\)}"
      ]
    },
    {
      "cell_type": "code",
      "execution_count": null,
      "metadata": {
        "id": "T2kyj2mzjr3H",
        "colab": {
          "base_uri": "https://localhost:8080/"
        },
        "outputId": "0b2d0749-9e01-4eef-8320-f40a3a3bcede"
      },
      "outputs": [
        {
          "output_type": "stream",
          "name": "stdout",
          "text": [
            "When p = 7: {1}\n",
            "When p = 11: {1}\n",
            "When p = 17: {1}\n",
            "When p = 31: {1}\n",
            "When p = 43: {1}\n"
          ]
        }
      ],
      "source": [
        "# Exercise 7\n",
        "\n",
        "primes = [7, 11, 17, 31, 43]\n",
        "\n",
        "for p in primes:\n",
        "  _set = set()\n",
        "  for item in range(1, p):\n",
        "    _set.add(pow(item, p - 1, p))\n",
        "  print(\"When p = %d: \" % p, end=\"\")\n",
        "  print(_set)"
      ]
    },
    {
      "cell_type": "markdown",
      "metadata": {
        "id": "xThgvSyljr3H"
      },
      "source": [
        "### Exercise 8\n",
        "\n",
        "Solve the following equations in \\\\(F_{31}\\\\):\n",
        "\n",
        "* 3 / 24\n",
        "* \\\\(17^{-3}\\\\)\n",
        "* \\\\(4^{-4}\\\\)⋅11"
      ]
    },
    {
      "cell_type": "code",
      "execution_count": null,
      "metadata": {
        "id": "1Y5t4dfcjr3H",
        "colab": {
          "base_uri": "https://localhost:8080/"
        },
        "outputId": "d25f21f8-b60f-4061-f9e8-a6a8c4938e8c"
      },
      "outputs": [
        {
          "output_type": "stream",
          "name": "stdout",
          "text": [
            "3 /f 24 = 4\n",
            "17 **f -3 = 29\n",
            "4 **f -4 *f 11 = 13\n"
          ]
        }
      ],
      "source": [
        "# Exercise 8\n",
        "\n",
        "prime = 31\n",
        "\n",
        "# 3/24\n",
        "print(\"3 /f 24 = %d\" % ((3 * pow(24, prime - 2, prime)) % prime))\n",
        "\n",
        "# 17**-3\n",
        "print(\"17 **f -3 = %d\" % (pow(17, prime - 4, prime)))\n",
        "\n",
        "# 4**-4*11\n",
        "print(\"4 **f -4 *f 11 = %d\" % ((pow(4, prime - 5, prime) * 11) % prime))"
      ]
    },
    {
      "cell_type": "markdown",
      "metadata": {
        "id": "6ndlwEANjr3H"
      },
      "source": [
        "### Exercise 9\n",
        "\n",
        "Write the corresponding `__truediv__` method which defines the division of two field elements.\n",
        "\n",
        "Note that in Python3, division is separated into `__truediv__` and `__floordiv__`. The first does normal division, the second does integer division.\n",
        "\n",
        "#### Make [this test](/edit/code-ch01/ecc.py) pass: `ecc.py:FieldElementTest:test_div`"
      ]
    },
    {
      "cell_type": "code",
      "execution_count": null,
      "metadata": {
        "id": "3rLejrsMjr3I",
        "colab": {
          "base_uri": "https://localhost:8080/"
        },
        "outputId": "33665da9-c858-4227-eb67-7f380b3b2f70"
      },
      "outputs": [
        {
          "output_type": "stream",
          "name": "stderr",
          "text": [
            ".\n",
            "----------------------------------------------------------------------\n",
            "Ran 1 test in 0.003s\n",
            "\n",
            "OK\n"
          ]
        }
      ],
      "source": [
        "# Exercise 9\n",
        "\n",
        "reload(ecc)\n",
        "run(ecc.FieldElementTest(\"test_div\"))"
      ]
    },
    {
      "cell_type": "code",
      "execution_count": null,
      "metadata": {
        "id": "Z9b2c4cyjr3I",
        "colab": {
          "base_uri": "https://localhost:8080/"
        },
        "outputId": "aa303fe6-bab6-487e-b447-9a0ec7d6e56b"
      },
      "outputs": [
        {
          "output_type": "stream",
          "name": "stdout",
          "text": [
            "True\n"
          ]
        }
      ],
      "source": [
        "from ecc import FieldElement\n",
        "a = FieldElement(7, 13)\n",
        "b = FieldElement(8, 13)\n",
        "print(a**-3==b)"
      ]
    }
  ],
  "metadata": {
    "colab": {
      "name": "성치호.ipynb",
      "provenance": [],
      "include_colab_link": true
    },
    "language_info": {
      "name": "python"
    },
    "kernelspec": {
      "name": "python3",
      "display_name": "Python 3"
    }
  },
  "nbformat": 4,
  "nbformat_minor": 0
}