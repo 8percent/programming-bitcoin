{
  "nbformat": 4,
  "nbformat_minor": 0,
  "metadata": {
    "colab": {
      "name": "박건령.ipynb",
      "provenance": [],
      "collapsed_sections": [],
      "authorship_tag": "ABX9TyOosxDUcub8Ide5Tagh21du",
      "include_colab_link": true
    },
    "kernelspec": {
      "name": "python3",
      "display_name": "Python 3"
    },
    "language_info": {
      "name": "python"
    }
  },
  "cells": [
    {
      "cell_type": "markdown",
      "metadata": {
        "id": "view-in-github",
        "colab_type": "text"
      },
      "source": [
        "<a href=\"https://colab.research.google.com/github/8percent/programming-bitcoin/blob/main/chapter1/%EB%B0%95%EA%B1%B4%EB%A0%B9.ipynb\" target=\"_parent\"><img src=\"https://colab.research.google.com/assets/colab-badge.svg\" alt=\"Open In Colab\"/></a>"
      ]
    },
    {
      "cell_type": "markdown",
      "source": [
        "연습문제  1.1"
      ],
      "metadata": {
        "id": "mAhQOGtvcZ7M"
      }
    },
    {
      "cell_type": "code",
      "source": [
        "class FieldElement:\n",
        "\n",
        "  def __init__(self, num, prime):\n",
        "    if num >= prime or num < 0:\n",
        "      error = 'Num {} not in field range 0 to {}'.format(num, prime - 1)\n",
        "      raise ValueError(error)\n",
        "    self.num = num\n",
        "    self.prime = prime\n",
        "\n",
        "  def __repr__(self):\n",
        "    return 'FieldElement_{}({})'.format(self.prime, self.num)\n",
        "    \n",
        "  def __eq__(self, other):\n",
        "    if other is None:\n",
        "      return False\n",
        "    return self.num == other.num and self.prime == other.prime\n",
        "  \n",
        "  def __ne__(self, other):\n",
        "    if other is None:\n",
        "      return False\n",
        "    return self.num != other.num or self.prime != other.prime"
      ],
      "metadata": {
        "id": "1i1ejucp6Leo"
      },
      "execution_count": 3,
      "outputs": []
    },
    {
      "cell_type": "markdown",
      "source": [
        "연습문제  1.2"
      ],
      "metadata": {
        "id": "Sd-d7UJUcfOa"
      }
    },
    {
      "cell_type": "code",
      "source": [
        "print((44 + 33)%57)\n",
        "print((9-29)%57)\n",
        "print((((17+42)%57)+49)%57)\n",
        "print((((52-30)%57)-38)%57)"
      ],
      "metadata": {
        "colab": {
          "base_uri": "https://localhost:8080/"
        },
        "id": "YgDZbX0gdqNA",
        "outputId": "afe98d15-a663-4b86-b807-af9421b85c0b"
      },
      "execution_count": 5,
      "outputs": [
        {
          "output_type": "stream",
          "name": "stdout",
          "text": [
            "20\n",
            "37\n",
            "51\n",
            "41\n"
          ]
        }
      ]
    },
    {
      "cell_type": "markdown",
      "source": [
        "연습문제  1.3"
      ],
      "metadata": {
        "id": "_mtSttY5eQMz"
      }
    },
    {
      "cell_type": "code",
      "source": [
        "class FieldElement:\n",
        "\n",
        "  def __init__(self, num, prime):\n",
        "    if num >= prime or num < 0:\n",
        "      error = 'Num {} not in field range 0 to {}'.format(num, prime - 1)\n",
        "      raise ValueError(error)\n",
        "    self.num = num\n",
        "    self.prime = prime\n",
        "\n",
        "  def __repr__(self):\n",
        "    return 'FieldElement_{}({})'.format(self.prime, self.num)\n",
        "    \n",
        "  def __eq__(self, other):\n",
        "    if other is None:\n",
        "      return False\n",
        "    return self.num == other.num and self.prime == other.prime\n",
        "  \n",
        "  def __ne__(self, other):\n",
        "    if other is None:\n",
        "      return False\n",
        "    return self.num != other.num or self.prime != other.prime\n",
        "\n",
        "  def __add__(self, other):\n",
        "    if self.prime != other.prime:\n",
        "      raise TypeError('Cannot add two numbers in different Fields')\n",
        "    num = (self.num + other.num) % self.prime\n",
        "    return self.__class__(num, self.prime)\n",
        "  \n",
        "  def __sub__(self, other):\n",
        "    if self.prime != other.prime:\n",
        "      raise TypeError('Cannot subtract two numbers in different Fields')\n",
        "    num = (self.num - other.num) % self.prime\n",
        "    return self.__class__(num, self.prime)"
      ],
      "metadata": {
        "id": "5c1RvAO-eQmv"
      },
      "execution_count": 6,
      "outputs": []
    },
    {
      "cell_type": "markdown",
      "source": [
        "연습문제  1.4"
      ],
      "metadata": {
        "id": "v_QiHX4aeTP7"
      }
    },
    {
      "cell_type": "code",
      "source": [
        "print((((95*45)%97)*31)%97)\n",
        "print((((((((17*13)%97)*13)%97)*19)%97)*44)%97)\n",
        "print(127*((77**49)%97))"
      ],
      "metadata": {
        "colab": {
          "base_uri": "https://localhost:8080/"
        },
        "id": "a8vhGoQhe-W0",
        "outputId": "7306c536-9d74-4e37-dafe-0fe742a2d378"
      },
      "execution_count": 10,
      "outputs": [
        {
          "output_type": "stream",
          "name": "stdout",
          "text": [
            "23\n",
            "11\n",
            "2540\n"
          ]
        }
      ]
    },
    {
      "cell_type": "markdown",
      "source": [
        "연습문제  1.5"
      ],
      "metadata": {
        "id": "-IQE7BDFeTmF"
      }
    },
    {
      "cell_type": "code",
      "source": [
        "numbers = [1, 3, 7, 13, 18]\n",
        "for number in numbers:\n",
        "  print('===================')\n",
        "  print(number)\n",
        "  print('===================')\n",
        "  for index in range(19):\n",
        "    print((number * index)%19)"
      ],
      "metadata": {
        "colab": {
          "base_uri": "https://localhost:8080/"
        },
        "outputId": "7d266324-4b30-4a15-c815-f2be194092c2",
        "id": "1Rx2truJf45W"
      },
      "execution_count": 16,
      "outputs": [
        {
          "output_type": "stream",
          "name": "stdout",
          "text": [
            "===================\n",
            "1\n",
            "===================\n",
            "0\n",
            "1\n",
            "2\n",
            "3\n",
            "4\n",
            "5\n",
            "6\n",
            "7\n",
            "8\n",
            "9\n",
            "10\n",
            "11\n",
            "12\n",
            "13\n",
            "14\n",
            "15\n",
            "16\n",
            "17\n",
            "18\n",
            "===================\n",
            "3\n",
            "===================\n",
            "0\n",
            "3\n",
            "6\n",
            "9\n",
            "12\n",
            "15\n",
            "18\n",
            "2\n",
            "5\n",
            "8\n",
            "11\n",
            "14\n",
            "17\n",
            "1\n",
            "4\n",
            "7\n",
            "10\n",
            "13\n",
            "16\n",
            "===================\n",
            "7\n",
            "===================\n",
            "0\n",
            "7\n",
            "14\n",
            "2\n",
            "9\n",
            "16\n",
            "4\n",
            "11\n",
            "18\n",
            "6\n",
            "13\n",
            "1\n",
            "8\n",
            "15\n",
            "3\n",
            "10\n",
            "17\n",
            "5\n",
            "12\n",
            "===================\n",
            "13\n",
            "===================\n",
            "0\n",
            "13\n",
            "7\n",
            "1\n",
            "14\n",
            "8\n",
            "2\n",
            "15\n",
            "9\n",
            "3\n",
            "16\n",
            "10\n",
            "4\n",
            "17\n",
            "11\n",
            "5\n",
            "18\n",
            "12\n",
            "6\n",
            "===================\n",
            "18\n",
            "===================\n",
            "0\n",
            "18\n",
            "17\n",
            "16\n",
            "15\n",
            "14\n",
            "13\n",
            "12\n",
            "11\n",
            "10\n",
            "9\n",
            "8\n",
            "7\n",
            "6\n",
            "5\n",
            "4\n",
            "3\n",
            "2\n",
            "1\n"
          ]
        }
      ]
    },
    {
      "cell_type": "markdown",
      "source": [
        "연습문제  1.6"
      ],
      "metadata": {
        "id": "1SyVE10UeTu5"
      }
    },
    {
      "cell_type": "code",
      "source": [
        "class FieldElement:\n",
        "\n",
        "  def __init__(self, num, prime):\n",
        "    if num >= prime or num < 0:\n",
        "      error = 'Num {} not in field range 0 to {}'.format(num, prime - 1)\n",
        "      raise ValueError(error)\n",
        "    self.num = num\n",
        "    self.prime = prime\n",
        "\n",
        "  def __repr__(self):\n",
        "    return 'FieldElement_{}({})'.format(self.prime, self.num)\n",
        "    \n",
        "  def __eq__(self, other):\n",
        "    if other is None:\n",
        "      return False\n",
        "    return self.num == other.num and self.prime == other.prime\n",
        "  \n",
        "  def __ne__(self, other):\n",
        "    if other is None:\n",
        "      return False\n",
        "    return self.num != other.num or self.prime != other.prime\n",
        "\n",
        "  def __add__(self, other):\n",
        "    if self.prime != other.prime:\n",
        "      raise TypeError('Cannot add two numbers in different Fields')\n",
        "    num = (self.num + other.num) % self.prime\n",
        "    return self.__class__(num, self.prime)\n",
        "  \n",
        "  def __sub__(self, other):\n",
        "    if self.prime != other.prime:\n",
        "      raise TypeError('Cannot subtract two numbers in different Fields')\n",
        "    num = (self.num - other.num) % self.prime\n",
        "    return self.__class__(num, self.prime)\n",
        "\n",
        "  def __mul__(self, other):\n",
        "    if self.prime != other.prime:\n",
        "      raise TypeError('Cannot multiply two numbers in different Fields')\n",
        "    num = (self.num * other.num) % self.prime\n",
        "    return self.__class__(num, self.prime)"
      ],
      "metadata": {
        "id": "qJZBtw8UhBA8"
      },
      "execution_count": 17,
      "outputs": []
    },
    {
      "cell_type": "markdown",
      "source": [
        "연습문제  1.7"
      ],
      "metadata": {
        "id": "3ywrqD8seT0p"
      }
    },
    {
      "cell_type": "code",
      "source": [
        "numbers = [7, 11, 17, 31]\n",
        "for number in numbers:\n",
        "  number_set = []\n",
        "  print('===================')\n",
        "  print(number)\n",
        "  print('===================')\n",
        "  for index in range(1, number):\n",
        "    print((index**number-1)%number)"
      ],
      "metadata": {
        "colab": {
          "base_uri": "https://localhost:8080/"
        },
        "id": "fWRQhTPNhYAB",
        "outputId": "f88fe5c3-a21a-48a8-ba3d-8e672b688fd6"
      },
      "execution_count": 18,
      "outputs": [
        {
          "output_type": "stream",
          "name": "stdout",
          "text": [
            "===================\n",
            "7\n",
            "===================\n",
            "0\n",
            "1\n",
            "2\n",
            "3\n",
            "4\n",
            "5\n",
            "===================\n",
            "11\n",
            "===================\n",
            "0\n",
            "1\n",
            "2\n",
            "3\n",
            "4\n",
            "5\n",
            "6\n",
            "7\n",
            "8\n",
            "9\n",
            "===================\n",
            "17\n",
            "===================\n",
            "0\n",
            "1\n",
            "2\n",
            "3\n",
            "4\n",
            "5\n",
            "6\n",
            "7\n",
            "8\n",
            "9\n",
            "10\n",
            "11\n",
            "12\n",
            "13\n",
            "14\n",
            "15\n",
            "===================\n",
            "31\n",
            "===================\n",
            "0\n",
            "1\n",
            "2\n",
            "3\n",
            "4\n",
            "5\n",
            "6\n",
            "7\n",
            "8\n",
            "9\n",
            "10\n",
            "11\n",
            "12\n",
            "13\n",
            "14\n",
            "15\n",
            "16\n",
            "17\n",
            "18\n",
            "19\n",
            "20\n",
            "21\n",
            "22\n",
            "23\n",
            "24\n",
            "25\n",
            "26\n",
            "27\n",
            "28\n",
            "29\n"
          ]
        }
      ]
    },
    {
      "cell_type": "markdown",
      "source": [
        "연습문제  1.8"
      ],
      "metadata": {
        "id": "1rRxYhYoidFr"
      }
    },
    {
      "cell_type": "code",
      "source": [
        ""
      ],
      "metadata": {
        "colab": {
          "base_uri": "https://localhost:8080/"
        },
        "id": "AHzQQiY0ieRN",
        "outputId": "914aaf23-1809-4f63-80a5-b42bcde3bd55"
      },
      "execution_count": 20,
      "outputs": [
        {
          "output_type": "stream",
          "name": "stdout",
          "text": [
            "4\n"
          ]
        }
      ]
    },
    {
      "cell_type": "markdown",
      "source": [
        "연습문제  1.9"
      ],
      "metadata": {
        "id": "8xhWk64Vk8bH"
      }
    },
    {
      "cell_type": "code",
      "source": [
        ""
      ],
      "metadata": {
        "id": "wWE2Q5Qck9Pb"
      },
      "execution_count": null,
      "outputs": []
    },
    {
      "cell_type": "code",
      "source": [
        "class FieldElement:\n",
        "\n",
        "  def __init__(self, num, prime):\n",
        "    if num >= prime or num < 0:\n",
        "      error = 'Num {} not in field range 0 to {}'.format(num, prime - 1)\n",
        "      raise ValueError(error)\n",
        "    self.num = num\n",
        "    self.prime = prime\n",
        "\n",
        "  def __repr__(self):\n",
        "    return 'FieldElement_{}({})'.format(self.prime, self.num)\n",
        "    \n",
        "  def __eq__(self, other):\n",
        "    if other is None:\n",
        "      return False\n",
        "    return self.num == other.num and self.prime == other.prime\n",
        "  \n",
        "  def __ne__(self, other):\n",
        "    if other is None:\n",
        "      return False\n",
        "    return self.num != other.num or self.prime != other.prime\n",
        "\n",
        "  def __add__(self, other):\n",
        "    if self.prime != other.prime:\n",
        "      raise TypeError('Cannot add two numbers in different Fields')\n",
        "    num = (self.num + other.num) % self.prime\n",
        "    return self.__class__(num, self.prime)\n",
        "  \n",
        "  def __sub__(self, other):\n",
        "    if self.prime != other.prime:\n",
        "      raise TypeError('Cannot subtract two numbers in different Fields')\n",
        "    num = (self.num - other.num) % self.prime\n",
        "    return self.__class__(num, self.prime)\n",
        "\n",
        "  def __mul__(self, other):\n",
        "    if self.prime != other.prime:\n",
        "      raise TypeError('Cannot multiply two numbers in different Fields')\n",
        "    num = (self.num * other.num) % self.prime\n",
        "    return self.__class__(num, self.prime)\n",
        "  \n",
        "  def __truediv__(self, other):\n",
        "    if self.prime != other.prime:\n",
        "      raise TypeError('Cannot divide two numbers in different Fields')\n",
        "    num = ''\n",
        "    return self.__class__(num, self.prime)\n"
      ],
      "metadata": {
        "id": "xHiusP6HlBt9"
      },
      "execution_count": null,
      "outputs": []
    }
  ]
}