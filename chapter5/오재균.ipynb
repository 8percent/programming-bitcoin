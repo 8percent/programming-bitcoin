{
  "cells": [
    {
      "cell_type": "markdown",
      "metadata": {
        "id": "view-in-github",
        "colab_type": "text"
      },
      "source": [
        "<a href=\"https://colab.research.google.com/github/8percent/programming-bitcoin/blob/main/chapter5/%EC%98%A4%EC%9E%AC%EA%B7%A0.ipynb\" target=\"_parent\"><img src=\"https://colab.research.google.com/assets/colab-badge.svg\" alt=\"Open In Colab\"/></a>"
      ]
    },
    {
      "cell_type": "code",
      "source": [
        "!git clone https://github.com/jimmysong/programmingbitcoin"
      ],
      "metadata": {
        "id": "PpWKvxsMOATz",
        "colab": {
          "base_uri": "https://localhost:8080/"
        },
        "outputId": "3277155a-50b4-48aa-8b2b-5cadeeb2a1d9"
      },
      "execution_count": 1,
      "outputs": [
        {
          "output_type": "stream",
          "name": "stdout",
          "text": [
            "Cloning into 'programmingbitcoin'...\n",
            "remote: Enumerating objects: 6406, done.\u001b[K\n",
            "remote: Total 6406 (delta 0), reused 0 (delta 0), pack-reused 6406\u001b[K\n",
            "Receiving objects: 100% (6406/6406), 39.43 MiB | 25.10 MiB/s, done.\n",
            "Resolving deltas: 100% (4254/4254), done.\n"
          ]
        }
      ]
    },
    {
      "cell_type": "code",
      "source": [
        "!pip install requests"
      ],
      "metadata": {
        "id": "OBgah66QOAhM",
        "colab": {
          "base_uri": "https://localhost:8080/"
        },
        "outputId": "42e9f36d-ac28-4784-d12b-865d9ea6b6fc"
      },
      "execution_count": 2,
      "outputs": [
        {
          "output_type": "stream",
          "name": "stdout",
          "text": [
            "Looking in indexes: https://pypi.org/simple, https://us-python.pkg.dev/colab-wheels/public/simple/\n",
            "Requirement already satisfied: requests in /usr/local/lib/python3.7/dist-packages (2.23.0)\n",
            "Requirement already satisfied: idna<3,>=2.5 in /usr/local/lib/python3.7/dist-packages (from requests) (2.10)\n",
            "Requirement already satisfied: urllib3!=1.25.0,!=1.25.1,<1.26,>=1.21.1 in /usr/local/lib/python3.7/dist-packages (from requests) (1.24.3)\n",
            "Requirement already satisfied: certifi>=2017.4.17 in /usr/local/lib/python3.7/dist-packages (from requests) (2022.6.15)\n",
            "Requirement already satisfied: chardet<4,>=3.0.2 in /usr/local/lib/python3.7/dist-packages (from requests) (3.0.4)\n"
          ]
        }
      ]
    },
    {
      "cell_type": "code",
      "source": [
        "cd programmingbitcoin/code-ch05"
      ],
      "metadata": {
        "colab": {
          "base_uri": "https://localhost:8080/"
        },
        "id": "BytK_VusOMvr",
        "outputId": "99a675cb-7835-44fe-d5f9-d2cfaad6a34f"
      },
      "execution_count": 3,
      "outputs": [
        {
          "output_type": "stream",
          "name": "stdout",
          "text": [
            "/content/programmingbitcoin/code-ch05\n"
          ]
        }
      ]
    },
    {
      "cell_type": "code",
      "execution_count": 4,
      "metadata": {
        "id": "kItA6kBMN_PY"
      },
      "outputs": [],
      "source": [
        "############## PLEASE RUN THIS CELL FIRST! ###################\n",
        "\n",
        "# import everything and define a test runner function\n",
        "from importlib import reload\n",
        "from helper import run\n",
        "import ecc\n",
        "import helper\n",
        "import script\n",
        "import tx"
      ]
    },
    {
      "cell_type": "markdown",
      "metadata": {
        "id": "BmzaFwcjN_Pa"
      },
      "source": [
        "### Exercise 1\n",
        "\n",
        "Write the version parsing part of the `parse` method that we've defined. To do this properly, you'll have to convert 4 bytes into a Little-Endian integer.\n",
        "\n",
        "#### Make [this test](/edit/code-ch05/tx.py) pass: `tx.py:TxTest:test_parse_version`"
      ]
    },
    {
      "cell_type": "code",
      "execution_count": 7,
      "metadata": {
        "id": "OMhZwBmwN_Pb",
        "colab": {
          "base_uri": "https://localhost:8080/"
        },
        "outputId": "2e552776-6141-4af8-a55b-05a67236be6f"
      },
      "outputs": [
        {
          "output_type": "stream",
          "name": "stderr",
          "text": [
            ".\n",
            "----------------------------------------------------------------------\n",
            "Ran 1 test in 0.008s\n",
            "\n",
            "OK\n"
          ]
        }
      ],
      "source": [
        "# Exercise 1\n",
        "\n",
        "reload(tx)\n",
        "run(tx.TxTest(\"test_parse_version\"))"
      ]
    },
    {
      "cell_type": "code",
      "execution_count": 8,
      "metadata": {
        "id": "f3Z6bxr9N_Pc",
        "colab": {
          "base_uri": "https://localhost:8080/"
        },
        "outputId": "228ec898-a66e-4a56-d4f1-e041b54437af"
      },
      "outputs": [
        {
          "output_type": "stream",
          "name": "stdout",
          "text": [
            "3045022100ed81ff192e75a3fd2304004dcadb746fa5e24c5031ccfcf21320b0277457c98f02207a986d955c6e0cb35d446a89d3f56100f4d7f67801c31967743a9c8e10615bed01 0349fc4e631e3624a545de3f89f5d8684c7b8138bd94bdd531d2e213bf016b278a\n"
          ]
        }
      ],
      "source": [
        "from io import BytesIO\n",
        "from script import Script\n",
        "script_hex = ('6b483045022100ed81ff192e75a3fd2304004dcadb746fa5e24c5031ccfcf21320b0277457c98f02207a986d955c6e0cb35d446a89d3f56100f4d7f67801c31967743a9c8e10615bed01210349fc4e631e3624a545de3f89f5d8684c7b8138bd94bdd531d2e213bf016b278a')\n",
        "stream = BytesIO(bytes.fromhex(script_hex))\n",
        "script_sig = Script.parse(stream)\n",
        "print(script_sig)"
      ]
    },
    {
      "cell_type": "markdown",
      "metadata": {
        "id": "ZByzWdMCN_Pc"
      },
      "source": [
        "### Exercise 2\n",
        "\n",
        "Write the inputs parsing part of the `parse` method in `Tx` and the `parse` method for `TxIn`.\n",
        "\n",
        "#### Make [this test](/edit/code-ch05/tx.py) pass: `tx.py:TxTest:test_parse_inputs`"
      ]
    },
    {
      "cell_type": "code",
      "execution_count": 9,
      "metadata": {
        "id": "vWzKjRDiN_Pc",
        "colab": {
          "base_uri": "https://localhost:8080/"
        },
        "outputId": "0b778f80-333b-4bf0-c6e2-ff13be17ddb8"
      },
      "outputs": [
        {
          "output_type": "stream",
          "name": "stderr",
          "text": [
            ".\n",
            "----------------------------------------------------------------------\n",
            "Ran 1 test in 0.007s\n",
            "\n",
            "OK\n"
          ]
        }
      ],
      "source": [
        "# Exercise 2\n",
        "\n",
        "reload(tx)\n",
        "run(tx.TxTest(\"test_parse_inputs\"))"
      ]
    },
    {
      "cell_type": "markdown",
      "metadata": {
        "id": "fz6S2FKgN_Pc"
      },
      "source": [
        "### Exercise 3\n",
        "\n",
        "Write the outputs parsing part of the `parse` method in `Tx` and the `parse` method for `TxOut`.\n",
        "\n",
        "#### Make [this test](/edit/code-ch05/tx.py) pass: `tx.py:TxTest:test_parse_outputs`"
      ]
    },
    {
      "cell_type": "code",
      "execution_count": 11,
      "metadata": {
        "id": "mCsu1rTHN_Pc",
        "colab": {
          "base_uri": "https://localhost:8080/"
        },
        "outputId": "85874930-f0f7-4447-931b-c1868f7fb9ee"
      },
      "outputs": [
        {
          "output_type": "stream",
          "name": "stderr",
          "text": [
            ".\n",
            "----------------------------------------------------------------------\n",
            "Ran 1 test in 0.007s\n",
            "\n",
            "OK\n"
          ]
        }
      ],
      "source": [
        "# Exercise 3\n",
        "\n",
        "reload(tx)\n",
        "run(tx.TxTest(\"test_parse_outputs\"))"
      ]
    },
    {
      "cell_type": "markdown",
      "metadata": {
        "id": "ABOeCFbwN_Pd"
      },
      "source": [
        "### Exercise 4\n",
        "\n",
        "Write the Locktime parsing part of the `parse` method in `Tx`.\n",
        "\n",
        "#### Make [this test](/edit/code-ch05/tx.py) pass: `tx.py:TxTest:test_parse_locktime`"
      ]
    },
    {
      "cell_type": "code",
      "execution_count": 12,
      "metadata": {
        "id": "IJjqtruQN_Pd",
        "colab": {
          "base_uri": "https://localhost:8080/"
        },
        "outputId": "e443ddbb-f26e-43a0-8afb-29a5cd6cd7f0"
      },
      "outputs": [
        {
          "output_type": "stream",
          "name": "stderr",
          "text": [
            ".\n",
            "----------------------------------------------------------------------\n",
            "Ran 1 test in 0.005s\n",
            "\n",
            "OK\n"
          ]
        }
      ],
      "source": [
        "# Exercise 4\n",
        "\n",
        "reload(tx)\n",
        "run(tx.TxTest(\"test_parse_locktime\"))"
      ]
    },
    {
      "cell_type": "markdown",
      "metadata": {
        "id": "iiDeZq_wN_Pe"
      },
      "source": [
        "### Exercise 5\n",
        "\n",
        "What is the ScriptSig from the second input, ScriptPubKey from the first output and the amount of the second output for this transaction?\n",
        "\n",
        "```\n",
        "010000000456919960ac691763688d3d3bcea9ad6ecaf875df5339e148a1fc61c6ed7a069e0100\n",
        "00006a47304402204585bcdef85e6b1c6af5c2669d4830ff86e42dd205c0e089bc2a821657e951\n",
        "c002201024a10366077f87d6bce1f7100ad8cfa8a064b39d4e8fe4ea13a7b71aa8180f012102f0\n",
        "da57e85eec2934a82a585ea337ce2f4998b50ae699dd79f5880e253dafafb7feffffffeb8f51f4\n",
        "038dc17e6313cf831d4f02281c2a468bde0fafd37f1bf882729e7fd3000000006a473044022078\n",
        "99531a52d59a6de200179928ca900254a36b8dff8bb75f5f5d71b1cdc26125022008b422690b84\n",
        "61cb52c3cc30330b23d574351872b7c361e9aae3649071c1a7160121035d5c93d9ac96881f19ba\n",
        "1f686f15f009ded7c62efe85a872e6a19b43c15a2937feffffff567bf40595119d1bb8a3037c35\n",
        "6efd56170b64cbcc160fb028fa10704b45d775000000006a47304402204c7c7818424c7f7911da\n",
        "6cddc59655a70af1cb5eaf17c69dadbfc74ffa0b662f02207599e08bc8023693ad4e9527dc42c3\n",
        "4210f7a7d1d1ddfc8492b654a11e7620a0012102158b46fbdff65d0172b7989aec8850aa0dae49\n",
        "abfb84c81ae6e5b251a58ace5cfeffffffd63a5e6c16e620f86f375925b21cabaf736c779f88fd\n",
        "04dcad51d26690f7f345010000006a47304402200633ea0d3314bea0d95b3cd8dadb2ef79ea833\n",
        "1ffe1e61f762c0f6daea0fabde022029f23b3e9c30f080446150b23852028751635dcee2be669c\n",
        "2a1686a4b5edf304012103ffd6f4a67e94aba353a00882e563ff2722eb4cff0ad6006e86ee20df\n",
        "e7520d55feffffff0251430f00000000001976a914ab0c0b2e98b1ab6dbf67d4750b0a56244948\n",
        "a87988ac005a6202000000001976a9143c82d7df364eb6c75be8c80df2b3eda8db57397088ac46\n",
        "430600\n",
        "```"
      ]
    },
    {
      "cell_type": "code",
      "execution_count": 14,
      "metadata": {
        "id": "O_h43EdtN_Pe",
        "colab": {
          "base_uri": "https://localhost:8080/"
        },
        "outputId": "9dc8d2d1-49e7-4ce2-87dc-2321b8ed4288"
      },
      "outputs": [
        {
          "output_type": "stream",
          "name": "stdout",
          "text": [
            "304402207899531a52d59a6de200179928ca900254a36b8dff8bb75f5f5d71b1cdc26125022008b422690b8461cb52c3cc30330b23d574351872b7c361e9aae3649071c1a71601 035d5c93d9ac96881f19ba1f686f15f009ded7c62efe85a872e6a19b43c15a2937\n",
            "OP_DUP OP_HASH160 ab0c0b2e98b1ab6dbf67d4750b0a56244948a879 OP_EQUALVERIFY OP_CHECKSIG\n",
            "40000000\n"
          ]
        }
      ],
      "source": [
        "# Exercise 5\n",
        "\n",
        "from io import BytesIO\n",
        "from tx import Tx\n",
        "\n",
        "hex_transaction = '010000000456919960ac691763688d3d3bcea9ad6ecaf875df5339e148a1fc61c6ed7a069e010000006a47304402204585bcdef85e6b1c6af5c2669d4830ff86e42dd205c0e089bc2a821657e951c002201024a10366077f87d6bce1f7100ad8cfa8a064b39d4e8fe4ea13a7b71aa8180f012102f0da57e85eec2934a82a585ea337ce2f4998b50ae699dd79f5880e253dafafb7feffffffeb8f51f4038dc17e6313cf831d4f02281c2a468bde0fafd37f1bf882729e7fd3000000006a47304402207899531a52d59a6de200179928ca900254a36b8dff8bb75f5f5d71b1cdc26125022008b422690b8461cb52c3cc30330b23d574351872b7c361e9aae3649071c1a7160121035d5c93d9ac96881f19ba1f686f15f009ded7c62efe85a872e6a19b43c15a2937feffffff567bf40595119d1bb8a3037c356efd56170b64cbcc160fb028fa10704b45d775000000006a47304402204c7c7818424c7f7911da6cddc59655a70af1cb5eaf17c69dadbfc74ffa0b662f02207599e08bc8023693ad4e9527dc42c34210f7a7d1d1ddfc8492b654a11e7620a0012102158b46fbdff65d0172b7989aec8850aa0dae49abfb84c81ae6e5b251a58ace5cfeffffffd63a5e6c16e620f86f375925b21cabaf736c779f88fd04dcad51d26690f7f345010000006a47304402200633ea0d3314bea0d95b3cd8dadb2ef79ea8331ffe1e61f762c0f6daea0fabde022029f23b3e9c30f080446150b23852028751635dcee2be669c2a1686a4b5edf304012103ffd6f4a67e94aba353a00882e563ff2722eb4cff0ad6006e86ee20dfe7520d55feffffff0251430f00000000001976a914ab0c0b2e98b1ab6dbf67d4750b0a56244948a87988ac005a6202000000001976a9143c82d7df364eb6c75be8c80df2b3eda8db57397088ac46430600'\n",
        "\n",
        "# convert the hex_transaction to binary\n",
        "# create a stream using BytesIO\n",
        "# use Tx.parse to get the transaction object.\n",
        "# ScriptSig from second input\n",
        "# ScriptPubKey from first output\n",
        "# Amount from second output\n",
        "txparse = Tx.parse(BytesIO(bytes.fromhex(hex_transaction)))\n",
        "print(txparse.tx_ins[1].script_sig)\n",
        "print(txparse.tx_outs[0].script_pubkey)\n",
        "print(txparse.tx_outs[1].amount)"
      ]
    },
    {
      "cell_type": "markdown",
      "metadata": {
        "id": "u-3CY4mIN_Pe"
      },
      "source": [
        "### Exercise 6\n",
        "\n",
        "Write the `fee` method for the `Tx` class.\n",
        "\n",
        "#### Make [this test](/edit/code-ch05/tx.py) pass: `tx.py:TxTest:test_fee`"
      ]
    },
    {
      "cell_type": "code",
      "execution_count": 15,
      "metadata": {
        "id": "bl3DDnDsN_Pj",
        "colab": {
          "base_uri": "https://localhost:8080/"
        },
        "outputId": "2a45110f-47bc-4e0c-bcfa-0a43e6ea2b2f"
      },
      "outputs": [
        {
          "output_type": "stream",
          "name": "stderr",
          "text": [
            ".\n",
            "----------------------------------------------------------------------\n",
            "Ran 1 test in 0.007s\n",
            "\n",
            "OK\n"
          ]
        }
      ],
      "source": [
        "# Exercise 6\n",
        "\n",
        "reload(tx)\n",
        "run(tx.TxTest(\"test_fee\"))"
      ]
    }
  ],
  "metadata": {
    "colab": {
      "name": "오재균",
      "provenance": [],
      "collapsed_sections": [],
      "include_colab_link": true
    },
    "language_info": {
      "name": "python"
    },
    "kernelspec": {
      "name": "python3",
      "display_name": "Python 3"
    },
    "gpuClass": "standard"
  },
  "nbformat": 4,
  "nbformat_minor": 0
}