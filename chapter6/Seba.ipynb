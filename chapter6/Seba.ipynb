{
  "cells": [
    {
      "cell_type": "markdown",
      "metadata": {
        "id": "view-in-github",
        "colab_type": "text"
      },
      "source": [
        "<a href=\"https://colab.research.google.com/github/8percent/programming-bitcoin/blob/main/chapter6/Seba.ipynb\" target=\"_parent\"><img src=\"https://colab.research.google.com/assets/colab-badge.svg\" alt=\"Open In Colab\"/></a>"
      ]
    },
    {
      "cell_type": "code",
      "source": [
        "!git clone https://github.com/jimmysong/programmingbitcoin"
      ],
      "metadata": {
        "colab": {
          "base_uri": "https://localhost:8080/"
        },
        "id": "jkXcfAPvQ8rm",
        "outputId": "85c6a975-0a0d-4a04-c06a-225b93dacd7b"
      },
      "execution_count": null,
      "outputs": [
        {
          "output_type": "stream",
          "name": "stdout",
          "text": [
            "Cloning into 'programmingbitcoin'...\n",
            "remote: Enumerating objects: 6406, done.\u001b[K\n",
            "remote: Total 6406 (delta 0), reused 0 (delta 0), pack-reused 6406\u001b[K\n",
            "Receiving objects: 100% (6406/6406), 39.43 MiB | 33.51 MiB/s, done.\n",
            "Resolving deltas: 100% (4254/4254), done.\n"
          ]
        }
      ]
    },
    {
      "cell_type": "code",
      "source": [
        "!pip install requests"
      ],
      "metadata": {
        "colab": {
          "base_uri": "https://localhost:8080/"
        },
        "id": "sRSFLyCaQ_WC",
        "outputId": "69dcab50-7b88-41ff-8707-59628cf847aa"
      },
      "execution_count": null,
      "outputs": [
        {
          "output_type": "stream",
          "name": "stdout",
          "text": [
            "Looking in indexes: https://pypi.org/simple, https://us-python.pkg.dev/colab-wheels/public/simple/\n",
            "Requirement already satisfied: requests in /usr/local/lib/python3.7/dist-packages (2.23.0)\n",
            "Requirement already satisfied: idna<3,>=2.5 in /usr/local/lib/python3.7/dist-packages (from requests) (2.10)\n",
            "Requirement already satisfied: certifi>=2017.4.17 in /usr/local/lib/python3.7/dist-packages (from requests) (2022.6.15)\n",
            "Requirement already satisfied: urllib3!=1.25.0,!=1.25.1,<1.26,>=1.21.1 in /usr/local/lib/python3.7/dist-packages (from requests) (1.24.3)\n",
            "Requirement already satisfied: chardet<4,>=3.0.2 in /usr/local/lib/python3.7/dist-packages (from requests) (3.0.4)\n"
          ]
        }
      ]
    },
    {
      "cell_type": "code",
      "source": [
        "cd programmingbitcoin/code-ch06"
      ],
      "metadata": {
        "colab": {
          "base_uri": "https://localhost:8080/"
        },
        "id": "e8J_UXBFRBaE",
        "outputId": "f4f4cfd3-05d3-491b-cec5-afa0e701625f"
      },
      "execution_count": null,
      "outputs": [
        {
          "output_type": "stream",
          "name": "stdout",
          "text": [
            "/content/programmingbitcoin/code-ch06\n"
          ]
        }
      ]
    },
    {
      "cell_type": "code",
      "execution_count": null,
      "metadata": {
        "id": "Ta5xVrEZQ2BY"
      },
      "outputs": [],
      "source": [
        "############## PLEASE RUN THIS CELL FIRST! ###################\n",
        "\n",
        "# import everything and define a test runner function\n",
        "from importlib import reload\n",
        "from helper import run\n",
        "import op\n",
        "import script"
      ]
    },
    {
      "cell_type": "markdown",
      "metadata": {
        "id": "qZB-i9MzQ2BZ"
      },
      "source": [
        "### Exercise 1\n",
        "\n",
        "Write the `op_hash160` function.\n",
        "\n",
        "#### Make [this test](/edit/code-ch06/op.py) pass: `op.py:OpTest:test_op_hash160`"
      ]
    },
    {
      "cell_type": "code",
      "execution_count": null,
      "metadata": {
        "id": "3q8IrzEgQ2BZ",
        "colab": {
          "base_uri": "https://localhost:8080/"
        },
        "outputId": "9091abd1-4088-44e6-f9aa-01c0cc83a11d"
      },
      "outputs": [
        {
          "output_type": "stream",
          "name": "stderr",
          "text": [
            ".\n",
            "----------------------------------------------------------------------\n",
            "Ran 1 test in 0.004s\n",
            "\n",
            "OK\n"
          ]
        }
      ],
      "source": [
        "# Exercise 1\n",
        "\n",
        "reload(op)\n",
        "run(op.OpTest(\"test_op_hash160\"))"
      ]
    },
    {
      "cell_type": "code",
      "execution_count": null,
      "metadata": {
        "id": "2wTKox0GQ2Ba",
        "colab": {
          "base_uri": "https://localhost:8080/"
        },
        "outputId": "412b4762-69fc-4f31-baf0-0a9b0d1a0b5e"
      },
      "outputs": [
        {
          "output_type": "stream",
          "name": "stdout",
          "text": [
            "True\n"
          ]
        }
      ],
      "source": [
        "from script import Script\n",
        "reload(script)\n",
        "z = 0x7c076ff316692a3d7eb3c3bb0f8b1488cf72e1afcd929e29307032997a838a3d\n",
        "sec = bytes.fromhex('04887387e452b8eacc4acfde10d9aaf7f6d9a0f975aabb10d006e4da568744d06c61de6d95231cd89026e286df3b6ae4a894a3378e393e93a0f45b666329a0ae34')\n",
        "sig = bytes.fromhex('3045022000eff69ef2b1bd93a66ed5219add4fb51e11a840f404876325a1e8ffe0529a2c022100c7207fee197d27c618aea621406f6bf5ef6fca38681d82b2f06fddbdce6feab601')\n",
        "script_pubkey = Script([sec, 0xac])\n",
        "script_sig = Script([sig])\n",
        "combined_script = script_sig + script_pubkey\n",
        "print(combined_script.evaluate(z))"
      ]
    },
    {
      "cell_type": "markdown",
      "metadata": {
        "id": "ckDzoiNuQ2Ba"
      },
      "source": [
        "### Exercise 2\n",
        "\n",
        "Write the `op_checksig` function in `op.py`\n",
        "\n",
        "#### Make [this test](/edit/code-ch06/op.py) pass: `op.py:OpTest:test_op_checksig`"
      ]
    },
    {
      "cell_type": "code",
      "execution_count": null,
      "metadata": {
        "id": "6IJCYvdjQ2Ba",
        "colab": {
          "base_uri": "https://localhost:8080/"
        },
        "outputId": "37268e52-69a0-4f1b-ef7e-9cf90ad1c136"
      },
      "outputs": [
        {
          "output_type": "stream",
          "name": "stderr",
          "text": [
            ".\n",
            "----------------------------------------------------------------------\n",
            "Ran 1 test in 0.179s\n",
            "\n",
            "OK\n"
          ]
        }
      ],
      "source": [
        "# Exercise 2\n",
        "\n",
        "reload(op)\n",
        "run(op.OpTest(\"test_op_checksig\"))"
      ]
    },
    {
      "cell_type": "markdown",
      "metadata": {
        "id": "MzYsg9IfQ2Ba"
      },
      "source": [
        "### Exercise 3\n",
        "\n",
        "Create a ScriptSig that can unlock this ScriptPubKey. Note `OP_MUL` multiplies the top two elements of the stack.\n",
        "\n",
        "`767695935687`\n",
        "\n",
        "* `56 = OP_6`\n",
        "* `76 = OP_DUP`\n",
        "* `87 = OP_EQUAL`\n",
        "* `93 = OP_ADD`\n",
        "* `95 = OP_MUL`"
      ]
    },
    {
      "cell_type": "code",
      "execution_count": null,
      "metadata": {
        "id": "Tz5FkhPuQ2Ba",
        "colab": {
          "base_uri": "https://localhost:8080/"
        },
        "outputId": "76e86fa8-8704-4645-bc40-e1d59ef42fdb"
      },
      "outputs": [
        {
          "output_type": "stream",
          "name": "stdout",
          "text": [
            "52 OP_2\n",
            "76 OP_DUP\n",
            "76 OP_DUP\n",
            "95 OP_MUL\n",
            "93 OP_ADD\n",
            "56 OP_6\n",
            "87 OP_EQUAL\n",
            "True\n"
          ]
        }
      ],
      "source": [
        "# Exercise 3\n",
        "\n",
        "from script import Script\n",
        "reload(script)\n",
        "\n",
        "script_pubkey = Script([0x76, 0x76, 0x95, 0x93, 0x56, 0x87]) # dup, dup, mul, add, 6, eq\n",
        "script_sig = Script([0x52])  # 2\n",
        "combined_script = script_sig + script_pubkey\n",
        "print(combined_script.evaluate(0))"
      ]
    },
    {
      "cell_type": "markdown",
      "metadata": {
        "id": "peTZ14-1Q2Bb"
      },
      "source": [
        "### Exercise 4\n",
        "\n",
        "Figure out what this Script is doing:\n",
        "\n",
        "`6e879169a77ca787`\n",
        "\n",
        "* `69 = OP_VERIFY`\n",
        "* `6e = OP_2DUP`\n",
        "* `7c = OP_SWAP`\n",
        "* `87 = OP_EQUAL`\n",
        "* `91 = OP_NOT`\n",
        "* `a7 = OP_SHA1`\n",
        "\n",
        "Use the `Script.parse` method and look up what various opcodes do at https://en.bitcoin.it/wiki/Script"
      ]
    },
    {
      "cell_type": "code",
      "execution_count": 51,
      "metadata": {
        "id": "fXB0yqKQQ2Bb",
        "colab": {
          "base_uri": "https://localhost:8080/"
        },
        "outputId": "3ea6e87e-7c76-4a62-c783-e4b49f43af77"
      },
      "outputs": [
        {
          "output_type": "stream",
          "name": "stdout",
          "text": [
            "6e OP_2DUP\n",
            "87 OP_EQUAL\n",
            "91 OP_NOT\n",
            "69 OP_VERIFY\n",
            "a7 OP_SHA1\n",
            "7c OP_SWAP\n",
            "a7 OP_SHA1\n",
            "87 OP_EQUAL\n",
            "True\n"
          ]
        }
      ],
      "source": [
        "# Exercise 4\n",
        "\n",
        "from script import Script\n",
        "\n",
        "# 값은 다르지만 sha1 해시값이 같은 경우에 참인 스크립트\n",
        "\n",
        "# 2dup, eq, not, verify, sha1, swap, sha1, eq\n",
        "script_pubkey = Script([0x6e, 0x87, 0x91, 0x69, 0xa7, 0x7c, 0xa7, 0x87])\n",
        "c1 = '255044462d312e330a25e2e3cfd30a0a0a312030206f626a0a3c3c2f576964746820\\\n",
        "32203020522f4865696768742033203020522f547970652034203020522f537562747970652035\\\n",
        "203020522f46696c7465722036203020522f436f6c6f7253706163652037203020522f4c656e67\\\n",
        "74682038203020522f42697473506572436f6d706f6e656e7420383e3e0a73747265616d0affd8\\\n",
        "fffe00245348412d3120697320646561642121212121852fec092339759c39b1a1c63c4c97e1ff\\\n",
        "fe017f46dc93a6b67e013b029aaa1db2560b45ca67d688c7f84b8c4c791fe02b3df614f86db169\\\n",
        "0901c56b45c1530afedfb76038e972722fe7ad728f0e4904e046c230570fe9d41398abe12ef5bc\\\n",
        "942be33542a4802d98b5d70f2a332ec37fac3514e74ddc0f2cc1a874cd0c78305a215664613097\\\n",
        "89606bd0bf3f98cda8044629a1'\n",
        "c2 = '255044462d312e330a25e2e3cfd30a0a0a312030206f626a0a3c3c2f576964746820\\\n",
        "32203020522f4865696768742033203020522f547970652034203020522f537562747970652035\\\n",
        "203020522f46696c7465722036203020522f436f6c6f7253706163652037203020522f4c656e67\\\n",
        "74682038203020522f42697473506572436f6d706f6e656e7420383e3e0a73747265616d0affd8\\\n",
        "fffe00245348412d3120697320646561642121212121852fec092339759c39b1a1c63c4c97e1ff\\\n",
        "fe017346dc9166b67e118f029ab621b2560ff9ca67cca8c7f85ba84c79030c2b3de218f86db3a9\\\n",
        "0901d5df45c14f26fedfb3dc38e96ac22fe7bd728f0e45bce046d23c570feb141398bb552ef5a0\\\n",
        "a82be331fea48037b8b5d71f0e332edf93ac3500eb4ddc0decc1a864790c782c76215660dd3097\\\n",
        "91d06bd0af3f98cda4bc4629b1'\n",
        "collision1 = bytes.fromhex(c1)  # <1>\n",
        "collision2 = bytes.fromhex(c2)\n",
        "script_sig = Script([collision1, collision2])\n",
        "combined_script = script_sig + script_pubkey\n",
        "print(combined_script.evaluate(0))"
      ]
    }
  ],
  "metadata": {
    "colab": {
      "name": "Chapter6.ipynb의 사본",
      "provenance": [],
      "collapsed_sections": [],
      "include_colab_link": true
    },
    "language_info": {
      "name": "python"
    },
    "kernelspec": {
      "name": "python3",
      "display_name": "Python 3"
    },
    "gpuClass": "standard"
  },
  "nbformat": 4,
  "nbformat_minor": 0
}