{
  "cells": [
    {
      "cell_type": "markdown",
      "metadata": {
        "id": "view-in-github",
        "colab_type": "text"
      },
      "source": [
        "<a href=\"https://colab.research.google.com/github/8percent/programming-bitcoin/blob/main/chapter6/%EC%98%A4%EC%9E%AC%EA%B7%A0.ipynb\" target=\"_parent\"><img src=\"https://colab.research.google.com/assets/colab-badge.svg\" alt=\"Open In Colab\"/></a>"
      ]
    },
    {
      "cell_type": "code",
      "source": [
        "!git clone https://github.com/jimmysong/programmingbitcoin"
      ],
      "metadata": {
        "colab": {
          "base_uri": "https://localhost:8080/"
        },
        "id": "Izo9Uj4IW4Y1",
        "outputId": "c86b20c3-6a82-4db0-aee8-0155f862d4c9"
      },
      "execution_count": 1,
      "outputs": [
        {
          "output_type": "stream",
          "name": "stdout",
          "text": [
            "fatal: destination path 'programmingbitcoin' already exists and is not an empty directory.\n"
          ]
        }
      ]
    },
    {
      "cell_type": "code",
      "source": [
        "!pip install requests"
      ],
      "metadata": {
        "colab": {
          "base_uri": "https://localhost:8080/"
        },
        "id": "trY0l-4sW4dB",
        "outputId": "6da3f742-1898-4290-d1ce-7bfdad29dae9"
      },
      "execution_count": 2,
      "outputs": [
        {
          "output_type": "stream",
          "name": "stdout",
          "text": [
            "Looking in indexes: https://pypi.org/simple, https://us-python.pkg.dev/colab-wheels/public/simple/\n",
            "Requirement already satisfied: requests in /usr/local/lib/python3.7/dist-packages (2.23.0)\n",
            "Requirement already satisfied: chardet<4,>=3.0.2 in /usr/local/lib/python3.7/dist-packages (from requests) (3.0.4)\n",
            "Requirement already satisfied: certifi>=2017.4.17 in /usr/local/lib/python3.7/dist-packages (from requests) (2022.6.15)\n",
            "Requirement already satisfied: idna<3,>=2.5 in /usr/local/lib/python3.7/dist-packages (from requests) (2.10)\n",
            "Requirement already satisfied: urllib3!=1.25.0,!=1.25.1,<1.26,>=1.21.1 in /usr/local/lib/python3.7/dist-packages (from requests) (1.24.3)\n"
          ]
        }
      ]
    },
    {
      "cell_type": "code",
      "source": [
        "cd programmingbitcoin/code-ch06/"
      ],
      "metadata": {
        "colab": {
          "base_uri": "https://localhost:8080/"
        },
        "id": "pbh4B5xKW4iM",
        "outputId": "da2fe34b-29a7-41ac-e144-2913f0c76d3d"
      },
      "execution_count": 4,
      "outputs": [
        {
          "output_type": "stream",
          "name": "stdout",
          "text": [
            "/content/programmingbitcoin/code-ch06\n"
          ]
        }
      ]
    },
    {
      "cell_type": "code",
      "source": [
        "ls"
      ],
      "metadata": {
        "colab": {
          "base_uri": "https://localhost:8080/"
        },
        "id": "graal_F6HxIR",
        "outputId": "8a3190fe-ae65-4d28-8eef-23d65480248a"
      },
      "execution_count": 3,
      "outputs": [
        {
          "output_type": "stream",
          "name": "stdout",
          "text": [
            "\u001b[0m\u001b[01;34mprogrammingbitcoin\u001b[0m/  \u001b[01;34msample_data\u001b[0m/\n"
          ]
        }
      ]
    },
    {
      "cell_type": "code",
      "execution_count": 5,
      "metadata": {
        "id": "-SPas8nkWx-A"
      },
      "outputs": [],
      "source": [
        "############## PLEASE RUN THIS CELL FIRST! ###################\n",
        "\n",
        "# import everything and define a test runner function\n",
        "from importlib import reload\n",
        "from helper import run\n",
        "import op\n",
        "import script"
      ]
    },
    {
      "cell_type": "markdown",
      "metadata": {
        "id": "H97uiXQpWx-D"
      },
      "source": [
        "### Exercise 1\n",
        "\n",
        "Write the `op_hash160` function.\n",
        "\n",
        "#### Make [this test](/edit/code-ch06/op.py) pass: `op.py:OpTest:test_op_hash160`"
      ]
    },
    {
      "cell_type": "code",
      "execution_count": 6,
      "metadata": {
        "id": "hsHER5PMWx-H",
        "colab": {
          "base_uri": "https://localhost:8080/"
        },
        "outputId": "99b9064e-31be-4df4-e47c-9385c4340f8a"
      },
      "outputs": [
        {
          "output_type": "stream",
          "name": "stderr",
          "text": [
            ".\n",
            "----------------------------------------------------------------------\n",
            "Ran 1 test in 0.003s\n",
            "\n",
            "OK\n"
          ]
        }
      ],
      "source": [
        "# Exercise 1\n",
        "\n",
        "reload(op)\n",
        "run(op.OpTest(\"test_op_hash160\"))"
      ]
    },
    {
      "cell_type": "code",
      "execution_count": 7,
      "metadata": {
        "id": "YSU9qcLIWx-I",
        "colab": {
          "base_uri": "https://localhost:8080/",
          "height": 341
        },
        "outputId": "07b73ff9-25d3-42c0-879b-f7bedde05bd5"
      },
      "outputs": [
        {
          "output_type": "error",
          "ename": "NotImplementedError",
          "evalue": "ignored",
          "traceback": [
            "\u001b[0;31m---------------------------------------------------------------------------\u001b[0m",
            "\u001b[0;31mNotImplementedError\u001b[0m                       Traceback (most recent call last)",
            "\u001b[0;32m<ipython-input-7-2d3aab00e264>\u001b[0m in \u001b[0;36m<module>\u001b[0;34m()\u001b[0m\n\u001b[1;32m      6\u001b[0m \u001b[0mscript_sig\u001b[0m \u001b[0;34m=\u001b[0m \u001b[0mScript\u001b[0m\u001b[0;34m(\u001b[0m\u001b[0;34m[\u001b[0m\u001b[0msig\u001b[0m\u001b[0;34m]\u001b[0m\u001b[0;34m)\u001b[0m\u001b[0;34m\u001b[0m\u001b[0;34m\u001b[0m\u001b[0m\n\u001b[1;32m      7\u001b[0m \u001b[0mcombined_script\u001b[0m \u001b[0;34m=\u001b[0m \u001b[0mscript_sig\u001b[0m \u001b[0;34m+\u001b[0m \u001b[0mscript_pubkey\u001b[0m\u001b[0;34m\u001b[0m\u001b[0;34m\u001b[0m\u001b[0m\n\u001b[0;32m----> 8\u001b[0;31m \u001b[0mprint\u001b[0m\u001b[0;34m(\u001b[0m\u001b[0mcombined_script\u001b[0m\u001b[0;34m.\u001b[0m\u001b[0mevaluate\u001b[0m\u001b[0;34m(\u001b[0m\u001b[0mz\u001b[0m\u001b[0;34m)\u001b[0m\u001b[0;34m)\u001b[0m\u001b[0;34m\u001b[0m\u001b[0;34m\u001b[0m\u001b[0m\n\u001b[0m",
            "\u001b[0;32m/content/programmingbitcoin/code-ch06/script.py\u001b[0m in \u001b[0;36mevaluate\u001b[0;34m(self, z)\u001b[0m\n\u001b[1;32m    121\u001b[0m                         \u001b[0;32mreturn\u001b[0m \u001b[0;32mFalse\u001b[0m\u001b[0;34m\u001b[0m\u001b[0;34m\u001b[0m\u001b[0m\n\u001b[1;32m    122\u001b[0m                 \u001b[0;32melif\u001b[0m \u001b[0mcmd\u001b[0m \u001b[0;32min\u001b[0m \u001b[0;34m(\u001b[0m\u001b[0;36m172\u001b[0m\u001b[0;34m,\u001b[0m \u001b[0;36m173\u001b[0m\u001b[0;34m,\u001b[0m \u001b[0;36m174\u001b[0m\u001b[0;34m,\u001b[0m \u001b[0;36m175\u001b[0m\u001b[0;34m)\u001b[0m\u001b[0;34m:\u001b[0m  \u001b[0;31m# <6>\u001b[0m\u001b[0;34m\u001b[0m\u001b[0;34m\u001b[0m\u001b[0m\n\u001b[0;32m--> 123\u001b[0;31m                     \u001b[0;32mif\u001b[0m \u001b[0;32mnot\u001b[0m \u001b[0moperation\u001b[0m\u001b[0;34m(\u001b[0m\u001b[0mstack\u001b[0m\u001b[0;34m,\u001b[0m \u001b[0mz\u001b[0m\u001b[0;34m)\u001b[0m\u001b[0;34m:\u001b[0m\u001b[0;34m\u001b[0m\u001b[0;34m\u001b[0m\u001b[0m\n\u001b[0m\u001b[1;32m    124\u001b[0m                         \u001b[0mLOGGER\u001b[0m\u001b[0;34m.\u001b[0m\u001b[0minfo\u001b[0m\u001b[0;34m(\u001b[0m\u001b[0;34m'bad op: {}'\u001b[0m\u001b[0;34m.\u001b[0m\u001b[0mformat\u001b[0m\u001b[0;34m(\u001b[0m\u001b[0mOP_CODE_NAMES\u001b[0m\u001b[0;34m[\u001b[0m\u001b[0mcmd\u001b[0m\u001b[0;34m]\u001b[0m\u001b[0;34m)\u001b[0m\u001b[0;34m)\u001b[0m\u001b[0;34m\u001b[0m\u001b[0;34m\u001b[0m\u001b[0m\n\u001b[1;32m    125\u001b[0m                         \u001b[0;32mreturn\u001b[0m \u001b[0;32mFalse\u001b[0m\u001b[0;34m\u001b[0m\u001b[0;34m\u001b[0m\u001b[0m\n",
            "\u001b[0;32m/content/programmingbitcoin/code-ch06/op.py\u001b[0m in \u001b[0;36mop_checksig\u001b[0;34m(stack, z)\u001b[0m\n\u001b[1;32m    669\u001b[0m \u001b[0;34m\u001b[0m\u001b[0m\n\u001b[1;32m    670\u001b[0m     \u001b[0;31m# check that there are at least 2 elements on the stack\u001b[0m\u001b[0;34m\u001b[0m\u001b[0;34m\u001b[0m\u001b[0;34m\u001b[0m\u001b[0m\n\u001b[0;32m--> 671\u001b[0;31m     \u001b[0;31m# the top element of the stack is the SEC pubkey\u001b[0m\u001b[0;34m\u001b[0m\u001b[0;34m\u001b[0m\u001b[0;34m\u001b[0m\u001b[0m\n\u001b[0m\u001b[1;32m    672\u001b[0m     \u001b[0;31m# the next element of the stack is the DER signature\u001b[0m\u001b[0;34m\u001b[0m\u001b[0;34m\u001b[0m\u001b[0;34m\u001b[0m\u001b[0m\n\u001b[1;32m    673\u001b[0m     \u001b[0;31m# take off the last byte of the signature as that's the hash_type\u001b[0m\u001b[0;34m\u001b[0m\u001b[0;34m\u001b[0m\u001b[0;34m\u001b[0m\u001b[0m\n",
            "\u001b[0;31mNotImplementedError\u001b[0m: "
          ]
        }
      ],
      "source": [
        "from script import Script\n",
        "z = 0x7c076ff316692a3d7eb3c3bb0f8b1488cf72e1afcd929e29307032997a838a3d\n",
        "sec = bytes.fromhex('04887387e452b8eacc4acfde10d9aaf7f6d9a0f975aabb10d006e4da568744d06c61de6d95231cd89026e286df3b6ae4a894a3378e393e93a0f45b666329a0ae34')\n",
        "sig = bytes.fromhex('3045022000eff69ef2b1bd93a66ed5219add4fb51e11a840f404876325a1e8ffe0529a2c022100c7207fee197d27c618aea621406f6bf5ef6fca38681d82b2f06fddbdce6feab601')\n",
        "script_pubkey = Script([sec, 0xac])\n",
        "script_sig = Script([sig])\n",
        "combined_script = script_sig + script_pubkey\n",
        "print(combined_script.evaluate(z))"
      ]
    },
    {
      "cell_type": "markdown",
      "metadata": {
        "id": "1m5666cDWx-J"
      },
      "source": [
        "### Exercise 2\n",
        "\n",
        "Write the `op_checksig` function in `op.py`\n",
        "\n",
        "#### Make [this test](/edit/code-ch06/op.py) pass: `op.py:OpTest:test_op_checksig`"
      ]
    },
    {
      "cell_type": "code",
      "execution_count": 8,
      "metadata": {
        "id": "rzRzkugQWx-J",
        "colab": {
          "base_uri": "https://localhost:8080/"
        },
        "outputId": "ba7eb20b-6633-4a35-f0c8-18b70d3e5427"
      },
      "outputs": [
        {
          "output_type": "stream",
          "name": "stderr",
          "text": [
            ".\n",
            "----------------------------------------------------------------------\n",
            "Ran 1 test in 0.171s\n",
            "\n",
            "OK\n"
          ]
        }
      ],
      "source": [
        "# Exercise 2\n",
        "\n",
        "reload(op)\n",
        "run(op.OpTest(\"test_op_checksig\"))"
      ]
    },
    {
      "cell_type": "markdown",
      "metadata": {
        "id": "7vYw6dLVWx-J"
      },
      "source": [
        "### Exercise 3\n",
        "\n",
        "Create a ScriptSig that can unlock this ScriptPubKey. Note `OP_MUL` multiplies the top two elements of the stack.\n",
        "\n",
        "`767695935687`\n",
        "\n",
        "* `56 = OP_6`\n",
        "* `76 = OP_DUP`\n",
        "* `87 = OP_EQUAL`\n",
        "* `93 = OP_ADD`\n",
        "* `95 = OP_MUL`"
      ]
    },
    {
      "cell_type": "code",
      "execution_count": 27,
      "metadata": {
        "id": "XcxkTlWeWx-J",
        "colab": {
          "base_uri": "https://localhost:8080/"
        },
        "outputId": "a843b73e-2258-4328-8e9d-401a9db7c88d"
      },
      "outputs": [
        {
          "output_type": "stream",
          "name": "stdout",
          "text": [
            "True\n"
          ]
        }
      ],
      "source": [
        "# Exercise 3\n",
        "\n",
        "from script import Script\n",
        "\n",
        "script_pubkey = Script([0x76, 0x76, 0x95, 0x93, 0x56, 0x87])\n",
        "script_sig = Script([82])  # FILL THIS IN\n",
        "combined_script = script_sig + script_pubkey\n",
        "print(combined_script.evaluate(0))"
      ]
    },
    {
      "cell_type": "markdown",
      "metadata": {
        "id": "4LNTuvAZWx-J"
      },
      "source": [
        "### Exercise 4\n",
        "\n",
        "Figure out what this Script is doing:\n",
        "\n",
        "`6e879169a77ca787`\n",
        "\n",
        "* `69 = OP_VERIFY`\n",
        "* `6e = OP_2DUP`\n",
        "* `7c = OP_SWAP`\n",
        "* `87 = OP_EQUAL`\n",
        "* `91 = OP_NOT`\n",
        "* `a7 = OP_SHA1`\n",
        "\n",
        "Use the `Script.parse` method and look up what various opcodes do at https://en.bitcoin.it/wiki/Script"
      ]
    },
    {
      "cell_type": "code",
      "execution_count": 73,
      "metadata": {
        "id": "KWu_7BKqWx-K",
        "colab": {
          "base_uri": "https://localhost:8080/"
        },
        "outputId": "9422f31c-8b9b-448b-f501-21d4e385624c"
      },
      "outputs": [
        {
          "output_type": "stream",
          "name": "stdout",
          "text": [
            "[b'\\x01']\n",
            "[b'\\x01', b'\\x02']\n",
            "[b'\\x01', b'\\x02', b'\\x01', b'\\x02']\n",
            "[b'\\x01', b'\\x02', b'']\n",
            "[b'\\x01', b'\\x02', b'\\x01']\n",
            "[b'\\x01', b'\\x02']\n",
            "[b'\\x01', b'\\xc4\\xea!\\xbb6[\\xbe\\xea\\xf5\\xf2\\xc6T\\x88>V\\xd1\\x1eC\\xc4N']\n",
            "[b'\\xc4\\xea!\\xbb6[\\xbe\\xea\\xf5\\xf2\\xc6T\\x88>V\\xd1\\x1eC\\xc4N', b'\\x01']\n",
            "[b'\\xc4\\xea!\\xbb6[\\xbe\\xea\\xf5\\xf2\\xc6T\\x88>V\\xd1\\x1eC\\xc4N', b'\\xbf\\x8bE0\\xd8\\xd2F\\xddt\\xacS\\xa14q\\xbb\\xa1yA\\xdf\\xf7']\n",
            "[b'']\n",
            "False\n",
            "해시 충돌하는 경우를 찾는 함수\n"
          ]
        }
      ],
      "source": [
        "# Exercise 4\n",
        "reload(script)\n",
        "from script import Script\n",
        "\n",
        "script_pubkey = Script([0x6e, 0x87, 0x91, 0x69, 0xa7, 0x7c, 0xa7, 0x87])\n",
        "script_sig = Script([81, 82])  # FILL THIS IN\n",
        "combined_script = script_sig + script_pubkey\n",
        "print(combined_script.evaluate(0))\n",
        "print(\"해시 충돌하는 경우를 찾는 함수\")"
      ]
    },
    {
      "cell_type": "code",
      "source": [
        ""
      ],
      "metadata": {
        "id": "129Up0OPP2qo"
      },
      "execution_count": null,
      "outputs": []
    }
  ],
  "metadata": {
    "colab": {
      "name": "오재균",
      "provenance": [],
      "collapsed_sections": [],
      "include_colab_link": true
    },
    "language_info": {
      "name": "python"
    },
    "kernelspec": {
      "name": "python3",
      "display_name": "Python 3"
    },
    "gpuClass": "standard"
  },
  "nbformat": 4,
  "nbformat_minor": 0
}