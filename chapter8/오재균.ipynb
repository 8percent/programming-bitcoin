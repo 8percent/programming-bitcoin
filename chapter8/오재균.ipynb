{
  "cells": [
    {
      "cell_type": "markdown",
      "metadata": {
        "id": "view-in-github",
        "colab_type": "text"
      },
      "source": [
        "<a href=\"https://colab.research.google.com/github/8percent/programming-bitcoin/blob/main/chapter8/%EC%98%A4%EC%9E%AC%EA%B7%A0.ipynb\" target=\"_parent\"><img src=\"https://colab.research.google.com/assets/colab-badge.svg\" alt=\"Open In Colab\"/></a>"
      ]
    },
    {
      "cell_type": "code",
      "source": [
        "!git clone https://github.com/jimmysong/programmingbitcoin"
      ],
      "metadata": {
        "id": "h-1Iqsd5VB3i",
        "colab": {
          "base_uri": "https://localhost:8080/"
        },
        "outputId": "d95115ff-a4b6-4512-be01-418887493600"
      },
      "execution_count": 1,
      "outputs": [
        {
          "output_type": "stream",
          "name": "stdout",
          "text": [
            "Cloning into 'programmingbitcoin'...\n",
            "remote: Enumerating objects: 6406, done.\u001b[K\n",
            "remote: Total 6406 (delta 0), reused 0 (delta 0), pack-reused 6406\u001b[K\n",
            "Receiving objects: 100% (6406/6406), 39.43 MiB | 14.25 MiB/s, done.\n",
            "Resolving deltas: 100% (4254/4254), done.\n"
          ]
        }
      ]
    },
    {
      "cell_type": "code",
      "source": [
        "!pip install requests"
      ],
      "metadata": {
        "id": "Zhz7R6cuVCoz",
        "colab": {
          "base_uri": "https://localhost:8080/"
        },
        "outputId": "c71679e3-ebe8-4c61-da7c-d165be04e3f3"
      },
      "execution_count": 2,
      "outputs": [
        {
          "output_type": "stream",
          "name": "stdout",
          "text": [
            "Looking in indexes: https://pypi.org/simple, https://us-python.pkg.dev/colab-wheels/public/simple/\n",
            "Requirement already satisfied: requests in /usr/local/lib/python3.7/dist-packages (2.23.0)\n",
            "Requirement already satisfied: certifi>=2017.4.17 in /usr/local/lib/python3.7/dist-packages (from requests) (2022.6.15)\n",
            "Requirement already satisfied: chardet<4,>=3.0.2 in /usr/local/lib/python3.7/dist-packages (from requests) (3.0.4)\n",
            "Requirement already satisfied: urllib3!=1.25.0,!=1.25.1,<1.26,>=1.21.1 in /usr/local/lib/python3.7/dist-packages (from requests) (1.24.3)\n",
            "Requirement already satisfied: idna<3,>=2.5 in /usr/local/lib/python3.7/dist-packages (from requests) (2.10)\n"
          ]
        }
      ]
    },
    {
      "cell_type": "code",
      "source": [
        "cd programmingbitcoin/code-ch08"
      ],
      "metadata": {
        "id": "atRZIHuJVCq4",
        "colab": {
          "base_uri": "https://localhost:8080/"
        },
        "outputId": "c371db28-3748-4cfe-c68a-5f3a7a331fb1"
      },
      "execution_count": 3,
      "outputs": [
        {
          "output_type": "stream",
          "name": "stdout",
          "text": [
            "/content/programmingbitcoin/code-ch08\n"
          ]
        }
      ]
    },
    {
      "cell_type": "code",
      "source": [
        "ls"
      ],
      "metadata": {
        "colab": {
          "base_uri": "https://localhost:8080/"
        },
        "id": "KVisUwYMkSrr",
        "outputId": "a95a3368-a7eb-42a4-958e-5c211de1b073"
      },
      "execution_count": 29,
      "outputs": [
        {
          "output_type": "stream",
          "name": "stdout",
          "text": [
            "answers.py      ecc.py       helper.py    op.py         script.py\n",
            "Chapter8.ipynb  examples.py  jupyter.txt  \u001b[0m\u001b[01;34m__pycache__\u001b[0m/  tx.py\n"
          ]
        }
      ]
    },
    {
      "cell_type": "code",
      "execution_count": 30,
      "metadata": {
        "id": "NJGqq5vHVBSQ"
      },
      "outputs": [],
      "source": [
        "############## PLEASE RUN THIS CELL FIRST! ###################\n",
        "\n",
        "# import everything and define a test runner function\n",
        "from importlib import reload\n",
        "from helper import run\n",
        "import ecc\n",
        "import helper\n",
        "import op\n",
        "import script\n",
        "import tx"
      ]
    },
    {
      "cell_type": "markdown",
      "metadata": {
        "id": "FfixIjBKVBSR"
      },
      "source": [
        "### Exercise 1\n",
        "\n",
        "Write the `op_checkmultisig` function of `op.py`.\n",
        "\n",
        "#### Make [this test](/edit/code-ch08/op.py) pass: `op.py:OpTest:test_op_checkmultisig`"
      ]
    },
    {
      "cell_type": "code",
      "execution_count": 33,
      "metadata": {
        "id": "4fL5Pdi-VBSS",
        "colab": {
          "base_uri": "https://localhost:8080/"
        },
        "outputId": "a6fb1ad9-fb7f-496a-efc3-b18b820baa9f"
      },
      "outputs": [
        {
          "output_type": "stream",
          "name": "stderr",
          "text": [
            ".\n",
            "----------------------------------------------------------------------\n",
            "Ran 1 test in 0.399s\n",
            "\n",
            "OK\n"
          ]
        }
      ],
      "source": [
        "# Exercise 1\n",
        "\n",
        "reload(op)\n",
        "run(op.OpTest(\"test_op_checkmultisig\"))"
      ]
    },
    {
      "cell_type": "code",
      "execution_count": 7,
      "metadata": {
        "id": "i8DluqcDVBST",
        "colab": {
          "base_uri": "https://localhost:8080/"
        },
        "outputId": "8490f166-4896-4992-db44-8e6dc067a154"
      },
      "outputs": [
        {
          "output_type": "stream",
          "name": "stdout",
          "text": [
            "3CLoMMyuoDQTPRD3XYZtCvgvkadrAdvdXh\n"
          ]
        }
      ],
      "source": [
        "from helper import encode_base58_checksum\n",
        "h160 = bytes.fromhex('74d691da1574e6b3c192ecfb52cc8984ee7b6c56')\n",
        "print(encode_base58_checksum(b'\\x05' + h160))"
      ]
    },
    {
      "cell_type": "markdown",
      "metadata": {
        "id": "q9U7gSP6VBST"
      },
      "source": [
        "### Exercise 2\n",
        "\n",
        "Write `h160_to_p2pkh_address` that converts a 20-byte hash160 into a p2pkh address.\n",
        "\n",
        "#### Make [this test](/edit/code-ch08/helper.HelperTest.py) pass: `helper.HelperTest.py::test_p2pkh_address`"
      ]
    },
    {
      "cell_type": "code",
      "execution_count": 10,
      "metadata": {
        "id": "S45orFYjVBST",
        "colab": {
          "base_uri": "https://localhost:8080/"
        },
        "outputId": "8575abb7-7d64-4e1e-d032-d4b4e2b3eb7f"
      },
      "outputs": [
        {
          "output_type": "stream",
          "name": "stderr",
          "text": [
            ".\n",
            "----------------------------------------------------------------------\n",
            "Ran 1 test in 0.007s\n",
            "\n",
            "OK\n"
          ]
        }
      ],
      "source": [
        "# Exercise 2\n",
        "\n",
        "reload(helper)\n",
        "run(helper.HelperTest(\"test_p2pkh_address\"))"
      ]
    },
    {
      "cell_type": "markdown",
      "metadata": {
        "id": "5qoQ_leHVBST"
      },
      "source": [
        "### Exercise 3\n",
        "\n",
        "Write `h160_to_p2sh_address` that converts a 20-byte hash160 into a p2sh address.\n",
        "\n",
        "#### Make [this test](/edit/code-ch08/helper.HelperTest.py) pass: `helper.HelperTest.py::test_p2sh_address`"
      ]
    },
    {
      "cell_type": "code",
      "execution_count": 11,
      "metadata": {
        "id": "rIfny-YbVBSU",
        "colab": {
          "base_uri": "https://localhost:8080/"
        },
        "outputId": "43e2cec5-3a1b-419b-e9ae-4419ebb26dca"
      },
      "outputs": [
        {
          "output_type": "stream",
          "name": "stderr",
          "text": [
            ".\n",
            "----------------------------------------------------------------------\n",
            "Ran 1 test in 0.004s\n",
            "\n",
            "OK\n"
          ]
        }
      ],
      "source": [
        "# Exercise 3\n",
        "\n",
        "reload(helper)\n",
        "run(helper.HelperTest(\"test_p2sh_address\"))"
      ]
    },
    {
      "cell_type": "code",
      "execution_count": 12,
      "metadata": {
        "id": "GLHLp_FdVBSU",
        "colab": {
          "base_uri": "https://localhost:8080/"
        },
        "outputId": "841d6660-e0f6-4722-83b8-8ac00ab31714"
      },
      "outputs": [
        {
          "output_type": "stream",
          "name": "stdout",
          "text": [
            "0xe71bfa115715d6fd33796948126f40a8cdd39f187e4afb03896795189fe1423c\n"
          ]
        }
      ],
      "source": [
        "from helper import hash256\n",
        "modified_tx = bytes.fromhex('0100000001868278ed6ddfb6c1ed3ad5f8181eb0c7a385aa0836f01d5e4789e6bd304d87221a000000475221022626e955ea6ea6d98850c994f9107b036b1334f18ca8830bfff1295d21cfdb702103b287eaf122eea69030a0e9feed096bed8045c8b98bec453e1ffac7fbdbd4bb7152aeffffffff04d3b11400000000001976a914904a49878c0adfc3aa05de7afad2cc15f483a56a88ac7f400900000000001976a914418327e3f3dda4cf5b9089325a4b95abdfa0334088ac722c0c00000000001976a914ba35042cfe9fc66fd35ac2224eebdafd1028ad2788acdc4ace020000000017a91474d691da1574e6b3c192ecfb52cc8984ee7b6c56870000000001000000')\n",
        "s256 = hash256(modified_tx)\n",
        "z = int.from_bytes(s256, 'big')\n",
        "print(hex(z))"
      ]
    },
    {
      "cell_type": "code",
      "execution_count": 13,
      "metadata": {
        "id": "YamXTHUxVBSU",
        "colab": {
          "base_uri": "https://localhost:8080/"
        },
        "outputId": "9bd0089d-52dc-435f-80c3-a5be3fb2155c"
      },
      "outputs": [
        {
          "output_type": "stream",
          "name": "stdout",
          "text": [
            "True\n"
          ]
        }
      ],
      "source": [
        "from ecc import S256Point, Signature\n",
        "from helper import hash256\n",
        "modified_tx = bytes.fromhex('0100000001868278ed6ddfb6c1ed3ad5f8181eb0c7a385aa0836f01d5e4789e6bd304d87221a000000475221022626e955ea6ea6d98850c994f9107b036b1334f18ca8830bfff1295d21cfdb702103b287eaf122eea69030a0e9feed096bed8045c8b98bec453e1ffac7fbdbd4bb7152aeffffffff04d3b11400000000001976a914904a49878c0adfc3aa05de7afad2cc15f483a56a88ac7f400900000000001976a914418327e3f3dda4cf5b9089325a4b95abdfa0334088ac722c0c00000000001976a914ba35042cfe9fc66fd35ac2224eebdafd1028ad2788acdc4ace020000000017a91474d691da1574e6b3c192ecfb52cc8984ee7b6c56870000000001000000')\n",
        "h256 = hash256(modified_tx)\n",
        "z = int.from_bytes(h256, 'big')\n",
        "sec = bytes.fromhex('022626e955ea6ea6d98850c994f9107b036b1334f18ca8830bfff1295d21cfdb70')\n",
        "der = bytes.fromhex('3045022100dc92655fe37036f47756db8102e0d7d5e28b3beb83a8fef4f5dc0559bddfb94e02205a36d4e4e6c7fcd16658c50783e00c341609977aed3ad00937bf4ee942a89937')\n",
        "point = S256Point.parse(sec)\n",
        "sig = Signature.parse(der)\n",
        "print(point.verify(z, sig))"
      ]
    },
    {
      "cell_type": "markdown",
      "metadata": {
        "id": "NEz4WDzyVBSV"
      },
      "source": [
        "### Exercise 4\n",
        "\n",
        "Validate the second signature from the transaction above."
      ]
    },
    {
      "cell_type": "code",
      "execution_count": 17,
      "metadata": {
        "id": "DkW2sK_8VBSV",
        "colab": {
          "base_uri": "https://localhost:8080/"
        },
        "outputId": "1c24c1aa-8325-4632-dea0-b64a90243b1c"
      },
      "outputs": [
        {
          "output_type": "stream",
          "name": "stdout",
          "text": [
            "0xe71bfa115715d6fd33796948126f40a8cdd39f187e4afb03896795189fe1423c\n",
            "True\n"
          ]
        }
      ],
      "source": [
        "# Exercise 4\n",
        "\n",
        "from io import BytesIO\n",
        "from ecc import S256Point, Signature\n",
        "from helper import encode_varint, hash256, int_to_little_endian\n",
        "from script import Script\n",
        "from tx import Tx, SIGHASH_ALL\n",
        "\n",
        "hex_tx = '0100000001868278ed6ddfb6c1ed3ad5f8181eb0c7a385aa0836f01d5e4789e6bd304d87221a000000db00483045022100dc92655fe37036f47756db8102e0d7d5e28b3beb83a8fef4f5dc0559bddfb94e02205a36d4e4e6c7fcd16658c50783e00c341609977aed3ad00937bf4ee942a8993701483045022100da6bee3c93766232079a01639d07fa869598749729ae323eab8eef53577d611b02207bef15429dcadce2121ea07f233115c6f09034c0be68db99980b9a6c5e75402201475221022626e955ea6ea6d98850c994f9107b036b1334f18ca8830bfff1295d21cfdb702103b287eaf122eea69030a0e9feed096bed8045c8b98bec453e1ffac7fbdbd4bb7152aeffffffff04d3b11400000000001976a914904a49878c0adfc3aa05de7afad2cc15f483a56a88ac7f400900000000001976a914418327e3f3dda4cf5b9089325a4b95abdfa0334088ac722c0c00000000001976a914ba35042cfe9fc66fd35ac2224eebdafd1028ad2788acdc4ace020000000017a91474d691da1574e6b3c192ecfb52cc8984ee7b6c568700000000'\n",
        "hex_sec = '03b287eaf122eea69030a0e9feed096bed8045c8b98bec453e1ffac7fbdbd4bb71'\n",
        "hex_der = '3045022100da6bee3c93766232079a01639d07fa869598749729ae323eab8eef53577d611b02207bef15429dcadce2121ea07f233115c6f09034c0be68db99980b9a6c5e754022'\n",
        "hex_redeem_script = '475221022626e955ea6ea6d98850c994f9107b036b1334f18ca8830bfff1295d21cfdb702103b287eaf122eea69030a0e9feed096bed8045c8b98bec453e1ffac7fbdbd4bb7152ae'\n",
        "sec = bytes.fromhex(hex_sec)\n",
        "der = bytes.fromhex(hex_der)\n",
        "redeem_script = Script.parse(BytesIO(bytes.fromhex(hex_redeem_script)))\n",
        "stream = BytesIO(bytes.fromhex(hex_tx))\n",
        "\n",
        "# modify the transaction\n",
        "modified_tx = bytes.fromhex('0100000001868278ed6ddfb6c1ed3ad5f8181eb0c7a385aa0836f01d5e4789e6bd304d87221a000000475221022626e955ea6ea6d98850c994f9107b036b1334f18ca8830bfff1295d21cfdb702103b287eaf122eea69030a0e9feed096bed8045c8b98bec453e1ffac7fbdbd4bb7152aeffffffff04d3b11400000000001976a914904a49878c0adfc3aa05de7afad2cc15f483a56a88ac7f400900000000001976a914418327e3f3dda4cf5b9089325a4b95abdfa0334088ac722c0c00000000001976a914ba35042cfe9fc66fd35ac2224eebdafd1028ad2788acdc4ace020000000017a91474d691da1574e6b3c192ecfb52cc8984ee7b6c56870000000001000000')\n",
        "# start with version\n",
        "s256 = hash256(modified_tx)\n",
        "# add number of inputs\n",
        "# modify the single TxIn to have the ScriptSig to be the RedeemScript\n",
        "# add the number of outputs\n",
        "# add each output serialization\n",
        "# add the locktime\n",
        "# add the SIGHASH_ALL\n",
        "# hash256 the result\n",
        "# interpret as a Big-Endian number\n",
        "# parse the S256Point\n",
        "# parse the Signature\n",
        "# verify that the point, z and signature work\n",
        "z = int.from_bytes(s256, \"big\")\n",
        "print(hex(z))\n",
        "point = S256Point.parse(sec)\n",
        "sig = Signature.parse(der)\n",
        "print(point.verify(z, sig))"
      ]
    },
    {
      "cell_type": "markdown",
      "metadata": {
        "id": "TsTtASZjVBSV"
      },
      "source": [
        "### Exercise 5\n",
        "\n",
        "Modify the `sig_hash` and `verify_input` methods to be able to verify p2sh transactions.\n",
        "\n",
        "#### Make [this test](/edit/code-ch08/tx.py) pass: `tx.py:TxTest:test_verify_p2sh`"
      ]
    },
    {
      "cell_type": "code",
      "execution_count": 37,
      "metadata": {
        "id": "f_99FiqXVBSW",
        "colab": {
          "base_uri": "https://localhost:8080/"
        },
        "outputId": "a7cea655-b71f-4c4a-9a45-63661cc3582c"
      },
      "outputs": [
        {
          "output_type": "stream",
          "name": "stderr",
          "text": [
            "E\n",
            "======================================================================\n",
            "ERROR: test_verify_p2sh (tx.TxTest)\n",
            "----------------------------------------------------------------------\n",
            "Traceback (most recent call last):\n",
            "  File \"/content/programmingbitcoin/code-ch08/tx.py\", line 416, in test_verify_p2sh\n",
            "    self.assertTrue(tx.verify())\n",
            "  File \"/content/programmingbitcoin/code-ch08/tx.py\", line 206, in verify\n",
            "    if not self.verify_input(i):\n",
            "  File \"/content/programmingbitcoin/code-ch08/tx.py\", line 197, in verify_input\n",
            "    return (script_sig + script_pubkey).evaluate(z)\n",
            "  File \"/content/programmingbitcoin/code-ch08/script.py\", line 162, in evaluate\n",
            "    if not operation(stack, z):\n",
            "  File \"/content/programmingbitcoin/code-ch08/op.py\", line 719, in op_checkmultisig\n",
            "    return True\n",
            "NotImplementedError\n",
            "\n",
            "----------------------------------------------------------------------\n",
            "Ran 1 test in 0.004s\n",
            "\n",
            "FAILED (errors=1)\n"
          ]
        }
      ],
      "source": [
        "# Exercise 5\n",
        "\n",
        "reload(tx)\n",
        "reload(op)\n",
        "run(tx.TxTest(\"test_verify_p2sh\")) #왜 에러가 뜨는지 모르겠습니다..."
      ]
    }
  ],
  "metadata": {
    "colab": {
      "name": "Chapter8.ipynb의 사본",
      "provenance": [],
      "collapsed_sections": [],
      "include_colab_link": true
    },
    "language_info": {
      "name": "python"
    },
    "kernelspec": {
      "name": "python3",
      "display_name": "Python 3"
    },
    "gpuClass": "standard"
  },
  "nbformat": 4,
  "nbformat_minor": 0
}