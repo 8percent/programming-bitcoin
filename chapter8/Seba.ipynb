{
  "cells": [
    {
      "cell_type": "markdown",
      "metadata": {
        "id": "view-in-github",
        "colab_type": "text"
      },
      "source": [
        "<a href=\"https://colab.research.google.com/github/8percent/programming-bitcoin/blob/main/chapter8/Seba.ipynb\" target=\"_parent\"><img src=\"https://colab.research.google.com/assets/colab-badge.svg\" alt=\"Open In Colab\"/></a>"
      ]
    },
    {
      "cell_type": "code",
      "source": [
        "!git clone https://github.com/jimmysong/programmingbitcoin"
      ],
      "metadata": {
        "colab": {
          "base_uri": "https://localhost:8080/"
        },
        "id": "1OPRpT77DtdL",
        "outputId": "d3a111b7-1007-4cac-a41c-6ff6517b2c66"
      },
      "execution_count": 1,
      "outputs": [
        {
          "output_type": "stream",
          "name": "stdout",
          "text": [
            "Cloning into 'programmingbitcoin'...\n",
            "remote: Enumerating objects: 6406, done.\u001b[K\n",
            "remote: Total 6406 (delta 0), reused 0 (delta 0), pack-reused 6406\u001b[K\n",
            "Receiving objects: 100% (6406/6406), 39.43 MiB | 13.72 MiB/s, done.\n",
            "Resolving deltas: 100% (4254/4254), done.\n"
          ]
        }
      ]
    },
    {
      "cell_type": "code",
      "source": [
        "!pip install requests"
      ],
      "metadata": {
        "colab": {
          "base_uri": "https://localhost:8080/"
        },
        "id": "73pAHp1qDvlu",
        "outputId": "14a5d417-1a81-458e-f530-8ba499c88062"
      },
      "execution_count": 2,
      "outputs": [
        {
          "output_type": "stream",
          "name": "stdout",
          "text": [
            "Looking in indexes: https://pypi.org/simple, https://us-python.pkg.dev/colab-wheels/public/simple/\n",
            "Requirement already satisfied: requests in /usr/local/lib/python3.7/dist-packages (2.23.0)\n",
            "Requirement already satisfied: idna<3,>=2.5 in /usr/local/lib/python3.7/dist-packages (from requests) (2.10)\n",
            "Requirement already satisfied: urllib3!=1.25.0,!=1.25.1,<1.26,>=1.21.1 in /usr/local/lib/python3.7/dist-packages (from requests) (1.24.3)\n",
            "Requirement already satisfied: certifi>=2017.4.17 in /usr/local/lib/python3.7/dist-packages (from requests) (2022.6.15)\n",
            "Requirement already satisfied: chardet<4,>=3.0.2 in /usr/local/lib/python3.7/dist-packages (from requests) (3.0.4)\n"
          ]
        }
      ]
    },
    {
      "cell_type": "code",
      "source": [
        "cd programmingbitcoin/code-ch08"
      ],
      "metadata": {
        "colab": {
          "base_uri": "https://localhost:8080/"
        },
        "id": "ifuD4jw-Dwd8",
        "outputId": "d39be01e-a534-4fc1-e334-b577e9e36159"
      },
      "execution_count": 3,
      "outputs": [
        {
          "output_type": "stream",
          "name": "stdout",
          "text": [
            "/content/programmingbitcoin/code-ch08\n"
          ]
        }
      ]
    },
    {
      "cell_type": "code",
      "execution_count": 4,
      "metadata": {
        "id": "gM8bMdXYDoaI"
      },
      "outputs": [],
      "source": [
        "############## PLEASE RUN THIS CELL FIRST! ###################\n",
        "\n",
        "# import everything and define a test runner function\n",
        "from importlib import reload\n",
        "from helper import run\n",
        "import ecc\n",
        "import helper\n",
        "import op\n",
        "import script\n",
        "import tx"
      ]
    },
    {
      "cell_type": "markdown",
      "metadata": {
        "id": "0O2P_nJPDoaJ"
      },
      "source": [
        "### Exercise 1\n",
        "\n",
        "Write the `op_checkmultisig` function of `op.py`.\n",
        "\n",
        "#### Make [this test](/edit/code-ch08/op.py) pass: `op.py:OpTest:test_op_checkmultisig`"
      ]
    },
    {
      "cell_type": "code",
      "execution_count": 6,
      "metadata": {
        "id": "HqlqzBB1DoaK",
        "colab": {
          "base_uri": "https://localhost:8080/"
        },
        "outputId": "7b335b9d-384e-4a64-99da-42c4562008a8"
      },
      "outputs": [
        {
          "output_type": "stream",
          "name": "stderr",
          "text": [
            ".\n",
            "----------------------------------------------------------------------\n",
            "Ran 1 test in 0.422s\n",
            "\n",
            "OK\n"
          ]
        }
      ],
      "source": [
        "# Exercise 1\n",
        "\n",
        "reload(op)\n",
        "run(op.OpTest(\"test_op_checkmultisig\"))"
      ]
    },
    {
      "cell_type": "code",
      "execution_count": 7,
      "metadata": {
        "id": "tCL8YbECDoaK",
        "colab": {
          "base_uri": "https://localhost:8080/"
        },
        "outputId": "28cf91a2-67fa-4c63-e9b4-1dced7f48c66"
      },
      "outputs": [
        {
          "output_type": "stream",
          "name": "stdout",
          "text": [
            "3CLoMMyuoDQTPRD3XYZtCvgvkadrAdvdXh\n"
          ]
        }
      ],
      "source": [
        "from helper import encode_base58_checksum\n",
        "h160 = bytes.fromhex('74d691da1574e6b3c192ecfb52cc8984ee7b6c56')\n",
        "print(encode_base58_checksum(b'\\x05' + h160))"
      ]
    },
    {
      "cell_type": "markdown",
      "metadata": {
        "id": "Ll0Jf8sqDoaL"
      },
      "source": [
        "### Exercise 2\n",
        "\n",
        "Write `h160_to_p2pkh_address` that converts a 20-byte hash160 into a p2pkh address.\n",
        "\n",
        "#### Make [this test](/edit/code-ch08/helper.HelperTest.py) pass: `helper.HelperTest.py::test_p2pkh_address`"
      ]
    },
    {
      "cell_type": "code",
      "execution_count": 17,
      "metadata": {
        "id": "_i38cR_2DoaL",
        "colab": {
          "base_uri": "https://localhost:8080/"
        },
        "outputId": "314244d1-e4ab-4578-aaaf-861aba1844f3"
      },
      "outputs": [
        {
          "output_type": "stream",
          "name": "stderr",
          "text": [
            ".\n",
            "----------------------------------------------------------------------\n",
            "Ran 1 test in 0.004s\n",
            "\n",
            "OK\n"
          ]
        }
      ],
      "source": [
        "# Exercise 2\n",
        "\n",
        "reload(helper)\n",
        "run(helper.HelperTest(\"test_p2pkh_address\"))"
      ]
    },
    {
      "cell_type": "markdown",
      "metadata": {
        "id": "xKN0srJXDoaL"
      },
      "source": [
        "### Exercise 3\n",
        "\n",
        "Write `h160_to_p2sh_address` that converts a 20-byte hash160 into a p2sh address.\n",
        "\n",
        "#### Make [this test](/edit/code-ch08/helper.HelperTest.py) pass: `helper.HelperTest.py::test_p2sh_address`"
      ]
    },
    {
      "cell_type": "code",
      "execution_count": 13,
      "metadata": {
        "id": "O0NfnZnKDoaL",
        "colab": {
          "base_uri": "https://localhost:8080/"
        },
        "outputId": "c0e8799a-47ce-40b3-bd61-04f5d9073b2e"
      },
      "outputs": [
        {
          "output_type": "stream",
          "name": "stderr",
          "text": [
            ".\n",
            "----------------------------------------------------------------------\n",
            "Ran 1 test in 0.003s\n",
            "\n",
            "OK\n"
          ]
        }
      ],
      "source": [
        "# Exercise 3\n",
        "\n",
        "reload(helper)\n",
        "run(helper.HelperTest(\"test_p2sh_address\"))"
      ]
    },
    {
      "cell_type": "code",
      "execution_count": 14,
      "metadata": {
        "id": "j7-GucKNDoaL",
        "colab": {
          "base_uri": "https://localhost:8080/"
        },
        "outputId": "9ee08e58-1135-4d6d-d6d5-42437f69fff3"
      },
      "outputs": [
        {
          "output_type": "stream",
          "name": "stdout",
          "text": [
            "0xe71bfa115715d6fd33796948126f40a8cdd39f187e4afb03896795189fe1423c\n"
          ]
        }
      ],
      "source": [
        "from helper import hash256\n",
        "modified_tx = bytes.fromhex('0100000001868278ed6ddfb6c1ed3ad5f8181eb0c7a385aa0836f01d5e4789e6bd304d87221a000000475221022626e955ea6ea6d98850c994f9107b036b1334f18ca8830bfff1295d21cfdb702103b287eaf122eea69030a0e9feed096bed8045c8b98bec453e1ffac7fbdbd4bb7152aeffffffff04d3b11400000000001976a914904a49878c0adfc3aa05de7afad2cc15f483a56a88ac7f400900000000001976a914418327e3f3dda4cf5b9089325a4b95abdfa0334088ac722c0c00000000001976a914ba35042cfe9fc66fd35ac2224eebdafd1028ad2788acdc4ace020000000017a91474d691da1574e6b3c192ecfb52cc8984ee7b6c56870000000001000000')\n",
        "s256 = hash256(modified_tx)\n",
        "z = int.from_bytes(s256, 'big')\n",
        "print(hex(z))"
      ]
    },
    {
      "cell_type": "code",
      "execution_count": 15,
      "metadata": {
        "id": "ofire5qvDoaM",
        "colab": {
          "base_uri": "https://localhost:8080/"
        },
        "outputId": "cb8a5dfb-971a-4c9b-e867-16fa1af23f40"
      },
      "outputs": [
        {
          "output_type": "stream",
          "name": "stdout",
          "text": [
            "True\n"
          ]
        }
      ],
      "source": [
        "from ecc import S256Point, Signature\n",
        "from helper import hash256\n",
        "modified_tx = bytes.fromhex('0100000001868278ed6ddfb6c1ed3ad5f8181eb0c7a385aa0836f01d5e4789e6bd304d87221a000000475221022626e955ea6ea6d98850c994f9107b036b1334f18ca8830bfff1295d21cfdb702103b287eaf122eea69030a0e9feed096bed8045c8b98bec453e1ffac7fbdbd4bb7152aeffffffff04d3b11400000000001976a914904a49878c0adfc3aa05de7afad2cc15f483a56a88ac7f400900000000001976a914418327e3f3dda4cf5b9089325a4b95abdfa0334088ac722c0c00000000001976a914ba35042cfe9fc66fd35ac2224eebdafd1028ad2788acdc4ace020000000017a91474d691da1574e6b3c192ecfb52cc8984ee7b6c56870000000001000000')\n",
        "h256 = hash256(modified_tx)\n",
        "z = int.from_bytes(h256, 'big')\n",
        "sec = bytes.fromhex('022626e955ea6ea6d98850c994f9107b036b1334f18ca8830bfff1295d21cfdb70')\n",
        "der = bytes.fromhex('3045022100dc92655fe37036f47756db8102e0d7d5e28b3beb83a8fef4f5dc0559bddfb94e02205a36d4e4e6c7fcd16658c50783e00c341609977aed3ad00937bf4ee942a89937')\n",
        "point = S256Point.parse(sec)\n",
        "sig = Signature.parse(der)\n",
        "print(point.verify(z, sig))"
      ]
    },
    {
      "cell_type": "markdown",
      "metadata": {
        "id": "ThZBU0JLDoaM"
      },
      "source": [
        "### Exercise 4\n",
        "\n",
        "Validate the second signature from the transaction above."
      ]
    },
    {
      "cell_type": "code",
      "execution_count": 32,
      "metadata": {
        "id": "2xaGBR8RDoaM",
        "colab": {
          "base_uri": "https://localhost:8080/"
        },
        "outputId": "e48fe1c0-d744-4eaa-9b38-6704cb46173f"
      },
      "outputs": [
        {
          "output_type": "stream",
          "name": "stdout",
          "text": [
            "True\n"
          ]
        }
      ],
      "source": [
        "# Exercise 4\n",
        "\n",
        "from io import BytesIO\n",
        "from ecc import S256Point, Signature\n",
        "from helper import encode_varint, hash256, int_to_little_endian\n",
        "from script import Script\n",
        "from tx import Tx, SIGHASH_ALL\n",
        "\n",
        "hex_tx = '0100000001868278ed6ddfb6c1ed3ad5f8181eb0c7a385aa0836f01d5e4789e6bd304d87221a000000db00483045022100dc92655fe37036f47756db8102e0d7d5e28b3beb83a8fef4f5dc0559bddfb94e02205a36d4e4e6c7fcd16658c50783e00c341609977aed3ad00937bf4ee942a8993701483045022100da6bee3c93766232079a01639d07fa869598749729ae323eab8eef53577d611b02207bef15429dcadce2121ea07f233115c6f09034c0be68db99980b9a6c5e75402201475221022626e955ea6ea6d98850c994f9107b036b1334f18ca8830bfff1295d21cfdb702103b287eaf122eea69030a0e9feed096bed8045c8b98bec453e1ffac7fbdbd4bb7152aeffffffff04d3b11400000000001976a914904a49878c0adfc3aa05de7afad2cc15f483a56a88ac7f400900000000001976a914418327e3f3dda4cf5b9089325a4b95abdfa0334088ac722c0c00000000001976a914ba35042cfe9fc66fd35ac2224eebdafd1028ad2788acdc4ace020000000017a91474d691da1574e6b3c192ecfb52cc8984ee7b6c568700000000'\n",
        "hex_sec = '03b287eaf122eea69030a0e9feed096bed8045c8b98bec453e1ffac7fbdbd4bb71'\n",
        "hex_der = '3045022100da6bee3c93766232079a01639d07fa869598749729ae323eab8eef53577d611b02207bef15429dcadce2121ea07f233115c6f09034c0be68db99980b9a6c5e754022'\n",
        "hex_redeem_script = '475221022626e955ea6ea6d98850c994f9107b036b1334f18ca8830bfff1295d21cfdb702103b287eaf122eea69030a0e9feed096bed8045c8b98bec453e1ffac7fbdbd4bb7152ae'\n",
        "sec = bytes.fromhex(hex_sec)\n",
        "der = bytes.fromhex(hex_der)\n",
        "redeem_script = Script.parse(BytesIO(bytes.fromhex(hex_redeem_script)))\n",
        "stream = BytesIO(bytes.fromhex(hex_tx))\n",
        "\n",
        "# modify the transaction\n",
        "# start with version\n",
        "# add number of inputs\n",
        "# modify the single TxIn to have the ScriptSig to be the RedeemScript\n",
        "# add the number of outputs\n",
        "# add each output serialization\n",
        "# add the locktime\n",
        "# add the SIGHASH_ALL\n",
        "# hash256 the result\n",
        "# interpret as a Big-Endian number\n",
        "# parse the S256Point\n",
        "# parse the Signature\n",
        "# verify that the point, z and signature work\n",
        "\n",
        "modified_tx = bytes.fromhex('0100000001868278ed6ddfb6c1ed3ad5f8181eb0c7a385aa0836f01d5e4789e6bd304d87221a000000'\n",
        "+ redeem_script.serialize().hex() + 'ffffffff04d3b11400000000001976a914904a49878c0adfc3aa05de7afad2cc15f483a56a88ac7f400900000000001976a914418327e3f3dda4cf5b9089325a4b95abdfa0334088ac722c0c00000000001976a914ba35042cfe9fc66fd35ac2224eebdafd1028ad2788acdc4ace020000000017a91474d691da1574e6b3c192ecfb52cc8984ee7b6c568700000000'\n",
        "+ '01000000' # SIGHASH_ALL\n",
        ")\n",
        "z = int.from_bytes(hash256(modified_tx), 'big')\n",
        "point = S256Point.parse(sec)\n",
        "sig = Signature.parse(der)\n",
        "print(point.verify(z, sig))\n"
      ]
    },
    {
      "cell_type": "markdown",
      "metadata": {
        "id": "9v4WEkxoDoaN"
      },
      "source": [
        "### Exercise 5\n",
        "\n",
        "Modify the `sig_hash` and `verify_input` methods to be able to verify p2sh transactions.\n",
        "\n",
        "#### Make [this test](/edit/code-ch08/tx.py) pass: `tx.py:TxTest:test_verify_p2sh`"
      ]
    },
    {
      "cell_type": "code",
      "execution_count": 46,
      "metadata": {
        "id": "FLNfNlx4DoaN",
        "colab": {
          "base_uri": "https://localhost:8080/"
        },
        "outputId": "408f56a0-edb7-4106-ad0b-2933c2724e64"
      },
      "outputs": [
        {
          "output_type": "stream",
          "name": "stdout",
          "text": [
            "0 [] 104533698797560496821845132535319230899254894228014507304915351202849162871356\n",
            "b'0E\\x02!\\x00\\xdc\\x92e_\\xe3p6\\xf4wV\\xdb\\x81\\x02\\xe0\\xd7\\xd5\\xe2\\x8b;\\xeb\\x83\\xa8\\xfe\\xf4\\xf5\\xdc\\x05Y\\xbd\\xdf\\xb9N\\x02 Z6\\xd4\\xe4\\xe6\\xc7\\xfc\\xd1fX\\xc5\\x07\\x83\\xe0\\x0c4\\x16\\t\\x97z\\xed:\\xd0\\t7\\xbfN\\xe9B\\xa8\\x997\\x01' [b''] 104533698797560496821845132535319230899254894228014507304915351202849162871356\n",
            "b'0E\\x02!\\x00\\xdak\\xee<\\x93vb2\\x07\\x9a\\x01c\\x9d\\x07\\xfa\\x86\\x95\\x98t\\x97)\\xae2>\\xab\\x8e\\xefSW}a\\x1b\\x02 {\\xef\\x15B\\x9d\\xca\\xdc\\xe2\\x12\\x1e\\xa0\\x7f#1\\x15\\xc6\\xf0\\x904\\xc0\\xbeh\\xdb\\x99\\x98\\x0b\\x9al^u@\"\\x01' [b'', b'0E\\x02!\\x00\\xdc\\x92e_\\xe3p6\\xf4wV\\xdb\\x81\\x02\\xe0\\xd7\\xd5\\xe2\\x8b;\\xeb\\x83\\xa8\\xfe\\xf4\\xf5\\xdc\\x05Y\\xbd\\xdf\\xb9N\\x02 Z6\\xd4\\xe4\\xe6\\xc7\\xfc\\xd1fX\\xc5\\x07\\x83\\xe0\\x0c4\\x16\\t\\x97z\\xed:\\xd0\\t7\\xbfN\\xe9B\\xa8\\x997\\x01'] 104533698797560496821845132535319230899254894228014507304915351202849162871356\n",
            "b'R!\\x02&&\\xe9U\\xean\\xa6\\xd9\\x88P\\xc9\\x94\\xf9\\x10{\\x03k\\x134\\xf1\\x8c\\xa8\\x83\\x0b\\xff\\xf1)]!\\xcf\\xdbp!\\x03\\xb2\\x87\\xea\\xf1\"\\xee\\xa6\\x900\\xa0\\xe9\\xfe\\xed\\tk\\xed\\x80E\\xc8\\xb9\\x8b\\xecE>\\x1f\\xfa\\xc7\\xfb\\xdb\\xd4\\xbbqR\\xae' [b'', b'0E\\x02!\\x00\\xdc\\x92e_\\xe3p6\\xf4wV\\xdb\\x81\\x02\\xe0\\xd7\\xd5\\xe2\\x8b;\\xeb\\x83\\xa8\\xfe\\xf4\\xf5\\xdc\\x05Y\\xbd\\xdf\\xb9N\\x02 Z6\\xd4\\xe4\\xe6\\xc7\\xfc\\xd1fX\\xc5\\x07\\x83\\xe0\\x0c4\\x16\\t\\x97z\\xed:\\xd0\\t7\\xbfN\\xe9B\\xa8\\x997\\x01', b'0E\\x02!\\x00\\xdak\\xee<\\x93vb2\\x07\\x9a\\x01c\\x9d\\x07\\xfa\\x86\\x95\\x98t\\x97)\\xae2>\\xab\\x8e\\xefSW}a\\x1b\\x02 {\\xef\\x15B\\x9d\\xca\\xdc\\xe2\\x12\\x1e\\xa0\\x7f#1\\x15\\xc6\\xf0\\x904\\xc0\\xbeh\\xdb\\x99\\x98\\x0b\\x9al^u@\"\\x01'] 104533698797560496821845132535319230899254894228014507304915351202849162871356\n",
            "82 [b'', b'0E\\x02!\\x00\\xdc\\x92e_\\xe3p6\\xf4wV\\xdb\\x81\\x02\\xe0\\xd7\\xd5\\xe2\\x8b;\\xeb\\x83\\xa8\\xfe\\xf4\\xf5\\xdc\\x05Y\\xbd\\xdf\\xb9N\\x02 Z6\\xd4\\xe4\\xe6\\xc7\\xfc\\xd1fX\\xc5\\x07\\x83\\xe0\\x0c4\\x16\\t\\x97z\\xed:\\xd0\\t7\\xbfN\\xe9B\\xa8\\x997\\x01', b'0E\\x02!\\x00\\xdak\\xee<\\x93vb2\\x07\\x9a\\x01c\\x9d\\x07\\xfa\\x86\\x95\\x98t\\x97)\\xae2>\\xab\\x8e\\xefSW}a\\x1b\\x02 {\\xef\\x15B\\x9d\\xca\\xdc\\xe2\\x12\\x1e\\xa0\\x7f#1\\x15\\xc6\\xf0\\x904\\xc0\\xbeh\\xdb\\x99\\x98\\x0b\\x9al^u@\"\\x01'] 104533698797560496821845132535319230899254894228014507304915351202849162871356\n",
            "b'\\x02&&\\xe9U\\xean\\xa6\\xd9\\x88P\\xc9\\x94\\xf9\\x10{\\x03k\\x134\\xf1\\x8c\\xa8\\x83\\x0b\\xff\\xf1)]!\\xcf\\xdbp' [b'', b'0E\\x02!\\x00\\xdc\\x92e_\\xe3p6\\xf4wV\\xdb\\x81\\x02\\xe0\\xd7\\xd5\\xe2\\x8b;\\xeb\\x83\\xa8\\xfe\\xf4\\xf5\\xdc\\x05Y\\xbd\\xdf\\xb9N\\x02 Z6\\xd4\\xe4\\xe6\\xc7\\xfc\\xd1fX\\xc5\\x07\\x83\\xe0\\x0c4\\x16\\t\\x97z\\xed:\\xd0\\t7\\xbfN\\xe9B\\xa8\\x997\\x01', b'0E\\x02!\\x00\\xdak\\xee<\\x93vb2\\x07\\x9a\\x01c\\x9d\\x07\\xfa\\x86\\x95\\x98t\\x97)\\xae2>\\xab\\x8e\\xefSW}a\\x1b\\x02 {\\xef\\x15B\\x9d\\xca\\xdc\\xe2\\x12\\x1e\\xa0\\x7f#1\\x15\\xc6\\xf0\\x904\\xc0\\xbeh\\xdb\\x99\\x98\\x0b\\x9al^u@\"\\x01', b'\\x02'] 104533698797560496821845132535319230899254894228014507304915351202849162871356\n",
            "b'\\x03\\xb2\\x87\\xea\\xf1\"\\xee\\xa6\\x900\\xa0\\xe9\\xfe\\xed\\tk\\xed\\x80E\\xc8\\xb9\\x8b\\xecE>\\x1f\\xfa\\xc7\\xfb\\xdb\\xd4\\xbbq' [b'', b'0E\\x02!\\x00\\xdc\\x92e_\\xe3p6\\xf4wV\\xdb\\x81\\x02\\xe0\\xd7\\xd5\\xe2\\x8b;\\xeb\\x83\\xa8\\xfe\\xf4\\xf5\\xdc\\x05Y\\xbd\\xdf\\xb9N\\x02 Z6\\xd4\\xe4\\xe6\\xc7\\xfc\\xd1fX\\xc5\\x07\\x83\\xe0\\x0c4\\x16\\t\\x97z\\xed:\\xd0\\t7\\xbfN\\xe9B\\xa8\\x997\\x01', b'0E\\x02!\\x00\\xdak\\xee<\\x93vb2\\x07\\x9a\\x01c\\x9d\\x07\\xfa\\x86\\x95\\x98t\\x97)\\xae2>\\xab\\x8e\\xefSW}a\\x1b\\x02 {\\xef\\x15B\\x9d\\xca\\xdc\\xe2\\x12\\x1e\\xa0\\x7f#1\\x15\\xc6\\xf0\\x904\\xc0\\xbeh\\xdb\\x99\\x98\\x0b\\x9al^u@\"\\x01', b'\\x02', b'\\x02&&\\xe9U\\xean\\xa6\\xd9\\x88P\\xc9\\x94\\xf9\\x10{\\x03k\\x134\\xf1\\x8c\\xa8\\x83\\x0b\\xff\\xf1)]!\\xcf\\xdbp'] 104533698797560496821845132535319230899254894228014507304915351202849162871356\n",
            "82 [b'', b'0E\\x02!\\x00\\xdc\\x92e_\\xe3p6\\xf4wV\\xdb\\x81\\x02\\xe0\\xd7\\xd5\\xe2\\x8b;\\xeb\\x83\\xa8\\xfe\\xf4\\xf5\\xdc\\x05Y\\xbd\\xdf\\xb9N\\x02 Z6\\xd4\\xe4\\xe6\\xc7\\xfc\\xd1fX\\xc5\\x07\\x83\\xe0\\x0c4\\x16\\t\\x97z\\xed:\\xd0\\t7\\xbfN\\xe9B\\xa8\\x997\\x01', b'0E\\x02!\\x00\\xdak\\xee<\\x93vb2\\x07\\x9a\\x01c\\x9d\\x07\\xfa\\x86\\x95\\x98t\\x97)\\xae2>\\xab\\x8e\\xefSW}a\\x1b\\x02 {\\xef\\x15B\\x9d\\xca\\xdc\\xe2\\x12\\x1e\\xa0\\x7f#1\\x15\\xc6\\xf0\\x904\\xc0\\xbeh\\xdb\\x99\\x98\\x0b\\x9al^u@\"\\x01', b'\\x02', b'\\x02&&\\xe9U\\xean\\xa6\\xd9\\x88P\\xc9\\x94\\xf9\\x10{\\x03k\\x134\\xf1\\x8c\\xa8\\x83\\x0b\\xff\\xf1)]!\\xcf\\xdbp', b'\\x03\\xb2\\x87\\xea\\xf1\"\\xee\\xa6\\x900\\xa0\\xe9\\xfe\\xed\\tk\\xed\\x80E\\xc8\\xb9\\x8b\\xecE>\\x1f\\xfa\\xc7\\xfb\\xdb\\xd4\\xbbq'] 104533698797560496821845132535319230899254894228014507304915351202849162871356\n",
            "174 [b'', b'0E\\x02!\\x00\\xdc\\x92e_\\xe3p6\\xf4wV\\xdb\\x81\\x02\\xe0\\xd7\\xd5\\xe2\\x8b;\\xeb\\x83\\xa8\\xfe\\xf4\\xf5\\xdc\\x05Y\\xbd\\xdf\\xb9N\\x02 Z6\\xd4\\xe4\\xe6\\xc7\\xfc\\xd1fX\\xc5\\x07\\x83\\xe0\\x0c4\\x16\\t\\x97z\\xed:\\xd0\\t7\\xbfN\\xe9B\\xa8\\x997\\x01', b'0E\\x02!\\x00\\xdak\\xee<\\x93vb2\\x07\\x9a\\x01c\\x9d\\x07\\xfa\\x86\\x95\\x98t\\x97)\\xae2>\\xab\\x8e\\xefSW}a\\x1b\\x02 {\\xef\\x15B\\x9d\\xca\\xdc\\xe2\\x12\\x1e\\xa0\\x7f#1\\x15\\xc6\\xf0\\x904\\xc0\\xbeh\\xdb\\x99\\x98\\x0b\\x9al^u@\"\\x01', b'\\x02', b'\\x02&&\\xe9U\\xean\\xa6\\xd9\\x88P\\xc9\\x94\\xf9\\x10{\\x03k\\x134\\xf1\\x8c\\xa8\\x83\\x0b\\xff\\xf1)]!\\xcf\\xdbp', b'\\x03\\xb2\\x87\\xea\\xf1\"\\xee\\xa6\\x900\\xa0\\xe9\\xfe\\xed\\tk\\xed\\x80E\\xc8\\xb9\\x8b\\xecE>\\x1f\\xfa\\xc7\\xfb\\xdb\\xd4\\xbbq', b'\\x02'] 104533698797560496821845132535319230899254894228014507304915351202849162871356\n"
          ]
        },
        {
          "output_type": "stream",
          "name": "stderr",
          "text": [
            ".\n",
            "----------------------------------------------------------------------\n",
            "Ran 1 test in 0.380s\n",
            "\n",
            "OK\n"
          ]
        }
      ],
      "source": [
        "# Exercise 5\n",
        "\n",
        "reload(tx)\n",
        "reload(op)\n",
        "reload(helper)\n",
        "reload(script)\n",
        "run(tx.TxTest(\"test_verify_p2sh\"))"
      ]
    },
    {
      "cell_type": "code",
      "source": [
        ""
      ],
      "metadata": {
        "id": "niAEVmoqNznU"
      },
      "execution_count": null,
      "outputs": []
    }
  ],
  "metadata": {
    "colab": {
      "name": "Chapter8.ipynb의 사본",
      "provenance": [],
      "collapsed_sections": [],
      "include_colab_link": true
    },
    "language_info": {
      "name": "python"
    },
    "kernelspec": {
      "name": "python3",
      "display_name": "Python 3"
    },
    "gpuClass": "standard"
  },
  "nbformat": 4,
  "nbformat_minor": 0
}